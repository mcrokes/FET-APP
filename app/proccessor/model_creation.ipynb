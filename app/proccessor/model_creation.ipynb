{
 "cells": [
  {
   "cell_type": "code",
   "execution_count": 1,
   "metadata": {},
   "outputs": [],
   "source": [
    "import pandas as pd\n",
    "import numpy as np"
   ]
  },
  {
   "cell_type": "code",
   "execution_count": 2,
   "metadata": {},
   "outputs": [],
   "source": [
    "df = pd.read_csv(\"D:/CARRERA/TESIS/forest_explainer_tesis/datasets/Titanic/DataSet_Titanic.csv\")"
   ]
  },
  {
   "cell_type": "code",
   "execution_count": 3,
   "metadata": {},
   "outputs": [],
   "source": [
    "from sklearn.model_selection import train_test_split\n",
    "\n",
    "data = df.drop(columns=\"Sobreviviente\")\n",
    "x_train, x_test, y_train, y_test = train_test_split(data,\n",
    "                                                    df[\"Sobreviviente\"], test_size=0.2,\n",
    "                                                    random_state=123)\n"
   ]
  },
  {
   "cell_type": "code",
   "execution_count": 4,
   "metadata": {},
   "outputs": [],
   "source": [
    "from model.model import ClassificationTrainedModel"
   ]
  },
  {
   "cell_type": "code",
   "execution_count": 5,
   "metadata": {},
   "outputs": [],
   "source": [
    "import joblib\n",
    "from sklearn.ensemble import RandomForestClassifier\n",
    "\n",
    "random_forest_model: RandomForestClassifier = joblib.load(\n",
    "    \"D:/CARRERA/TESIS/forest_explainer_tesis/datasets/Titanic/titanic.joblib\")\n",
    "\n",
    "q_variables_values_list = [\n",
    "    {\n",
    "        \"column_name\": \"Genero\",\n",
    "        \"variables\": [\n",
    "            {\n",
    "                \"old_value\": 0,\n",
    "                \"new_value\": \"Masculino\"\n",
    "            },\n",
    "            {\n",
    "                \"old_value\": 1,\n",
    "                \"new_value\": \"Femenino\"\n",
    "            },\n",
    "        ]\n",
    "    },\n",
    "    {\n",
    "        \"column_name\": \"Clase\",\n",
    "        \"variables\": [\n",
    "            {\n",
    "                \"old_value\": 1,\n",
    "                \"new_value\": \"Primera Clase\"\n",
    "            },\n",
    "            {\n",
    "                \"old_value\": 2,\n",
    "                \"new_value\": \"Segunda Clase\"\n",
    "            },\n",
    "            {\n",
    "                \"old_value\": 3,\n",
    "                \"new_value\": \"Tercera Clase\"\n",
    "            },\n",
    "        ]\n",
    "    }\n",
    "]\n",
    "\n",
    "target_description = [\n",
    "    {\n",
    "        \"column_name\": \"Sobreviviente\",\n",
    "        \"variables\": [\n",
    "            {\n",
    "                \"old_value\": 0,\n",
    "                \"new_value\": \"Muere\"\n",
    "            },\n",
    "            {\n",
    "                \"old_value\": 1,\n",
    "                \"new_value\": \"Vive\"\n",
    "            },\n",
    "        ]\n",
    "    }\n",
    "]"
   ]
  },
  {
   "cell_type": "code",
   "execution_count": 6,
   "metadata": {},
   "outputs": [
    {
     "name": "stdout",
     "output_type": "stream",
     "text": [
      "\n",
      "{'column_name': 'Genero', 'variables': [{'old_value': 0, 'new_value': 'Masculino'}, {'old_value': 1, 'new_value': 'Femenino'}]}\n",
      "{'column_name': 'Clase', 'variables': [{'old_value': 1, 'new_value': 'Primera Clase'}, {'old_value': 2, 'new_value': 'Segunda Clase'}, {'old_value': 3, 'new_value': 'Tercera Clase'}]}\n",
      "Creating data_table...\n",
      "Creating importance...\n",
      "Creating permutation_importance...\n",
      "Creating SurrogateTree...\n",
      "Creating SurrogateTree rules...\n",
      "Creating SurrogateTree tree...\n"
     ]
    },
    {
     "name": "stderr",
     "output_type": "stream",
     "text": [
      "d:\\CARRERA\\TESIS\\Flask_template_auth_with_Dash\\virtual_env\\Lib\\site-packages\\sklearn\\base.py:493: UserWarning:\n",
      "\n",
      "X does not have valid feature names, but DecisionTreeClassifier was fitted with feature names\n",
      "\n"
     ]
    },
    {
     "name": "stdout",
     "output_type": "stream",
     "text": [
      "failed to execute 'dot', make sure the Graphviz executables are on your systems' PATH\n",
      "Creating matrix...\n",
      "Creating ROC...\n",
      " ---------CREATED EXPLAINER-----------\n"
     ]
    }
   ],
   "source": [
    "explainer_classifier = ClassificationTrainedModel(\n",
    "    name=\"Titanic\",\n",
    "    df=df,\n",
    "    predictors_description=\"features_description\",\n",
    "    target=\"Sobreviviente\",\n",
    "    test_size=0.2,\n",
    "    random_state=123,\n",
    "    model=random_forest_model,\n",
    "    model_description=\"\",\n",
    "    target_description=target_description[0],\n",
    "    q_variables_values_list=q_variables_values_list,\n",
    ")"
   ]
  }
 ],
 "metadata": {
  "kernelspec": {
   "display_name": "virtual_env",
   "language": "python",
   "name": "python3"
  },
  "language_info": {
   "codemirror_mode": {
    "name": "ipython",
    "version": 3
   },
   "file_extension": ".py",
   "mimetype": "text/x-python",
   "name": "python",
   "nbconvert_exporter": "python",
   "pygments_lexer": "ipython3",
   "version": "3.12.2"
  }
 },
 "nbformat": 4,
 "nbformat_minor": 2
}
