{
 "cells": [
  {
   "cell_type": "code",
   "execution_count": 1,
   "metadata": {},
   "outputs": [],
   "source": [
    "import pandas as pd\n",
    "import numpy as np"
   ]
  },
  {
   "cell_type": "code",
   "execution_count": 2,
   "metadata": {},
   "outputs": [],
   "source": [
    "df = pd.read_csv(\"D:/CARRERA/TESIS/forest_explainer_tesis/datasets/Titanic/DataSet_Titanic.csv\")"
   ]
  },
  {
   "cell_type": "code",
   "execution_count": 3,
   "metadata": {},
   "outputs": [],
   "source": [
    "from sklearn.model_selection import train_test_split\n",
    "\n",
    "data = df.drop(columns=\"Sobreviviente\")\n",
    "x_train, x_test, y_train, y_test = train_test_split(data,\n",
    "                                                    df[\"Sobreviviente\"], test_size=0.2,\n",
    "                                                    random_state=123)"
   ]
  },
  {
   "cell_type": "code",
   "execution_count": 4,
   "metadata": {},
   "outputs": [],
   "source": [
    "import joblib\n",
    "from sklearn.ensemble import RandomForestClassifier\n",
    "\n",
    "random_forest_model: RandomForestClassifier = joblib.load(\n",
    "    \"D:/CARRERA/TESIS/forest_explainer_tesis/datasets/Titanic/titanic.joblib\")"
   ]
  },
  {
   "cell_type": "code",
   "execution_count": 5,
   "metadata": {},
   "outputs": [],
   "source": [
    "import plotly.graph_objects as go\n",
    "from sklearn.metrics import roc_curve, auc"
   ]
  },
  {
   "cell_type": "code",
   "execution_count": 6,
   "metadata": {},
   "outputs": [],
   "source": [
    "options = [\n",
    "    {\n",
    "        'label': \"Label 1\"\n",
    "    },\n",
    "    {\n",
    "        'label': \"Label 2\"\n",
    "    },\n",
    "]\n",
    "\n",
    "y_pred = random_forest_model.predict_proba(x_test)"
   ]
  },
  {
   "cell_type": "code",
   "execution_count": 7,
   "metadata": {},
   "outputs": [],
   "source": [
    "options = [\n",
    "    {\n",
    "        'label': \"Label 1\"\n",
    "    },\n",
    "    {\n",
    "        'label': \"Label 2\"\n",
    "    },\n",
    "]\n",
    "\n",
    "y_pred = random_forest_model.predict_proba(x_test)"
   ]
  },
  {
   "cell_type": "code",
   "execution_count": 73,
   "metadata": {},
   "outputs": [],
   "source": [
    "def create_curve(y_scores, y_true, options, pointers):\n",
    "        # One hot encode the labels in order to plot them\n",
    "        # y_onehot = pd.get_dummies(y_true)\n",
    "        # print(y_onehot)\n",
    "\n",
    "        data = []\n",
    "        trace1 = go.Scatter(x=[0, 1], y=[0, 1],\n",
    "                            mode='lines',\n",
    "                            line=dict(dash='dash'),\n",
    "                            showlegend=False\n",
    "\n",
    "                            )\n",
    "\n",
    "        data.append(trace1)\n",
    "        cont = 0\n",
    "        for i in range(y_scores.shape[1]):\n",
    "            y_score = y_scores[:, i]\n",
    "            \n",
    "            pointer = pointers[i]\n",
    "\n",
    "            fpr, tpr, _ = roc_curve(y_true, y_score, pos_label=i)\n",
    "            auc_score = auc(fpr, tpr)\n",
    "            \n",
    "            if pointer >= 0:\n",
    "                name = f\"{options[cont]['label']} (AUC={auc_score:.2f})\"\n",
    "                trace2 = go.Scatter(x=fpr, y=tpr,\n",
    "                                    name=name,\n",
    "                                    mode='lines')\n",
    "                data.append(trace2)\n",
    "                scatterPointer = int(len(fpr) * pointer / 100)\n",
    "                print(scatterPointer)\n",
    "                trace3 = go.Scatter(x=[fpr[scatterPointer]], y=[tpr[scatterPointer]],\n",
    "                                    name=f\"Sc{fpr[scatterPointer]}\",)\n",
    "                trace4 = go.Scatter(x=[0, fpr[scatterPointer]], y=[tpr[scatterPointer], tpr[scatterPointer]],\n",
    "                                mode='lines',\n",
    "                                name=f\"Line{fpr[scatterPointer]}\",\n",
    "                                line=dict(dash='dash'),\n",
    "\n",
    "                                )\n",
    "                trace5 = go.Scatter(x=[fpr[scatterPointer], fpr[scatterPointer]], y=[0, tpr[scatterPointer]],\n",
    "                                mode='lines',\n",
    "                                name=f\"Line{fpr[scatterPointer]}\",\n",
    "                                line=dict(dash='dash'),\n",
    "\n",
    "                                )\n",
    "                data.append(trace3)\n",
    "                data.append(trace4)\n",
    "                data.append(trace5)\n",
    "            cont += 1\n",
    "\n",
    "        layout = go.Layout(\n",
    "            title='ROC-AUC curva',\n",
    "            yaxis=dict(title='Tasa de Positivos'),\n",
    "            xaxis=dict(title='Tasa de Falsos Positivos')\n",
    "        )\n",
    "\n",
    "        fig = go.Figure(data=data, layout=layout)\n",
    "\n",
    "        return fig"
   ]
  },
  {
   "cell_type": "code",
   "execution_count": 74,
   "metadata": {},
   "outputs": [
    {
     "name": "stdout",
     "output_type": "stream",
     "text": [
      "17\n"
     ]
    },
    {
     "data": {
      "application/vnd.plotly.v1+json": {
       "config": {
        "plotlyServerURL": "https://plot.ly"
       },
       "data": [
        {
         "line": {
          "dash": "dash"
         },
         "mode": "lines",
         "showlegend": false,
         "type": "scatter",
         "x": [
          0,
          1
         ],
         "y": [
          0,
          1
         ]
        },
        {
         "mode": "lines",
         "name": "Label 1 (AUC=0.80)",
         "type": "scatter",
         "x": [
          0,
          0.08928571428571429,
          0.08928571428571429,
          0.10714285714285714,
          0.14285714285714285,
          0.14285714285714285,
          0.16071428571428573,
          0.16071428571428573,
          0.16071428571428573,
          0.17857142857142858,
          0.17857142857142858,
          0.19642857142857142,
          0.19642857142857142,
          0.19642857142857142,
          0.19642857142857142,
          0.25,
          0.25,
          0.26785714285714285,
          0.26785714285714285,
          0.2857142857142857,
          0.2857142857142857,
          0.30357142857142855,
          0.35714285714285715,
          0.35714285714285715,
          0.39285714285714285,
          0.39285714285714285,
          0.39285714285714285,
          0.4107142857142857,
          0.4107142857142857,
          0.42857142857142855,
          0.42857142857142855,
          0.5,
          0.5714285714285714,
          0.5714285714285714,
          0.7678571428571429,
          0.8392857142857143,
          0.8571428571428571,
          0.9285714285714286,
          1
         ],
         "y": [
          0,
          0.10344827586206896,
          0.12643678160919541,
          0.16091954022988506,
          0.3563218390804598,
          0.367816091954023,
          0.40229885057471265,
          0.42528735632183906,
          0.4482758620689655,
          0.5287356321839081,
          0.5517241379310345,
          0.5862068965517241,
          0.6551724137931034,
          0.6781609195402298,
          0.6896551724137931,
          0.7126436781609196,
          0.735632183908046,
          0.735632183908046,
          0.7931034482758621,
          0.7931034482758621,
          0.8160919540229885,
          0.8275862068965517,
          0.8275862068965517,
          0.8735632183908046,
          0.8850574712643678,
          0.896551724137931,
          0.9195402298850575,
          0.9195402298850575,
          0.9540229885057471,
          0.9540229885057471,
          0.9885057471264368,
          0.9885057471264368,
          0.9885057471264368,
          1,
          1,
          1,
          1,
          1,
          1
         ]
        },
        {
         "name": "Sc0.26785714285714285",
         "type": "scatter",
         "x": [
          0.26785714285714285
         ],
         "y": [
          0.735632183908046
         ]
        },
        {
         "line": {
          "dash": "dash"
         },
         "mode": "lines",
         "name": "Line0.26785714285714285",
         "type": "scatter",
         "x": [
          0,
          0.26785714285714285
         ],
         "y": [
          0.735632183908046,
          0.735632183908046
         ]
        },
        {
         "line": {
          "dash": "dash"
         },
         "mode": "lines",
         "name": "Line0.26785714285714285",
         "type": "scatter",
         "x": [
          0.26785714285714285,
          0.26785714285714285
         ],
         "y": [
          0,
          0.735632183908046
         ]
        },
        {
         "mode": "lines",
         "name": "Label 2 (AUC=0.80)",
         "type": "scatter",
         "x": [
          0,
          0,
          0,
          0,
          0,
          0,
          0,
          0.011494252873563218,
          0.011494252873563218,
          0.011494252873563218,
          0.04597701149425287,
          0.04597701149425287,
          0.08045977011494253,
          0.08045977011494253,
          0.10344827586206896,
          0.11494252873563218,
          0.12643678160919541,
          0.1724137931034483,
          0.1724137931034483,
          0.1839080459770115,
          0.20689655172413793,
          0.20689655172413793,
          0.26436781609195403,
          0.26436781609195403,
          0.28735632183908044,
          0.3103448275862069,
          0.3218390804597701,
          0.3448275862068966,
          0.41379310344827586,
          0.4482758620689655,
          0.47126436781609193,
          0.5517241379310345,
          0.5747126436781609,
          0.5977011494252874,
          0.632183908045977,
          0.6436781609195402,
          0.8390804597701149,
          0.8735632183908046,
          0.896551724137931,
          1
         ],
         "y": [
          0,
          0.017857142857142856,
          0.07142857142857142,
          0.14285714285714285,
          0.16071428571428573,
          0.23214285714285715,
          0.42857142857142855,
          0.42857142857142855,
          0.5,
          0.5714285714285714,
          0.5714285714285714,
          0.5892857142857143,
          0.5892857142857143,
          0.6071428571428571,
          0.6071428571428571,
          0.6071428571428571,
          0.6428571428571429,
          0.6428571428571429,
          0.6964285714285714,
          0.7142857142857143,
          0.7142857142857143,
          0.7321428571428571,
          0.7321428571428571,
          0.75,
          0.75,
          0.8035714285714286,
          0.8035714285714286,
          0.8035714285714286,
          0.8035714285714286,
          0.8214285714285714,
          0.8214285714285714,
          0.8392857142857143,
          0.8392857142857143,
          0.8392857142857143,
          0.8571428571428571,
          0.8571428571428571,
          0.8928571428571429,
          0.9107142857142857,
          0.9107142857142857,
          1
         ]
        }
       ],
       "layout": {
        "template": {
         "data": {
          "bar": [
           {
            "error_x": {
             "color": "#2a3f5f"
            },
            "error_y": {
             "color": "#2a3f5f"
            },
            "marker": {
             "line": {
              "color": "#E5ECF6",
              "width": 0.5
             },
             "pattern": {
              "fillmode": "overlay",
              "size": 10,
              "solidity": 0.2
             }
            },
            "type": "bar"
           }
          ],
          "barpolar": [
           {
            "marker": {
             "line": {
              "color": "#E5ECF6",
              "width": 0.5
             },
             "pattern": {
              "fillmode": "overlay",
              "size": 10,
              "solidity": 0.2
             }
            },
            "type": "barpolar"
           }
          ],
          "carpet": [
           {
            "aaxis": {
             "endlinecolor": "#2a3f5f",
             "gridcolor": "white",
             "linecolor": "white",
             "minorgridcolor": "white",
             "startlinecolor": "#2a3f5f"
            },
            "baxis": {
             "endlinecolor": "#2a3f5f",
             "gridcolor": "white",
             "linecolor": "white",
             "minorgridcolor": "white",
             "startlinecolor": "#2a3f5f"
            },
            "type": "carpet"
           }
          ],
          "choropleth": [
           {
            "colorbar": {
             "outlinewidth": 0,
             "ticks": ""
            },
            "type": "choropleth"
           }
          ],
          "contour": [
           {
            "colorbar": {
             "outlinewidth": 0,
             "ticks": ""
            },
            "colorscale": [
             [
              0,
              "#0d0887"
             ],
             [
              0.1111111111111111,
              "#46039f"
             ],
             [
              0.2222222222222222,
              "#7201a8"
             ],
             [
              0.3333333333333333,
              "#9c179e"
             ],
             [
              0.4444444444444444,
              "#bd3786"
             ],
             [
              0.5555555555555556,
              "#d8576b"
             ],
             [
              0.6666666666666666,
              "#ed7953"
             ],
             [
              0.7777777777777778,
              "#fb9f3a"
             ],
             [
              0.8888888888888888,
              "#fdca26"
             ],
             [
              1,
              "#f0f921"
             ]
            ],
            "type": "contour"
           }
          ],
          "contourcarpet": [
           {
            "colorbar": {
             "outlinewidth": 0,
             "ticks": ""
            },
            "type": "contourcarpet"
           }
          ],
          "heatmap": [
           {
            "colorbar": {
             "outlinewidth": 0,
             "ticks": ""
            },
            "colorscale": [
             [
              0,
              "#0d0887"
             ],
             [
              0.1111111111111111,
              "#46039f"
             ],
             [
              0.2222222222222222,
              "#7201a8"
             ],
             [
              0.3333333333333333,
              "#9c179e"
             ],
             [
              0.4444444444444444,
              "#bd3786"
             ],
             [
              0.5555555555555556,
              "#d8576b"
             ],
             [
              0.6666666666666666,
              "#ed7953"
             ],
             [
              0.7777777777777778,
              "#fb9f3a"
             ],
             [
              0.8888888888888888,
              "#fdca26"
             ],
             [
              1,
              "#f0f921"
             ]
            ],
            "type": "heatmap"
           }
          ],
          "heatmapgl": [
           {
            "colorbar": {
             "outlinewidth": 0,
             "ticks": ""
            },
            "colorscale": [
             [
              0,
              "#0d0887"
             ],
             [
              0.1111111111111111,
              "#46039f"
             ],
             [
              0.2222222222222222,
              "#7201a8"
             ],
             [
              0.3333333333333333,
              "#9c179e"
             ],
             [
              0.4444444444444444,
              "#bd3786"
             ],
             [
              0.5555555555555556,
              "#d8576b"
             ],
             [
              0.6666666666666666,
              "#ed7953"
             ],
             [
              0.7777777777777778,
              "#fb9f3a"
             ],
             [
              0.8888888888888888,
              "#fdca26"
             ],
             [
              1,
              "#f0f921"
             ]
            ],
            "type": "heatmapgl"
           }
          ],
          "histogram": [
           {
            "marker": {
             "pattern": {
              "fillmode": "overlay",
              "size": 10,
              "solidity": 0.2
             }
            },
            "type": "histogram"
           }
          ],
          "histogram2d": [
           {
            "colorbar": {
             "outlinewidth": 0,
             "ticks": ""
            },
            "colorscale": [
             [
              0,
              "#0d0887"
             ],
             [
              0.1111111111111111,
              "#46039f"
             ],
             [
              0.2222222222222222,
              "#7201a8"
             ],
             [
              0.3333333333333333,
              "#9c179e"
             ],
             [
              0.4444444444444444,
              "#bd3786"
             ],
             [
              0.5555555555555556,
              "#d8576b"
             ],
             [
              0.6666666666666666,
              "#ed7953"
             ],
             [
              0.7777777777777778,
              "#fb9f3a"
             ],
             [
              0.8888888888888888,
              "#fdca26"
             ],
             [
              1,
              "#f0f921"
             ]
            ],
            "type": "histogram2d"
           }
          ],
          "histogram2dcontour": [
           {
            "colorbar": {
             "outlinewidth": 0,
             "ticks": ""
            },
            "colorscale": [
             [
              0,
              "#0d0887"
             ],
             [
              0.1111111111111111,
              "#46039f"
             ],
             [
              0.2222222222222222,
              "#7201a8"
             ],
             [
              0.3333333333333333,
              "#9c179e"
             ],
             [
              0.4444444444444444,
              "#bd3786"
             ],
             [
              0.5555555555555556,
              "#d8576b"
             ],
             [
              0.6666666666666666,
              "#ed7953"
             ],
             [
              0.7777777777777778,
              "#fb9f3a"
             ],
             [
              0.8888888888888888,
              "#fdca26"
             ],
             [
              1,
              "#f0f921"
             ]
            ],
            "type": "histogram2dcontour"
           }
          ],
          "mesh3d": [
           {
            "colorbar": {
             "outlinewidth": 0,
             "ticks": ""
            },
            "type": "mesh3d"
           }
          ],
          "parcoords": [
           {
            "line": {
             "colorbar": {
              "outlinewidth": 0,
              "ticks": ""
             }
            },
            "type": "parcoords"
           }
          ],
          "pie": [
           {
            "automargin": true,
            "type": "pie"
           }
          ],
          "scatter": [
           {
            "fillpattern": {
             "fillmode": "overlay",
             "size": 10,
             "solidity": 0.2
            },
            "type": "scatter"
           }
          ],
          "scatter3d": [
           {
            "line": {
             "colorbar": {
              "outlinewidth": 0,
              "ticks": ""
             }
            },
            "marker": {
             "colorbar": {
              "outlinewidth": 0,
              "ticks": ""
             }
            },
            "type": "scatter3d"
           }
          ],
          "scattercarpet": [
           {
            "marker": {
             "colorbar": {
              "outlinewidth": 0,
              "ticks": ""
             }
            },
            "type": "scattercarpet"
           }
          ],
          "scattergeo": [
           {
            "marker": {
             "colorbar": {
              "outlinewidth": 0,
              "ticks": ""
             }
            },
            "type": "scattergeo"
           }
          ],
          "scattergl": [
           {
            "marker": {
             "colorbar": {
              "outlinewidth": 0,
              "ticks": ""
             }
            },
            "type": "scattergl"
           }
          ],
          "scattermapbox": [
           {
            "marker": {
             "colorbar": {
              "outlinewidth": 0,
              "ticks": ""
             }
            },
            "type": "scattermapbox"
           }
          ],
          "scatterpolar": [
           {
            "marker": {
             "colorbar": {
              "outlinewidth": 0,
              "ticks": ""
             }
            },
            "type": "scatterpolar"
           }
          ],
          "scatterpolargl": [
           {
            "marker": {
             "colorbar": {
              "outlinewidth": 0,
              "ticks": ""
             }
            },
            "type": "scatterpolargl"
           }
          ],
          "scatterternary": [
           {
            "marker": {
             "colorbar": {
              "outlinewidth": 0,
              "ticks": ""
             }
            },
            "type": "scatterternary"
           }
          ],
          "surface": [
           {
            "colorbar": {
             "outlinewidth": 0,
             "ticks": ""
            },
            "colorscale": [
             [
              0,
              "#0d0887"
             ],
             [
              0.1111111111111111,
              "#46039f"
             ],
             [
              0.2222222222222222,
              "#7201a8"
             ],
             [
              0.3333333333333333,
              "#9c179e"
             ],
             [
              0.4444444444444444,
              "#bd3786"
             ],
             [
              0.5555555555555556,
              "#d8576b"
             ],
             [
              0.6666666666666666,
              "#ed7953"
             ],
             [
              0.7777777777777778,
              "#fb9f3a"
             ],
             [
              0.8888888888888888,
              "#fdca26"
             ],
             [
              1,
              "#f0f921"
             ]
            ],
            "type": "surface"
           }
          ],
          "table": [
           {
            "cells": {
             "fill": {
              "color": "#EBF0F8"
             },
             "line": {
              "color": "white"
             }
            },
            "header": {
             "fill": {
              "color": "#C8D4E3"
             },
             "line": {
              "color": "white"
             }
            },
            "type": "table"
           }
          ]
         },
         "layout": {
          "annotationdefaults": {
           "arrowcolor": "#2a3f5f",
           "arrowhead": 0,
           "arrowwidth": 1
          },
          "autotypenumbers": "strict",
          "coloraxis": {
           "colorbar": {
            "outlinewidth": 0,
            "ticks": ""
           }
          },
          "colorscale": {
           "diverging": [
            [
             0,
             "#8e0152"
            ],
            [
             0.1,
             "#c51b7d"
            ],
            [
             0.2,
             "#de77ae"
            ],
            [
             0.3,
             "#f1b6da"
            ],
            [
             0.4,
             "#fde0ef"
            ],
            [
             0.5,
             "#f7f7f7"
            ],
            [
             0.6,
             "#e6f5d0"
            ],
            [
             0.7,
             "#b8e186"
            ],
            [
             0.8,
             "#7fbc41"
            ],
            [
             0.9,
             "#4d9221"
            ],
            [
             1,
             "#276419"
            ]
           ],
           "sequential": [
            [
             0,
             "#0d0887"
            ],
            [
             0.1111111111111111,
             "#46039f"
            ],
            [
             0.2222222222222222,
             "#7201a8"
            ],
            [
             0.3333333333333333,
             "#9c179e"
            ],
            [
             0.4444444444444444,
             "#bd3786"
            ],
            [
             0.5555555555555556,
             "#d8576b"
            ],
            [
             0.6666666666666666,
             "#ed7953"
            ],
            [
             0.7777777777777778,
             "#fb9f3a"
            ],
            [
             0.8888888888888888,
             "#fdca26"
            ],
            [
             1,
             "#f0f921"
            ]
           ],
           "sequentialminus": [
            [
             0,
             "#0d0887"
            ],
            [
             0.1111111111111111,
             "#46039f"
            ],
            [
             0.2222222222222222,
             "#7201a8"
            ],
            [
             0.3333333333333333,
             "#9c179e"
            ],
            [
             0.4444444444444444,
             "#bd3786"
            ],
            [
             0.5555555555555556,
             "#d8576b"
            ],
            [
             0.6666666666666666,
             "#ed7953"
            ],
            [
             0.7777777777777778,
             "#fb9f3a"
            ],
            [
             0.8888888888888888,
             "#fdca26"
            ],
            [
             1,
             "#f0f921"
            ]
           ]
          },
          "colorway": [
           "#636efa",
           "#EF553B",
           "#00cc96",
           "#ab63fa",
           "#FFA15A",
           "#19d3f3",
           "#FF6692",
           "#B6E880",
           "#FF97FF",
           "#FECB52"
          ],
          "font": {
           "color": "#2a3f5f"
          },
          "geo": {
           "bgcolor": "white",
           "lakecolor": "white",
           "landcolor": "#E5ECF6",
           "showlakes": true,
           "showland": true,
           "subunitcolor": "white"
          },
          "hoverlabel": {
           "align": "left"
          },
          "hovermode": "closest",
          "mapbox": {
           "style": "light"
          },
          "paper_bgcolor": "white",
          "plot_bgcolor": "#E5ECF6",
          "polar": {
           "angularaxis": {
            "gridcolor": "white",
            "linecolor": "white",
            "ticks": ""
           },
           "bgcolor": "#E5ECF6",
           "radialaxis": {
            "gridcolor": "white",
            "linecolor": "white",
            "ticks": ""
           }
          },
          "scene": {
           "xaxis": {
            "backgroundcolor": "#E5ECF6",
            "gridcolor": "white",
            "gridwidth": 2,
            "linecolor": "white",
            "showbackground": true,
            "ticks": "",
            "zerolinecolor": "white"
           },
           "yaxis": {
            "backgroundcolor": "#E5ECF6",
            "gridcolor": "white",
            "gridwidth": 2,
            "linecolor": "white",
            "showbackground": true,
            "ticks": "",
            "zerolinecolor": "white"
           },
           "zaxis": {
            "backgroundcolor": "#E5ECF6",
            "gridcolor": "white",
            "gridwidth": 2,
            "linecolor": "white",
            "showbackground": true,
            "ticks": "",
            "zerolinecolor": "white"
           }
          },
          "shapedefaults": {
           "line": {
            "color": "#2a3f5f"
           }
          },
          "ternary": {
           "aaxis": {
            "gridcolor": "white",
            "linecolor": "white",
            "ticks": ""
           },
           "baxis": {
            "gridcolor": "white",
            "linecolor": "white",
            "ticks": ""
           },
           "bgcolor": "#E5ECF6",
           "caxis": {
            "gridcolor": "white",
            "linecolor": "white",
            "ticks": ""
           }
          },
          "title": {
           "x": 0.05
          },
          "xaxis": {
           "automargin": true,
           "gridcolor": "white",
           "linecolor": "white",
           "ticks": "",
           "title": {
            "standoff": 15
           },
           "zerolinecolor": "white",
           "zerolinewidth": 2
          },
          "yaxis": {
           "automargin": true,
           "gridcolor": "white",
           "linecolor": "white",
           "ticks": "",
           "title": {
            "standoff": 15
           },
           "zerolinecolor": "white",
           "zerolinewidth": 2
          }
         }
        },
        "title": {
         "text": "ROC-AUC curva"
        },
        "xaxis": {
         "title": {
          "text": "Tasa de Falsos Positivos"
         }
        },
        "yaxis": {
         "title": {
          "text": "Tasa de Positivos"
         }
        }
       }
      }
     },
     "metadata": {},
     "output_type": "display_data"
    }
   ],
   "source": [
    "fig = create_curve(y_scores=y_pred, y_true=y_test, options=options, pointers=[45,-1])\n",
    "fig\n"
   ]
  },
  {
   "cell_type": "code",
   "execution_count": null,
   "metadata": {},
   "outputs": [],
   "source": []
  }
 ],
 "metadata": {
  "kernelspec": {
   "display_name": "virtual_env",
   "language": "python",
   "name": "python3"
  },
  "language_info": {
   "codemirror_mode": {
    "name": "ipython",
    "version": 3
   },
   "file_extension": ".py",
   "mimetype": "text/x-python",
   "name": "python",
   "nbconvert_exporter": "python",
   "pygments_lexer": "ipython3",
   "version": "3.12.2"
  }
 },
 "nbformat": 4,
 "nbformat_minor": 2
}
