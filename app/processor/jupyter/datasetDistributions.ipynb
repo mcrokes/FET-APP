{
 "cells": [
  {
   "cell_type": "code",
   "execution_count": 1,
   "metadata": {},
   "outputs": [],
   "source": [
    "import pandas as pd\n",
    "import numpy as np\n",
    "import plotly.graph_objects as go\n",
    "\n",
    "df: pd.DataFrame = pd.read_csv(\"D:/CARRERA/TESIS/forest_explainer_tesis/datasets/Titanic/DataSet_Titanic.csv\")"
   ]
  },
  {
   "cell_type": "code",
   "execution_count": 9,
   "metadata": {},
   "outputs": [
    {
     "data": {
      "text/plain": [
       "[{'Índex': 0,\n",
       "  'Sobreviviente': 0,\n",
       "  'Clase': 3,\n",
       "  'Genero': 0,\n",
       "  'Edad': 22.0,\n",
       "  'HermEsp': 1,\n",
       "  'PadHij': 0},\n",
       " {'Índex': 1,\n",
       "  'Sobreviviente': 1,\n",
       "  'Clase': 1,\n",
       "  'Genero': 1,\n",
       "  'Edad': 38.0,\n",
       "  'HermEsp': 1,\n",
       "  'PadHij': 0},\n",
       " {'Índex': 2,\n",
       "  'Sobreviviente': 1,\n",
       "  'Clase': 3,\n",
       "  'Genero': 1,\n",
       "  'Edad': 26.0,\n",
       "  'HermEsp': 0,\n",
       "  'PadHij': 0},\n",
       " {'Índex': 3,\n",
       "  'Sobreviviente': 1,\n",
       "  'Clase': 1,\n",
       "  'Genero': 1,\n",
       "  'Edad': 35.0,\n",
       "  'HermEsp': 1,\n",
       "  'PadHij': 0},\n",
       " {'Índex': 4,\n",
       "  'Sobreviviente': 0,\n",
       "  'Clase': 3,\n",
       "  'Genero': 0,\n",
       "  'Edad': 35.0,\n",
       "  'HermEsp': 0,\n",
       "  'PadHij': 0},\n",
       " {'Índex': 5,\n",
       "  'Sobreviviente': 0,\n",
       "  'Clase': 1,\n",
       "  'Genero': 0,\n",
       "  'Edad': 54.0,\n",
       "  'HermEsp': 0,\n",
       "  'PadHij': 0},\n",
       " {'Índex': 6,\n",
       "  'Sobreviviente': 0,\n",
       "  'Clase': 3,\n",
       "  'Genero': 0,\n",
       "  'Edad': 2.0,\n",
       "  'HermEsp': 3,\n",
       "  'PadHij': 1},\n",
       " {'Índex': 7,\n",
       "  'Sobreviviente': 1,\n",
       "  'Clase': 3,\n",
       "  'Genero': 1,\n",
       "  'Edad': 27.0,\n",
       "  'HermEsp': 0,\n",
       "  'PadHij': 2},\n",
       " {'Índex': 8,\n",
       "  'Sobreviviente': 1,\n",
       "  'Clase': 2,\n",
       "  'Genero': 1,\n",
       "  'Edad': 14.0,\n",
       "  'HermEsp': 1,\n",
       "  'PadHij': 0},\n",
       " {'Índex': 9,\n",
       "  'Sobreviviente': 1,\n",
       "  'Clase': 3,\n",
       "  'Genero': 1,\n",
       "  'Edad': 4.0,\n",
       "  'HermEsp': 1,\n",
       "  'PadHij': 1},\n",
       " {'Índex': 10,\n",
       "  'Sobreviviente': 1,\n",
       "  'Clase': 1,\n",
       "  'Genero': 1,\n",
       "  'Edad': 58.0,\n",
       "  'HermEsp': 0,\n",
       "  'PadHij': 0},\n",
       " {'Índex': 11,\n",
       "  'Sobreviviente': 0,\n",
       "  'Clase': 3,\n",
       "  'Genero': 0,\n",
       "  'Edad': 20.0,\n",
       "  'HermEsp': 0,\n",
       "  'PadHij': 0},\n",
       " {'Índex': 12,\n",
       "  'Sobreviviente': 0,\n",
       "  'Clase': 3,\n",
       "  'Genero': 0,\n",
       "  'Edad': 39.0,\n",
       "  'HermEsp': 1,\n",
       "  'PadHij': 5},\n",
       " {'Índex': 13,\n",
       "  'Sobreviviente': 0,\n",
       "  'Clase': 3,\n",
       "  'Genero': 1,\n",
       "  'Edad': 14.0,\n",
       "  'HermEsp': 0,\n",
       "  'PadHij': 0},\n",
       " {'Índex': 14,\n",
       "  'Sobreviviente': 1,\n",
       "  'Clase': 2,\n",
       "  'Genero': 1,\n",
       "  'Edad': 55.0,\n",
       "  'HermEsp': 0,\n",
       "  'PadHij': 0},\n",
       " {'Índex': 15,\n",
       "  'Sobreviviente': 0,\n",
       "  'Clase': 3,\n",
       "  'Genero': 0,\n",
       "  'Edad': 2.0,\n",
       "  'HermEsp': 4,\n",
       "  'PadHij': 1},\n",
       " {'Índex': 16,\n",
       "  'Sobreviviente': 0,\n",
       "  'Clase': 3,\n",
       "  'Genero': 1,\n",
       "  'Edad': 31.0,\n",
       "  'HermEsp': 1,\n",
       "  'PadHij': 0},\n",
       " {'Índex': 17,\n",
       "  'Sobreviviente': 0,\n",
       "  'Clase': 2,\n",
       "  'Genero': 0,\n",
       "  'Edad': 35.0,\n",
       "  'HermEsp': 0,\n",
       "  'PadHij': 0},\n",
       " {'Índex': 18,\n",
       "  'Sobreviviente': 1,\n",
       "  'Clase': 2,\n",
       "  'Genero': 0,\n",
       "  'Edad': 34.0,\n",
       "  'HermEsp': 0,\n",
       "  'PadHij': 0},\n",
       " {'Índex': 19,\n",
       "  'Sobreviviente': 1,\n",
       "  'Clase': 3,\n",
       "  'Genero': 1,\n",
       "  'Edad': 15.0,\n",
       "  'HermEsp': 0,\n",
       "  'PadHij': 0},\n",
       " {'Índex': 20,\n",
       "  'Sobreviviente': 1,\n",
       "  'Clase': 1,\n",
       "  'Genero': 0,\n",
       "  'Edad': 28.0,\n",
       "  'HermEsp': 0,\n",
       "  'PadHij': 0},\n",
       " {'Índex': 21,\n",
       "  'Sobreviviente': 0,\n",
       "  'Clase': 3,\n",
       "  'Genero': 1,\n",
       "  'Edad': 8.0,\n",
       "  'HermEsp': 3,\n",
       "  'PadHij': 1},\n",
       " {'Índex': 22,\n",
       "  'Sobreviviente': 1,\n",
       "  'Clase': 3,\n",
       "  'Genero': 1,\n",
       "  'Edad': 38.0,\n",
       "  'HermEsp': 1,\n",
       "  'PadHij': 5},\n",
       " {'Índex': 23,\n",
       "  'Sobreviviente': 0,\n",
       "  'Clase': 1,\n",
       "  'Genero': 0,\n",
       "  'Edad': 19.0,\n",
       "  'HermEsp': 3,\n",
       "  'PadHij': 2},\n",
       " {'Índex': 24,\n",
       "  'Sobreviviente': 0,\n",
       "  'Clase': 1,\n",
       "  'Genero': 0,\n",
       "  'Edad': 40.0,\n",
       "  'HermEsp': 0,\n",
       "  'PadHij': 0},\n",
       " {'Índex': 25,\n",
       "  'Sobreviviente': 0,\n",
       "  'Clase': 2,\n",
       "  'Genero': 0,\n",
       "  'Edad': 66.0,\n",
       "  'HermEsp': 0,\n",
       "  'PadHij': 0},\n",
       " {'Índex': 26,\n",
       "  'Sobreviviente': 0,\n",
       "  'Clase': 1,\n",
       "  'Genero': 0,\n",
       "  'Edad': 28.0,\n",
       "  'HermEsp': 1,\n",
       "  'PadHij': 0},\n",
       " {'Índex': 27,\n",
       "  'Sobreviviente': 0,\n",
       "  'Clase': 1,\n",
       "  'Genero': 0,\n",
       "  'Edad': 42.0,\n",
       "  'HermEsp': 1,\n",
       "  'PadHij': 0},\n",
       " {'Índex': 28,\n",
       "  'Sobreviviente': 0,\n",
       "  'Clase': 3,\n",
       "  'Genero': 0,\n",
       "  'Edad': 21.0,\n",
       "  'HermEsp': 0,\n",
       "  'PadHij': 0},\n",
       " {'Índex': 29,\n",
       "  'Sobreviviente': 0,\n",
       "  'Clase': 3,\n",
       "  'Genero': 1,\n",
       "  'Edad': 18.0,\n",
       "  'HermEsp': 2,\n",
       "  'PadHij': 0},\n",
       " {'Índex': 30,\n",
       "  'Sobreviviente': 1,\n",
       "  'Clase': 3,\n",
       "  'Genero': 1,\n",
       "  'Edad': 14.0,\n",
       "  'HermEsp': 1,\n",
       "  'PadHij': 0},\n",
       " {'Índex': 31,\n",
       "  'Sobreviviente': 0,\n",
       "  'Clase': 3,\n",
       "  'Genero': 1,\n",
       "  'Edad': 40.0,\n",
       "  'HermEsp': 1,\n",
       "  'PadHij': 0},\n",
       " {'Índex': 32,\n",
       "  'Sobreviviente': 0,\n",
       "  'Clase': 2,\n",
       "  'Genero': 1,\n",
       "  'Edad': 27.0,\n",
       "  'HermEsp': 1,\n",
       "  'PadHij': 0},\n",
       " {'Índex': 33,\n",
       "  'Sobreviviente': 1,\n",
       "  'Clase': 2,\n",
       "  'Genero': 1,\n",
       "  'Edad': 3.0,\n",
       "  'HermEsp': 1,\n",
       "  'PadHij': 2},\n",
       " {'Índex': 34,\n",
       "  'Sobreviviente': 1,\n",
       "  'Clase': 3,\n",
       "  'Genero': 1,\n",
       "  'Edad': 19.0,\n",
       "  'HermEsp': 0,\n",
       "  'PadHij': 0},\n",
       " {'Índex': 35,\n",
       "  'Sobreviviente': 0,\n",
       "  'Clase': 3,\n",
       "  'Genero': 1,\n",
       "  'Edad': 18.0,\n",
       "  'HermEsp': 1,\n",
       "  'PadHij': 0},\n",
       " {'Índex': 36,\n",
       "  'Sobreviviente': 0,\n",
       "  'Clase': 3,\n",
       "  'Genero': 0,\n",
       "  'Edad': 7.0,\n",
       "  'HermEsp': 4,\n",
       "  'PadHij': 1},\n",
       " {'Índex': 37,\n",
       "  'Sobreviviente': 0,\n",
       "  'Clase': 3,\n",
       "  'Genero': 0,\n",
       "  'Edad': 21.0,\n",
       "  'HermEsp': 0,\n",
       "  'PadHij': 0},\n",
       " {'Índex': 38,\n",
       "  'Sobreviviente': 1,\n",
       "  'Clase': 1,\n",
       "  'Genero': 1,\n",
       "  'Edad': 49.0,\n",
       "  'HermEsp': 1,\n",
       "  'PadHij': 0},\n",
       " {'Índex': 39,\n",
       "  'Sobreviviente': 1,\n",
       "  'Clase': 2,\n",
       "  'Genero': 1,\n",
       "  'Edad': 29.0,\n",
       "  'HermEsp': 1,\n",
       "  'PadHij': 0},\n",
       " {'Índex': 40,\n",
       "  'Sobreviviente': 0,\n",
       "  'Clase': 1,\n",
       "  'Genero': 0,\n",
       "  'Edad': 65.0,\n",
       "  'HermEsp': 0,\n",
       "  'PadHij': 1},\n",
       " {'Índex': 41,\n",
       "  'Sobreviviente': 1,\n",
       "  'Clase': 2,\n",
       "  'Genero': 1,\n",
       "  'Edad': 21.0,\n",
       "  'HermEsp': 0,\n",
       "  'PadHij': 0},\n",
       " {'Índex': 42,\n",
       "  'Sobreviviente': 0,\n",
       "  'Clase': 3,\n",
       "  'Genero': 0,\n",
       "  'Edad': 28.5,\n",
       "  'HermEsp': 0,\n",
       "  'PadHij': 0},\n",
       " {'Índex': 43,\n",
       "  'Sobreviviente': 1,\n",
       "  'Clase': 2,\n",
       "  'Genero': 1,\n",
       "  'Edad': 5.0,\n",
       "  'HermEsp': 1,\n",
       "  'PadHij': 2},\n",
       " {'Índex': 44,\n",
       "  'Sobreviviente': 0,\n",
       "  'Clase': 3,\n",
       "  'Genero': 0,\n",
       "  'Edad': 11.0,\n",
       "  'HermEsp': 5,\n",
       "  'PadHij': 2},\n",
       " {'Índex': 45,\n",
       "  'Sobreviviente': 0,\n",
       "  'Clase': 3,\n",
       "  'Genero': 0,\n",
       "  'Edad': 22.0,\n",
       "  'HermEsp': 0,\n",
       "  'PadHij': 0},\n",
       " {'Índex': 46,\n",
       "  'Sobreviviente': 1,\n",
       "  'Clase': 1,\n",
       "  'Genero': 1,\n",
       "  'Edad': 38.0,\n",
       "  'HermEsp': 0,\n",
       "  'PadHij': 0},\n",
       " {'Índex': 47,\n",
       "  'Sobreviviente': 0,\n",
       "  'Clase': 1,\n",
       "  'Genero': 0,\n",
       "  'Edad': 45.0,\n",
       "  'HermEsp': 1,\n",
       "  'PadHij': 0},\n",
       " {'Índex': 48,\n",
       "  'Sobreviviente': 0,\n",
       "  'Clase': 3,\n",
       "  'Genero': 0,\n",
       "  'Edad': 4.0,\n",
       "  'HermEsp': 3,\n",
       "  'PadHij': 2},\n",
       " {'Índex': 49,\n",
       "  'Sobreviviente': 1,\n",
       "  'Clase': 2,\n",
       "  'Genero': 1,\n",
       "  'Edad': 29.0,\n",
       "  'HermEsp': 0,\n",
       "  'PadHij': 0},\n",
       " {'Índex': 50,\n",
       "  'Sobreviviente': 0,\n",
       "  'Clase': 3,\n",
       "  'Genero': 0,\n",
       "  'Edad': 19.0,\n",
       "  'HermEsp': 0,\n",
       "  'PadHij': 0},\n",
       " {'Índex': 51,\n",
       "  'Sobreviviente': 1,\n",
       "  'Clase': 3,\n",
       "  'Genero': 1,\n",
       "  'Edad': 17.0,\n",
       "  'HermEsp': 4,\n",
       "  'PadHij': 2},\n",
       " {'Índex': 52,\n",
       "  'Sobreviviente': 0,\n",
       "  'Clase': 3,\n",
       "  'Genero': 0,\n",
       "  'Edad': 26.0,\n",
       "  'HermEsp': 2,\n",
       "  'PadHij': 0},\n",
       " {'Índex': 53,\n",
       "  'Sobreviviente': 0,\n",
       "  'Clase': 2,\n",
       "  'Genero': 0,\n",
       "  'Edad': 32.0,\n",
       "  'HermEsp': 0,\n",
       "  'PadHij': 0},\n",
       " {'Índex': 54,\n",
       "  'Sobreviviente': 0,\n",
       "  'Clase': 3,\n",
       "  'Genero': 1,\n",
       "  'Edad': 16.0,\n",
       "  'HermEsp': 5,\n",
       "  'PadHij': 2},\n",
       " {'Índex': 55,\n",
       "  'Sobreviviente': 0,\n",
       "  'Clase': 2,\n",
       "  'Genero': 0,\n",
       "  'Edad': 21.0,\n",
       "  'HermEsp': 0,\n",
       "  'PadHij': 0},\n",
       " {'Índex': 56,\n",
       "  'Sobreviviente': 0,\n",
       "  'Clase': 3,\n",
       "  'Genero': 0,\n",
       "  'Edad': 26.0,\n",
       "  'HermEsp': 1,\n",
       "  'PadHij': 0},\n",
       " {'Índex': 57,\n",
       "  'Sobreviviente': 1,\n",
       "  'Clase': 3,\n",
       "  'Genero': 0,\n",
       "  'Edad': 32.0,\n",
       "  'HermEsp': 0,\n",
       "  'PadHij': 0},\n",
       " {'Índex': 58,\n",
       "  'Sobreviviente': 0,\n",
       "  'Clase': 3,\n",
       "  'Genero': 0,\n",
       "  'Edad': 25.0,\n",
       "  'HermEsp': 0,\n",
       "  'PadHij': 0},\n",
       " {'Índex': 59,\n",
       "  'Sobreviviente': 1,\n",
       "  'Clase': 2,\n",
       "  'Genero': 0,\n",
       "  'Edad': 0.83,\n",
       "  'HermEsp': 0,\n",
       "  'PadHij': 2},\n",
       " {'Índex': 60,\n",
       "  'Sobreviviente': 1,\n",
       "  'Clase': 3,\n",
       "  'Genero': 1,\n",
       "  'Edad': 30.0,\n",
       "  'HermEsp': 0,\n",
       "  'PadHij': 0},\n",
       " {'Índex': 61,\n",
       "  'Sobreviviente': 0,\n",
       "  'Clase': 3,\n",
       "  'Genero': 0,\n",
       "  'Edad': 22.0,\n",
       "  'HermEsp': 0,\n",
       "  'PadHij': 0},\n",
       " {'Índex': 62,\n",
       "  'Sobreviviente': 1,\n",
       "  'Clase': 3,\n",
       "  'Genero': 0,\n",
       "  'Edad': 29.0,\n",
       "  'HermEsp': 0,\n",
       "  'PadHij': 0},\n",
       " {'Índex': 63,\n",
       "  'Sobreviviente': 0,\n",
       "  'Clase': 1,\n",
       "  'Genero': 0,\n",
       "  'Edad': 28.0,\n",
       "  'HermEsp': 0,\n",
       "  'PadHij': 0},\n",
       " {'Índex': 64,\n",
       "  'Sobreviviente': 1,\n",
       "  'Clase': 2,\n",
       "  'Genero': 1,\n",
       "  'Edad': 17.0,\n",
       "  'HermEsp': 0,\n",
       "  'PadHij': 0},\n",
       " {'Índex': 65,\n",
       "  'Sobreviviente': 1,\n",
       "  'Clase': 3,\n",
       "  'Genero': 1,\n",
       "  'Edad': 33.0,\n",
       "  'HermEsp': 3,\n",
       "  'PadHij': 0},\n",
       " {'Índex': 66,\n",
       "  'Sobreviviente': 0,\n",
       "  'Clase': 3,\n",
       "  'Genero': 0,\n",
       "  'Edad': 16.0,\n",
       "  'HermEsp': 1,\n",
       "  'PadHij': 3},\n",
       " {'Índex': 67,\n",
       "  'Sobreviviente': 1,\n",
       "  'Clase': 1,\n",
       "  'Genero': 1,\n",
       "  'Edad': 23.0,\n",
       "  'HermEsp': 3,\n",
       "  'PadHij': 2},\n",
       " {'Índex': 68,\n",
       "  'Sobreviviente': 0,\n",
       "  'Clase': 3,\n",
       "  'Genero': 0,\n",
       "  'Edad': 24.0,\n",
       "  'HermEsp': 0,\n",
       "  'PadHij': 0},\n",
       " {'Índex': 69,\n",
       "  'Sobreviviente': 0,\n",
       "  'Clase': 3,\n",
       "  'Genero': 0,\n",
       "  'Edad': 29.0,\n",
       "  'HermEsp': 0,\n",
       "  'PadHij': 0},\n",
       " {'Índex': 70,\n",
       "  'Sobreviviente': 0,\n",
       "  'Clase': 3,\n",
       "  'Genero': 0,\n",
       "  'Edad': 20.0,\n",
       "  'HermEsp': 0,\n",
       "  'PadHij': 0},\n",
       " {'Índex': 71,\n",
       "  'Sobreviviente': 0,\n",
       "  'Clase': 1,\n",
       "  'Genero': 0,\n",
       "  'Edad': 46.0,\n",
       "  'HermEsp': 1,\n",
       "  'PadHij': 0},\n",
       " {'Índex': 72,\n",
       "  'Sobreviviente': 0,\n",
       "  'Clase': 3,\n",
       "  'Genero': 0,\n",
       "  'Edad': 26.0,\n",
       "  'HermEsp': 1,\n",
       "  'PadHij': 2},\n",
       " {'Índex': 73,\n",
       "  'Sobreviviente': 0,\n",
       "  'Clase': 3,\n",
       "  'Genero': 0,\n",
       "  'Edad': 59.0,\n",
       "  'HermEsp': 0,\n",
       "  'PadHij': 0},\n",
       " {'Índex': 74,\n",
       "  'Sobreviviente': 0,\n",
       "  'Clase': 1,\n",
       "  'Genero': 0,\n",
       "  'Edad': 71.0,\n",
       "  'HermEsp': 0,\n",
       "  'PadHij': 0},\n",
       " {'Índex': 75,\n",
       "  'Sobreviviente': 1,\n",
       "  'Clase': 1,\n",
       "  'Genero': 0,\n",
       "  'Edad': 23.0,\n",
       "  'HermEsp': 0,\n",
       "  'PadHij': 1},\n",
       " {'Índex': 76,\n",
       "  'Sobreviviente': 1,\n",
       "  'Clase': 2,\n",
       "  'Genero': 1,\n",
       "  'Edad': 34.0,\n",
       "  'HermEsp': 0,\n",
       "  'PadHij': 1},\n",
       " {'Índex': 77,\n",
       "  'Sobreviviente': 0,\n",
       "  'Clase': 2,\n",
       "  'Genero': 0,\n",
       "  'Edad': 34.0,\n",
       "  'HermEsp': 1,\n",
       "  'PadHij': 0},\n",
       " {'Índex': 78,\n",
       "  'Sobreviviente': 0,\n",
       "  'Clase': 3,\n",
       "  'Genero': 1,\n",
       "  'Edad': 28.0,\n",
       "  'HermEsp': 0,\n",
       "  'PadHij': 0},\n",
       " {'Índex': 79,\n",
       "  'Sobreviviente': 0,\n",
       "  'Clase': 1,\n",
       "  'Genero': 0,\n",
       "  'Edad': 21.0,\n",
       "  'HermEsp': 0,\n",
       "  'PadHij': 1},\n",
       " {'Índex': 80,\n",
       "  'Sobreviviente': 0,\n",
       "  'Clase': 3,\n",
       "  'Genero': 0,\n",
       "  'Edad': 33.0,\n",
       "  'HermEsp': 0,\n",
       "  'PadHij': 0},\n",
       " {'Índex': 81,\n",
       "  'Sobreviviente': 0,\n",
       "  'Clase': 3,\n",
       "  'Genero': 0,\n",
       "  'Edad': 37.0,\n",
       "  'HermEsp': 2,\n",
       "  'PadHij': 0},\n",
       " {'Índex': 82,\n",
       "  'Sobreviviente': 0,\n",
       "  'Clase': 3,\n",
       "  'Genero': 0,\n",
       "  'Edad': 28.0,\n",
       "  'HermEsp': 0,\n",
       "  'PadHij': 0},\n",
       " {'Índex': 83,\n",
       "  'Sobreviviente': 1,\n",
       "  'Clase': 3,\n",
       "  'Genero': 1,\n",
       "  'Edad': 21.0,\n",
       "  'HermEsp': 0,\n",
       "  'PadHij': 0},\n",
       " {'Índex': 84,\n",
       "  'Sobreviviente': 0,\n",
       "  'Clase': 3,\n",
       "  'Genero': 0,\n",
       "  'Edad': 38.0,\n",
       "  'HermEsp': 0,\n",
       "  'PadHij': 0},\n",
       " {'Índex': 85,\n",
       "  'Sobreviviente': 0,\n",
       "  'Clase': 1,\n",
       "  'Genero': 0,\n",
       "  'Edad': 47.0,\n",
       "  'HermEsp': 0,\n",
       "  'PadHij': 0},\n",
       " {'Índex': 86,\n",
       "  'Sobreviviente': 0,\n",
       "  'Clase': 3,\n",
       "  'Genero': 1,\n",
       "  'Edad': 14.5,\n",
       "  'HermEsp': 1,\n",
       "  'PadHij': 0},\n",
       " {'Índex': 87,\n",
       "  'Sobreviviente': 0,\n",
       "  'Clase': 3,\n",
       "  'Genero': 0,\n",
       "  'Edad': 22.0,\n",
       "  'HermEsp': 0,\n",
       "  'PadHij': 0},\n",
       " {'Índex': 88,\n",
       "  'Sobreviviente': 0,\n",
       "  'Clase': 3,\n",
       "  'Genero': 1,\n",
       "  'Edad': 20.0,\n",
       "  'HermEsp': 1,\n",
       "  'PadHij': 0},\n",
       " {'Índex': 89,\n",
       "  'Sobreviviente': 0,\n",
       "  'Clase': 3,\n",
       "  'Genero': 1,\n",
       "  'Edad': 17.0,\n",
       "  'HermEsp': 0,\n",
       "  'PadHij': 0},\n",
       " {'Índex': 90,\n",
       "  'Sobreviviente': 0,\n",
       "  'Clase': 3,\n",
       "  'Genero': 0,\n",
       "  'Edad': 21.0,\n",
       "  'HermEsp': 0,\n",
       "  'PadHij': 0},\n",
       " {'Índex': 91,\n",
       "  'Sobreviviente': 0,\n",
       "  'Clase': 3,\n",
       "  'Genero': 0,\n",
       "  'Edad': 70.5,\n",
       "  'HermEsp': 0,\n",
       "  'PadHij': 0},\n",
       " {'Índex': 92,\n",
       "  'Sobreviviente': 0,\n",
       "  'Clase': 2,\n",
       "  'Genero': 0,\n",
       "  'Edad': 29.0,\n",
       "  'HermEsp': 1,\n",
       "  'PadHij': 0},\n",
       " {'Índex': 93,\n",
       "  'Sobreviviente': 0,\n",
       "  'Clase': 1,\n",
       "  'Genero': 0,\n",
       "  'Edad': 24.0,\n",
       "  'HermEsp': 0,\n",
       "  'PadHij': 1},\n",
       " {'Índex': 94,\n",
       "  'Sobreviviente': 0,\n",
       "  'Clase': 3,\n",
       "  'Genero': 1,\n",
       "  'Edad': 2.0,\n",
       "  'HermEsp': 4,\n",
       "  'PadHij': 2},\n",
       " {'Índex': 95,\n",
       "  'Sobreviviente': 0,\n",
       "  'Clase': 2,\n",
       "  'Genero': 0,\n",
       "  'Edad': 21.0,\n",
       "  'HermEsp': 2,\n",
       "  'PadHij': 0},\n",
       " {'Índex': 96,\n",
       "  'Sobreviviente': 0,\n",
       "  'Clase': 2,\n",
       "  'Genero': 0,\n",
       "  'Edad': 32.5,\n",
       "  'HermEsp': 1,\n",
       "  'PadHij': 0},\n",
       " {'Índex': 97,\n",
       "  'Sobreviviente': 1,\n",
       "  'Clase': 2,\n",
       "  'Genero': 1,\n",
       "  'Edad': 32.5,\n",
       "  'HermEsp': 0,\n",
       "  'PadHij': 0},\n",
       " {'Índex': 98,\n",
       "  'Sobreviviente': 0,\n",
       "  'Clase': 1,\n",
       "  'Genero': 0,\n",
       "  'Edad': 54.0,\n",
       "  'HermEsp': 0,\n",
       "  'PadHij': 1},\n",
       " {'Índex': 99,\n",
       "  'Sobreviviente': 1,\n",
       "  'Clase': 3,\n",
       "  'Genero': 0,\n",
       "  'Edad': 12.0,\n",
       "  'HermEsp': 1,\n",
       "  'PadHij': 0},\n",
       " {'Índex': 100,\n",
       "  'Sobreviviente': 1,\n",
       "  'Clase': 3,\n",
       "  'Genero': 0,\n",
       "  'Edad': 24.0,\n",
       "  'HermEsp': 0,\n",
       "  'PadHij': 0},\n",
       " {'Índex': 101,\n",
       "  'Sobreviviente': 0,\n",
       "  'Clase': 3,\n",
       "  'Genero': 0,\n",
       "  'Edad': 45.0,\n",
       "  'HermEsp': 0,\n",
       "  'PadHij': 0},\n",
       " {'Índex': 102,\n",
       "  'Sobreviviente': 0,\n",
       "  'Clase': 3,\n",
       "  'Genero': 0,\n",
       "  'Edad': 33.0,\n",
       "  'HermEsp': 0,\n",
       "  'PadHij': 0},\n",
       " {'Índex': 103,\n",
       "  'Sobreviviente': 0,\n",
       "  'Clase': 3,\n",
       "  'Genero': 0,\n",
       "  'Edad': 20.0,\n",
       "  'HermEsp': 0,\n",
       "  'PadHij': 0},\n",
       " {'Índex': 104,\n",
       "  'Sobreviviente': 0,\n",
       "  'Clase': 3,\n",
       "  'Genero': 1,\n",
       "  'Edad': 47.0,\n",
       "  'HermEsp': 1,\n",
       "  'PadHij': 0},\n",
       " {'Índex': 105,\n",
       "  'Sobreviviente': 1,\n",
       "  'Clase': 2,\n",
       "  'Genero': 1,\n",
       "  'Edad': 29.0,\n",
       "  'HermEsp': 1,\n",
       "  'PadHij': 0},\n",
       " {'Índex': 106,\n",
       "  'Sobreviviente': 0,\n",
       "  'Clase': 2,\n",
       "  'Genero': 0,\n",
       "  'Edad': 25.0,\n",
       "  'HermEsp': 0,\n",
       "  'PadHij': 0},\n",
       " {'Índex': 107,\n",
       "  'Sobreviviente': 0,\n",
       "  'Clase': 2,\n",
       "  'Genero': 0,\n",
       "  'Edad': 23.0,\n",
       "  'HermEsp': 0,\n",
       "  'PadHij': 0},\n",
       " {'Índex': 108,\n",
       "  'Sobreviviente': 1,\n",
       "  'Clase': 1,\n",
       "  'Genero': 1,\n",
       "  'Edad': 19.0,\n",
       "  'HermEsp': 0,\n",
       "  'PadHij': 2},\n",
       " {'Índex': 109,\n",
       "  'Sobreviviente': 0,\n",
       "  'Clase': 1,\n",
       "  'Genero': 0,\n",
       "  'Edad': 37.0,\n",
       "  'HermEsp': 1,\n",
       "  'PadHij': 0},\n",
       " {'Índex': 110,\n",
       "  'Sobreviviente': 0,\n",
       "  'Clase': 3,\n",
       "  'Genero': 0,\n",
       "  'Edad': 16.0,\n",
       "  'HermEsp': 0,\n",
       "  'PadHij': 0},\n",
       " {'Índex': 111,\n",
       "  'Sobreviviente': 0,\n",
       "  'Clase': 1,\n",
       "  'Genero': 0,\n",
       "  'Edad': 24.0,\n",
       "  'HermEsp': 0,\n",
       "  'PadHij': 0},\n",
       " {'Índex': 112,\n",
       "  'Sobreviviente': 1,\n",
       "  'Clase': 3,\n",
       "  'Genero': 1,\n",
       "  'Edad': 22.0,\n",
       "  'HermEsp': 0,\n",
       "  'PadHij': 0},\n",
       " {'Índex': 113,\n",
       "  'Sobreviviente': 1,\n",
       "  'Clase': 3,\n",
       "  'Genero': 1,\n",
       "  'Edad': 24.0,\n",
       "  'HermEsp': 1,\n",
       "  'PadHij': 0},\n",
       " {'Índex': 114,\n",
       "  'Sobreviviente': 0,\n",
       "  'Clase': 3,\n",
       "  'Genero': 0,\n",
       "  'Edad': 19.0,\n",
       "  'HermEsp': 0,\n",
       "  'PadHij': 0},\n",
       " {'Índex': 115,\n",
       "  'Sobreviviente': 0,\n",
       "  'Clase': 2,\n",
       "  'Genero': 0,\n",
       "  'Edad': 18.0,\n",
       "  'HermEsp': 0,\n",
       "  'PadHij': 0},\n",
       " {'Índex': 116,\n",
       "  'Sobreviviente': 0,\n",
       "  'Clase': 2,\n",
       "  'Genero': 0,\n",
       "  'Edad': 19.0,\n",
       "  'HermEsp': 1,\n",
       "  'PadHij': 1},\n",
       " {'Índex': 117,\n",
       "  'Sobreviviente': 1,\n",
       "  'Clase': 3,\n",
       "  'Genero': 0,\n",
       "  'Edad': 27.0,\n",
       "  'HermEsp': 0,\n",
       "  'PadHij': 0},\n",
       " {'Índex': 118,\n",
       "  'Sobreviviente': 0,\n",
       "  'Clase': 3,\n",
       "  'Genero': 1,\n",
       "  'Edad': 9.0,\n",
       "  'HermEsp': 2,\n",
       "  'PadHij': 2},\n",
       " {'Índex': 119,\n",
       "  'Sobreviviente': 0,\n",
       "  'Clase': 2,\n",
       "  'Genero': 0,\n",
       "  'Edad': 36.5,\n",
       "  'HermEsp': 0,\n",
       "  'PadHij': 2},\n",
       " {'Índex': 120,\n",
       "  'Sobreviviente': 0,\n",
       "  'Clase': 2,\n",
       "  'Genero': 0,\n",
       "  'Edad': 42.0,\n",
       "  'HermEsp': 0,\n",
       "  'PadHij': 0},\n",
       " {'Índex': 121,\n",
       "  'Sobreviviente': 0,\n",
       "  'Clase': 2,\n",
       "  'Genero': 0,\n",
       "  'Edad': 51.0,\n",
       "  'HermEsp': 0,\n",
       "  'PadHij': 0},\n",
       " {'Índex': 122,\n",
       "  'Sobreviviente': 1,\n",
       "  'Clase': 1,\n",
       "  'Genero': 1,\n",
       "  'Edad': 22.0,\n",
       "  'HermEsp': 1,\n",
       "  'PadHij': 0},\n",
       " {'Índex': 123,\n",
       "  'Sobreviviente': 0,\n",
       "  'Clase': 3,\n",
       "  'Genero': 0,\n",
       "  'Edad': 55.5,\n",
       "  'HermEsp': 0,\n",
       "  'PadHij': 0},\n",
       " {'Índex': 124,\n",
       "  'Sobreviviente': 0,\n",
       "  'Clase': 3,\n",
       "  'Genero': 0,\n",
       "  'Edad': 40.5,\n",
       "  'HermEsp': 0,\n",
       "  'PadHij': 2},\n",
       " {'Índex': 125,\n",
       "  'Sobreviviente': 0,\n",
       "  'Clase': 1,\n",
       "  'Genero': 0,\n",
       "  'Edad': 51.0,\n",
       "  'HermEsp': 0,\n",
       "  'PadHij': 1},\n",
       " {'Índex': 126,\n",
       "  'Sobreviviente': 1,\n",
       "  'Clase': 3,\n",
       "  'Genero': 1,\n",
       "  'Edad': 16.0,\n",
       "  'HermEsp': 0,\n",
       "  'PadHij': 0},\n",
       " {'Índex': 127,\n",
       "  'Sobreviviente': 0,\n",
       "  'Clase': 3,\n",
       "  'Genero': 0,\n",
       "  'Edad': 30.0,\n",
       "  'HermEsp': 0,\n",
       "  'PadHij': 0},\n",
       " {'Índex': 128,\n",
       "  'Sobreviviente': 0,\n",
       "  'Clase': 3,\n",
       "  'Genero': 0,\n",
       "  'Edad': 44.0,\n",
       "  'HermEsp': 0,\n",
       "  'PadHij': 1},\n",
       " {'Índex': 129,\n",
       "  'Sobreviviente': 1,\n",
       "  'Clase': 2,\n",
       "  'Genero': 1,\n",
       "  'Edad': 40.0,\n",
       "  'HermEsp': 0,\n",
       "  'PadHij': 0},\n",
       " {'Índex': 130,\n",
       "  'Sobreviviente': 0,\n",
       "  'Clase': 3,\n",
       "  'Genero': 0,\n",
       "  'Edad': 26.0,\n",
       "  'HermEsp': 0,\n",
       "  'PadHij': 0},\n",
       " {'Índex': 131,\n",
       "  'Sobreviviente': 0,\n",
       "  'Clase': 3,\n",
       "  'Genero': 0,\n",
       "  'Edad': 17.0,\n",
       "  'HermEsp': 0,\n",
       "  'PadHij': 0},\n",
       " {'Índex': 132,\n",
       "  'Sobreviviente': 0,\n",
       "  'Clase': 3,\n",
       "  'Genero': 0,\n",
       "  'Edad': 1.0,\n",
       "  'HermEsp': 4,\n",
       "  'PadHij': 1},\n",
       " {'Índex': 133,\n",
       "  'Sobreviviente': 1,\n",
       "  'Clase': 3,\n",
       "  'Genero': 0,\n",
       "  'Edad': 9.0,\n",
       "  'HermEsp': 0,\n",
       "  'PadHij': 2},\n",
       " {'Índex': 134,\n",
       "  'Sobreviviente': 0,\n",
       "  'Clase': 3,\n",
       "  'Genero': 1,\n",
       "  'Edad': 45.0,\n",
       "  'HermEsp': 1,\n",
       "  'PadHij': 4},\n",
       " {'Índex': 135,\n",
       "  'Sobreviviente': 0,\n",
       "  'Clase': 3,\n",
       "  'Genero': 0,\n",
       "  'Edad': 28.0,\n",
       "  'HermEsp': 0,\n",
       "  'PadHij': 0},\n",
       " {'Índex': 136,\n",
       "  'Sobreviviente': 0,\n",
       "  'Clase': 1,\n",
       "  'Genero': 0,\n",
       "  'Edad': 61.0,\n",
       "  'HermEsp': 0,\n",
       "  'PadHij': 0},\n",
       " {'Índex': 137,\n",
       "  'Sobreviviente': 0,\n",
       "  'Clase': 3,\n",
       "  'Genero': 0,\n",
       "  'Edad': 4.0,\n",
       "  'HermEsp': 4,\n",
       "  'PadHij': 1},\n",
       " {'Índex': 138,\n",
       "  'Sobreviviente': 1,\n",
       "  'Clase': 3,\n",
       "  'Genero': 1,\n",
       "  'Edad': 1.0,\n",
       "  'HermEsp': 1,\n",
       "  'PadHij': 1},\n",
       " {'Índex': 139,\n",
       "  'Sobreviviente': 0,\n",
       "  'Clase': 3,\n",
       "  'Genero': 0,\n",
       "  'Edad': 21.0,\n",
       "  'HermEsp': 0,\n",
       "  'PadHij': 0},\n",
       " {'Índex': 140,\n",
       "  'Sobreviviente': 0,\n",
       "  'Clase': 1,\n",
       "  'Genero': 0,\n",
       "  'Edad': 56.0,\n",
       "  'HermEsp': 0,\n",
       "  'PadHij': 0},\n",
       " {'Índex': 141,\n",
       "  'Sobreviviente': 0,\n",
       "  'Clase': 3,\n",
       "  'Genero': 0,\n",
       "  'Edad': 18.0,\n",
       "  'HermEsp': 1,\n",
       "  'PadHij': 1},\n",
       " {'Índex': 142,\n",
       "  'Sobreviviente': 0,\n",
       "  'Clase': 1,\n",
       "  'Genero': 1,\n",
       "  'Edad': 50.0,\n",
       "  'HermEsp': 0,\n",
       "  'PadHij': 0},\n",
       " {'Índex': 143,\n",
       "  'Sobreviviente': 0,\n",
       "  'Clase': 2,\n",
       "  'Genero': 0,\n",
       "  'Edad': 30.0,\n",
       "  'HermEsp': 0,\n",
       "  'PadHij': 0},\n",
       " {'Índex': 144,\n",
       "  'Sobreviviente': 0,\n",
       "  'Clase': 3,\n",
       "  'Genero': 0,\n",
       "  'Edad': 36.0,\n",
       "  'HermEsp': 0,\n",
       "  'PadHij': 0},\n",
       " {'Índex': 145,\n",
       "  'Sobreviviente': 0,\n",
       "  'Clase': 3,\n",
       "  'Genero': 0,\n",
       "  'Edad': 9.0,\n",
       "  'HermEsp': 4,\n",
       "  'PadHij': 2},\n",
       " {'Índex': 146,\n",
       "  'Sobreviviente': 1,\n",
       "  'Clase': 2,\n",
       "  'Genero': 0,\n",
       "  'Edad': 1.0,\n",
       "  'HermEsp': 2,\n",
       "  'PadHij': 1},\n",
       " {'Índex': 147,\n",
       "  'Sobreviviente': 1,\n",
       "  'Clase': 3,\n",
       "  'Genero': 1,\n",
       "  'Edad': 4.0,\n",
       "  'HermEsp': 0,\n",
       "  'PadHij': 2},\n",
       " {'Índex': 148,\n",
       "  'Sobreviviente': 1,\n",
       "  'Clase': 1,\n",
       "  'Genero': 0,\n",
       "  'Edad': 45.0,\n",
       "  'HermEsp': 0,\n",
       "  'PadHij': 0},\n",
       " {'Índex': 149,\n",
       "  'Sobreviviente': 0,\n",
       "  'Clase': 3,\n",
       "  'Genero': 0,\n",
       "  'Edad': 40.0,\n",
       "  'HermEsp': 1,\n",
       "  'PadHij': 1},\n",
       " {'Índex': 150,\n",
       "  'Sobreviviente': 0,\n",
       "  'Clase': 3,\n",
       "  'Genero': 0,\n",
       "  'Edad': 36.0,\n",
       "  'HermEsp': 0,\n",
       "  'PadHij': 0},\n",
       " {'Índex': 151,\n",
       "  'Sobreviviente': 1,\n",
       "  'Clase': 2,\n",
       "  'Genero': 1,\n",
       "  'Edad': 32.0,\n",
       "  'HermEsp': 0,\n",
       "  'PadHij': 0},\n",
       " {'Índex': 152,\n",
       "  'Sobreviviente': 0,\n",
       "  'Clase': 2,\n",
       "  'Genero': 0,\n",
       "  'Edad': 19.0,\n",
       "  'HermEsp': 0,\n",
       "  'PadHij': 0},\n",
       " {'Índex': 153,\n",
       "  'Sobreviviente': 1,\n",
       "  'Clase': 3,\n",
       "  'Genero': 1,\n",
       "  'Edad': 19.0,\n",
       "  'HermEsp': 1,\n",
       "  'PadHij': 0},\n",
       " {'Índex': 154,\n",
       "  'Sobreviviente': 1,\n",
       "  'Clase': 2,\n",
       "  'Genero': 0,\n",
       "  'Edad': 3.0,\n",
       "  'HermEsp': 1,\n",
       "  'PadHij': 1},\n",
       " {'Índex': 155,\n",
       "  'Sobreviviente': 1,\n",
       "  'Clase': 1,\n",
       "  'Genero': 1,\n",
       "  'Edad': 44.0,\n",
       "  'HermEsp': 0,\n",
       "  'PadHij': 0},\n",
       " {'Índex': 156,\n",
       "  'Sobreviviente': 1,\n",
       "  'Clase': 1,\n",
       "  'Genero': 1,\n",
       "  'Edad': 58.0,\n",
       "  'HermEsp': 0,\n",
       "  'PadHij': 0},\n",
       " {'Índex': 157,\n",
       "  'Sobreviviente': 0,\n",
       "  'Clase': 3,\n",
       "  'Genero': 0,\n",
       "  'Edad': 42.0,\n",
       "  'HermEsp': 0,\n",
       "  'PadHij': 1},\n",
       " {'Índex': 158,\n",
       "  'Sobreviviente': 0,\n",
       "  'Clase': 2,\n",
       "  'Genero': 1,\n",
       "  'Edad': 24.0,\n",
       "  'HermEsp': 0,\n",
       "  'PadHij': 0},\n",
       " {'Índex': 159,\n",
       "  'Sobreviviente': 0,\n",
       "  'Clase': 3,\n",
       "  'Genero': 0,\n",
       "  'Edad': 28.0,\n",
       "  'HermEsp': 0,\n",
       "  'PadHij': 0},\n",
       " {'Índex': 160,\n",
       "  'Sobreviviente': 0,\n",
       "  'Clase': 3,\n",
       "  'Genero': 0,\n",
       "  'Edad': 34.0,\n",
       "  'HermEsp': 0,\n",
       "  'PadHij': 0},\n",
       " {'Índex': 161,\n",
       "  'Sobreviviente': 0,\n",
       "  'Clase': 3,\n",
       "  'Genero': 0,\n",
       "  'Edad': 45.5,\n",
       "  'HermEsp': 0,\n",
       "  'PadHij': 0},\n",
       " {'Índex': 162,\n",
       "  'Sobreviviente': 1,\n",
       "  'Clase': 3,\n",
       "  'Genero': 0,\n",
       "  'Edad': 18.0,\n",
       "  'HermEsp': 0,\n",
       "  'PadHij': 0},\n",
       " {'Índex': 163,\n",
       "  'Sobreviviente': 0,\n",
       "  'Clase': 3,\n",
       "  'Genero': 1,\n",
       "  'Edad': 2.0,\n",
       "  'HermEsp': 0,\n",
       "  'PadHij': 1},\n",
       " {'Índex': 164,\n",
       "  'Sobreviviente': 0,\n",
       "  'Clase': 3,\n",
       "  'Genero': 0,\n",
       "  'Edad': 32.0,\n",
       "  'HermEsp': 1,\n",
       "  'PadHij': 0},\n",
       " {'Índex': 165,\n",
       "  'Sobreviviente': 1,\n",
       "  'Clase': 3,\n",
       "  'Genero': 0,\n",
       "  'Edad': 26.0,\n",
       "  'HermEsp': 0,\n",
       "  'PadHij': 0},\n",
       " {'Índex': 166,\n",
       "  'Sobreviviente': 1,\n",
       "  'Clase': 3,\n",
       "  'Genero': 1,\n",
       "  'Edad': 16.0,\n",
       "  'HermEsp': 0,\n",
       "  'PadHij': 0},\n",
       " {'Índex': 167,\n",
       "  'Sobreviviente': 1,\n",
       "  'Clase': 1,\n",
       "  'Genero': 0,\n",
       "  'Edad': 40.0,\n",
       "  'HermEsp': 0,\n",
       "  'PadHij': 0},\n",
       " {'Índex': 168,\n",
       "  'Sobreviviente': 0,\n",
       "  'Clase': 3,\n",
       "  'Genero': 0,\n",
       "  'Edad': 24.0,\n",
       "  'HermEsp': 0,\n",
       "  'PadHij': 0},\n",
       " {'Índex': 169,\n",
       "  'Sobreviviente': 1,\n",
       "  'Clase': 2,\n",
       "  'Genero': 1,\n",
       "  'Edad': 35.0,\n",
       "  'HermEsp': 0,\n",
       "  'PadHij': 0},\n",
       " {'Índex': 170,\n",
       "  'Sobreviviente': 0,\n",
       "  'Clase': 3,\n",
       "  'Genero': 0,\n",
       "  'Edad': 22.0,\n",
       "  'HermEsp': 0,\n",
       "  'PadHij': 0},\n",
       " {'Índex': 171,\n",
       "  'Sobreviviente': 0,\n",
       "  'Clase': 2,\n",
       "  'Genero': 0,\n",
       "  'Edad': 30.0,\n",
       "  'HermEsp': 0,\n",
       "  'PadHij': 0},\n",
       " {'Índex': 172,\n",
       "  'Sobreviviente': 1,\n",
       "  'Clase': 1,\n",
       "  'Genero': 1,\n",
       "  'Edad': 31.0,\n",
       "  'HermEsp': 1,\n",
       "  'PadHij': 0},\n",
       " {'Índex': 173,\n",
       "  'Sobreviviente': 1,\n",
       "  'Clase': 3,\n",
       "  'Genero': 1,\n",
       "  'Edad': 27.0,\n",
       "  'HermEsp': 0,\n",
       "  'PadHij': 0},\n",
       " {'Índex': 174,\n",
       "  'Sobreviviente': 0,\n",
       "  'Clase': 2,\n",
       "  'Genero': 0,\n",
       "  'Edad': 42.0,\n",
       "  'HermEsp': 1,\n",
       "  'PadHij': 0},\n",
       " {'Índex': 175,\n",
       "  'Sobreviviente': 1,\n",
       "  'Clase': 1,\n",
       "  'Genero': 1,\n",
       "  'Edad': 32.0,\n",
       "  'HermEsp': 0,\n",
       "  'PadHij': 0},\n",
       " {'Índex': 176,\n",
       "  'Sobreviviente': 0,\n",
       "  'Clase': 2,\n",
       "  'Genero': 0,\n",
       "  'Edad': 30.0,\n",
       "  'HermEsp': 0,\n",
       "  'PadHij': 0},\n",
       " {'Índex': 177,\n",
       "  'Sobreviviente': 1,\n",
       "  'Clase': 3,\n",
       "  'Genero': 0,\n",
       "  'Edad': 16.0,\n",
       "  'HermEsp': 0,\n",
       "  'PadHij': 0},\n",
       " {'Índex': 178,\n",
       "  'Sobreviviente': 0,\n",
       "  'Clase': 2,\n",
       "  'Genero': 0,\n",
       "  'Edad': 27.0,\n",
       "  'HermEsp': 0,\n",
       "  'PadHij': 0},\n",
       " {'Índex': 179,\n",
       "  'Sobreviviente': 0,\n",
       "  'Clase': 3,\n",
       "  'Genero': 0,\n",
       "  'Edad': 51.0,\n",
       "  'HermEsp': 0,\n",
       "  'PadHij': 0},\n",
       " {'Índex': 180,\n",
       "  'Sobreviviente': 1,\n",
       "  'Clase': 1,\n",
       "  'Genero': 0,\n",
       "  'Edad': 38.0,\n",
       "  'HermEsp': 1,\n",
       "  'PadHij': 0},\n",
       " {'Índex': 181,\n",
       "  'Sobreviviente': 0,\n",
       "  'Clase': 3,\n",
       "  'Genero': 0,\n",
       "  'Edad': 22.0,\n",
       "  'HermEsp': 0,\n",
       "  'PadHij': 0},\n",
       " {'Índex': 182,\n",
       "  'Sobreviviente': 1,\n",
       "  'Clase': 2,\n",
       "  'Genero': 0,\n",
       "  'Edad': 19.0,\n",
       "  'HermEsp': 0,\n",
       "  'PadHij': 0},\n",
       " {'Índex': 183,\n",
       "  'Sobreviviente': 0,\n",
       "  'Clase': 3,\n",
       "  'Genero': 0,\n",
       "  'Edad': 20.5,\n",
       "  'HermEsp': 0,\n",
       "  'PadHij': 0},\n",
       " {'Índex': 184,\n",
       "  'Sobreviviente': 0,\n",
       "  'Clase': 2,\n",
       "  'Genero': 0,\n",
       "  'Edad': 18.0,\n",
       "  'HermEsp': 0,\n",
       "  'PadHij': 0},\n",
       " {'Índex': 185,\n",
       "  'Sobreviviente': 1,\n",
       "  'Clase': 1,\n",
       "  'Genero': 1,\n",
       "  'Edad': 35.0,\n",
       "  'HermEsp': 1,\n",
       "  'PadHij': 0},\n",
       " {'Índex': 186,\n",
       "  'Sobreviviente': 0,\n",
       "  'Clase': 3,\n",
       "  'Genero': 0,\n",
       "  'Edad': 29.0,\n",
       "  'HermEsp': 0,\n",
       "  'PadHij': 0},\n",
       " {'Índex': 187,\n",
       "  'Sobreviviente': 0,\n",
       "  'Clase': 2,\n",
       "  'Genero': 0,\n",
       "  'Edad': 59.0,\n",
       "  'HermEsp': 0,\n",
       "  'PadHij': 0},\n",
       " {'Índex': 188,\n",
       "  'Sobreviviente': 1,\n",
       "  'Clase': 3,\n",
       "  'Genero': 1,\n",
       "  'Edad': 5.0,\n",
       "  'HermEsp': 4,\n",
       "  'PadHij': 2},\n",
       " {'Índex': 189,\n",
       "  'Sobreviviente': 0,\n",
       "  'Clase': 2,\n",
       "  'Genero': 0,\n",
       "  'Edad': 24.0,\n",
       "  'HermEsp': 0,\n",
       "  'PadHij': 0},\n",
       " {'Índex': 190,\n",
       "  'Sobreviviente': 0,\n",
       "  'Clase': 2,\n",
       "  'Genero': 0,\n",
       "  'Edad': 44.0,\n",
       "  'HermEsp': 1,\n",
       "  'PadHij': 0},\n",
       " {'Índex': 191,\n",
       "  'Sobreviviente': 1,\n",
       "  'Clase': 2,\n",
       "  'Genero': 1,\n",
       "  'Edad': 8.0,\n",
       "  'HermEsp': 0,\n",
       "  'PadHij': 2},\n",
       " {'Índex': 192,\n",
       "  'Sobreviviente': 0,\n",
       "  'Clase': 2,\n",
       "  'Genero': 0,\n",
       "  'Edad': 19.0,\n",
       "  'HermEsp': 0,\n",
       "  'PadHij': 0},\n",
       " {'Índex': 193,\n",
       "  'Sobreviviente': 0,\n",
       "  'Clase': 2,\n",
       "  'Genero': 0,\n",
       "  'Edad': 33.0,\n",
       "  'HermEsp': 0,\n",
       "  'PadHij': 0},\n",
       " {'Índex': 194,\n",
       "  'Sobreviviente': 0,\n",
       "  'Clase': 2,\n",
       "  'Genero': 0,\n",
       "  'Edad': 29.0,\n",
       "  'HermEsp': 0,\n",
       "  'PadHij': 0},\n",
       " {'Índex': 195,\n",
       "  'Sobreviviente': 0,\n",
       "  'Clase': 3,\n",
       "  'Genero': 0,\n",
       "  'Edad': 22.0,\n",
       "  'HermEsp': 0,\n",
       "  'PadHij': 0},\n",
       " {'Índex': 196,\n",
       "  'Sobreviviente': 0,\n",
       "  'Clase': 3,\n",
       "  'Genero': 0,\n",
       "  'Edad': 30.0,\n",
       "  'HermEsp': 0,\n",
       "  'PadHij': 0},\n",
       " {'Índex': 197,\n",
       "  'Sobreviviente': 0,\n",
       "  'Clase': 1,\n",
       "  'Genero': 0,\n",
       "  'Edad': 44.0,\n",
       "  'HermEsp': 2,\n",
       "  'PadHij': 0},\n",
       " {'Índex': 198,\n",
       "  'Sobreviviente': 0,\n",
       "  'Clase': 3,\n",
       "  'Genero': 1,\n",
       "  'Edad': 25.0,\n",
       "  'HermEsp': 0,\n",
       "  'PadHij': 0},\n",
       " {'Índex': 199,\n",
       "  'Sobreviviente': 1,\n",
       "  'Clase': 2,\n",
       "  'Genero': 1,\n",
       "  'Edad': 24.0,\n",
       "  'HermEsp': 0,\n",
       "  'PadHij': 2},\n",
       " {'Índex': 200,\n",
       "  'Sobreviviente': 1,\n",
       "  'Clase': 1,\n",
       "  'Genero': 0,\n",
       "  'Edad': 37.0,\n",
       "  'HermEsp': 1,\n",
       "  'PadHij': 1},\n",
       " {'Índex': 201,\n",
       "  'Sobreviviente': 0,\n",
       "  'Clase': 2,\n",
       "  'Genero': 0,\n",
       "  'Edad': 54.0,\n",
       "  'HermEsp': 1,\n",
       "  'PadHij': 0},\n",
       " {'Índex': 202,\n",
       "  'Sobreviviente': 0,\n",
       "  'Clase': 3,\n",
       "  'Genero': 1,\n",
       "  'Edad': 29.0,\n",
       "  'HermEsp': 1,\n",
       "  'PadHij': 1},\n",
       " {'Índex': 203,\n",
       "  'Sobreviviente': 0,\n",
       "  'Clase': 1,\n",
       "  'Genero': 0,\n",
       "  'Edad': 62.0,\n",
       "  'HermEsp': 0,\n",
       "  'PadHij': 0},\n",
       " {'Índex': 204,\n",
       "  'Sobreviviente': 0,\n",
       "  'Clase': 3,\n",
       "  'Genero': 0,\n",
       "  'Edad': 30.0,\n",
       "  'HermEsp': 1,\n",
       "  'PadHij': 0},\n",
       " {'Índex': 205,\n",
       "  'Sobreviviente': 0,\n",
       "  'Clase': 3,\n",
       "  'Genero': 1,\n",
       "  'Edad': 41.0,\n",
       "  'HermEsp': 0,\n",
       "  'PadHij': 2},\n",
       " {'Índex': 206,\n",
       "  'Sobreviviente': 1,\n",
       "  'Clase': 3,\n",
       "  'Genero': 1,\n",
       "  'Edad': 29.0,\n",
       "  'HermEsp': 0,\n",
       "  'PadHij': 2},\n",
       " {'Índex': 207,\n",
       "  'Sobreviviente': 1,\n",
       "  'Clase': 1,\n",
       "  'Genero': 1,\n",
       "  'Edad': 30.0,\n",
       "  'HermEsp': 0,\n",
       "  'PadHij': 0},\n",
       " {'Índex': 208,\n",
       "  'Sobreviviente': 1,\n",
       "  'Clase': 1,\n",
       "  'Genero': 1,\n",
       "  'Edad': 35.0,\n",
       "  'HermEsp': 0,\n",
       "  'PadHij': 0},\n",
       " {'Índex': 209,\n",
       "  'Sobreviviente': 1,\n",
       "  'Clase': 2,\n",
       "  'Genero': 1,\n",
       "  'Edad': 50.0,\n",
       "  'HermEsp': 0,\n",
       "  'PadHij': 1},\n",
       " {'Índex': 210,\n",
       "  'Sobreviviente': 1,\n",
       "  'Clase': 3,\n",
       "  'Genero': 0,\n",
       "  'Edad': 3.0,\n",
       "  'HermEsp': 4,\n",
       "  'PadHij': 2},\n",
       " {'Índex': 211,\n",
       "  'Sobreviviente': 0,\n",
       "  'Clase': 1,\n",
       "  'Genero': 0,\n",
       "  'Edad': 52.0,\n",
       "  'HermEsp': 1,\n",
       "  'PadHij': 1},\n",
       " {'Índex': 212,\n",
       "  'Sobreviviente': 0,\n",
       "  'Clase': 1,\n",
       "  'Genero': 0,\n",
       "  'Edad': 40.0,\n",
       "  'HermEsp': 0,\n",
       "  'PadHij': 0},\n",
       " {'Índex': 213,\n",
       "  'Sobreviviente': 0,\n",
       "  'Clase': 2,\n",
       "  'Genero': 0,\n",
       "  'Edad': 36.0,\n",
       "  'HermEsp': 0,\n",
       "  'PadHij': 0},\n",
       " {'Índex': 214,\n",
       "  'Sobreviviente': 0,\n",
       "  'Clase': 3,\n",
       "  'Genero': 0,\n",
       "  'Edad': 16.0,\n",
       "  'HermEsp': 4,\n",
       "  'PadHij': 1},\n",
       " {'Índex': 215,\n",
       "  'Sobreviviente': 1,\n",
       "  'Clase': 3,\n",
       "  'Genero': 0,\n",
       "  'Edad': 25.0,\n",
       "  'HermEsp': 1,\n",
       "  'PadHij': 0},\n",
       " {'Índex': 216,\n",
       "  'Sobreviviente': 1,\n",
       "  'Clase': 1,\n",
       "  'Genero': 1,\n",
       "  'Edad': 58.0,\n",
       "  'HermEsp': 0,\n",
       "  'PadHij': 1},\n",
       " {'Índex': 217,\n",
       "  'Sobreviviente': 1,\n",
       "  'Clase': 1,\n",
       "  'Genero': 1,\n",
       "  'Edad': 35.0,\n",
       "  'HermEsp': 0,\n",
       "  'PadHij': 0},\n",
       " {'Índex': 218,\n",
       "  'Sobreviviente': 1,\n",
       "  'Clase': 3,\n",
       "  'Genero': 0,\n",
       "  'Edad': 25.0,\n",
       "  'HermEsp': 0,\n",
       "  'PadHij': 0},\n",
       " {'Índex': 219,\n",
       "  'Sobreviviente': 1,\n",
       "  'Clase': 2,\n",
       "  'Genero': 1,\n",
       "  'Edad': 41.0,\n",
       "  'HermEsp': 0,\n",
       "  'PadHij': 1},\n",
       " {'Índex': 220,\n",
       "  'Sobreviviente': 0,\n",
       "  'Clase': 1,\n",
       "  'Genero': 0,\n",
       "  'Edad': 37.0,\n",
       "  'HermEsp': 0,\n",
       "  'PadHij': 1},\n",
       " {'Índex': 221,\n",
       "  'Sobreviviente': 1,\n",
       "  'Clase': 1,\n",
       "  'Genero': 1,\n",
       "  'Edad': 63.0,\n",
       "  'HermEsp': 1,\n",
       "  'PadHij': 0},\n",
       " {'Índex': 222,\n",
       "  'Sobreviviente': 0,\n",
       "  'Clase': 3,\n",
       "  'Genero': 1,\n",
       "  'Edad': 45.0,\n",
       "  'HermEsp': 0,\n",
       "  'PadHij': 0},\n",
       " {'Índex': 223,\n",
       "  'Sobreviviente': 0,\n",
       "  'Clase': 3,\n",
       "  'Genero': 0,\n",
       "  'Edad': 7.0,\n",
       "  'HermEsp': 4,\n",
       "  'PadHij': 1},\n",
       " {'Índex': 224,\n",
       "  'Sobreviviente': 1,\n",
       "  'Clase': 3,\n",
       "  'Genero': 1,\n",
       "  'Edad': 35.0,\n",
       "  'HermEsp': 1,\n",
       "  'PadHij': 1},\n",
       " {'Índex': 225,\n",
       "  'Sobreviviente': 0,\n",
       "  'Clase': 3,\n",
       "  'Genero': 0,\n",
       "  'Edad': 65.0,\n",
       "  'HermEsp': 0,\n",
       "  'PadHij': 0},\n",
       " {'Índex': 226,\n",
       "  'Sobreviviente': 0,\n",
       "  'Clase': 3,\n",
       "  'Genero': 0,\n",
       "  'Edad': 28.0,\n",
       "  'HermEsp': 0,\n",
       "  'PadHij': 0},\n",
       " {'Índex': 227,\n",
       "  'Sobreviviente': 0,\n",
       "  'Clase': 3,\n",
       "  'Genero': 0,\n",
       "  'Edad': 16.0,\n",
       "  'HermEsp': 0,\n",
       "  'PadHij': 0},\n",
       " {'Índex': 228,\n",
       "  'Sobreviviente': 1,\n",
       "  'Clase': 3,\n",
       "  'Genero': 0,\n",
       "  'Edad': 19.0,\n",
       "  'HermEsp': 0,\n",
       "  'PadHij': 0},\n",
       " {'Índex': 229,\n",
       "  'Sobreviviente': 0,\n",
       "  'Clase': 3,\n",
       "  'Genero': 0,\n",
       "  'Edad': 33.0,\n",
       "  'HermEsp': 0,\n",
       "  'PadHij': 0},\n",
       " {'Índex': 230,\n",
       "  'Sobreviviente': 1,\n",
       "  'Clase': 3,\n",
       "  'Genero': 0,\n",
       "  'Edad': 30.0,\n",
       "  'HermEsp': 0,\n",
       "  'PadHij': 0},\n",
       " {'Índex': 231,\n",
       "  'Sobreviviente': 0,\n",
       "  'Clase': 3,\n",
       "  'Genero': 0,\n",
       "  'Edad': 22.0,\n",
       "  'HermEsp': 0,\n",
       "  'PadHij': 0},\n",
       " {'Índex': 232,\n",
       "  'Sobreviviente': 1,\n",
       "  'Clase': 2,\n",
       "  'Genero': 0,\n",
       "  'Edad': 42.0,\n",
       "  'HermEsp': 0,\n",
       "  'PadHij': 0},\n",
       " {'Índex': 233,\n",
       "  'Sobreviviente': 1,\n",
       "  'Clase': 3,\n",
       "  'Genero': 1,\n",
       "  'Edad': 22.0,\n",
       "  'HermEsp': 0,\n",
       "  'PadHij': 0},\n",
       " {'Índex': 234,\n",
       "  'Sobreviviente': 1,\n",
       "  'Clase': 1,\n",
       "  'Genero': 1,\n",
       "  'Edad': 26.0,\n",
       "  'HermEsp': 0,\n",
       "  'PadHij': 0},\n",
       " {'Índex': 235,\n",
       "  'Sobreviviente': 1,\n",
       "  'Clase': 1,\n",
       "  'Genero': 1,\n",
       "  'Edad': 19.0,\n",
       "  'HermEsp': 1,\n",
       "  'PadHij': 0},\n",
       " {'Índex': 236,\n",
       "  'Sobreviviente': 0,\n",
       "  'Clase': 2,\n",
       "  'Genero': 0,\n",
       "  'Edad': 36.0,\n",
       "  'HermEsp': 0,\n",
       "  'PadHij': 0},\n",
       " {'Índex': 237,\n",
       "  'Sobreviviente': 0,\n",
       "  'Clase': 3,\n",
       "  'Genero': 1,\n",
       "  'Edad': 24.0,\n",
       "  'HermEsp': 0,\n",
       "  'PadHij': 0},\n",
       " {'Índex': 238,\n",
       "  'Sobreviviente': 0,\n",
       "  'Clase': 3,\n",
       "  'Genero': 0,\n",
       "  'Edad': 24.0,\n",
       "  'HermEsp': 0,\n",
       "  'PadHij': 0},\n",
       " {'Índex': 239,\n",
       "  'Sobreviviente': 0,\n",
       "  'Clase': 3,\n",
       "  'Genero': 0,\n",
       "  'Edad': 23.5,\n",
       "  'HermEsp': 0,\n",
       "  'PadHij': 0},\n",
       " {'Índex': 240,\n",
       "  'Sobreviviente': 0,\n",
       "  'Clase': 1,\n",
       "  'Genero': 1,\n",
       "  'Edad': 2.0,\n",
       "  'HermEsp': 1,\n",
       "  'PadHij': 2},\n",
       " {'Índex': 241,\n",
       "  'Sobreviviente': 1,\n",
       "  'Clase': 1,\n",
       "  'Genero': 1,\n",
       "  'Edad': 50.0,\n",
       "  'HermEsp': 0,\n",
       "  'PadHij': 1},\n",
       " {'Índex': 242,\n",
       "  'Sobreviviente': 0,\n",
       "  'Clase': 3,\n",
       "  'Genero': 0,\n",
       "  'Edad': 19.0,\n",
       "  'HermEsp': 0,\n",
       "  'PadHij': 0},\n",
       " {'Índex': 243,\n",
       "  'Sobreviviente': 1,\n",
       "  'Clase': 1,\n",
       "  'Genero': 0,\n",
       "  'Edad': 0.92,\n",
       "  'HermEsp': 1,\n",
       "  'PadHij': 2},\n",
       " {'Índex': 244,\n",
       "  'Sobreviviente': 1,\n",
       "  'Clase': 1,\n",
       "  'Genero': 1,\n",
       "  'Edad': 17.0,\n",
       "  'HermEsp': 1,\n",
       "  'PadHij': 0},\n",
       " {'Índex': 245,\n",
       "  'Sobreviviente': 0,\n",
       "  'Clase': 2,\n",
       "  'Genero': 0,\n",
       "  'Edad': 30.0,\n",
       "  'HermEsp': 1,\n",
       "  'PadHij': 0},\n",
       " {'Índex': 246,\n",
       "  'Sobreviviente': 1,\n",
       "  'Clase': 1,\n",
       "  'Genero': 1,\n",
       "  'Edad': 30.0,\n",
       "  'HermEsp': 0,\n",
       "  'PadHij': 0},\n",
       " {'Índex': 247,\n",
       "  'Sobreviviente': 1,\n",
       "  'Clase': 1,\n",
       "  'Genero': 1,\n",
       "  'Edad': 24.0,\n",
       "  'HermEsp': 0,\n",
       "  'PadHij': 0},\n",
       " {'Índex': 248,\n",
       "  'Sobreviviente': 1,\n",
       "  'Clase': 1,\n",
       "  'Genero': 1,\n",
       "  'Edad': 18.0,\n",
       "  'HermEsp': 2,\n",
       "  'PadHij': 2},\n",
       " {'Índex': 249,\n",
       "  'Sobreviviente': 0,\n",
       "  'Clase': 2,\n",
       "  'Genero': 1,\n",
       "  'Edad': 26.0,\n",
       "  'HermEsp': 1,\n",
       "  'PadHij': 1},\n",
       " {'Índex': 250,\n",
       "  'Sobreviviente': 0,\n",
       "  'Clase': 3,\n",
       "  'Genero': 0,\n",
       "  'Edad': 28.0,\n",
       "  'HermEsp': 0,\n",
       "  'PadHij': 0},\n",
       " {'Índex': 251,\n",
       "  'Sobreviviente': 0,\n",
       "  'Clase': 2,\n",
       "  'Genero': 0,\n",
       "  'Edad': 43.0,\n",
       "  'HermEsp': 1,\n",
       "  'PadHij': 1},\n",
       " {'Índex': 252,\n",
       "  'Sobreviviente': 1,\n",
       "  'Clase': 3,\n",
       "  'Genero': 1,\n",
       "  'Edad': 26.0,\n",
       "  'HermEsp': 0,\n",
       "  'PadHij': 0},\n",
       " {'Índex': 253,\n",
       "  'Sobreviviente': 1,\n",
       "  'Clase': 2,\n",
       "  'Genero': 1,\n",
       "  'Edad': 24.0,\n",
       "  'HermEsp': 1,\n",
       "  'PadHij': 0},\n",
       " {'Índex': 254,\n",
       "  'Sobreviviente': 0,\n",
       "  'Clase': 2,\n",
       "  'Genero': 0,\n",
       "  'Edad': 54.0,\n",
       "  'HermEsp': 0,\n",
       "  'PadHij': 0},\n",
       " {'Índex': 255,\n",
       "  'Sobreviviente': 1,\n",
       "  'Clase': 1,\n",
       "  'Genero': 1,\n",
       "  'Edad': 31.0,\n",
       "  'HermEsp': 0,\n",
       "  'PadHij': 2},\n",
       " {'Índex': 256,\n",
       "  'Sobreviviente': 1,\n",
       "  'Clase': 1,\n",
       "  'Genero': 1,\n",
       "  'Edad': 40.0,\n",
       "  'HermEsp': 1,\n",
       "  'PadHij': 1},\n",
       " {'Índex': 257,\n",
       "  'Sobreviviente': 0,\n",
       "  'Clase': 3,\n",
       "  'Genero': 0,\n",
       "  'Edad': 22.0,\n",
       "  'HermEsp': 0,\n",
       "  'PadHij': 0},\n",
       " {'Índex': 258,\n",
       "  'Sobreviviente': 0,\n",
       "  'Clase': 3,\n",
       "  'Genero': 0,\n",
       "  'Edad': 27.0,\n",
       "  'HermEsp': 0,\n",
       "  'PadHij': 0},\n",
       " {'Índex': 259,\n",
       "  'Sobreviviente': 1,\n",
       "  'Clase': 2,\n",
       "  'Genero': 1,\n",
       "  'Edad': 30.0,\n",
       "  'HermEsp': 0,\n",
       "  'PadHij': 0},\n",
       " {'Índex': 260,\n",
       "  'Sobreviviente': 1,\n",
       "  'Clase': 2,\n",
       "  'Genero': 1,\n",
       "  'Edad': 22.0,\n",
       "  'HermEsp': 1,\n",
       "  'PadHij': 1},\n",
       " {'Índex': 261,\n",
       "  'Sobreviviente': 1,\n",
       "  'Clase': 1,\n",
       "  'Genero': 1,\n",
       "  'Edad': 36.0,\n",
       "  'HermEsp': 0,\n",
       "  'PadHij': 0},\n",
       " {'Índex': 262,\n",
       "  'Sobreviviente': 0,\n",
       "  'Clase': 3,\n",
       "  'Genero': 0,\n",
       "  'Edad': 61.0,\n",
       "  'HermEsp': 0,\n",
       "  'PadHij': 0},\n",
       " {'Índex': 263,\n",
       "  'Sobreviviente': 1,\n",
       "  'Clase': 2,\n",
       "  'Genero': 1,\n",
       "  'Edad': 36.0,\n",
       "  'HermEsp': 0,\n",
       "  'PadHij': 0},\n",
       " {'Índex': 264,\n",
       "  'Sobreviviente': 1,\n",
       "  'Clase': 3,\n",
       "  'Genero': 1,\n",
       "  'Edad': 31.0,\n",
       "  'HermEsp': 1,\n",
       "  'PadHij': 1},\n",
       " {'Índex': 265,\n",
       "  'Sobreviviente': 1,\n",
       "  'Clase': 1,\n",
       "  'Genero': 1,\n",
       "  'Edad': 16.0,\n",
       "  'HermEsp': 0,\n",
       "  'PadHij': 1},\n",
       " {'Índex': 266,\n",
       "  'Sobreviviente': 0,\n",
       "  'Clase': 1,\n",
       "  'Genero': 0,\n",
       "  'Edad': 45.5,\n",
       "  'HermEsp': 0,\n",
       "  'PadHij': 0},\n",
       " {'Índex': 267,\n",
       "  'Sobreviviente': 0,\n",
       "  'Clase': 1,\n",
       "  'Genero': 0,\n",
       "  'Edad': 38.0,\n",
       "  'HermEsp': 0,\n",
       "  'PadHij': 1},\n",
       " {'Índex': 268,\n",
       "  'Sobreviviente': 0,\n",
       "  'Clase': 3,\n",
       "  'Genero': 0,\n",
       "  'Edad': 16.0,\n",
       "  'HermEsp': 2,\n",
       "  'PadHij': 0},\n",
       " {'Índex': 269,\n",
       "  'Sobreviviente': 0,\n",
       "  'Clase': 1,\n",
       "  'Genero': 0,\n",
       "  'Edad': 29.0,\n",
       "  'HermEsp': 1,\n",
       "  'PadHij': 0},\n",
       " {'Índex': 270,\n",
       "  'Sobreviviente': 1,\n",
       "  'Clase': 1,\n",
       "  'Genero': 1,\n",
       "  'Edad': 41.0,\n",
       "  'HermEsp': 0,\n",
       "  'PadHij': 0},\n",
       " {'Índex': 271,\n",
       "  'Sobreviviente': 1,\n",
       "  'Clase': 3,\n",
       "  'Genero': 0,\n",
       "  'Edad': 45.0,\n",
       "  'HermEsp': 0,\n",
       "  'PadHij': 0},\n",
       " {'Índex': 272,\n",
       "  'Sobreviviente': 0,\n",
       "  'Clase': 1,\n",
       "  'Genero': 0,\n",
       "  'Edad': 45.0,\n",
       "  'HermEsp': 0,\n",
       "  'PadHij': 0},\n",
       " {'Índex': 273,\n",
       "  'Sobreviviente': 1,\n",
       "  'Clase': 2,\n",
       "  'Genero': 0,\n",
       "  'Edad': 2.0,\n",
       "  'HermEsp': 1,\n",
       "  'PadHij': 1},\n",
       " {'Índex': 274,\n",
       "  'Sobreviviente': 1,\n",
       "  'Clase': 1,\n",
       "  'Genero': 1,\n",
       "  'Edad': 24.0,\n",
       "  'HermEsp': 3,\n",
       "  'PadHij': 2},\n",
       " {'Índex': 275,\n",
       "  'Sobreviviente': 0,\n",
       "  'Clase': 2,\n",
       "  'Genero': 0,\n",
       "  'Edad': 28.0,\n",
       "  'HermEsp': 0,\n",
       "  'PadHij': 0},\n",
       " {'Índex': 276,\n",
       "  'Sobreviviente': 0,\n",
       "  'Clase': 2,\n",
       "  'Genero': 0,\n",
       "  'Edad': 25.0,\n",
       "  'HermEsp': 0,\n",
       "  'PadHij': 0},\n",
       " {'Índex': 277,\n",
       "  'Sobreviviente': 0,\n",
       "  'Clase': 2,\n",
       "  'Genero': 0,\n",
       "  'Edad': 36.0,\n",
       "  'HermEsp': 0,\n",
       "  'PadHij': 0},\n",
       " {'Índex': 278,\n",
       "  'Sobreviviente': 1,\n",
       "  'Clase': 2,\n",
       "  'Genero': 1,\n",
       "  'Edad': 24.0,\n",
       "  'HermEsp': 0,\n",
       "  'PadHij': 0},\n",
       " {'Índex': 279,\n",
       "  'Sobreviviente': 1,\n",
       "  'Clase': 2,\n",
       "  'Genero': 1,\n",
       "  'Edad': 40.0,\n",
       "  'HermEsp': 0,\n",
       "  'PadHij': 0},\n",
       " {'Índex': 280,\n",
       "  'Sobreviviente': 1,\n",
       "  'Clase': 3,\n",
       "  'Genero': 0,\n",
       "  'Edad': 3.0,\n",
       "  'HermEsp': 1,\n",
       "  'PadHij': 1},\n",
       " {'Índex': 281,\n",
       "  'Sobreviviente': 0,\n",
       "  'Clase': 3,\n",
       "  'Genero': 0,\n",
       "  'Edad': 42.0,\n",
       "  'HermEsp': 0,\n",
       "  'PadHij': 0},\n",
       " {'Índex': 282,\n",
       "  'Sobreviviente': 0,\n",
       "  'Clase': 3,\n",
       "  'Genero': 0,\n",
       "  'Edad': 23.0,\n",
       "  'HermEsp': 0,\n",
       "  'PadHij': 0},\n",
       " {'Índex': 283,\n",
       "  'Sobreviviente': 0,\n",
       "  'Clase': 3,\n",
       "  'Genero': 0,\n",
       "  'Edad': 15.0,\n",
       "  'HermEsp': 1,\n",
       "  'PadHij': 1},\n",
       " {'Índex': 284,\n",
       "  'Sobreviviente': 0,\n",
       "  'Clase': 3,\n",
       "  'Genero': 0,\n",
       "  'Edad': 25.0,\n",
       "  'HermEsp': 1,\n",
       "  'PadHij': 0},\n",
       " {'Índex': 285,\n",
       "  'Sobreviviente': 0,\n",
       "  'Clase': 3,\n",
       "  'Genero': 0,\n",
       "  'Edad': 28.0,\n",
       "  'HermEsp': 0,\n",
       "  'PadHij': 0},\n",
       " {'Índex': 286,\n",
       "  'Sobreviviente': 1,\n",
       "  'Clase': 1,\n",
       "  'Genero': 1,\n",
       "  'Edad': 22.0,\n",
       "  'HermEsp': 0,\n",
       "  'PadHij': 1},\n",
       " {'Índex': 287,\n",
       "  'Sobreviviente': 0,\n",
       "  'Clase': 2,\n",
       "  'Genero': 1,\n",
       "  'Edad': 38.0,\n",
       "  'HermEsp': 0,\n",
       "  'PadHij': 0},\n",
       " {'Índex': 288,\n",
       "  'Sobreviviente': 0,\n",
       "  'Clase': 3,\n",
       "  'Genero': 0,\n",
       "  'Edad': 40.0,\n",
       "  'HermEsp': 1,\n",
       "  'PadHij': 4},\n",
       " {'Índex': 289,\n",
       "  'Sobreviviente': 0,\n",
       "  'Clase': 2,\n",
       "  'Genero': 0,\n",
       "  'Edad': 29.0,\n",
       "  'HermEsp': 1,\n",
       "  'PadHij': 0},\n",
       " {'Índex': 290,\n",
       "  'Sobreviviente': 0,\n",
       "  'Clase': 3,\n",
       "  'Genero': 1,\n",
       "  'Edad': 45.0,\n",
       "  'HermEsp': 0,\n",
       "  'PadHij': 1},\n",
       " {'Índex': 291,\n",
       "  'Sobreviviente': 0,\n",
       "  'Clase': 3,\n",
       "  'Genero': 0,\n",
       "  'Edad': 35.0,\n",
       "  'HermEsp': 0,\n",
       "  'PadHij': 0},\n",
       " {'Índex': 292,\n",
       "  'Sobreviviente': 0,\n",
       "  'Clase': 3,\n",
       "  'Genero': 0,\n",
       "  'Edad': 30.0,\n",
       "  'HermEsp': 0,\n",
       "  'PadHij': 0},\n",
       " {'Índex': 293,\n",
       "  'Sobreviviente': 1,\n",
       "  'Clase': 1,\n",
       "  'Genero': 1,\n",
       "  'Edad': 60.0,\n",
       "  'HermEsp': 1,\n",
       "  'PadHij': 0},\n",
       " {'Índex': 294,\n",
       "  'Sobreviviente': 1,\n",
       "  'Clase': 1,\n",
       "  'Genero': 1,\n",
       "  'Edad': 24.0,\n",
       "  'HermEsp': 0,\n",
       "  'PadHij': 0},\n",
       " {'Índex': 295,\n",
       "  'Sobreviviente': 1,\n",
       "  'Clase': 1,\n",
       "  'Genero': 0,\n",
       "  'Edad': 25.0,\n",
       "  'HermEsp': 1,\n",
       "  'PadHij': 0},\n",
       " {'Índex': 296,\n",
       "  'Sobreviviente': 0,\n",
       "  'Clase': 3,\n",
       "  'Genero': 0,\n",
       "  'Edad': 18.0,\n",
       "  'HermEsp': 1,\n",
       "  'PadHij': 0},\n",
       " {'Índex': 297,\n",
       "  'Sobreviviente': 0,\n",
       "  'Clase': 3,\n",
       "  'Genero': 0,\n",
       "  'Edad': 19.0,\n",
       "  'HermEsp': 0,\n",
       "  'PadHij': 0},\n",
       " {'Índex': 298,\n",
       "  'Sobreviviente': 0,\n",
       "  'Clase': 1,\n",
       "  'Genero': 0,\n",
       "  'Edad': 22.0,\n",
       "  'HermEsp': 0,\n",
       "  'PadHij': 0},\n",
       " {'Índex': 299,\n",
       "  'Sobreviviente': 0,\n",
       "  'Clase': 3,\n",
       "  'Genero': 1,\n",
       "  'Edad': 3.0,\n",
       "  'HermEsp': 3,\n",
       "  'PadHij': 1},\n",
       " {'Índex': 300,\n",
       "  'Sobreviviente': 1,\n",
       "  'Clase': 3,\n",
       "  'Genero': 1,\n",
       "  'Edad': 22.0,\n",
       "  'HermEsp': 0,\n",
       "  'PadHij': 0},\n",
       " {'Índex': 301,\n",
       "  'Sobreviviente': 0,\n",
       "  'Clase': 1,\n",
       "  'Genero': 0,\n",
       "  'Edad': 27.0,\n",
       "  'HermEsp': 0,\n",
       "  'PadHij': 2},\n",
       " {'Índex': 302,\n",
       "  'Sobreviviente': 0,\n",
       "  'Clase': 3,\n",
       "  'Genero': 0,\n",
       "  'Edad': 20.0,\n",
       "  'HermEsp': 0,\n",
       "  'PadHij': 0},\n",
       " {'Índex': 303,\n",
       "  'Sobreviviente': 0,\n",
       "  'Clase': 3,\n",
       "  'Genero': 0,\n",
       "  'Edad': 19.0,\n",
       "  'HermEsp': 0,\n",
       "  'PadHij': 0},\n",
       " {'Índex': 304,\n",
       "  'Sobreviviente': 1,\n",
       "  'Clase': 1,\n",
       "  'Genero': 1,\n",
       "  'Edad': 42.0,\n",
       "  'HermEsp': 0,\n",
       "  'PadHij': 0},\n",
       " {'Índex': 305,\n",
       "  'Sobreviviente': 1,\n",
       "  'Clase': 3,\n",
       "  'Genero': 1,\n",
       "  'Edad': 1.0,\n",
       "  'HermEsp': 0,\n",
       "  'PadHij': 2},\n",
       " {'Índex': 306,\n",
       "  'Sobreviviente': 0,\n",
       "  'Clase': 3,\n",
       "  'Genero': 0,\n",
       "  'Edad': 32.0,\n",
       "  'HermEsp': 0,\n",
       "  'PadHij': 0},\n",
       " {'Índex': 307,\n",
       "  'Sobreviviente': 1,\n",
       "  'Clase': 1,\n",
       "  'Genero': 1,\n",
       "  'Edad': 35.0,\n",
       "  'HermEsp': 1,\n",
       "  'PadHij': 0},\n",
       " {'Índex': 308,\n",
       "  'Sobreviviente': 0,\n",
       "  'Clase': 2,\n",
       "  'Genero': 0,\n",
       "  'Edad': 18.0,\n",
       "  'HermEsp': 0,\n",
       "  'PadHij': 0},\n",
       " {'Índex': 309,\n",
       "  'Sobreviviente': 0,\n",
       "  'Clase': 3,\n",
       "  'Genero': 0,\n",
       "  'Edad': 1.0,\n",
       "  'HermEsp': 5,\n",
       "  'PadHij': 2},\n",
       " {'Índex': 310,\n",
       "  'Sobreviviente': 1,\n",
       "  'Clase': 2,\n",
       "  'Genero': 1,\n",
       "  'Edad': 36.0,\n",
       "  'HermEsp': 0,\n",
       "  'PadHij': 0},\n",
       " {'Índex': 311,\n",
       "  'Sobreviviente': 1,\n",
       "  'Clase': 2,\n",
       "  'Genero': 1,\n",
       "  'Edad': 17.0,\n",
       "  'HermEsp': 0,\n",
       "  'PadHij': 0},\n",
       " {'Índex': 312,\n",
       "  'Sobreviviente': 1,\n",
       "  'Clase': 1,\n",
       "  'Genero': 0,\n",
       "  'Edad': 36.0,\n",
       "  'HermEsp': 1,\n",
       "  'PadHij': 2},\n",
       " {'Índex': 313,\n",
       "  'Sobreviviente': 1,\n",
       "  'Clase': 3,\n",
       "  'Genero': 0,\n",
       "  'Edad': 21.0,\n",
       "  'HermEsp': 0,\n",
       "  'PadHij': 0},\n",
       " {'Índex': 314,\n",
       "  'Sobreviviente': 0,\n",
       "  'Clase': 3,\n",
       "  'Genero': 0,\n",
       "  'Edad': 28.0,\n",
       "  'HermEsp': 2,\n",
       "  'PadHij': 0},\n",
       " {'Índex': 315,\n",
       "  'Sobreviviente': 1,\n",
       "  'Clase': 1,\n",
       "  'Genero': 1,\n",
       "  'Edad': 23.0,\n",
       "  'HermEsp': 1,\n",
       "  'PadHij': 0},\n",
       " {'Índex': 316,\n",
       "  'Sobreviviente': 1,\n",
       "  'Clase': 3,\n",
       "  'Genero': 1,\n",
       "  'Edad': 24.0,\n",
       "  'HermEsp': 0,\n",
       "  'PadHij': 2},\n",
       " {'Índex': 317,\n",
       "  'Sobreviviente': 0,\n",
       "  'Clase': 3,\n",
       "  'Genero': 0,\n",
       "  'Edad': 22.0,\n",
       "  'HermEsp': 0,\n",
       "  'PadHij': 0},\n",
       " {'Índex': 318,\n",
       "  'Sobreviviente': 0,\n",
       "  'Clase': 3,\n",
       "  'Genero': 1,\n",
       "  'Edad': 31.0,\n",
       "  'HermEsp': 0,\n",
       "  'PadHij': 0},\n",
       " {'Índex': 319,\n",
       "  'Sobreviviente': 0,\n",
       "  'Clase': 2,\n",
       "  'Genero': 0,\n",
       "  'Edad': 46.0,\n",
       "  'HermEsp': 0,\n",
       "  'PadHij': 0},\n",
       " {'Índex': 320,\n",
       "  'Sobreviviente': 0,\n",
       "  'Clase': 2,\n",
       "  'Genero': 0,\n",
       "  'Edad': 23.0,\n",
       "  'HermEsp': 0,\n",
       "  'PadHij': 0},\n",
       " {'Índex': 321,\n",
       "  'Sobreviviente': 1,\n",
       "  'Clase': 2,\n",
       "  'Genero': 1,\n",
       "  'Edad': 28.0,\n",
       "  'HermEsp': 0,\n",
       "  'PadHij': 0},\n",
       " {'Índex': 322,\n",
       "  'Sobreviviente': 1,\n",
       "  'Clase': 3,\n",
       "  'Genero': 0,\n",
       "  'Edad': 39.0,\n",
       "  'HermEsp': 0,\n",
       "  'PadHij': 0},\n",
       " {'Índex': 323,\n",
       "  'Sobreviviente': 0,\n",
       "  'Clase': 3,\n",
       "  'Genero': 0,\n",
       "  'Edad': 26.0,\n",
       "  'HermEsp': 0,\n",
       "  'PadHij': 0},\n",
       " {'Índex': 324,\n",
       "  'Sobreviviente': 0,\n",
       "  'Clase': 3,\n",
       "  'Genero': 1,\n",
       "  'Edad': 21.0,\n",
       "  'HermEsp': 1,\n",
       "  'PadHij': 0},\n",
       " {'Índex': 325,\n",
       "  'Sobreviviente': 0,\n",
       "  'Clase': 3,\n",
       "  'Genero': 0,\n",
       "  'Edad': 28.0,\n",
       "  'HermEsp': 1,\n",
       "  'PadHij': 0},\n",
       " {'Índex': 326,\n",
       "  'Sobreviviente': 0,\n",
       "  'Clase': 3,\n",
       "  'Genero': 1,\n",
       "  'Edad': 20.0,\n",
       "  'HermEsp': 0,\n",
       "  'PadHij': 0},\n",
       " {'Índex': 327,\n",
       "  'Sobreviviente': 0,\n",
       "  'Clase': 2,\n",
       "  'Genero': 0,\n",
       "  'Edad': 34.0,\n",
       "  'HermEsp': 1,\n",
       "  'PadHij': 0},\n",
       " {'Índex': 328,\n",
       "  'Sobreviviente': 0,\n",
       "  'Clase': 3,\n",
       "  'Genero': 0,\n",
       "  'Edad': 51.0,\n",
       "  'HermEsp': 0,\n",
       "  'PadHij': 0},\n",
       " {'Índex': 329,\n",
       "  'Sobreviviente': 1,\n",
       "  'Clase': 2,\n",
       "  'Genero': 0,\n",
       "  'Edad': 3.0,\n",
       "  'HermEsp': 1,\n",
       "  'PadHij': 1},\n",
       " {'Índex': 330,\n",
       "  'Sobreviviente': 0,\n",
       "  'Clase': 3,\n",
       "  'Genero': 0,\n",
       "  'Edad': 21.0,\n",
       "  'HermEsp': 0,\n",
       "  'PadHij': 0},\n",
       " {'Índex': 331,\n",
       "  'Sobreviviente': 1,\n",
       "  'Clase': 1,\n",
       "  'Genero': 1,\n",
       "  'Edad': 33.0,\n",
       "  'HermEsp': 1,\n",
       "  'PadHij': 0},\n",
       " {'Índex': 332,\n",
       "  'Sobreviviente': 1,\n",
       "  'Clase': 3,\n",
       "  'Genero': 0,\n",
       "  'Edad': 44.0,\n",
       "  'HermEsp': 0,\n",
       "  'PadHij': 0},\n",
       " {'Índex': 333,\n",
       "  'Sobreviviente': 1,\n",
       "  'Clase': 2,\n",
       "  'Genero': 1,\n",
       "  'Edad': 34.0,\n",
       "  'HermEsp': 1,\n",
       "  'PadHij': 1},\n",
       " {'Índex': 334,\n",
       "  'Sobreviviente': 1,\n",
       "  'Clase': 2,\n",
       "  'Genero': 1,\n",
       "  'Edad': 18.0,\n",
       "  'HermEsp': 0,\n",
       "  'PadHij': 2},\n",
       " {'Índex': 335,\n",
       "  'Sobreviviente': 0,\n",
       "  'Clase': 2,\n",
       "  'Genero': 0,\n",
       "  'Edad': 30.0,\n",
       "  'HermEsp': 0,\n",
       "  'PadHij': 0},\n",
       " {'Índex': 336,\n",
       "  'Sobreviviente': 0,\n",
       "  'Clase': 3,\n",
       "  'Genero': 1,\n",
       "  'Edad': 10.0,\n",
       "  'HermEsp': 0,\n",
       "  'PadHij': 2},\n",
       " {'Índex': 337,\n",
       "  'Sobreviviente': 0,\n",
       "  'Clase': 3,\n",
       "  'Genero': 0,\n",
       "  'Edad': 21.0,\n",
       "  'HermEsp': 0,\n",
       "  'PadHij': 0},\n",
       " {'Índex': 338,\n",
       "  'Sobreviviente': 0,\n",
       "  'Clase': 3,\n",
       "  'Genero': 0,\n",
       "  'Edad': 29.0,\n",
       "  'HermEsp': 0,\n",
       "  'PadHij': 0},\n",
       " {'Índex': 339,\n",
       "  'Sobreviviente': 0,\n",
       "  'Clase': 3,\n",
       "  'Genero': 1,\n",
       "  'Edad': 28.0,\n",
       "  'HermEsp': 1,\n",
       "  'PadHij': 1},\n",
       " {'Índex': 340,\n",
       "  'Sobreviviente': 0,\n",
       "  'Clase': 3,\n",
       "  'Genero': 0,\n",
       "  'Edad': 18.0,\n",
       "  'HermEsp': 1,\n",
       "  'PadHij': 1},\n",
       " {'Índex': 341,\n",
       "  'Sobreviviente': 1,\n",
       "  'Clase': 2,\n",
       "  'Genero': 1,\n",
       "  'Edad': 28.0,\n",
       "  'HermEsp': 1,\n",
       "  'PadHij': 0},\n",
       " {'Índex': 342,\n",
       "  'Sobreviviente': 1,\n",
       "  'Clase': 2,\n",
       "  'Genero': 1,\n",
       "  'Edad': 19.0,\n",
       "  'HermEsp': 0,\n",
       "  'PadHij': 0},\n",
       " {'Índex': 343,\n",
       "  'Sobreviviente': 1,\n",
       "  'Clase': 3,\n",
       "  'Genero': 0,\n",
       "  'Edad': 32.0,\n",
       "  'HermEsp': 0,\n",
       "  'PadHij': 0},\n",
       " {'Índex': 344,\n",
       "  'Sobreviviente': 1,\n",
       "  'Clase': 1,\n",
       "  'Genero': 0,\n",
       "  'Edad': 28.0,\n",
       "  'HermEsp': 0,\n",
       "  'PadHij': 0},\n",
       " {'Índex': 345,\n",
       "  'Sobreviviente': 1,\n",
       "  'Clase': 2,\n",
       "  'Genero': 1,\n",
       "  'Edad': 42.0,\n",
       "  'HermEsp': 1,\n",
       "  'PadHij': 0},\n",
       " {'Índex': 346,\n",
       "  'Sobreviviente': 0,\n",
       "  'Clase': 3,\n",
       "  'Genero': 0,\n",
       "  'Edad': 17.0,\n",
       "  'HermEsp': 0,\n",
       "  'PadHij': 0},\n",
       " {'Índex': 347,\n",
       "  'Sobreviviente': 0,\n",
       "  'Clase': 1,\n",
       "  'Genero': 0,\n",
       "  'Edad': 50.0,\n",
       "  'HermEsp': 1,\n",
       "  'PadHij': 0},\n",
       " {'Índex': 348,\n",
       "  'Sobreviviente': 1,\n",
       "  'Clase': 1,\n",
       "  'Genero': 1,\n",
       "  'Edad': 14.0,\n",
       "  'HermEsp': 1,\n",
       "  'PadHij': 2},\n",
       " {'Índex': 349,\n",
       "  'Sobreviviente': 0,\n",
       "  'Clase': 3,\n",
       "  'Genero': 1,\n",
       "  'Edad': 21.0,\n",
       "  'HermEsp': 2,\n",
       "  'PadHij': 2},\n",
       " {'Índex': 350,\n",
       "  'Sobreviviente': 1,\n",
       "  'Clase': 2,\n",
       "  'Genero': 1,\n",
       "  'Edad': 24.0,\n",
       "  'HermEsp': 2,\n",
       "  'PadHij': 3},\n",
       " {'Índex': 351,\n",
       "  'Sobreviviente': 0,\n",
       "  'Clase': 1,\n",
       "  'Genero': 0,\n",
       "  'Edad': 64.0,\n",
       "  'HermEsp': 1,\n",
       "  'PadHij': 4},\n",
       " {'Índex': 352,\n",
       "  'Sobreviviente': 0,\n",
       "  'Clase': 2,\n",
       "  'Genero': 0,\n",
       "  'Edad': 31.0,\n",
       "  'HermEsp': 0,\n",
       "  'PadHij': 0},\n",
       " {'Índex': 353,\n",
       "  'Sobreviviente': 1,\n",
       "  'Clase': 2,\n",
       "  'Genero': 1,\n",
       "  'Edad': 45.0,\n",
       "  'HermEsp': 1,\n",
       "  'PadHij': 1},\n",
       " {'Índex': 354,\n",
       "  'Sobreviviente': 0,\n",
       "  'Clase': 3,\n",
       "  'Genero': 0,\n",
       "  'Edad': 20.0,\n",
       "  'HermEsp': 0,\n",
       "  'PadHij': 0},\n",
       " {'Índex': 355,\n",
       "  'Sobreviviente': 0,\n",
       "  'Clase': 3,\n",
       "  'Genero': 0,\n",
       "  'Edad': 25.0,\n",
       "  'HermEsp': 1,\n",
       "  'PadHij': 0},\n",
       " {'Índex': 356,\n",
       "  'Sobreviviente': 1,\n",
       "  'Clase': 2,\n",
       "  'Genero': 1,\n",
       "  'Edad': 28.0,\n",
       "  'HermEsp': 0,\n",
       "  'PadHij': 0},\n",
       " {'Índex': 357,\n",
       "  'Sobreviviente': 1,\n",
       "  'Clase': 1,\n",
       "  'Genero': 0,\n",
       "  'Edad': 4.0,\n",
       "  'HermEsp': 0,\n",
       "  'PadHij': 2},\n",
       " {'Índex': 358,\n",
       "  'Sobreviviente': 1,\n",
       "  'Clase': 2,\n",
       "  'Genero': 1,\n",
       "  'Edad': 13.0,\n",
       "  'HermEsp': 0,\n",
       "  'PadHij': 1},\n",
       " {'Índex': 359,\n",
       "  'Sobreviviente': 1,\n",
       "  'Clase': 1,\n",
       "  'Genero': 0,\n",
       "  'Edad': 34.0,\n",
       "  'HermEsp': 0,\n",
       "  'PadHij': 0},\n",
       " {'Índex': 360,\n",
       "  'Sobreviviente': 1,\n",
       "  'Clase': 3,\n",
       "  'Genero': 1,\n",
       "  'Edad': 5.0,\n",
       "  'HermEsp': 2,\n",
       "  'PadHij': 1},\n",
       " {'Índex': 361,\n",
       "  'Sobreviviente': 1,\n",
       "  'Clase': 1,\n",
       "  'Genero': 0,\n",
       "  'Edad': 52.0,\n",
       "  'HermEsp': 0,\n",
       "  'PadHij': 0},\n",
       " {'Índex': 362,\n",
       "  'Sobreviviente': 0,\n",
       "  'Clase': 2,\n",
       "  'Genero': 0,\n",
       "  'Edad': 36.0,\n",
       "  'HermEsp': 1,\n",
       "  'PadHij': 2},\n",
       " {'Índex': 363,\n",
       "  'Sobreviviente': 0,\n",
       "  'Clase': 1,\n",
       "  'Genero': 0,\n",
       "  'Edad': 30.0,\n",
       "  'HermEsp': 0,\n",
       "  'PadHij': 0},\n",
       " {'Índex': 364,\n",
       "  'Sobreviviente': 1,\n",
       "  'Clase': 1,\n",
       "  'Genero': 0,\n",
       "  'Edad': 49.0,\n",
       "  'HermEsp': 1,\n",
       "  'PadHij': 0},\n",
       " {'Índex': 365,\n",
       "  'Sobreviviente': 1,\n",
       "  'Clase': 3,\n",
       "  'Genero': 0,\n",
       "  'Edad': 29.0,\n",
       "  'HermEsp': 0,\n",
       "  'PadHij': 0},\n",
       " {'Índex': 366,\n",
       "  'Sobreviviente': 0,\n",
       "  'Clase': 1,\n",
       "  'Genero': 0,\n",
       "  'Edad': 65.0,\n",
       "  'HermEsp': 0,\n",
       "  'PadHij': 0},\n",
       " {'Índex': 367,\n",
       "  'Sobreviviente': 1,\n",
       "  'Clase': 2,\n",
       "  'Genero': 1,\n",
       "  'Edad': 50.0,\n",
       "  'HermEsp': 0,\n",
       "  'PadHij': 0},\n",
       " {'Índex': 368,\n",
       "  'Sobreviviente': 1,\n",
       "  'Clase': 1,\n",
       "  'Genero': 0,\n",
       "  'Edad': 48.0,\n",
       "  'HermEsp': 0,\n",
       "  'PadHij': 0},\n",
       " {'Índex': 369,\n",
       "  'Sobreviviente': 0,\n",
       "  'Clase': 3,\n",
       "  'Genero': 0,\n",
       "  'Edad': 34.0,\n",
       "  'HermEsp': 0,\n",
       "  'PadHij': 0},\n",
       " {'Índex': 370,\n",
       "  'Sobreviviente': 0,\n",
       "  'Clase': 1,\n",
       "  'Genero': 0,\n",
       "  'Edad': 47.0,\n",
       "  'HermEsp': 0,\n",
       "  'PadHij': 0},\n",
       " {'Índex': 371,\n",
       "  'Sobreviviente': 0,\n",
       "  'Clase': 2,\n",
       "  'Genero': 0,\n",
       "  'Edad': 48.0,\n",
       "  'HermEsp': 0,\n",
       "  'PadHij': 0},\n",
       " {'Índex': 372,\n",
       "  'Sobreviviente': 0,\n",
       "  'Clase': 3,\n",
       "  'Genero': 0,\n",
       "  'Edad': 38.0,\n",
       "  'HermEsp': 0,\n",
       "  'PadHij': 0},\n",
       " {'Índex': 373,\n",
       "  'Sobreviviente': 0,\n",
       "  'Clase': 1,\n",
       "  'Genero': 0,\n",
       "  'Edad': 56.0,\n",
       "  'HermEsp': 0,\n",
       "  'PadHij': 0},\n",
       " {'Índex': 374,\n",
       "  'Sobreviviente': 1,\n",
       "  'Clase': 3,\n",
       "  'Genero': 1,\n",
       "  'Edad': 0.75,\n",
       "  'HermEsp': 2,\n",
       "  'PadHij': 1},\n",
       " {'Índex': 375,\n",
       "  'Sobreviviente': 0,\n",
       "  'Clase': 3,\n",
       "  'Genero': 0,\n",
       "  'Edad': 38.0,\n",
       "  'HermEsp': 0,\n",
       "  'PadHij': 0},\n",
       " {'Índex': 376,\n",
       "  'Sobreviviente': 1,\n",
       "  'Clase': 2,\n",
       "  'Genero': 1,\n",
       "  'Edad': 33.0,\n",
       "  'HermEsp': 1,\n",
       "  'PadHij': 2},\n",
       " {'Índex': 377,\n",
       "  'Sobreviviente': 1,\n",
       "  'Clase': 2,\n",
       "  'Genero': 1,\n",
       "  'Edad': 23.0,\n",
       "  'HermEsp': 0,\n",
       "  'PadHij': 0},\n",
       " {'Índex': 378,\n",
       "  'Sobreviviente': 0,\n",
       "  'Clase': 3,\n",
       "  'Genero': 1,\n",
       "  'Edad': 22.0,\n",
       "  'HermEsp': 0,\n",
       "  'PadHij': 0},\n",
       " {'Índex': 379,\n",
       "  'Sobreviviente': 0,\n",
       "  'Clase': 2,\n",
       "  'Genero': 0,\n",
       "  'Edad': 34.0,\n",
       "  'HermEsp': 1,\n",
       "  'PadHij': 0},\n",
       " {'Índex': 380,\n",
       "  'Sobreviviente': 0,\n",
       "  'Clase': 3,\n",
       "  'Genero': 0,\n",
       "  'Edad': 29.0,\n",
       "  'HermEsp': 1,\n",
       "  'PadHij': 0},\n",
       " {'Índex': 381,\n",
       "  'Sobreviviente': 0,\n",
       "  'Clase': 3,\n",
       "  'Genero': 0,\n",
       "  'Edad': 22.0,\n",
       "  'HermEsp': 0,\n",
       "  'PadHij': 0},\n",
       " {'Índex': 382,\n",
       "  'Sobreviviente': 1,\n",
       "  'Clase': 3,\n",
       "  'Genero': 1,\n",
       "  'Edad': 2.0,\n",
       "  'HermEsp': 0,\n",
       "  'PadHij': 1},\n",
       " {'Índex': 383,\n",
       "  'Sobreviviente': 0,\n",
       "  'Clase': 3,\n",
       "  'Genero': 0,\n",
       "  'Edad': 9.0,\n",
       "  'HermEsp': 5,\n",
       "  'PadHij': 2},\n",
       " {'Índex': 384,\n",
       "  'Sobreviviente': 0,\n",
       "  'Clase': 3,\n",
       "  'Genero': 0,\n",
       "  'Edad': 50.0,\n",
       "  'HermEsp': 0,\n",
       "  'PadHij': 0},\n",
       " {'Índex': 385,\n",
       "  'Sobreviviente': 1,\n",
       "  'Clase': 3,\n",
       "  'Genero': 1,\n",
       "  'Edad': 63.0,\n",
       "  'HermEsp': 0,\n",
       "  'PadHij': 0},\n",
       " {'Índex': 386,\n",
       "  'Sobreviviente': 1,\n",
       "  'Clase': 1,\n",
       "  'Genero': 0,\n",
       "  'Edad': 25.0,\n",
       "  'HermEsp': 1,\n",
       "  'PadHij': 0},\n",
       " {'Índex': 387,\n",
       "  'Sobreviviente': 1,\n",
       "  'Clase': 1,\n",
       "  'Genero': 1,\n",
       "  'Edad': 35.0,\n",
       "  'HermEsp': 1,\n",
       "  'PadHij': 0},\n",
       " {'Índex': 388,\n",
       "  'Sobreviviente': 0,\n",
       "  'Clase': 1,\n",
       "  'Genero': 0,\n",
       "  'Edad': 58.0,\n",
       "  'HermEsp': 0,\n",
       "  'PadHij': 0},\n",
       " {'Índex': 389,\n",
       "  'Sobreviviente': 0,\n",
       "  'Clase': 3,\n",
       "  'Genero': 0,\n",
       "  'Edad': 30.0,\n",
       "  'HermEsp': 0,\n",
       "  'PadHij': 0},\n",
       " {'Índex': 390,\n",
       "  'Sobreviviente': 1,\n",
       "  'Clase': 3,\n",
       "  'Genero': 0,\n",
       "  'Edad': 9.0,\n",
       "  'HermEsp': 1,\n",
       "  'PadHij': 1},\n",
       " {'Índex': 391,\n",
       "  'Sobreviviente': 0,\n",
       "  'Clase': 3,\n",
       "  'Genero': 0,\n",
       "  'Edad': 21.0,\n",
       "  'HermEsp': 0,\n",
       "  'PadHij': 0},\n",
       " {'Índex': 392,\n",
       "  'Sobreviviente': 0,\n",
       "  'Clase': 1,\n",
       "  'Genero': 0,\n",
       "  'Edad': 55.0,\n",
       "  'HermEsp': 0,\n",
       "  'PadHij': 0},\n",
       " {'Índex': 393,\n",
       "  'Sobreviviente': 0,\n",
       "  'Clase': 1,\n",
       "  'Genero': 0,\n",
       "  'Edad': 71.0,\n",
       "  'HermEsp': 0,\n",
       "  'PadHij': 0},\n",
       " {'Índex': 394,\n",
       "  'Sobreviviente': 0,\n",
       "  'Clase': 3,\n",
       "  'Genero': 0,\n",
       "  'Edad': 21.0,\n",
       "  'HermEsp': 0,\n",
       "  'PadHij': 0},\n",
       " {'Índex': 395,\n",
       "  'Sobreviviente': 1,\n",
       "  'Clase': 1,\n",
       "  'Genero': 1,\n",
       "  'Edad': 54.0,\n",
       "  'HermEsp': 1,\n",
       "  'PadHij': 0},\n",
       " {'Índex': 396,\n",
       "  'Sobreviviente': 0,\n",
       "  'Clase': 1,\n",
       "  'Genero': 1,\n",
       "  'Edad': 25.0,\n",
       "  'HermEsp': 1,\n",
       "  'PadHij': 2},\n",
       " {'Índex': 397,\n",
       "  'Sobreviviente': 0,\n",
       "  'Clase': 3,\n",
       "  'Genero': 0,\n",
       "  'Edad': 24.0,\n",
       "  'HermEsp': 0,\n",
       "  'PadHij': 0},\n",
       " {'Índex': 398,\n",
       "  'Sobreviviente': 0,\n",
       "  'Clase': 3,\n",
       "  'Genero': 0,\n",
       "  'Edad': 17.0,\n",
       "  'HermEsp': 0,\n",
       "  'PadHij': 0},\n",
       " {'Índex': 399,\n",
       "  'Sobreviviente': 0,\n",
       "  'Clase': 3,\n",
       "  'Genero': 1,\n",
       "  'Edad': 21.0,\n",
       "  'HermEsp': 0,\n",
       "  'PadHij': 0},\n",
       " {'Índex': 400,\n",
       "  'Sobreviviente': 0,\n",
       "  'Clase': 3,\n",
       "  'Genero': 1,\n",
       "  'Edad': 37.0,\n",
       "  'HermEsp': 0,\n",
       "  'PadHij': 0},\n",
       " {'Índex': 401,\n",
       "  'Sobreviviente': 1,\n",
       "  'Clase': 1,\n",
       "  'Genero': 1,\n",
       "  'Edad': 16.0,\n",
       "  'HermEsp': 0,\n",
       "  'PadHij': 0},\n",
       " {'Índex': 402,\n",
       "  'Sobreviviente': 0,\n",
       "  'Clase': 1,\n",
       "  'Genero': 0,\n",
       "  'Edad': 18.0,\n",
       "  'HermEsp': 1,\n",
       "  'PadHij': 0},\n",
       " {'Índex': 403,\n",
       "  'Sobreviviente': 1,\n",
       "  'Clase': 2,\n",
       "  'Genero': 1,\n",
       "  'Edad': 33.0,\n",
       "  'HermEsp': 0,\n",
       "  'PadHij': 2},\n",
       " {'Índex': 404,\n",
       "  'Sobreviviente': 0,\n",
       "  'Clase': 3,\n",
       "  'Genero': 0,\n",
       "  'Edad': 28.0,\n",
       "  'HermEsp': 0,\n",
       "  'PadHij': 0},\n",
       " {'Índex': 405,\n",
       "  'Sobreviviente': 1,\n",
       "  'Clase': 3,\n",
       "  'Genero': 0,\n",
       "  'Edad': 26.0,\n",
       "  'HermEsp': 0,\n",
       "  'PadHij': 0},\n",
       " {'Índex': 406,\n",
       "  'Sobreviviente': 1,\n",
       "  'Clase': 3,\n",
       "  'Genero': 0,\n",
       "  'Edad': 29.0,\n",
       "  'HermEsp': 0,\n",
       "  'PadHij': 0},\n",
       " {'Índex': 407,\n",
       "  'Sobreviviente': 1,\n",
       "  'Clase': 1,\n",
       "  'Genero': 0,\n",
       "  'Edad': 36.0,\n",
       "  'HermEsp': 0,\n",
       "  'PadHij': 0},\n",
       " {'Índex': 408,\n",
       "  'Sobreviviente': 1,\n",
       "  'Clase': 1,\n",
       "  'Genero': 1,\n",
       "  'Edad': 54.0,\n",
       "  'HermEsp': 1,\n",
       "  'PadHij': 0},\n",
       " {'Índex': 409,\n",
       "  'Sobreviviente': 0,\n",
       "  'Clase': 3,\n",
       "  'Genero': 0,\n",
       "  'Edad': 24.0,\n",
       "  'HermEsp': 0,\n",
       "  'PadHij': 0},\n",
       " {'Índex': 410,\n",
       "  'Sobreviviente': 0,\n",
       "  'Clase': 1,\n",
       "  'Genero': 0,\n",
       "  'Edad': 47.0,\n",
       "  'HermEsp': 0,\n",
       "  'PadHij': 0},\n",
       " {'Índex': 411,\n",
       "  'Sobreviviente': 1,\n",
       "  'Clase': 2,\n",
       "  'Genero': 1,\n",
       "  'Edad': 34.0,\n",
       "  'HermEsp': 0,\n",
       "  'PadHij': 0},\n",
       " {'Índex': 412,\n",
       "  'Sobreviviente': 1,\n",
       "  'Clase': 2,\n",
       "  'Genero': 1,\n",
       "  'Edad': 36.0,\n",
       "  'HermEsp': 1,\n",
       "  'PadHij': 0},\n",
       " {'Índex': 413,\n",
       "  'Sobreviviente': 0,\n",
       "  'Clase': 3,\n",
       "  'Genero': 0,\n",
       "  'Edad': 32.0,\n",
       "  'HermEsp': 0,\n",
       "  'PadHij': 0},\n",
       " {'Índex': 414,\n",
       "  'Sobreviviente': 1,\n",
       "  'Clase': 1,\n",
       "  'Genero': 1,\n",
       "  'Edad': 30.0,\n",
       "  'HermEsp': 0,\n",
       "  'PadHij': 0},\n",
       " {'Índex': 415,\n",
       "  'Sobreviviente': 0,\n",
       "  'Clase': 3,\n",
       "  'Genero': 0,\n",
       "  'Edad': 22.0,\n",
       "  'HermEsp': 0,\n",
       "  'PadHij': 0},\n",
       " {'Índex': 416,\n",
       "  'Sobreviviente': 1,\n",
       "  'Clase': 1,\n",
       "  'Genero': 1,\n",
       "  'Edad': 44.0,\n",
       "  'HermEsp': 0,\n",
       "  'PadHij': 1},\n",
       " {'Índex': 417,\n",
       "  'Sobreviviente': 0,\n",
       "  'Clase': 3,\n",
       "  'Genero': 0,\n",
       "  'Edad': 40.5,\n",
       "  'HermEsp': 0,\n",
       "  'PadHij': 0},\n",
       " {'Índex': 418,\n",
       "  'Sobreviviente': 1,\n",
       "  'Clase': 2,\n",
       "  'Genero': 1,\n",
       "  'Edad': 50.0,\n",
       "  'HermEsp': 0,\n",
       "  'PadHij': 0},\n",
       " {'Índex': 419,\n",
       "  'Sobreviviente': 0,\n",
       "  'Clase': 3,\n",
       "  'Genero': 0,\n",
       "  'Edad': 39.0,\n",
       "  'HermEsp': 0,\n",
       "  'PadHij': 0},\n",
       " {'Índex': 420,\n",
       "  'Sobreviviente': 0,\n",
       "  'Clase': 2,\n",
       "  'Genero': 0,\n",
       "  'Edad': 23.0,\n",
       "  'HermEsp': 2,\n",
       "  'PadHij': 1},\n",
       " {'Índex': 421,\n",
       "  'Sobreviviente': 1,\n",
       "  'Clase': 2,\n",
       "  'Genero': 1,\n",
       "  'Edad': 2.0,\n",
       "  'HermEsp': 1,\n",
       "  'PadHij': 1},\n",
       " {'Índex': 422,\n",
       "  'Sobreviviente': 0,\n",
       "  'Clase': 3,\n",
       "  'Genero': 0,\n",
       "  'Edad': 17.0,\n",
       "  'HermEsp': 1,\n",
       "  'PadHij': 1},\n",
       " {'Índex': 423,\n",
       "  'Sobreviviente': 0,\n",
       "  'Clase': 3,\n",
       "  'Genero': 1,\n",
       "  'Edad': 30.0,\n",
       "  'HermEsp': 0,\n",
       "  'PadHij': 0},\n",
       " {'Índex': 424,\n",
       "  'Sobreviviente': 1,\n",
       "  'Clase': 2,\n",
       "  'Genero': 1,\n",
       "  'Edad': 7.0,\n",
       "  'HermEsp': 0,\n",
       "  'PadHij': 2},\n",
       " {'Índex': 425,\n",
       "  'Sobreviviente': 0,\n",
       "  'Clase': 1,\n",
       "  'Genero': 0,\n",
       "  'Edad': 45.0,\n",
       "  'HermEsp': 0,\n",
       "  'PadHij': 0},\n",
       " {'Índex': 426,\n",
       "  'Sobreviviente': 1,\n",
       "  'Clase': 1,\n",
       "  'Genero': 1,\n",
       "  'Edad': 30.0,\n",
       "  'HermEsp': 0,\n",
       "  'PadHij': 0},\n",
       " {'Índex': 427,\n",
       "  'Sobreviviente': 1,\n",
       "  'Clase': 1,\n",
       "  'Genero': 1,\n",
       "  'Edad': 22.0,\n",
       "  'HermEsp': 0,\n",
       "  'PadHij': 2},\n",
       " {'Índex': 428,\n",
       "  'Sobreviviente': 1,\n",
       "  'Clase': 1,\n",
       "  'Genero': 1,\n",
       "  'Edad': 36.0,\n",
       "  'HermEsp': 0,\n",
       "  'PadHij': 2},\n",
       " {'Índex': 429,\n",
       "  'Sobreviviente': 0,\n",
       "  'Clase': 3,\n",
       "  'Genero': 1,\n",
       "  'Edad': 9.0,\n",
       "  'HermEsp': 4,\n",
       "  'PadHij': 2},\n",
       " {'Índex': 430,\n",
       "  'Sobreviviente': 0,\n",
       "  'Clase': 3,\n",
       "  'Genero': 1,\n",
       "  'Edad': 11.0,\n",
       "  'HermEsp': 4,\n",
       "  'PadHij': 2},\n",
       " {'Índex': 431,\n",
       "  'Sobreviviente': 1,\n",
       "  'Clase': 2,\n",
       "  'Genero': 0,\n",
       "  'Edad': 32.0,\n",
       "  'HermEsp': 1,\n",
       "  'PadHij': 0},\n",
       " {'Índex': 432,\n",
       "  'Sobreviviente': 0,\n",
       "  'Clase': 1,\n",
       "  'Genero': 0,\n",
       "  'Edad': 50.0,\n",
       "  'HermEsp': 1,\n",
       "  'PadHij': 0},\n",
       " {'Índex': 433,\n",
       "  'Sobreviviente': 0,\n",
       "  'Clase': 1,\n",
       "  'Genero': 0,\n",
       "  'Edad': 64.0,\n",
       "  'HermEsp': 0,\n",
       "  'PadHij': 0},\n",
       " {'Índex': 434,\n",
       "  'Sobreviviente': 1,\n",
       "  'Clase': 2,\n",
       "  'Genero': 1,\n",
       "  'Edad': 19.0,\n",
       "  'HermEsp': 1,\n",
       "  'PadHij': 0},\n",
       " {'Índex': 435,\n",
       "  'Sobreviviente': 0,\n",
       "  'Clase': 3,\n",
       "  'Genero': 0,\n",
       "  'Edad': 33.0,\n",
       "  'HermEsp': 1,\n",
       "  'PadHij': 1},\n",
       " {'Índex': 436,\n",
       "  'Sobreviviente': 1,\n",
       "  'Clase': 2,\n",
       "  'Genero': 0,\n",
       "  'Edad': 8.0,\n",
       "  'HermEsp': 1,\n",
       "  'PadHij': 1},\n",
       " {'Índex': 437,\n",
       "  'Sobreviviente': 1,\n",
       "  'Clase': 1,\n",
       "  'Genero': 0,\n",
       "  'Edad': 17.0,\n",
       "  'HermEsp': 0,\n",
       "  'PadHij': 2},\n",
       " {'Índex': 438,\n",
       "  'Sobreviviente': 0,\n",
       "  'Clase': 2,\n",
       "  'Genero': 0,\n",
       "  'Edad': 27.0,\n",
       "  'HermEsp': 0,\n",
       "  'PadHij': 0},\n",
       " {'Índex': 439,\n",
       "  'Sobreviviente': 1,\n",
       "  'Clase': 3,\n",
       "  'Genero': 0,\n",
       "  'Edad': 22.0,\n",
       "  'HermEsp': 0,\n",
       "  'PadHij': 0},\n",
       " {'Índex': 440,\n",
       "  'Sobreviviente': 1,\n",
       "  'Clase': 3,\n",
       "  'Genero': 1,\n",
       "  'Edad': 22.0,\n",
       "  'HermEsp': 0,\n",
       "  'PadHij': 0},\n",
       " {'Índex': 441,\n",
       "  'Sobreviviente': 0,\n",
       "  'Clase': 1,\n",
       "  'Genero': 0,\n",
       "  'Edad': 62.0,\n",
       "  'HermEsp': 0,\n",
       "  'PadHij': 0},\n",
       " {'Índex': 442,\n",
       "  'Sobreviviente': 1,\n",
       "  'Clase': 1,\n",
       "  'Genero': 1,\n",
       "  'Edad': 48.0,\n",
       "  'HermEsp': 1,\n",
       "  'PadHij': 0},\n",
       " {'Índex': 443,\n",
       "  'Sobreviviente': 1,\n",
       "  'Clase': 1,\n",
       "  'Genero': 1,\n",
       "  'Edad': 39.0,\n",
       "  'HermEsp': 1,\n",
       "  'PadHij': 1},\n",
       " {'Índex': 444,\n",
       "  'Sobreviviente': 1,\n",
       "  'Clase': 3,\n",
       "  'Genero': 1,\n",
       "  'Edad': 36.0,\n",
       "  'HermEsp': 1,\n",
       "  'PadHij': 0},\n",
       " {'Índex': 445,\n",
       "  'Sobreviviente': 0,\n",
       "  'Clase': 3,\n",
       "  'Genero': 0,\n",
       "  'Edad': 40.0,\n",
       "  'HermEsp': 0,\n",
       "  'PadHij': 0},\n",
       " {'Índex': 446,\n",
       "  'Sobreviviente': 0,\n",
       "  'Clase': 2,\n",
       "  'Genero': 0,\n",
       "  'Edad': 28.0,\n",
       "  'HermEsp': 0,\n",
       "  'PadHij': 0},\n",
       " {'Índex': 447,\n",
       "  'Sobreviviente': 0,\n",
       "  'Clase': 3,\n",
       "  'Genero': 0,\n",
       "  'Edad': 24.0,\n",
       "  'HermEsp': 2,\n",
       "  'PadHij': 0},\n",
       " {'Índex': 448,\n",
       "  'Sobreviviente': 0,\n",
       "  'Clase': 3,\n",
       "  'Genero': 0,\n",
       "  'Edad': 19.0,\n",
       "  'HermEsp': 0,\n",
       "  'PadHij': 0},\n",
       " {'Índex': 449,\n",
       "  'Sobreviviente': 0,\n",
       "  'Clase': 3,\n",
       "  'Genero': 1,\n",
       "  'Edad': 29.0,\n",
       "  'HermEsp': 0,\n",
       "  'PadHij': 4},\n",
       " {'Índex': 450,\n",
       "  'Sobreviviente': 1,\n",
       "  'Clase': 3,\n",
       "  'Genero': 0,\n",
       "  'Edad': 32.0,\n",
       "  'HermEsp': 0,\n",
       "  'PadHij': 0},\n",
       " {'Índex': 451,\n",
       "  'Sobreviviente': 1,\n",
       "  'Clase': 2,\n",
       "  'Genero': 0,\n",
       "  'Edad': 62.0,\n",
       "  'HermEsp': 0,\n",
       "  'PadHij': 0},\n",
       " {'Índex': 452,\n",
       "  'Sobreviviente': 1,\n",
       "  'Clase': 1,\n",
       "  'Genero': 1,\n",
       "  'Edad': 53.0,\n",
       "  'HermEsp': 2,\n",
       "  'PadHij': 0},\n",
       " {'Índex': 453,\n",
       "  'Sobreviviente': 1,\n",
       "  'Clase': 1,\n",
       "  'Genero': 0,\n",
       "  'Edad': 36.0,\n",
       "  'HermEsp': 0,\n",
       "  'PadHij': 0},\n",
       " {'Índex': 454,\n",
       "  'Sobreviviente': 0,\n",
       "  'Clase': 3,\n",
       "  'Genero': 0,\n",
       "  'Edad': 16.0,\n",
       "  'HermEsp': 0,\n",
       "  'PadHij': 0},\n",
       " {'Índex': 455,\n",
       "  'Sobreviviente': 0,\n",
       "  'Clase': 3,\n",
       "  'Genero': 0,\n",
       "  'Edad': 19.0,\n",
       "  'HermEsp': 0,\n",
       "  'PadHij': 0},\n",
       " {'Índex': 456,\n",
       "  'Sobreviviente': 1,\n",
       "  'Clase': 2,\n",
       "  'Genero': 1,\n",
       "  'Edad': 34.0,\n",
       "  'HermEsp': 0,\n",
       "  'PadHij': 0},\n",
       " {'Índex': 457,\n",
       "  'Sobreviviente': 1,\n",
       "  'Clase': 1,\n",
       "  'Genero': 1,\n",
       "  'Edad': 39.0,\n",
       "  'HermEsp': 1,\n",
       "  'PadHij': 0},\n",
       " {'Índex': 458,\n",
       "  'Sobreviviente': 1,\n",
       "  'Clase': 3,\n",
       "  'Genero': 0,\n",
       "  'Edad': 32.0,\n",
       "  'HermEsp': 0,\n",
       "  'PadHij': 0},\n",
       " {'Índex': 459,\n",
       "  'Sobreviviente': 1,\n",
       "  'Clase': 2,\n",
       "  'Genero': 1,\n",
       "  'Edad': 25.0,\n",
       "  'HermEsp': 1,\n",
       "  'PadHij': 1},\n",
       " {'Índex': 460,\n",
       "  'Sobreviviente': 1,\n",
       "  'Clase': 1,\n",
       "  'Genero': 1,\n",
       "  'Edad': 39.0,\n",
       "  'HermEsp': 1,\n",
       "  'PadHij': 1},\n",
       " {'Índex': 461,\n",
       "  'Sobreviviente': 0,\n",
       "  'Clase': 2,\n",
       "  'Genero': 0,\n",
       "  'Edad': 54.0,\n",
       "  'HermEsp': 0,\n",
       "  'PadHij': 0},\n",
       " {'Índex': 462,\n",
       "  'Sobreviviente': 0,\n",
       "  'Clase': 1,\n",
       "  'Genero': 0,\n",
       "  'Edad': 36.0,\n",
       "  'HermEsp': 0,\n",
       "  'PadHij': 0},\n",
       " {'Índex': 463,\n",
       "  'Sobreviviente': 1,\n",
       "  'Clase': 1,\n",
       "  'Genero': 1,\n",
       "  'Edad': 18.0,\n",
       "  'HermEsp': 0,\n",
       "  'PadHij': 2},\n",
       " {'Índex': 464,\n",
       "  'Sobreviviente': 0,\n",
       "  'Clase': 2,\n",
       "  'Genero': 0,\n",
       "  'Edad': 47.0,\n",
       "  'HermEsp': 0,\n",
       "  'PadHij': 0},\n",
       " {'Índex': 465,\n",
       "  'Sobreviviente': 1,\n",
       "  'Clase': 1,\n",
       "  'Genero': 0,\n",
       "  'Edad': 60.0,\n",
       "  'HermEsp': 1,\n",
       "  'PadHij': 1},\n",
       " {'Índex': 466,\n",
       "  'Sobreviviente': 0,\n",
       "  'Clase': 3,\n",
       "  'Genero': 0,\n",
       "  'Edad': 22.0,\n",
       "  'HermEsp': 0,\n",
       "  'PadHij': 0},\n",
       " {'Índex': 467,\n",
       "  'Sobreviviente': 0,\n",
       "  'Clase': 3,\n",
       "  'Genero': 0,\n",
       "  'Edad': 35.0,\n",
       "  'HermEsp': 0,\n",
       "  'PadHij': 0},\n",
       " {'Índex': 468,\n",
       "  'Sobreviviente': 1,\n",
       "  'Clase': 1,\n",
       "  'Genero': 1,\n",
       "  'Edad': 52.0,\n",
       "  'HermEsp': 1,\n",
       "  'PadHij': 0},\n",
       " {'Índex': 469,\n",
       "  'Sobreviviente': 0,\n",
       "  'Clase': 3,\n",
       "  'Genero': 0,\n",
       "  'Edad': 47.0,\n",
       "  'HermEsp': 0,\n",
       "  'PadHij': 0},\n",
       " {'Índex': 470,\n",
       "  'Sobreviviente': 0,\n",
       "  'Clase': 2,\n",
       "  'Genero': 0,\n",
       "  'Edad': 37.0,\n",
       "  'HermEsp': 1,\n",
       "  'PadHij': 0},\n",
       " {'Índex': 471,\n",
       "  'Sobreviviente': 0,\n",
       "  'Clase': 3,\n",
       "  'Genero': 0,\n",
       "  'Edad': 36.0,\n",
       "  'HermEsp': 1,\n",
       "  'PadHij': 1},\n",
       " {'Índex': 472,\n",
       "  'Sobreviviente': 0,\n",
       "  'Clase': 3,\n",
       "  'Genero': 0,\n",
       "  'Edad': 49.0,\n",
       "  'HermEsp': 0,\n",
       "  'PadHij': 0},\n",
       " {'Índex': 473,\n",
       "  'Sobreviviente': 1,\n",
       "  'Clase': 1,\n",
       "  'Genero': 0,\n",
       "  'Edad': 49.0,\n",
       "  'HermEsp': 1,\n",
       "  'PadHij': 0},\n",
       " {'Índex': 474,\n",
       "  'Sobreviviente': 1,\n",
       "  'Clase': 2,\n",
       "  'Genero': 1,\n",
       "  'Edad': 24.0,\n",
       "  'HermEsp': 2,\n",
       "  'PadHij': 1},\n",
       " {'Índex': 475,\n",
       "  'Sobreviviente': 0,\n",
       "  'Clase': 3,\n",
       "  'Genero': 0,\n",
       "  'Edad': 44.0,\n",
       "  'HermEsp': 0,\n",
       "  'PadHij': 0},\n",
       " {'Índex': 476,\n",
       "  'Sobreviviente': 1,\n",
       "  'Clase': 1,\n",
       "  'Genero': 0,\n",
       "  'Edad': 35.0,\n",
       "  'HermEsp': 0,\n",
       "  'PadHij': 0},\n",
       " {'Índex': 477,\n",
       "  'Sobreviviente': 0,\n",
       "  'Clase': 3,\n",
       "  'Genero': 0,\n",
       "  'Edad': 36.0,\n",
       "  'HermEsp': 1,\n",
       "  'PadHij': 0},\n",
       " {'Índex': 478,\n",
       "  'Sobreviviente': 0,\n",
       "  'Clase': 3,\n",
       "  'Genero': 0,\n",
       "  'Edad': 30.0,\n",
       "  'HermEsp': 0,\n",
       "  'PadHij': 0},\n",
       " {'Índex': 479,\n",
       "  'Sobreviviente': 1,\n",
       "  'Clase': 1,\n",
       "  'Genero': 0,\n",
       "  'Edad': 27.0,\n",
       "  'HermEsp': 0,\n",
       "  'PadHij': 0},\n",
       " {'Índex': 480,\n",
       "  'Sobreviviente': 1,\n",
       "  'Clase': 2,\n",
       "  'Genero': 1,\n",
       "  'Edad': 22.0,\n",
       "  'HermEsp': 1,\n",
       "  'PadHij': 2},\n",
       " {'Índex': 481,\n",
       "  'Sobreviviente': 1,\n",
       "  'Clase': 1,\n",
       "  'Genero': 1,\n",
       "  'Edad': 40.0,\n",
       "  'HermEsp': 0,\n",
       "  'PadHij': 0},\n",
       " {'Índex': 482,\n",
       "  'Sobreviviente': 0,\n",
       "  'Clase': 3,\n",
       "  'Genero': 1,\n",
       "  'Edad': 39.0,\n",
       "  'HermEsp': 1,\n",
       "  'PadHij': 5},\n",
       " {'Índex': 483,\n",
       "  'Sobreviviente': 0,\n",
       "  'Clase': 3,\n",
       "  'Genero': 0,\n",
       "  'Edad': 35.0,\n",
       "  'HermEsp': 0,\n",
       "  'PadHij': 0},\n",
       " {'Índex': 484,\n",
       "  'Sobreviviente': 1,\n",
       "  'Clase': 2,\n",
       "  'Genero': 1,\n",
       "  'Edad': 24.0,\n",
       "  'HermEsp': 1,\n",
       "  'PadHij': 2},\n",
       " {'Índex': 485,\n",
       "  'Sobreviviente': 0,\n",
       "  'Clase': 3,\n",
       "  'Genero': 0,\n",
       "  'Edad': 34.0,\n",
       "  'HermEsp': 1,\n",
       "  'PadHij': 1},\n",
       " {'Índex': 486,\n",
       "  'Sobreviviente': 0,\n",
       "  'Clase': 3,\n",
       "  'Genero': 1,\n",
       "  'Edad': 26.0,\n",
       "  'HermEsp': 1,\n",
       "  'PadHij': 0},\n",
       " {'Índex': 487,\n",
       "  'Sobreviviente': 1,\n",
       "  'Clase': 2,\n",
       "  'Genero': 1,\n",
       "  'Edad': 4.0,\n",
       "  'HermEsp': 2,\n",
       "  'PadHij': 1},\n",
       " {'Índex': 488,\n",
       "  'Sobreviviente': 0,\n",
       "  'Clase': 2,\n",
       "  'Genero': 0,\n",
       "  'Edad': 26.0,\n",
       "  'HermEsp': 0,\n",
       "  'PadHij': 0},\n",
       " {'Índex': 489,\n",
       "  'Sobreviviente': 0,\n",
       "  'Clase': 3,\n",
       "  'Genero': 0,\n",
       "  'Edad': 27.0,\n",
       "  'HermEsp': 1,\n",
       "  'PadHij': 0},\n",
       " {'Índex': 490,\n",
       "  'Sobreviviente': 1,\n",
       "  'Clase': 1,\n",
       "  'Genero': 0,\n",
       "  'Edad': 42.0,\n",
       "  'HermEsp': 1,\n",
       "  'PadHij': 0},\n",
       " {'Índex': 491,\n",
       "  'Sobreviviente': 1,\n",
       "  'Clase': 3,\n",
       "  'Genero': 0,\n",
       "  'Edad': 20.0,\n",
       "  'HermEsp': 1,\n",
       "  'PadHij': 1},\n",
       " {'Índex': 492,\n",
       "  'Sobreviviente': 0,\n",
       "  'Clase': 3,\n",
       "  'Genero': 0,\n",
       "  'Edad': 21.0,\n",
       "  'HermEsp': 0,\n",
       "  'PadHij': 0},\n",
       " {'Índex': 493,\n",
       "  'Sobreviviente': 0,\n",
       "  'Clase': 3,\n",
       "  'Genero': 0,\n",
       "  'Edad': 21.0,\n",
       "  'HermEsp': 0,\n",
       "  'PadHij': 0},\n",
       " {'Índex': 494,\n",
       "  'Sobreviviente': 0,\n",
       "  'Clase': 1,\n",
       "  'Genero': 0,\n",
       "  'Edad': 61.0,\n",
       "  'HermEsp': 0,\n",
       "  'PadHij': 0},\n",
       " {'Índex': 495,\n",
       "  'Sobreviviente': 0,\n",
       "  'Clase': 2,\n",
       "  'Genero': 0,\n",
       "  'Edad': 57.0,\n",
       "  'HermEsp': 0,\n",
       "  'PadHij': 0},\n",
       " {'Índex': 496,\n",
       "  'Sobreviviente': 1,\n",
       "  'Clase': 1,\n",
       "  'Genero': 1,\n",
       "  'Edad': 21.0,\n",
       "  'HermEsp': 0,\n",
       "  'PadHij': 0},\n",
       " {'Índex': 497,\n",
       "  'Sobreviviente': 0,\n",
       "  'Clase': 3,\n",
       "  'Genero': 0,\n",
       "  'Edad': 26.0,\n",
       "  'HermEsp': 0,\n",
       "  'PadHij': 0},\n",
       " {'Índex': 498,\n",
       "  'Sobreviviente': 1,\n",
       "  'Clase': 1,\n",
       "  'Genero': 0,\n",
       "  'Edad': 80.0,\n",
       "  'HermEsp': 0,\n",
       "  'PadHij': 0},\n",
       " {'Índex': 499,\n",
       "  'Sobreviviente': 0,\n",
       "  'Clase': 3,\n",
       "  'Genero': 0,\n",
       "  'Edad': 51.0,\n",
       "  'HermEsp': 0,\n",
       "  'PadHij': 0},\n",
       " {'Índex': 500,\n",
       "  'Sobreviviente': 1,\n",
       "  'Clase': 1,\n",
       "  'Genero': 0,\n",
       "  'Edad': 32.0,\n",
       "  'HermEsp': 0,\n",
       "  'PadHij': 0},\n",
       " {'Índex': 501,\n",
       "  'Sobreviviente': 0,\n",
       "  'Clase': 3,\n",
       "  'Genero': 1,\n",
       "  'Edad': 9.0,\n",
       "  'HermEsp': 3,\n",
       "  'PadHij': 2},\n",
       " {'Índex': 502,\n",
       "  'Sobreviviente': 1,\n",
       "  'Clase': 2,\n",
       "  'Genero': 1,\n",
       "  'Edad': 28.0,\n",
       "  'HermEsp': 0,\n",
       "  'PadHij': 0},\n",
       " {'Índex': 503,\n",
       "  'Sobreviviente': 0,\n",
       "  'Clase': 3,\n",
       "  'Genero': 0,\n",
       "  'Edad': 32.0,\n",
       "  'HermEsp': 0,\n",
       "  'PadHij': 0},\n",
       " {'Índex': 504,\n",
       "  'Sobreviviente': 0,\n",
       "  'Clase': 2,\n",
       "  'Genero': 0,\n",
       "  'Edad': 31.0,\n",
       "  'HermEsp': 1,\n",
       "  'PadHij': 1},\n",
       " {'Índex': 505,\n",
       "  'Sobreviviente': 0,\n",
       "  'Clase': 3,\n",
       "  'Genero': 1,\n",
       "  'Edad': 41.0,\n",
       "  'HermEsp': 0,\n",
       "  'PadHij': 5},\n",
       " {'Índex': 506,\n",
       "  'Sobreviviente': 0,\n",
       "  'Clase': 3,\n",
       "  'Genero': 0,\n",
       "  'Edad': 20.0,\n",
       "  'HermEsp': 0,\n",
       "  'PadHij': 0},\n",
       " {'Índex': 507,\n",
       "  'Sobreviviente': 1,\n",
       "  'Clase': 1,\n",
       "  'Genero': 1,\n",
       "  'Edad': 24.0,\n",
       "  'HermEsp': 0,\n",
       "  'PadHij': 0},\n",
       " {'Índex': 508,\n",
       "  'Sobreviviente': 0,\n",
       "  'Clase': 3,\n",
       "  'Genero': 1,\n",
       "  'Edad': 2.0,\n",
       "  'HermEsp': 3,\n",
       "  'PadHij': 2},\n",
       " {'Índex': 509,\n",
       "  'Sobreviviente': 1,\n",
       "  'Clase': 3,\n",
       "  'Genero': 1,\n",
       "  'Edad': 0.75,\n",
       "  'HermEsp': 2,\n",
       "  'PadHij': 1},\n",
       " {'Índex': 510,\n",
       "  'Sobreviviente': 1,\n",
       "  'Clase': 1,\n",
       "  'Genero': 0,\n",
       "  'Edad': 48.0,\n",
       "  'HermEsp': 1,\n",
       "  'PadHij': 0},\n",
       " {'Índex': 511,\n",
       "  'Sobreviviente': 0,\n",
       "  'Clase': 3,\n",
       "  'Genero': 0,\n",
       "  'Edad': 19.0,\n",
       "  'HermEsp': 0,\n",
       "  'PadHij': 0},\n",
       " {'Índex': 512,\n",
       "  'Sobreviviente': 1,\n",
       "  'Clase': 1,\n",
       "  'Genero': 0,\n",
       "  'Edad': 56.0,\n",
       "  'HermEsp': 0,\n",
       "  'PadHij': 0},\n",
       " {'Índex': 513,\n",
       "  'Sobreviviente': 1,\n",
       "  'Clase': 3,\n",
       "  'Genero': 1,\n",
       "  'Edad': 23.0,\n",
       "  'HermEsp': 0,\n",
       "  'PadHij': 0},\n",
       " {'Índex': 514,\n",
       "  'Sobreviviente': 1,\n",
       "  'Clase': 2,\n",
       "  'Genero': 1,\n",
       "  'Edad': 18.0,\n",
       "  'HermEsp': 0,\n",
       "  'PadHij': 1},\n",
       " {'Índex': 515,\n",
       "  'Sobreviviente': 0,\n",
       "  'Clase': 3,\n",
       "  'Genero': 0,\n",
       "  'Edad': 21.0,\n",
       "  'HermEsp': 0,\n",
       "  'PadHij': 0},\n",
       " {'Índex': 516,\n",
       "  'Sobreviviente': 0,\n",
       "  'Clase': 3,\n",
       "  'Genero': 1,\n",
       "  'Edad': 18.0,\n",
       "  'HermEsp': 0,\n",
       "  'PadHij': 0},\n",
       " {'Índex': 517,\n",
       "  'Sobreviviente': 0,\n",
       "  'Clase': 2,\n",
       "  'Genero': 0,\n",
       "  'Edad': 24.0,\n",
       "  'HermEsp': 2,\n",
       "  'PadHij': 0},\n",
       " {'Índex': 518,\n",
       "  'Sobreviviente': 0,\n",
       "  'Clase': 3,\n",
       "  'Genero': 1,\n",
       "  'Edad': 32.0,\n",
       "  'HermEsp': 1,\n",
       "  'PadHij': 1},\n",
       " {'Índex': 519,\n",
       "  'Sobreviviente': 0,\n",
       "  'Clase': 2,\n",
       "  'Genero': 0,\n",
       "  'Edad': 23.0,\n",
       "  'HermEsp': 0,\n",
       "  'PadHij': 0},\n",
       " {'Índex': 520,\n",
       "  'Sobreviviente': 0,\n",
       "  'Clase': 1,\n",
       "  'Genero': 0,\n",
       "  'Edad': 58.0,\n",
       "  'HermEsp': 0,\n",
       "  'PadHij': 2},\n",
       " {'Índex': 521,\n",
       "  'Sobreviviente': 1,\n",
       "  'Clase': 1,\n",
       "  'Genero': 0,\n",
       "  'Edad': 50.0,\n",
       "  'HermEsp': 2,\n",
       "  'PadHij': 0},\n",
       " {'Índex': 522,\n",
       "  'Sobreviviente': 0,\n",
       "  'Clase': 3,\n",
       "  'Genero': 0,\n",
       "  'Edad': 40.0,\n",
       "  'HermEsp': 0,\n",
       "  'PadHij': 0},\n",
       " {'Índex': 523,\n",
       "  'Sobreviviente': 0,\n",
       "  'Clase': 1,\n",
       "  'Genero': 0,\n",
       "  'Edad': 47.0,\n",
       "  'HermEsp': 0,\n",
       "  'PadHij': 0},\n",
       " {'Índex': 524,\n",
       "  'Sobreviviente': 0,\n",
       "  'Clase': 3,\n",
       "  'Genero': 0,\n",
       "  'Edad': 36.0,\n",
       "  'HermEsp': 0,\n",
       "  'PadHij': 0},\n",
       " {'Índex': 525,\n",
       "  'Sobreviviente': 1,\n",
       "  'Clase': 3,\n",
       "  'Genero': 0,\n",
       "  'Edad': 20.0,\n",
       "  'HermEsp': 1,\n",
       "  'PadHij': 0},\n",
       " {'Índex': 526,\n",
       "  'Sobreviviente': 0,\n",
       "  'Clase': 2,\n",
       "  'Genero': 0,\n",
       "  'Edad': 32.0,\n",
       "  'HermEsp': 2,\n",
       "  'PadHij': 0},\n",
       " {'Índex': 527,\n",
       "  'Sobreviviente': 0,\n",
       "  'Clase': 2,\n",
       "  'Genero': 0,\n",
       "  'Edad': 25.0,\n",
       "  'HermEsp': 0,\n",
       "  'PadHij': 0},\n",
       " {'Índex': 528,\n",
       "  'Sobreviviente': 0,\n",
       "  'Clase': 3,\n",
       "  'Genero': 0,\n",
       "  'Edad': 43.0,\n",
       "  'HermEsp': 0,\n",
       "  'PadHij': 0},\n",
       " {'Índex': 529,\n",
       "  'Sobreviviente': 1,\n",
       "  'Clase': 2,\n",
       "  'Genero': 1,\n",
       "  'Edad': 40.0,\n",
       "  'HermEsp': 1,\n",
       "  'PadHij': 1},\n",
       " {'Índex': 530,\n",
       "  'Sobreviviente': 0,\n",
       "  'Clase': 1,\n",
       "  'Genero': 0,\n",
       "  'Edad': 31.0,\n",
       "  'HermEsp': 1,\n",
       "  'PadHij': 0},\n",
       " {'Índex': 531,\n",
       "  'Sobreviviente': 0,\n",
       "  'Clase': 2,\n",
       "  'Genero': 0,\n",
       "  'Edad': 70.0,\n",
       "  'HermEsp': 0,\n",
       "  'PadHij': 0},\n",
       " {'Índex': 532,\n",
       "  'Sobreviviente': 1,\n",
       "  'Clase': 2,\n",
       "  'Genero': 0,\n",
       "  'Edad': 31.0,\n",
       "  'HermEsp': 0,\n",
       "  'PadHij': 0},\n",
       " {'Índex': 533,\n",
       "  'Sobreviviente': 0,\n",
       "  'Clase': 3,\n",
       "  'Genero': 0,\n",
       "  'Edad': 18.0,\n",
       "  'HermEsp': 0,\n",
       "  'PadHij': 0},\n",
       " {'Índex': 534,\n",
       "  'Sobreviviente': 0,\n",
       "  'Clase': 3,\n",
       "  'Genero': 0,\n",
       "  'Edad': 24.5,\n",
       "  'HermEsp': 0,\n",
       "  'PadHij': 0},\n",
       " {'Índex': 535,\n",
       "  'Sobreviviente': 1,\n",
       "  'Clase': 3,\n",
       "  'Genero': 1,\n",
       "  'Edad': 18.0,\n",
       "  'HermEsp': 0,\n",
       "  'PadHij': 0},\n",
       " {'Índex': 536,\n",
       "  'Sobreviviente': 0,\n",
       "  'Clase': 3,\n",
       "  'Genero': 1,\n",
       "  'Edad': 43.0,\n",
       "  'HermEsp': 1,\n",
       "  'PadHij': 6},\n",
       " {'Índex': 537,\n",
       "  'Sobreviviente': 1,\n",
       "  'Clase': 1,\n",
       "  'Genero': 0,\n",
       "  'Edad': 36.0,\n",
       "  'HermEsp': 0,\n",
       "  'PadHij': 1},\n",
       " {'Índex': 538,\n",
       "  'Sobreviviente': 1,\n",
       "  'Clase': 1,\n",
       "  'Genero': 0,\n",
       "  'Edad': 27.0,\n",
       "  'HermEsp': 0,\n",
       "  'PadHij': 0},\n",
       " {'Índex': 539,\n",
       "  'Sobreviviente': 0,\n",
       "  'Clase': 3,\n",
       "  'Genero': 0,\n",
       "  'Edad': 20.0,\n",
       "  'HermEsp': 0,\n",
       "  'PadHij': 0},\n",
       " {'Índex': 540,\n",
       "  'Sobreviviente': 0,\n",
       "  'Clase': 3,\n",
       "  'Genero': 0,\n",
       "  'Edad': 14.0,\n",
       "  'HermEsp': 5,\n",
       "  'PadHij': 2},\n",
       " {'Índex': 541,\n",
       "  'Sobreviviente': 0,\n",
       "  'Clase': 2,\n",
       "  'Genero': 0,\n",
       "  'Edad': 60.0,\n",
       "  'HermEsp': 1,\n",
       "  'PadHij': 1},\n",
       " {'Índex': 542,\n",
       "  'Sobreviviente': 0,\n",
       "  'Clase': 2,\n",
       "  'Genero': 0,\n",
       "  'Edad': 25.0,\n",
       "  'HermEsp': 1,\n",
       "  'PadHij': 2},\n",
       " {'Índex': 543,\n",
       "  'Sobreviviente': 0,\n",
       "  'Clase': 3,\n",
       "  'Genero': 0,\n",
       "  'Edad': 14.0,\n",
       "  'HermEsp': 4,\n",
       "  'PadHij': 1},\n",
       " {'Índex': 544,\n",
       "  'Sobreviviente': 0,\n",
       "  'Clase': 3,\n",
       "  'Genero': 0,\n",
       "  'Edad': 19.0,\n",
       "  'HermEsp': 0,\n",
       "  'PadHij': 0},\n",
       " {'Índex': 545,\n",
       "  'Sobreviviente': 0,\n",
       "  'Clase': 3,\n",
       "  'Genero': 0,\n",
       "  'Edad': 18.0,\n",
       "  'HermEsp': 0,\n",
       "  'PadHij': 0},\n",
       " {'Índex': 546,\n",
       "  'Sobreviviente': 1,\n",
       "  'Clase': 1,\n",
       "  'Genero': 1,\n",
       "  'Edad': 15.0,\n",
       "  'HermEsp': 0,\n",
       "  'PadHij': 1},\n",
       " {'Índex': 547,\n",
       "  'Sobreviviente': 1,\n",
       "  'Clase': 1,\n",
       "  'Genero': 0,\n",
       "  'Edad': 31.0,\n",
       "  'HermEsp': 1,\n",
       "  'PadHij': 0},\n",
       " {'Índex': 548,\n",
       "  'Sobreviviente': 1,\n",
       "  'Clase': 3,\n",
       "  'Genero': 1,\n",
       "  'Edad': 4.0,\n",
       "  'HermEsp': 0,\n",
       "  'PadHij': 1},\n",
       " {'Índex': 549,\n",
       "  'Sobreviviente': 0,\n",
       "  'Clase': 3,\n",
       "  'Genero': 0,\n",
       "  'Edad': 25.0,\n",
       "  'HermEsp': 0,\n",
       "  'PadHij': 0},\n",
       " {'Índex': 550,\n",
       "  'Sobreviviente': 0,\n",
       "  'Clase': 1,\n",
       "  'Genero': 0,\n",
       "  'Edad': 60.0,\n",
       "  'HermEsp': 0,\n",
       "  'PadHij': 0},\n",
       " {'Índex': 551,\n",
       "  'Sobreviviente': 0,\n",
       "  'Clase': 2,\n",
       "  'Genero': 0,\n",
       "  'Edad': 52.0,\n",
       "  'HermEsp': 0,\n",
       "  'PadHij': 0},\n",
       " {'Índex': 552,\n",
       "  'Sobreviviente': 0,\n",
       "  'Clase': 3,\n",
       "  'Genero': 0,\n",
       "  'Edad': 44.0,\n",
       "  'HermEsp': 0,\n",
       "  'PadHij': 0},\n",
       " {'Índex': 553,\n",
       "  'Sobreviviente': 0,\n",
       "  'Clase': 1,\n",
       "  'Genero': 0,\n",
       "  'Edad': 49.0,\n",
       "  'HermEsp': 1,\n",
       "  'PadHij': 1},\n",
       " {'Índex': 554,\n",
       "  'Sobreviviente': 0,\n",
       "  'Clase': 3,\n",
       "  'Genero': 0,\n",
       "  'Edad': 42.0,\n",
       "  'HermEsp': 0,\n",
       "  'PadHij': 0},\n",
       " {'Índex': 555,\n",
       "  'Sobreviviente': 1,\n",
       "  'Clase': 1,\n",
       "  'Genero': 1,\n",
       "  'Edad': 18.0,\n",
       "  'HermEsp': 1,\n",
       "  'PadHij': 0},\n",
       " {'Índex': 556,\n",
       "  'Sobreviviente': 1,\n",
       "  'Clase': 1,\n",
       "  'Genero': 0,\n",
       "  'Edad': 35.0,\n",
       "  'HermEsp': 0,\n",
       "  'PadHij': 0},\n",
       " {'Índex': 557,\n",
       "  'Sobreviviente': 0,\n",
       "  'Clase': 3,\n",
       "  'Genero': 1,\n",
       "  'Edad': 18.0,\n",
       "  'HermEsp': 0,\n",
       "  'PadHij': 1},\n",
       " {'Índex': 558,\n",
       "  'Sobreviviente': 0,\n",
       "  'Clase': 3,\n",
       "  'Genero': 0,\n",
       "  'Edad': 25.0,\n",
       "  'HermEsp': 0,\n",
       "  'PadHij': 0},\n",
       " {'Índex': 559,\n",
       "  'Sobreviviente': 0,\n",
       "  'Clase': 3,\n",
       "  'Genero': 0,\n",
       "  'Edad': 26.0,\n",
       "  'HermEsp': 1,\n",
       "  'PadHij': 0},\n",
       " {'Índex': 560,\n",
       "  'Sobreviviente': 0,\n",
       "  'Clase': 2,\n",
       "  'Genero': 0,\n",
       "  'Edad': 39.0,\n",
       "  'HermEsp': 0,\n",
       "  'PadHij': 0},\n",
       " {'Índex': 561,\n",
       "  'Sobreviviente': 1,\n",
       "  'Clase': 2,\n",
       "  'Genero': 1,\n",
       "  'Edad': 45.0,\n",
       "  'HermEsp': 0,\n",
       "  'PadHij': 0},\n",
       " {'Índex': 562,\n",
       "  'Sobreviviente': 1,\n",
       "  'Clase': 1,\n",
       "  'Genero': 0,\n",
       "  'Edad': 42.0,\n",
       "  'HermEsp': 0,\n",
       "  'PadHij': 0},\n",
       " {'Índex': 563,\n",
       "  'Sobreviviente': 1,\n",
       "  'Clase': 1,\n",
       "  'Genero': 1,\n",
       "  'Edad': 22.0,\n",
       "  'HermEsp': 0,\n",
       "  'PadHij': 0},\n",
       " {'Índex': 564,\n",
       "  'Sobreviviente': 1,\n",
       "  'Clase': 1,\n",
       "  'Genero': 1,\n",
       "  'Edad': 24.0,\n",
       "  'HermEsp': 0,\n",
       "  'PadHij': 0},\n",
       " {'Índex': 565,\n",
       "  'Sobreviviente': 1,\n",
       "  'Clase': 1,\n",
       "  'Genero': 0,\n",
       "  'Edad': 48.0,\n",
       "  'HermEsp': 1,\n",
       "  'PadHij': 0},\n",
       " {'Índex': 566,\n",
       "  'Sobreviviente': 0,\n",
       "  'Clase': 3,\n",
       "  'Genero': 0,\n",
       "  'Edad': 29.0,\n",
       "  'HermEsp': 0,\n",
       "  'PadHij': 0},\n",
       " {'Índex': 567,\n",
       "  'Sobreviviente': 0,\n",
       "  'Clase': 2,\n",
       "  'Genero': 0,\n",
       "  'Edad': 52.0,\n",
       "  'HermEsp': 0,\n",
       "  'PadHij': 0},\n",
       " {'Índex': 568,\n",
       "  'Sobreviviente': 0,\n",
       "  'Clase': 3,\n",
       "  'Genero': 0,\n",
       "  'Edad': 19.0,\n",
       "  'HermEsp': 0,\n",
       "  'PadHij': 0},\n",
       " {'Índex': 569,\n",
       "  'Sobreviviente': 1,\n",
       "  'Clase': 1,\n",
       "  'Genero': 1,\n",
       "  'Edad': 38.0,\n",
       "  'HermEsp': 0,\n",
       "  'PadHij': 0},\n",
       " {'Índex': 570,\n",
       "  'Sobreviviente': 1,\n",
       "  'Clase': 2,\n",
       "  'Genero': 1,\n",
       "  'Edad': 27.0,\n",
       "  'HermEsp': 0,\n",
       "  'PadHij': 0},\n",
       " {'Índex': 571,\n",
       "  'Sobreviviente': 0,\n",
       "  'Clase': 3,\n",
       "  'Genero': 0,\n",
       "  'Edad': 33.0,\n",
       "  'HermEsp': 0,\n",
       "  'PadHij': 0},\n",
       " {'Índex': 572,\n",
       "  'Sobreviviente': 1,\n",
       "  'Clase': 2,\n",
       "  'Genero': 1,\n",
       "  'Edad': 6.0,\n",
       "  'HermEsp': 0,\n",
       "  'PadHij': 1},\n",
       " {'Índex': 573,\n",
       "  'Sobreviviente': 0,\n",
       "  'Clase': 3,\n",
       "  'Genero': 0,\n",
       "  'Edad': 17.0,\n",
       "  'HermEsp': 1,\n",
       "  'PadHij': 0},\n",
       " {'Índex': 574,\n",
       "  'Sobreviviente': 0,\n",
       "  'Clase': 2,\n",
       "  'Genero': 0,\n",
       "  'Edad': 34.0,\n",
       "  'HermEsp': 0,\n",
       "  'PadHij': 0},\n",
       " {'Índex': 575,\n",
       "  'Sobreviviente': 0,\n",
       "  'Clase': 2,\n",
       "  'Genero': 0,\n",
       "  'Edad': 50.0,\n",
       "  'HermEsp': 0,\n",
       "  'PadHij': 0},\n",
       " {'Índex': 576,\n",
       "  'Sobreviviente': 1,\n",
       "  'Clase': 1,\n",
       "  'Genero': 0,\n",
       "  'Edad': 27.0,\n",
       "  'HermEsp': 1,\n",
       "  'PadHij': 0},\n",
       " {'Índex': 577,\n",
       "  'Sobreviviente': 0,\n",
       "  'Clase': 3,\n",
       "  'Genero': 0,\n",
       "  'Edad': 20.0,\n",
       "  'HermEsp': 0,\n",
       "  'PadHij': 0},\n",
       " {'Índex': 578,\n",
       "  'Sobreviviente': 1,\n",
       "  'Clase': 2,\n",
       "  'Genero': 1,\n",
       "  'Edad': 30.0,\n",
       "  'HermEsp': 3,\n",
       "  'PadHij': 0},\n",
       " {'Índex': 579,\n",
       "  'Sobreviviente': 0,\n",
       "  'Clase': 2,\n",
       "  'Genero': 0,\n",
       "  'Edad': 25.0,\n",
       "  'HermEsp': 1,\n",
       "  'PadHij': 0},\n",
       " {'Índex': 580,\n",
       "  'Sobreviviente': 0,\n",
       "  'Clase': 3,\n",
       "  'Genero': 1,\n",
       "  'Edad': 25.0,\n",
       "  'HermEsp': 1,\n",
       "  'PadHij': 0},\n",
       " {'Índex': 581,\n",
       "  'Sobreviviente': 1,\n",
       "  'Clase': 1,\n",
       "  'Genero': 1,\n",
       "  'Edad': 29.0,\n",
       "  'HermEsp': 0,\n",
       "  'PadHij': 0},\n",
       " {'Índex': 582,\n",
       "  'Sobreviviente': 0,\n",
       "  'Clase': 3,\n",
       "  'Genero': 0,\n",
       "  'Edad': 11.0,\n",
       "  'HermEsp': 0,\n",
       "  'PadHij': 0},\n",
       " {'Índex': 583,\n",
       "  'Sobreviviente': 0,\n",
       "  'Clase': 2,\n",
       "  'Genero': 0,\n",
       "  'Edad': 23.0,\n",
       "  'HermEsp': 0,\n",
       "  'PadHij': 0},\n",
       " {'Índex': 584,\n",
       "  'Sobreviviente': 0,\n",
       "  'Clase': 2,\n",
       "  'Genero': 0,\n",
       "  'Edad': 23.0,\n",
       "  'HermEsp': 0,\n",
       "  'PadHij': 0},\n",
       " {'Índex': 585,\n",
       "  'Sobreviviente': 0,\n",
       "  'Clase': 3,\n",
       "  'Genero': 0,\n",
       "  'Edad': 28.5,\n",
       "  'HermEsp': 0,\n",
       "  'PadHij': 0},\n",
       " {'Índex': 586,\n",
       "  'Sobreviviente': 0,\n",
       "  'Clase': 3,\n",
       "  'Genero': 1,\n",
       "  'Edad': 48.0,\n",
       "  'HermEsp': 1,\n",
       "  'PadHij': 3},\n",
       " {'Índex': 587,\n",
       "  'Sobreviviente': 1,\n",
       "  'Clase': 1,\n",
       "  'Genero': 0,\n",
       "  'Edad': 35.0,\n",
       "  'HermEsp': 0,\n",
       "  'PadHij': 0},\n",
       " {'Índex': 588,\n",
       "  'Sobreviviente': 0,\n",
       "  'Clase': 1,\n",
       "  'Genero': 0,\n",
       "  'Edad': 36.0,\n",
       "  'HermEsp': 1,\n",
       "  'PadHij': 0},\n",
       " {'Índex': 589,\n",
       "  'Sobreviviente': 1,\n",
       "  'Clase': 1,\n",
       "  'Genero': 1,\n",
       "  'Edad': 21.0,\n",
       "  'HermEsp': 2,\n",
       "  'PadHij': 2},\n",
       " {'Índex': 590,\n",
       "  'Sobreviviente': 0,\n",
       "  'Clase': 3,\n",
       "  'Genero': 0,\n",
       "  'Edad': 24.0,\n",
       "  'HermEsp': 1,\n",
       "  'PadHij': 0},\n",
       " {'Índex': 591,\n",
       "  'Sobreviviente': 1,\n",
       "  'Clase': 3,\n",
       "  'Genero': 0,\n",
       "  'Edad': 31.0,\n",
       "  'HermEsp': 0,\n",
       "  'PadHij': 0},\n",
       " {'Índex': 592,\n",
       "  'Sobreviviente': 0,\n",
       "  'Clase': 1,\n",
       "  'Genero': 0,\n",
       "  'Edad': 70.0,\n",
       "  'HermEsp': 1,\n",
       "  'PadHij': 1},\n",
       " {'Índex': 593,\n",
       "  'Sobreviviente': 0,\n",
       "  'Clase': 3,\n",
       "  'Genero': 0,\n",
       "  'Edad': 16.0,\n",
       "  'HermEsp': 1,\n",
       "  'PadHij': 1},\n",
       " {'Índex': 594,\n",
       "  'Sobreviviente': 1,\n",
       "  'Clase': 2,\n",
       "  'Genero': 1,\n",
       "  'Edad': 30.0,\n",
       "  'HermEsp': 0,\n",
       "  'PadHij': 0},\n",
       " {'Índex': 595,\n",
       "  'Sobreviviente': 0,\n",
       "  'Clase': 1,\n",
       "  'Genero': 0,\n",
       "  'Edad': 19.0,\n",
       "  'HermEsp': 1,\n",
       "  'PadHij': 0},\n",
       " {'Índex': 596,\n",
       "  'Sobreviviente': 0,\n",
       "  'Clase': 3,\n",
       "  'Genero': 0,\n",
       "  'Edad': 31.0,\n",
       "  'HermEsp': 0,\n",
       "  'PadHij': 0},\n",
       " {'Índex': 597,\n",
       "  'Sobreviviente': 1,\n",
       "  'Clase': 2,\n",
       "  'Genero': 1,\n",
       "  'Edad': 4.0,\n",
       "  'HermEsp': 1,\n",
       "  'PadHij': 1},\n",
       " {'Índex': 598,\n",
       "  'Sobreviviente': 1,\n",
       "  'Clase': 3,\n",
       "  'Genero': 0,\n",
       "  'Edad': 6.0,\n",
       "  'HermEsp': 0,\n",
       "  'PadHij': 1},\n",
       " {'Índex': 599,\n",
       "  'Sobreviviente': 0,\n",
       "  'Clase': 3,\n",
       "  'Genero': 0,\n",
       "  'Edad': 33.0,\n",
       "  'HermEsp': 0,\n",
       "  'PadHij': 0},\n",
       " {'Índex': 600,\n",
       "  'Sobreviviente': 0,\n",
       "  'Clase': 3,\n",
       "  'Genero': 0,\n",
       "  'Edad': 23.0,\n",
       "  'HermEsp': 0,\n",
       "  'PadHij': 0},\n",
       " {'Índex': 601,\n",
       "  'Sobreviviente': 1,\n",
       "  'Clase': 2,\n",
       "  'Genero': 1,\n",
       "  'Edad': 48.0,\n",
       "  'HermEsp': 1,\n",
       "  'PadHij': 2},\n",
       " {'Índex': 602,\n",
       "  'Sobreviviente': 1,\n",
       "  'Clase': 2,\n",
       "  'Genero': 0,\n",
       "  'Edad': 0.67,\n",
       "  'HermEsp': 1,\n",
       "  'PadHij': 1},\n",
       " {'Índex': 603,\n",
       "  'Sobreviviente': 0,\n",
       "  'Clase': 3,\n",
       "  'Genero': 0,\n",
       "  'Edad': 28.0,\n",
       "  'HermEsp': 0,\n",
       "  'PadHij': 0},\n",
       " {'Índex': 604,\n",
       "  'Sobreviviente': 0,\n",
       "  'Clase': 2,\n",
       "  'Genero': 0,\n",
       "  'Edad': 18.0,\n",
       "  'HermEsp': 0,\n",
       "  'PadHij': 0},\n",
       " {'Índex': 605,\n",
       "  'Sobreviviente': 0,\n",
       "  'Clase': 3,\n",
       "  'Genero': 0,\n",
       "  'Edad': 34.0,\n",
       "  'HermEsp': 0,\n",
       "  'PadHij': 0},\n",
       " {'Índex': 606,\n",
       "  'Sobreviviente': 1,\n",
       "  'Clase': 1,\n",
       "  'Genero': 1,\n",
       "  'Edad': 33.0,\n",
       "  'HermEsp': 0,\n",
       "  'PadHij': 0},\n",
       " {'Índex': 607,\n",
       "  'Sobreviviente': 0,\n",
       "  'Clase': 3,\n",
       "  'Genero': 0,\n",
       "  'Edad': 41.0,\n",
       "  'HermEsp': 0,\n",
       "  'PadHij': 0},\n",
       " {'Índex': 608,\n",
       "  'Sobreviviente': 1,\n",
       "  'Clase': 3,\n",
       "  'Genero': 0,\n",
       "  'Edad': 20.0,\n",
       "  'HermEsp': 0,\n",
       "  'PadHij': 0},\n",
       " {'Índex': 609,\n",
       "  'Sobreviviente': 1,\n",
       "  'Clase': 1,\n",
       "  'Genero': 1,\n",
       "  'Edad': 36.0,\n",
       "  'HermEsp': 1,\n",
       "  'PadHij': 2},\n",
       " {'Índex': 610,\n",
       "  'Sobreviviente': 0,\n",
       "  'Clase': 3,\n",
       "  'Genero': 0,\n",
       "  'Edad': 16.0,\n",
       "  'HermEsp': 0,\n",
       "  'PadHij': 0},\n",
       " {'Índex': 611,\n",
       "  'Sobreviviente': 1,\n",
       "  'Clase': 1,\n",
       "  'Genero': 1,\n",
       "  'Edad': 51.0,\n",
       "  'HermEsp': 1,\n",
       "  'PadHij': 0},\n",
       " {'Índex': 612,\n",
       "  'Sobreviviente': 0,\n",
       "  'Clase': 3,\n",
       "  'Genero': 1,\n",
       "  'Edad': 30.5,\n",
       "  'HermEsp': 0,\n",
       "  'PadHij': 0},\n",
       " {'Índex': 613,\n",
       "  'Sobreviviente': 0,\n",
       "  'Clase': 3,\n",
       "  'Genero': 0,\n",
       "  'Edad': 32.0,\n",
       "  'HermEsp': 0,\n",
       "  'PadHij': 0},\n",
       " {'Índex': 614,\n",
       "  'Sobreviviente': 0,\n",
       "  'Clase': 3,\n",
       "  'Genero': 0,\n",
       "  'Edad': 24.0,\n",
       "  'HermEsp': 0,\n",
       "  'PadHij': 0},\n",
       " {'Índex': 615,\n",
       "  'Sobreviviente': 0,\n",
       "  'Clase': 3,\n",
       "  'Genero': 0,\n",
       "  'Edad': 48.0,\n",
       "  'HermEsp': 0,\n",
       "  'PadHij': 0},\n",
       " {'Índex': 616,\n",
       "  'Sobreviviente': 0,\n",
       "  'Clase': 2,\n",
       "  'Genero': 1,\n",
       "  'Edad': 57.0,\n",
       "  'HermEsp': 0,\n",
       "  'PadHij': 0},\n",
       " {'Índex': 617,\n",
       "  'Sobreviviente': 1,\n",
       "  'Clase': 2,\n",
       "  'Genero': 1,\n",
       "  'Edad': 54.0,\n",
       "  'HermEsp': 1,\n",
       "  'PadHij': 3},\n",
       " {'Índex': 618,\n",
       "  'Sobreviviente': 0,\n",
       "  'Clase': 3,\n",
       "  'Genero': 0,\n",
       "  'Edad': 18.0,\n",
       "  'HermEsp': 0,\n",
       "  'PadHij': 0},\n",
       " {'Índex': 619,\n",
       "  'Sobreviviente': 1,\n",
       "  'Clase': 3,\n",
       "  'Genero': 1,\n",
       "  'Edad': 5.0,\n",
       "  'HermEsp': 0,\n",
       "  'PadHij': 0},\n",
       " {'Índex': 620,\n",
       "  'Sobreviviente': 1,\n",
       "  'Clase': 1,\n",
       "  'Genero': 1,\n",
       "  'Edad': 43.0,\n",
       "  'HermEsp': 0,\n",
       "  'PadHij': 1},\n",
       " {'Índex': 621,\n",
       "  'Sobreviviente': 1,\n",
       "  'Clase': 3,\n",
       "  'Genero': 1,\n",
       "  'Edad': 13.0,\n",
       "  'HermEsp': 0,\n",
       "  'PadHij': 0},\n",
       " {'Índex': 622,\n",
       "  'Sobreviviente': 1,\n",
       "  'Clase': 1,\n",
       "  'Genero': 1,\n",
       "  'Edad': 17.0,\n",
       "  'HermEsp': 1,\n",
       "  'PadHij': 0},\n",
       " {'Índex': 623,\n",
       "  'Sobreviviente': 0,\n",
       "  'Clase': 1,\n",
       "  'Genero': 0,\n",
       "  'Edad': 29.0,\n",
       "  'HermEsp': 0,\n",
       "  'PadHij': 0},\n",
       " {'Índex': 624,\n",
       "  'Sobreviviente': 0,\n",
       "  'Clase': 3,\n",
       "  'Genero': 0,\n",
       "  'Edad': 25.0,\n",
       "  'HermEsp': 0,\n",
       "  'PadHij': 0},\n",
       " {'Índex': 625,\n",
       "  'Sobreviviente': 0,\n",
       "  'Clase': 3,\n",
       "  'Genero': 0,\n",
       "  'Edad': 25.0,\n",
       "  'HermEsp': 0,\n",
       "  'PadHij': 0},\n",
       " {'Índex': 626,\n",
       "  'Sobreviviente': 1,\n",
       "  'Clase': 3,\n",
       "  'Genero': 1,\n",
       "  'Edad': 18.0,\n",
       "  'HermEsp': 0,\n",
       "  'PadHij': 0},\n",
       " {'Índex': 627,\n",
       "  'Sobreviviente': 0,\n",
       "  'Clase': 3,\n",
       "  'Genero': 0,\n",
       "  'Edad': 8.0,\n",
       "  'HermEsp': 4,\n",
       "  'PadHij': 1},\n",
       " {'Índex': 628,\n",
       "  'Sobreviviente': 1,\n",
       "  'Clase': 3,\n",
       "  'Genero': 0,\n",
       "  'Edad': 1.0,\n",
       "  'HermEsp': 1,\n",
       "  'PadHij': 2},\n",
       " {'Índex': 629,\n",
       "  'Sobreviviente': 0,\n",
       "  'Clase': 1,\n",
       "  'Genero': 0,\n",
       "  'Edad': 46.0,\n",
       "  'HermEsp': 0,\n",
       "  'PadHij': 0},\n",
       " {'Índex': 630,\n",
       "  'Sobreviviente': 0,\n",
       "  'Clase': 2,\n",
       "  'Genero': 0,\n",
       "  'Edad': 16.0,\n",
       "  'HermEsp': 0,\n",
       "  'PadHij': 0},\n",
       " {'Índex': 631,\n",
       "  'Sobreviviente': 0,\n",
       "  'Clase': 3,\n",
       "  'Genero': 0,\n",
       "  'Edad': 25.0,\n",
       "  'HermEsp': 0,\n",
       "  'PadHij': 0},\n",
       " {'Índex': 632,\n",
       "  'Sobreviviente': 0,\n",
       "  'Clase': 2,\n",
       "  'Genero': 0,\n",
       "  'Edad': 39.0,\n",
       "  'HermEsp': 0,\n",
       "  'PadHij': 0},\n",
       " {'Índex': 633,\n",
       "  'Sobreviviente': 1,\n",
       "  'Clase': 1,\n",
       "  'Genero': 1,\n",
       "  'Edad': 49.0,\n",
       "  'HermEsp': 0,\n",
       "  'PadHij': 0},\n",
       " {'Índex': 634,\n",
       "  'Sobreviviente': 1,\n",
       "  'Clase': 3,\n",
       "  'Genero': 1,\n",
       "  'Edad': 31.0,\n",
       "  'HermEsp': 0,\n",
       "  'PadHij': 0},\n",
       " {'Índex': 635,\n",
       "  'Sobreviviente': 0,\n",
       "  'Clase': 3,\n",
       "  'Genero': 0,\n",
       "  'Edad': 30.0,\n",
       "  'HermEsp': 0,\n",
       "  'PadHij': 0},\n",
       " {'Índex': 636,\n",
       "  'Sobreviviente': 0,\n",
       "  'Clase': 3,\n",
       "  'Genero': 1,\n",
       "  'Edad': 30.0,\n",
       "  'HermEsp': 1,\n",
       "  'PadHij': 1},\n",
       " {'Índex': 637,\n",
       "  'Sobreviviente': 0,\n",
       "  'Clase': 2,\n",
       "  'Genero': 0,\n",
       "  'Edad': 34.0,\n",
       "  'HermEsp': 0,\n",
       "  'PadHij': 0},\n",
       " {'Índex': 638,\n",
       "  'Sobreviviente': 1,\n",
       "  'Clase': 2,\n",
       "  'Genero': 1,\n",
       "  'Edad': 31.0,\n",
       "  'HermEsp': 1,\n",
       "  'PadHij': 1},\n",
       " {'Índex': 639,\n",
       "  'Sobreviviente': 1,\n",
       "  'Clase': 1,\n",
       "  'Genero': 0,\n",
       "  'Edad': 11.0,\n",
       "  'HermEsp': 1,\n",
       "  'PadHij': 2},\n",
       " {'Índex': 640,\n",
       "  'Sobreviviente': 1,\n",
       "  'Clase': 3,\n",
       "  'Genero': 0,\n",
       "  'Edad': 0.42,\n",
       "  'HermEsp': 0,\n",
       "  'PadHij': 1},\n",
       " {'Índex': 641,\n",
       "  'Sobreviviente': 1,\n",
       "  'Clase': 3,\n",
       "  'Genero': 0,\n",
       "  'Edad': 27.0,\n",
       "  'HermEsp': 0,\n",
       "  'PadHij': 0},\n",
       " {'Índex': 642,\n",
       "  'Sobreviviente': 0,\n",
       "  'Clase': 3,\n",
       "  'Genero': 0,\n",
       "  'Edad': 31.0,\n",
       "  'HermEsp': 0,\n",
       "  'PadHij': 0},\n",
       " {'Índex': 643,\n",
       "  'Sobreviviente': 0,\n",
       "  'Clase': 1,\n",
       "  'Genero': 0,\n",
       "  'Edad': 39.0,\n",
       "  'HermEsp': 0,\n",
       "  'PadHij': 0},\n",
       " {'Índex': 644,\n",
       "  'Sobreviviente': 0,\n",
       "  'Clase': 3,\n",
       "  'Genero': 1,\n",
       "  'Edad': 18.0,\n",
       "  'HermEsp': 0,\n",
       "  'PadHij': 0},\n",
       " {'Índex': 645,\n",
       "  'Sobreviviente': 0,\n",
       "  'Clase': 2,\n",
       "  'Genero': 0,\n",
       "  'Edad': 39.0,\n",
       "  'HermEsp': 0,\n",
       "  'PadHij': 0},\n",
       " {'Índex': 646,\n",
       "  'Sobreviviente': 1,\n",
       "  'Clase': 1,\n",
       "  'Genero': 1,\n",
       "  'Edad': 33.0,\n",
       "  'HermEsp': 1,\n",
       "  'PadHij': 0},\n",
       " {'Índex': 647,\n",
       "  'Sobreviviente': 0,\n",
       "  'Clase': 3,\n",
       "  'Genero': 0,\n",
       "  'Edad': 26.0,\n",
       "  'HermEsp': 0,\n",
       "  'PadHij': 0},\n",
       " {'Índex': 648,\n",
       "  'Sobreviviente': 0,\n",
       "  'Clase': 3,\n",
       "  'Genero': 0,\n",
       "  'Edad': 39.0,\n",
       "  'HermEsp': 0,\n",
       "  'PadHij': 0},\n",
       " {'Índex': 649,\n",
       "  'Sobreviviente': 0,\n",
       "  'Clase': 2,\n",
       "  'Genero': 0,\n",
       "  'Edad': 35.0,\n",
       "  'HermEsp': 0,\n",
       "  'PadHij': 0},\n",
       " {'Índex': 650,\n",
       "  'Sobreviviente': 0,\n",
       "  'Clase': 3,\n",
       "  'Genero': 1,\n",
       "  'Edad': 6.0,\n",
       "  'HermEsp': 4,\n",
       "  'PadHij': 2},\n",
       " {'Índex': 651,\n",
       "  'Sobreviviente': 0,\n",
       "  'Clase': 3,\n",
       "  'Genero': 0,\n",
       "  'Edad': 30.5,\n",
       "  'HermEsp': 0,\n",
       "  'PadHij': 0},\n",
       " {'Índex': 652,\n",
       "  'Sobreviviente': 0,\n",
       "  'Clase': 3,\n",
       "  'Genero': 1,\n",
       "  'Edad': 23.0,\n",
       "  'HermEsp': 0,\n",
       "  'PadHij': 0},\n",
       " {'Índex': 653,\n",
       "  'Sobreviviente': 0,\n",
       "  'Clase': 2,\n",
       "  'Genero': 0,\n",
       "  'Edad': 31.0,\n",
       "  'HermEsp': 1,\n",
       "  'PadHij': 1},\n",
       " {'Índex': 654,\n",
       "  'Sobreviviente': 0,\n",
       "  'Clase': 3,\n",
       "  'Genero': 0,\n",
       "  'Edad': 43.0,\n",
       "  'HermEsp': 0,\n",
       "  'PadHij': 0},\n",
       " {'Índex': 655,\n",
       "  'Sobreviviente': 0,\n",
       "  'Clase': 3,\n",
       "  'Genero': 0,\n",
       "  'Edad': 10.0,\n",
       "  'HermEsp': 3,\n",
       "  'PadHij': 2},\n",
       " {'Índex': 656,\n",
       "  'Sobreviviente': 1,\n",
       "  'Clase': 1,\n",
       "  'Genero': 1,\n",
       "  'Edad': 52.0,\n",
       "  'HermEsp': 1,\n",
       "  'PadHij': 1},\n",
       " {'Índex': 657,\n",
       "  'Sobreviviente': 1,\n",
       "  'Clase': 3,\n",
       "  'Genero': 0,\n",
       "  'Edad': 27.0,\n",
       "  'HermEsp': 0,\n",
       "  'PadHij': 0},\n",
       " {'Índex': 658,\n",
       "  'Sobreviviente': 0,\n",
       "  'Clase': 1,\n",
       "  'Genero': 0,\n",
       "  'Edad': 38.0,\n",
       "  'HermEsp': 0,\n",
       "  'PadHij': 0},\n",
       " {'Índex': 659,\n",
       "  'Sobreviviente': 1,\n",
       "  'Clase': 3,\n",
       "  'Genero': 1,\n",
       "  'Edad': 27.0,\n",
       "  'HermEsp': 0,\n",
       "  'PadHij': 1},\n",
       " {'Índex': 660,\n",
       "  'Sobreviviente': 0,\n",
       "  'Clase': 3,\n",
       "  'Genero': 0,\n",
       "  'Edad': 2.0,\n",
       "  'HermEsp': 4,\n",
       "  'PadHij': 1},\n",
       " {'Índex': 661,\n",
       "  'Sobreviviente': 1,\n",
       "  'Clase': 2,\n",
       "  'Genero': 0,\n",
       "  'Edad': 1.0,\n",
       "  'HermEsp': 0,\n",
       "  'PadHij': 2},\n",
       " {'Índex': 662,\n",
       "  'Sobreviviente': 1,\n",
       "  'Clase': 1,\n",
       "  'Genero': 1,\n",
       "  'Edad': 62.0,\n",
       "  'HermEsp': 0,\n",
       "  'PadHij': 0},\n",
       " {'Índex': 663,\n",
       "  'Sobreviviente': 1,\n",
       "  'Clase': 3,\n",
       "  'Genero': 1,\n",
       "  'Edad': 15.0,\n",
       "  'HermEsp': 1,\n",
       "  'PadHij': 0},\n",
       " {'Índex': 664,\n",
       "  'Sobreviviente': 1,\n",
       "  'Clase': 2,\n",
       "  'Genero': 0,\n",
       "  'Edad': 0.83,\n",
       "  'HermEsp': 1,\n",
       "  'PadHij': 1},\n",
       " {'Índex': 665,\n",
       "  'Sobreviviente': 0,\n",
       "  'Clase': 3,\n",
       "  'Genero': 0,\n",
       "  'Edad': 23.0,\n",
       "  'HermEsp': 0,\n",
       "  'PadHij': 0},\n",
       " {'Índex': 666,\n",
       "  'Sobreviviente': 0,\n",
       "  'Clase': 3,\n",
       "  'Genero': 0,\n",
       "  'Edad': 18.0,\n",
       "  'HermEsp': 0,\n",
       "  'PadHij': 0},\n",
       " {'Índex': 667,\n",
       "  'Sobreviviente': 1,\n",
       "  'Clase': 1,\n",
       "  'Genero': 1,\n",
       "  'Edad': 39.0,\n",
       "  'HermEsp': 1,\n",
       "  'PadHij': 1},\n",
       " {'Índex': 668,\n",
       "  'Sobreviviente': 0,\n",
       "  'Clase': 3,\n",
       "  'Genero': 0,\n",
       "  'Edad': 21.0,\n",
       "  'HermEsp': 0,\n",
       "  'PadHij': 0},\n",
       " {'Índex': 669,\n",
       "  'Sobreviviente': 1,\n",
       "  'Clase': 3,\n",
       "  'Genero': 0,\n",
       "  'Edad': 32.0,\n",
       "  'HermEsp': 0,\n",
       "  'PadHij': 0},\n",
       " {'Índex': 670,\n",
       "  'Sobreviviente': 0,\n",
       "  'Clase': 3,\n",
       "  'Genero': 0,\n",
       "  'Edad': 20.0,\n",
       "  'HermEsp': 0,\n",
       "  'PadHij': 0},\n",
       " {'Índex': 671,\n",
       "  'Sobreviviente': 0,\n",
       "  'Clase': 2,\n",
       "  'Genero': 0,\n",
       "  'Edad': 16.0,\n",
       "  'HermEsp': 0,\n",
       "  'PadHij': 0},\n",
       " {'Índex': 672,\n",
       "  'Sobreviviente': 1,\n",
       "  'Clase': 1,\n",
       "  'Genero': 1,\n",
       "  'Edad': 30.0,\n",
       "  'HermEsp': 0,\n",
       "  'PadHij': 0},\n",
       " {'Índex': 673,\n",
       "  'Sobreviviente': 0,\n",
       "  'Clase': 3,\n",
       "  'Genero': 0,\n",
       "  'Edad': 34.5,\n",
       "  'HermEsp': 0,\n",
       "  'PadHij': 0},\n",
       " {'Índex': 674,\n",
       "  'Sobreviviente': 0,\n",
       "  'Clase': 3,\n",
       "  'Genero': 0,\n",
       "  'Edad': 17.0,\n",
       "  'HermEsp': 0,\n",
       "  'PadHij': 0},\n",
       " {'Índex': 675,\n",
       "  'Sobreviviente': 0,\n",
       "  'Clase': 3,\n",
       "  'Genero': 0,\n",
       "  'Edad': 42.0,\n",
       "  'HermEsp': 0,\n",
       "  'PadHij': 0},\n",
       " {'Índex': 676,\n",
       "  'Sobreviviente': 0,\n",
       "  'Clase': 3,\n",
       "  'Genero': 0,\n",
       "  'Edad': 35.0,\n",
       "  'HermEsp': 0,\n",
       "  'PadHij': 0},\n",
       " {'Índex': 677,\n",
       "  'Sobreviviente': 0,\n",
       "  'Clase': 2,\n",
       "  'Genero': 0,\n",
       "  'Edad': 28.0,\n",
       "  'HermEsp': 0,\n",
       "  'PadHij': 1},\n",
       " {'Índex': 678,\n",
       "  'Sobreviviente': 0,\n",
       "  'Clase': 3,\n",
       "  'Genero': 0,\n",
       "  'Edad': 4.0,\n",
       "  'HermEsp': 4,\n",
       "  'PadHij': 2},\n",
       " {'Índex': 679,\n",
       "  'Sobreviviente': 0,\n",
       "  'Clase': 3,\n",
       "  'Genero': 0,\n",
       "  'Edad': 74.0,\n",
       "  'HermEsp': 0,\n",
       "  'PadHij': 0},\n",
       " {'Índex': 680,\n",
       "  'Sobreviviente': 0,\n",
       "  'Clase': 3,\n",
       "  'Genero': 1,\n",
       "  'Edad': 9.0,\n",
       "  'HermEsp': 1,\n",
       "  'PadHij': 1},\n",
       " {'Índex': 681,\n",
       "  'Sobreviviente': 1,\n",
       "  'Clase': 1,\n",
       "  'Genero': 1,\n",
       "  'Edad': 16.0,\n",
       "  'HermEsp': 0,\n",
       "  'PadHij': 1},\n",
       " {'Índex': 682,\n",
       "  'Sobreviviente': 0,\n",
       "  'Clase': 2,\n",
       "  'Genero': 1,\n",
       "  'Edad': 44.0,\n",
       "  'HermEsp': 1,\n",
       "  'PadHij': 0},\n",
       " {'Índex': 683,\n",
       "  'Sobreviviente': 1,\n",
       "  'Clase': 3,\n",
       "  'Genero': 1,\n",
       "  'Edad': 18.0,\n",
       "  'HermEsp': 0,\n",
       "  'PadHij': 1},\n",
       " {'Índex': 684,\n",
       "  'Sobreviviente': 1,\n",
       "  'Clase': 1,\n",
       "  'Genero': 1,\n",
       "  'Edad': 45.0,\n",
       "  'HermEsp': 1,\n",
       "  'PadHij': 1},\n",
       " {'Índex': 685,\n",
       "  'Sobreviviente': 1,\n",
       "  'Clase': 1,\n",
       "  'Genero': 0,\n",
       "  'Edad': 51.0,\n",
       "  'HermEsp': 0,\n",
       "  'PadHij': 0},\n",
       " {'Índex': 686,\n",
       "  'Sobreviviente': 1,\n",
       "  'Clase': 3,\n",
       "  'Genero': 1,\n",
       "  'Edad': 24.0,\n",
       "  'HermEsp': 0,\n",
       "  'PadHij': 3},\n",
       " {'Índex': 687,\n",
       "  'Sobreviviente': 0,\n",
       "  'Clase': 3,\n",
       "  'Genero': 0,\n",
       "  'Edad': 41.0,\n",
       "  'HermEsp': 2,\n",
       "  'PadHij': 0},\n",
       " {'Índex': 688,\n",
       "  'Sobreviviente': 0,\n",
       "  'Clase': 2,\n",
       "  'Genero': 0,\n",
       "  'Edad': 21.0,\n",
       "  'HermEsp': 1,\n",
       "  'PadHij': 0},\n",
       " {'Índex': 689,\n",
       "  'Sobreviviente': 1,\n",
       "  'Clase': 1,\n",
       "  'Genero': 1,\n",
       "  'Edad': 48.0,\n",
       "  'HermEsp': 0,\n",
       "  'PadHij': 0},\n",
       " {'Índex': 690,\n",
       "  'Sobreviviente': 0,\n",
       "  'Clase': 2,\n",
       "  'Genero': 0,\n",
       "  'Edad': 24.0,\n",
       "  'HermEsp': 0,\n",
       "  'PadHij': 0},\n",
       " {'Índex': 691,\n",
       "  'Sobreviviente': 1,\n",
       "  'Clase': 2,\n",
       "  'Genero': 1,\n",
       "  'Edad': 42.0,\n",
       "  'HermEsp': 0,\n",
       "  'PadHij': 0},\n",
       " {'Índex': 692,\n",
       "  'Sobreviviente': 1,\n",
       "  'Clase': 2,\n",
       "  'Genero': 1,\n",
       "  'Edad': 27.0,\n",
       "  'HermEsp': 1,\n",
       "  'PadHij': 0},\n",
       " {'Índex': 693,\n",
       "  'Sobreviviente': 0,\n",
       "  'Clase': 1,\n",
       "  'Genero': 0,\n",
       "  'Edad': 31.0,\n",
       "  'HermEsp': 0,\n",
       "  'PadHij': 0},\n",
       " {'Índex': 694,\n",
       "  'Sobreviviente': 1,\n",
       "  'Clase': 3,\n",
       "  'Genero': 0,\n",
       "  'Edad': 4.0,\n",
       "  'HermEsp': 1,\n",
       "  'PadHij': 1},\n",
       " {'Índex': 695,\n",
       "  'Sobreviviente': 0,\n",
       "  'Clase': 3,\n",
       "  'Genero': 0,\n",
       "  'Edad': 26.0,\n",
       "  'HermEsp': 0,\n",
       "  'PadHij': 0},\n",
       " {'Índex': 696,\n",
       "  'Sobreviviente': 1,\n",
       "  'Clase': 1,\n",
       "  'Genero': 1,\n",
       "  'Edad': 47.0,\n",
       "  'HermEsp': 1,\n",
       "  'PadHij': 1},\n",
       " {'Índex': 697,\n",
       "  'Sobreviviente': 0,\n",
       "  'Clase': 1,\n",
       "  'Genero': 0,\n",
       "  'Edad': 33.0,\n",
       "  'HermEsp': 0,\n",
       "  'PadHij': 0},\n",
       " {'Índex': 698,\n",
       "  'Sobreviviente': 0,\n",
       "  'Clase': 3,\n",
       "  'Genero': 0,\n",
       "  'Edad': 47.0,\n",
       "  'HermEsp': 0,\n",
       "  'PadHij': 0},\n",
       " {'Índex': 699,\n",
       "  'Sobreviviente': 1,\n",
       "  'Clase': 2,\n",
       "  'Genero': 1,\n",
       "  'Edad': 28.0,\n",
       "  'HermEsp': 1,\n",
       "  'PadHij': 0},\n",
       " {'Índex': 700,\n",
       "  'Sobreviviente': 1,\n",
       "  'Clase': 3,\n",
       "  'Genero': 1,\n",
       "  'Edad': 15.0,\n",
       "  'HermEsp': 0,\n",
       "  'PadHij': 0},\n",
       " {'Índex': 701,\n",
       "  'Sobreviviente': 0,\n",
       "  'Clase': 3,\n",
       "  'Genero': 0,\n",
       "  'Edad': 20.0,\n",
       "  'HermEsp': 0,\n",
       "  'PadHij': 0},\n",
       " {'Índex': 702,\n",
       "  'Sobreviviente': 0,\n",
       "  'Clase': 3,\n",
       "  'Genero': 0,\n",
       "  'Edad': 19.0,\n",
       "  'HermEsp': 0,\n",
       "  'PadHij': 0},\n",
       " {'Índex': 703,\n",
       "  'Sobreviviente': 1,\n",
       "  'Clase': 1,\n",
       "  'Genero': 1,\n",
       "  'Edad': 56.0,\n",
       "  'HermEsp': 0,\n",
       "  'PadHij': 1},\n",
       " {'Índex': 704,\n",
       "  'Sobreviviente': 1,\n",
       "  'Clase': 2,\n",
       "  'Genero': 1,\n",
       "  'Edad': 25.0,\n",
       "  'HermEsp': 0,\n",
       "  'PadHij': 1},\n",
       " {'Índex': 705,\n",
       "  'Sobreviviente': 0,\n",
       "  'Clase': 3,\n",
       "  'Genero': 0,\n",
       "  'Edad': 33.0,\n",
       "  'HermEsp': 0,\n",
       "  'PadHij': 0},\n",
       " {'Índex': 706,\n",
       "  'Sobreviviente': 0,\n",
       "  'Clase': 3,\n",
       "  'Genero': 1,\n",
       "  'Edad': 22.0,\n",
       "  'HermEsp': 0,\n",
       "  'PadHij': 0},\n",
       " {'Índex': 707,\n",
       "  'Sobreviviente': 0,\n",
       "  'Clase': 2,\n",
       "  'Genero': 0,\n",
       "  'Edad': 28.0,\n",
       "  'HermEsp': 0,\n",
       "  'PadHij': 0},\n",
       " {'Índex': 708,\n",
       "  'Sobreviviente': 0,\n",
       "  'Clase': 3,\n",
       "  'Genero': 0,\n",
       "  'Edad': 25.0,\n",
       "  'HermEsp': 0,\n",
       "  'PadHij': 0},\n",
       " {'Índex': 709,\n",
       "  'Sobreviviente': 0,\n",
       "  'Clase': 3,\n",
       "  'Genero': 1,\n",
       "  'Edad': 39.0,\n",
       "  'HermEsp': 0,\n",
       "  'PadHij': 5},\n",
       " {'Índex': 710,\n",
       "  'Sobreviviente': 0,\n",
       "  'Clase': 2,\n",
       "  'Genero': 0,\n",
       "  'Edad': 27.0,\n",
       "  'HermEsp': 0,\n",
       "  'PadHij': 0},\n",
       " {'Índex': 711,\n",
       "  'Sobreviviente': 1,\n",
       "  'Clase': 1,\n",
       "  'Genero': 1,\n",
       "  'Edad': 19.0,\n",
       "  'HermEsp': 0,\n",
       "  'PadHij': 0},\n",
       " {'Índex': 712,\n",
       "  'Sobreviviente': 1,\n",
       "  'Clase': 1,\n",
       "  'Genero': 0,\n",
       "  'Edad': 26.0,\n",
       "  'HermEsp': 0,\n",
       "  'PadHij': 0},\n",
       " {'Índex': 713,\n",
       "  'Sobreviviente': 0,\n",
       "  'Clase': 3,\n",
       "  'Genero': 0,\n",
       "  'Edad': 32.0,\n",
       "  'HermEsp': 0,\n",
       "  'PadHij': 0}]"
      ]
     },
     "execution_count": 9,
     "metadata": {},
     "output_type": "execute_result"
    }
   ],
   "source": [
    "df.rename_axis(\"Índex\").reset_index().to_dict(\"records\")"
   ]
  },
  {
   "cell_type": "code",
   "execution_count": 6,
   "metadata": {},
   "outputs": [],
   "source": [
    "qualitative_graphs_array = []\n",
    "numeric_graphs_array = []\n",
    "index = 0\n",
    "for feature in df:\n",
    "    values = list(set(df[feature]))\n",
    "    counts = df[feature].value_counts()\n",
    "    if(len(values) < 5):\n",
    "        qualitative_graphs_array.append({\n",
    "            \"predictor\":feature,\n",
    "            \"graph_data\":[]\n",
    "        })                \n",
    "        for value in values:\n",
    "            qualitative_graphs_array[index][\"graph_data\"].append(go.Bar(name=value, x=[value], y=[counts[value]]))\n",
    "        index += 1\n",
    "    else:\n",
    "        x = []\n",
    "        y = []\n",
    "        for value, count in sorted(zip(values, counts), key=lambda x: x):\n",
    "            x.append(value)\n",
    "            y.append(count)\n",
    "        numeric_graphs_array.append({\n",
    "            \"predictor\":feature,\n",
    "            \"graph_data\":[\n",
    "                go.Scatter(x=x, y=y, name='Line', line=dict(color='royalblue', width=1, dash='dot')),\n",
    "                go.Bar(name=\"Bar\", x=x, y=y, width=0.5)               \n",
    "            ]\n",
    "        })\n",
    "        "
   ]
  },
  {
   "cell_type": "code",
   "execution_count": 7,
   "metadata": {},
   "outputs": [
    {
     "data": {
      "application/vnd.plotly.v1+json": {
       "config": {
        "plotlyServerURL": "https://plot.ly"
       },
       "data": [
        {
         "name": "0",
         "type": "bar",
         "x": [
          0
         ],
         "y": [
          424
         ]
        },
        {
         "name": "1",
         "type": "bar",
         "x": [
          1
         ],
         "y": [
          290
         ]
        }
       ],
       "layout": {
        "template": {
         "data": {
          "bar": [
           {
            "error_x": {
             "color": "#2a3f5f"
            },
            "error_y": {
             "color": "#2a3f5f"
            },
            "marker": {
             "line": {
              "color": "#E5ECF6",
              "width": 0.5
             },
             "pattern": {
              "fillmode": "overlay",
              "size": 10,
              "solidity": 0.2
             }
            },
            "type": "bar"
           }
          ],
          "barpolar": [
           {
            "marker": {
             "line": {
              "color": "#E5ECF6",
              "width": 0.5
             },
             "pattern": {
              "fillmode": "overlay",
              "size": 10,
              "solidity": 0.2
             }
            },
            "type": "barpolar"
           }
          ],
          "carpet": [
           {
            "aaxis": {
             "endlinecolor": "#2a3f5f",
             "gridcolor": "white",
             "linecolor": "white",
             "minorgridcolor": "white",
             "startlinecolor": "#2a3f5f"
            },
            "baxis": {
             "endlinecolor": "#2a3f5f",
             "gridcolor": "white",
             "linecolor": "white",
             "minorgridcolor": "white",
             "startlinecolor": "#2a3f5f"
            },
            "type": "carpet"
           }
          ],
          "choropleth": [
           {
            "colorbar": {
             "outlinewidth": 0,
             "ticks": ""
            },
            "type": "choropleth"
           }
          ],
          "contour": [
           {
            "colorbar": {
             "outlinewidth": 0,
             "ticks": ""
            },
            "colorscale": [
             [
              0,
              "#0d0887"
             ],
             [
              0.1111111111111111,
              "#46039f"
             ],
             [
              0.2222222222222222,
              "#7201a8"
             ],
             [
              0.3333333333333333,
              "#9c179e"
             ],
             [
              0.4444444444444444,
              "#bd3786"
             ],
             [
              0.5555555555555556,
              "#d8576b"
             ],
             [
              0.6666666666666666,
              "#ed7953"
             ],
             [
              0.7777777777777778,
              "#fb9f3a"
             ],
             [
              0.8888888888888888,
              "#fdca26"
             ],
             [
              1,
              "#f0f921"
             ]
            ],
            "type": "contour"
           }
          ],
          "contourcarpet": [
           {
            "colorbar": {
             "outlinewidth": 0,
             "ticks": ""
            },
            "type": "contourcarpet"
           }
          ],
          "heatmap": [
           {
            "colorbar": {
             "outlinewidth": 0,
             "ticks": ""
            },
            "colorscale": [
             [
              0,
              "#0d0887"
             ],
             [
              0.1111111111111111,
              "#46039f"
             ],
             [
              0.2222222222222222,
              "#7201a8"
             ],
             [
              0.3333333333333333,
              "#9c179e"
             ],
             [
              0.4444444444444444,
              "#bd3786"
             ],
             [
              0.5555555555555556,
              "#d8576b"
             ],
             [
              0.6666666666666666,
              "#ed7953"
             ],
             [
              0.7777777777777778,
              "#fb9f3a"
             ],
             [
              0.8888888888888888,
              "#fdca26"
             ],
             [
              1,
              "#f0f921"
             ]
            ],
            "type": "heatmap"
           }
          ],
          "heatmapgl": [
           {
            "colorbar": {
             "outlinewidth": 0,
             "ticks": ""
            },
            "colorscale": [
             [
              0,
              "#0d0887"
             ],
             [
              0.1111111111111111,
              "#46039f"
             ],
             [
              0.2222222222222222,
              "#7201a8"
             ],
             [
              0.3333333333333333,
              "#9c179e"
             ],
             [
              0.4444444444444444,
              "#bd3786"
             ],
             [
              0.5555555555555556,
              "#d8576b"
             ],
             [
              0.6666666666666666,
              "#ed7953"
             ],
             [
              0.7777777777777778,
              "#fb9f3a"
             ],
             [
              0.8888888888888888,
              "#fdca26"
             ],
             [
              1,
              "#f0f921"
             ]
            ],
            "type": "heatmapgl"
           }
          ],
          "histogram": [
           {
            "marker": {
             "pattern": {
              "fillmode": "overlay",
              "size": 10,
              "solidity": 0.2
             }
            },
            "type": "histogram"
           }
          ],
          "histogram2d": [
           {
            "colorbar": {
             "outlinewidth": 0,
             "ticks": ""
            },
            "colorscale": [
             [
              0,
              "#0d0887"
             ],
             [
              0.1111111111111111,
              "#46039f"
             ],
             [
              0.2222222222222222,
              "#7201a8"
             ],
             [
              0.3333333333333333,
              "#9c179e"
             ],
             [
              0.4444444444444444,
              "#bd3786"
             ],
             [
              0.5555555555555556,
              "#d8576b"
             ],
             [
              0.6666666666666666,
              "#ed7953"
             ],
             [
              0.7777777777777778,
              "#fb9f3a"
             ],
             [
              0.8888888888888888,
              "#fdca26"
             ],
             [
              1,
              "#f0f921"
             ]
            ],
            "type": "histogram2d"
           }
          ],
          "histogram2dcontour": [
           {
            "colorbar": {
             "outlinewidth": 0,
             "ticks": ""
            },
            "colorscale": [
             [
              0,
              "#0d0887"
             ],
             [
              0.1111111111111111,
              "#46039f"
             ],
             [
              0.2222222222222222,
              "#7201a8"
             ],
             [
              0.3333333333333333,
              "#9c179e"
             ],
             [
              0.4444444444444444,
              "#bd3786"
             ],
             [
              0.5555555555555556,
              "#d8576b"
             ],
             [
              0.6666666666666666,
              "#ed7953"
             ],
             [
              0.7777777777777778,
              "#fb9f3a"
             ],
             [
              0.8888888888888888,
              "#fdca26"
             ],
             [
              1,
              "#f0f921"
             ]
            ],
            "type": "histogram2dcontour"
           }
          ],
          "mesh3d": [
           {
            "colorbar": {
             "outlinewidth": 0,
             "ticks": ""
            },
            "type": "mesh3d"
           }
          ],
          "parcoords": [
           {
            "line": {
             "colorbar": {
              "outlinewidth": 0,
              "ticks": ""
             }
            },
            "type": "parcoords"
           }
          ],
          "pie": [
           {
            "automargin": true,
            "type": "pie"
           }
          ],
          "scatter": [
           {
            "fillpattern": {
             "fillmode": "overlay",
             "size": 10,
             "solidity": 0.2
            },
            "type": "scatter"
           }
          ],
          "scatter3d": [
           {
            "line": {
             "colorbar": {
              "outlinewidth": 0,
              "ticks": ""
             }
            },
            "marker": {
             "colorbar": {
              "outlinewidth": 0,
              "ticks": ""
             }
            },
            "type": "scatter3d"
           }
          ],
          "scattercarpet": [
           {
            "marker": {
             "colorbar": {
              "outlinewidth": 0,
              "ticks": ""
             }
            },
            "type": "scattercarpet"
           }
          ],
          "scattergeo": [
           {
            "marker": {
             "colorbar": {
              "outlinewidth": 0,
              "ticks": ""
             }
            },
            "type": "scattergeo"
           }
          ],
          "scattergl": [
           {
            "marker": {
             "colorbar": {
              "outlinewidth": 0,
              "ticks": ""
             }
            },
            "type": "scattergl"
           }
          ],
          "scattermapbox": [
           {
            "marker": {
             "colorbar": {
              "outlinewidth": 0,
              "ticks": ""
             }
            },
            "type": "scattermapbox"
           }
          ],
          "scatterpolar": [
           {
            "marker": {
             "colorbar": {
              "outlinewidth": 0,
              "ticks": ""
             }
            },
            "type": "scatterpolar"
           }
          ],
          "scatterpolargl": [
           {
            "marker": {
             "colorbar": {
              "outlinewidth": 0,
              "ticks": ""
             }
            },
            "type": "scatterpolargl"
           }
          ],
          "scatterternary": [
           {
            "marker": {
             "colorbar": {
              "outlinewidth": 0,
              "ticks": ""
             }
            },
            "type": "scatterternary"
           }
          ],
          "surface": [
           {
            "colorbar": {
             "outlinewidth": 0,
             "ticks": ""
            },
            "colorscale": [
             [
              0,
              "#0d0887"
             ],
             [
              0.1111111111111111,
              "#46039f"
             ],
             [
              0.2222222222222222,
              "#7201a8"
             ],
             [
              0.3333333333333333,
              "#9c179e"
             ],
             [
              0.4444444444444444,
              "#bd3786"
             ],
             [
              0.5555555555555556,
              "#d8576b"
             ],
             [
              0.6666666666666666,
              "#ed7953"
             ],
             [
              0.7777777777777778,
              "#fb9f3a"
             ],
             [
              0.8888888888888888,
              "#fdca26"
             ],
             [
              1,
              "#f0f921"
             ]
            ],
            "type": "surface"
           }
          ],
          "table": [
           {
            "cells": {
             "fill": {
              "color": "#EBF0F8"
             },
             "line": {
              "color": "white"
             }
            },
            "header": {
             "fill": {
              "color": "#C8D4E3"
             },
             "line": {
              "color": "white"
             }
            },
            "type": "table"
           }
          ]
         },
         "layout": {
          "annotationdefaults": {
           "arrowcolor": "#2a3f5f",
           "arrowhead": 0,
           "arrowwidth": 1
          },
          "autotypenumbers": "strict",
          "coloraxis": {
           "colorbar": {
            "outlinewidth": 0,
            "ticks": ""
           }
          },
          "colorscale": {
           "diverging": [
            [
             0,
             "#8e0152"
            ],
            [
             0.1,
             "#c51b7d"
            ],
            [
             0.2,
             "#de77ae"
            ],
            [
             0.3,
             "#f1b6da"
            ],
            [
             0.4,
             "#fde0ef"
            ],
            [
             0.5,
             "#f7f7f7"
            ],
            [
             0.6,
             "#e6f5d0"
            ],
            [
             0.7,
             "#b8e186"
            ],
            [
             0.8,
             "#7fbc41"
            ],
            [
             0.9,
             "#4d9221"
            ],
            [
             1,
             "#276419"
            ]
           ],
           "sequential": [
            [
             0,
             "#0d0887"
            ],
            [
             0.1111111111111111,
             "#46039f"
            ],
            [
             0.2222222222222222,
             "#7201a8"
            ],
            [
             0.3333333333333333,
             "#9c179e"
            ],
            [
             0.4444444444444444,
             "#bd3786"
            ],
            [
             0.5555555555555556,
             "#d8576b"
            ],
            [
             0.6666666666666666,
             "#ed7953"
            ],
            [
             0.7777777777777778,
             "#fb9f3a"
            ],
            [
             0.8888888888888888,
             "#fdca26"
            ],
            [
             1,
             "#f0f921"
            ]
           ],
           "sequentialminus": [
            [
             0,
             "#0d0887"
            ],
            [
             0.1111111111111111,
             "#46039f"
            ],
            [
             0.2222222222222222,
             "#7201a8"
            ],
            [
             0.3333333333333333,
             "#9c179e"
            ],
            [
             0.4444444444444444,
             "#bd3786"
            ],
            [
             0.5555555555555556,
             "#d8576b"
            ],
            [
             0.6666666666666666,
             "#ed7953"
            ],
            [
             0.7777777777777778,
             "#fb9f3a"
            ],
            [
             0.8888888888888888,
             "#fdca26"
            ],
            [
             1,
             "#f0f921"
            ]
           ]
          },
          "colorway": [
           "#636efa",
           "#EF553B",
           "#00cc96",
           "#ab63fa",
           "#FFA15A",
           "#19d3f3",
           "#FF6692",
           "#B6E880",
           "#FF97FF",
           "#FECB52"
          ],
          "font": {
           "color": "#2a3f5f"
          },
          "geo": {
           "bgcolor": "white",
           "lakecolor": "white",
           "landcolor": "#E5ECF6",
           "showlakes": true,
           "showland": true,
           "subunitcolor": "white"
          },
          "hoverlabel": {
           "align": "left"
          },
          "hovermode": "closest",
          "mapbox": {
           "style": "light"
          },
          "paper_bgcolor": "white",
          "plot_bgcolor": "#E5ECF6",
          "polar": {
           "angularaxis": {
            "gridcolor": "white",
            "linecolor": "white",
            "ticks": ""
           },
           "bgcolor": "#E5ECF6",
           "radialaxis": {
            "gridcolor": "white",
            "linecolor": "white",
            "ticks": ""
           }
          },
          "scene": {
           "xaxis": {
            "backgroundcolor": "#E5ECF6",
            "gridcolor": "white",
            "gridwidth": 2,
            "linecolor": "white",
            "showbackground": true,
            "ticks": "",
            "zerolinecolor": "white"
           },
           "yaxis": {
            "backgroundcolor": "#E5ECF6",
            "gridcolor": "white",
            "gridwidth": 2,
            "linecolor": "white",
            "showbackground": true,
            "ticks": "",
            "zerolinecolor": "white"
           },
           "zaxis": {
            "backgroundcolor": "#E5ECF6",
            "gridcolor": "white",
            "gridwidth": 2,
            "linecolor": "white",
            "showbackground": true,
            "ticks": "",
            "zerolinecolor": "white"
           }
          },
          "shapedefaults": {
           "line": {
            "color": "#2a3f5f"
           }
          },
          "ternary": {
           "aaxis": {
            "gridcolor": "white",
            "linecolor": "white",
            "ticks": ""
           },
           "baxis": {
            "gridcolor": "white",
            "linecolor": "white",
            "ticks": ""
           },
           "bgcolor": "#E5ECF6",
           "caxis": {
            "gridcolor": "white",
            "linecolor": "white",
            "ticks": ""
           }
          },
          "title": {
           "x": 0.05
          },
          "xaxis": {
           "automargin": true,
           "gridcolor": "white",
           "linecolor": "white",
           "ticks": "",
           "title": {
            "standoff": 15
           },
           "zerolinecolor": "white",
           "zerolinewidth": 2
          },
          "yaxis": {
           "automargin": true,
           "gridcolor": "white",
           "linecolor": "white",
           "ticks": "",
           "title": {
            "standoff": 15
           },
           "zerolinecolor": "white",
           "zerolinewidth": 2
          }
         }
        },
        "title": {
         "text": "Sobreviviente"
        }
       }
      }
     },
     "metadata": {},
     "output_type": "display_data"
    },
    {
     "data": {
      "application/vnd.plotly.v1+json": {
       "config": {
        "plotlyServerURL": "https://plot.ly"
       },
       "data": [
        {
         "name": "1",
         "type": "bar",
         "x": [
          1
         ],
         "y": [
          186
         ]
        },
        {
         "name": "2",
         "type": "bar",
         "x": [
          2
         ],
         "y": [
          173
         ]
        },
        {
         "name": "3",
         "type": "bar",
         "x": [
          3
         ],
         "y": [
          355
         ]
        }
       ],
       "layout": {
        "template": {
         "data": {
          "bar": [
           {
            "error_x": {
             "color": "#2a3f5f"
            },
            "error_y": {
             "color": "#2a3f5f"
            },
            "marker": {
             "line": {
              "color": "#E5ECF6",
              "width": 0.5
             },
             "pattern": {
              "fillmode": "overlay",
              "size": 10,
              "solidity": 0.2
             }
            },
            "type": "bar"
           }
          ],
          "barpolar": [
           {
            "marker": {
             "line": {
              "color": "#E5ECF6",
              "width": 0.5
             },
             "pattern": {
              "fillmode": "overlay",
              "size": 10,
              "solidity": 0.2
             }
            },
            "type": "barpolar"
           }
          ],
          "carpet": [
           {
            "aaxis": {
             "endlinecolor": "#2a3f5f",
             "gridcolor": "white",
             "linecolor": "white",
             "minorgridcolor": "white",
             "startlinecolor": "#2a3f5f"
            },
            "baxis": {
             "endlinecolor": "#2a3f5f",
             "gridcolor": "white",
             "linecolor": "white",
             "minorgridcolor": "white",
             "startlinecolor": "#2a3f5f"
            },
            "type": "carpet"
           }
          ],
          "choropleth": [
           {
            "colorbar": {
             "outlinewidth": 0,
             "ticks": ""
            },
            "type": "choropleth"
           }
          ],
          "contour": [
           {
            "colorbar": {
             "outlinewidth": 0,
             "ticks": ""
            },
            "colorscale": [
             [
              0,
              "#0d0887"
             ],
             [
              0.1111111111111111,
              "#46039f"
             ],
             [
              0.2222222222222222,
              "#7201a8"
             ],
             [
              0.3333333333333333,
              "#9c179e"
             ],
             [
              0.4444444444444444,
              "#bd3786"
             ],
             [
              0.5555555555555556,
              "#d8576b"
             ],
             [
              0.6666666666666666,
              "#ed7953"
             ],
             [
              0.7777777777777778,
              "#fb9f3a"
             ],
             [
              0.8888888888888888,
              "#fdca26"
             ],
             [
              1,
              "#f0f921"
             ]
            ],
            "type": "contour"
           }
          ],
          "contourcarpet": [
           {
            "colorbar": {
             "outlinewidth": 0,
             "ticks": ""
            },
            "type": "contourcarpet"
           }
          ],
          "heatmap": [
           {
            "colorbar": {
             "outlinewidth": 0,
             "ticks": ""
            },
            "colorscale": [
             [
              0,
              "#0d0887"
             ],
             [
              0.1111111111111111,
              "#46039f"
             ],
             [
              0.2222222222222222,
              "#7201a8"
             ],
             [
              0.3333333333333333,
              "#9c179e"
             ],
             [
              0.4444444444444444,
              "#bd3786"
             ],
             [
              0.5555555555555556,
              "#d8576b"
             ],
             [
              0.6666666666666666,
              "#ed7953"
             ],
             [
              0.7777777777777778,
              "#fb9f3a"
             ],
             [
              0.8888888888888888,
              "#fdca26"
             ],
             [
              1,
              "#f0f921"
             ]
            ],
            "type": "heatmap"
           }
          ],
          "heatmapgl": [
           {
            "colorbar": {
             "outlinewidth": 0,
             "ticks": ""
            },
            "colorscale": [
             [
              0,
              "#0d0887"
             ],
             [
              0.1111111111111111,
              "#46039f"
             ],
             [
              0.2222222222222222,
              "#7201a8"
             ],
             [
              0.3333333333333333,
              "#9c179e"
             ],
             [
              0.4444444444444444,
              "#bd3786"
             ],
             [
              0.5555555555555556,
              "#d8576b"
             ],
             [
              0.6666666666666666,
              "#ed7953"
             ],
             [
              0.7777777777777778,
              "#fb9f3a"
             ],
             [
              0.8888888888888888,
              "#fdca26"
             ],
             [
              1,
              "#f0f921"
             ]
            ],
            "type": "heatmapgl"
           }
          ],
          "histogram": [
           {
            "marker": {
             "pattern": {
              "fillmode": "overlay",
              "size": 10,
              "solidity": 0.2
             }
            },
            "type": "histogram"
           }
          ],
          "histogram2d": [
           {
            "colorbar": {
             "outlinewidth": 0,
             "ticks": ""
            },
            "colorscale": [
             [
              0,
              "#0d0887"
             ],
             [
              0.1111111111111111,
              "#46039f"
             ],
             [
              0.2222222222222222,
              "#7201a8"
             ],
             [
              0.3333333333333333,
              "#9c179e"
             ],
             [
              0.4444444444444444,
              "#bd3786"
             ],
             [
              0.5555555555555556,
              "#d8576b"
             ],
             [
              0.6666666666666666,
              "#ed7953"
             ],
             [
              0.7777777777777778,
              "#fb9f3a"
             ],
             [
              0.8888888888888888,
              "#fdca26"
             ],
             [
              1,
              "#f0f921"
             ]
            ],
            "type": "histogram2d"
           }
          ],
          "histogram2dcontour": [
           {
            "colorbar": {
             "outlinewidth": 0,
             "ticks": ""
            },
            "colorscale": [
             [
              0,
              "#0d0887"
             ],
             [
              0.1111111111111111,
              "#46039f"
             ],
             [
              0.2222222222222222,
              "#7201a8"
             ],
             [
              0.3333333333333333,
              "#9c179e"
             ],
             [
              0.4444444444444444,
              "#bd3786"
             ],
             [
              0.5555555555555556,
              "#d8576b"
             ],
             [
              0.6666666666666666,
              "#ed7953"
             ],
             [
              0.7777777777777778,
              "#fb9f3a"
             ],
             [
              0.8888888888888888,
              "#fdca26"
             ],
             [
              1,
              "#f0f921"
             ]
            ],
            "type": "histogram2dcontour"
           }
          ],
          "mesh3d": [
           {
            "colorbar": {
             "outlinewidth": 0,
             "ticks": ""
            },
            "type": "mesh3d"
           }
          ],
          "parcoords": [
           {
            "line": {
             "colorbar": {
              "outlinewidth": 0,
              "ticks": ""
             }
            },
            "type": "parcoords"
           }
          ],
          "pie": [
           {
            "automargin": true,
            "type": "pie"
           }
          ],
          "scatter": [
           {
            "fillpattern": {
             "fillmode": "overlay",
             "size": 10,
             "solidity": 0.2
            },
            "type": "scatter"
           }
          ],
          "scatter3d": [
           {
            "line": {
             "colorbar": {
              "outlinewidth": 0,
              "ticks": ""
             }
            },
            "marker": {
             "colorbar": {
              "outlinewidth": 0,
              "ticks": ""
             }
            },
            "type": "scatter3d"
           }
          ],
          "scattercarpet": [
           {
            "marker": {
             "colorbar": {
              "outlinewidth": 0,
              "ticks": ""
             }
            },
            "type": "scattercarpet"
           }
          ],
          "scattergeo": [
           {
            "marker": {
             "colorbar": {
              "outlinewidth": 0,
              "ticks": ""
             }
            },
            "type": "scattergeo"
           }
          ],
          "scattergl": [
           {
            "marker": {
             "colorbar": {
              "outlinewidth": 0,
              "ticks": ""
             }
            },
            "type": "scattergl"
           }
          ],
          "scattermapbox": [
           {
            "marker": {
             "colorbar": {
              "outlinewidth": 0,
              "ticks": ""
             }
            },
            "type": "scattermapbox"
           }
          ],
          "scatterpolar": [
           {
            "marker": {
             "colorbar": {
              "outlinewidth": 0,
              "ticks": ""
             }
            },
            "type": "scatterpolar"
           }
          ],
          "scatterpolargl": [
           {
            "marker": {
             "colorbar": {
              "outlinewidth": 0,
              "ticks": ""
             }
            },
            "type": "scatterpolargl"
           }
          ],
          "scatterternary": [
           {
            "marker": {
             "colorbar": {
              "outlinewidth": 0,
              "ticks": ""
             }
            },
            "type": "scatterternary"
           }
          ],
          "surface": [
           {
            "colorbar": {
             "outlinewidth": 0,
             "ticks": ""
            },
            "colorscale": [
             [
              0,
              "#0d0887"
             ],
             [
              0.1111111111111111,
              "#46039f"
             ],
             [
              0.2222222222222222,
              "#7201a8"
             ],
             [
              0.3333333333333333,
              "#9c179e"
             ],
             [
              0.4444444444444444,
              "#bd3786"
             ],
             [
              0.5555555555555556,
              "#d8576b"
             ],
             [
              0.6666666666666666,
              "#ed7953"
             ],
             [
              0.7777777777777778,
              "#fb9f3a"
             ],
             [
              0.8888888888888888,
              "#fdca26"
             ],
             [
              1,
              "#f0f921"
             ]
            ],
            "type": "surface"
           }
          ],
          "table": [
           {
            "cells": {
             "fill": {
              "color": "#EBF0F8"
             },
             "line": {
              "color": "white"
             }
            },
            "header": {
             "fill": {
              "color": "#C8D4E3"
             },
             "line": {
              "color": "white"
             }
            },
            "type": "table"
           }
          ]
         },
         "layout": {
          "annotationdefaults": {
           "arrowcolor": "#2a3f5f",
           "arrowhead": 0,
           "arrowwidth": 1
          },
          "autotypenumbers": "strict",
          "coloraxis": {
           "colorbar": {
            "outlinewidth": 0,
            "ticks": ""
           }
          },
          "colorscale": {
           "diverging": [
            [
             0,
             "#8e0152"
            ],
            [
             0.1,
             "#c51b7d"
            ],
            [
             0.2,
             "#de77ae"
            ],
            [
             0.3,
             "#f1b6da"
            ],
            [
             0.4,
             "#fde0ef"
            ],
            [
             0.5,
             "#f7f7f7"
            ],
            [
             0.6,
             "#e6f5d0"
            ],
            [
             0.7,
             "#b8e186"
            ],
            [
             0.8,
             "#7fbc41"
            ],
            [
             0.9,
             "#4d9221"
            ],
            [
             1,
             "#276419"
            ]
           ],
           "sequential": [
            [
             0,
             "#0d0887"
            ],
            [
             0.1111111111111111,
             "#46039f"
            ],
            [
             0.2222222222222222,
             "#7201a8"
            ],
            [
             0.3333333333333333,
             "#9c179e"
            ],
            [
             0.4444444444444444,
             "#bd3786"
            ],
            [
             0.5555555555555556,
             "#d8576b"
            ],
            [
             0.6666666666666666,
             "#ed7953"
            ],
            [
             0.7777777777777778,
             "#fb9f3a"
            ],
            [
             0.8888888888888888,
             "#fdca26"
            ],
            [
             1,
             "#f0f921"
            ]
           ],
           "sequentialminus": [
            [
             0,
             "#0d0887"
            ],
            [
             0.1111111111111111,
             "#46039f"
            ],
            [
             0.2222222222222222,
             "#7201a8"
            ],
            [
             0.3333333333333333,
             "#9c179e"
            ],
            [
             0.4444444444444444,
             "#bd3786"
            ],
            [
             0.5555555555555556,
             "#d8576b"
            ],
            [
             0.6666666666666666,
             "#ed7953"
            ],
            [
             0.7777777777777778,
             "#fb9f3a"
            ],
            [
             0.8888888888888888,
             "#fdca26"
            ],
            [
             1,
             "#f0f921"
            ]
           ]
          },
          "colorway": [
           "#636efa",
           "#EF553B",
           "#00cc96",
           "#ab63fa",
           "#FFA15A",
           "#19d3f3",
           "#FF6692",
           "#B6E880",
           "#FF97FF",
           "#FECB52"
          ],
          "font": {
           "color": "#2a3f5f"
          },
          "geo": {
           "bgcolor": "white",
           "lakecolor": "white",
           "landcolor": "#E5ECF6",
           "showlakes": true,
           "showland": true,
           "subunitcolor": "white"
          },
          "hoverlabel": {
           "align": "left"
          },
          "hovermode": "closest",
          "mapbox": {
           "style": "light"
          },
          "paper_bgcolor": "white",
          "plot_bgcolor": "#E5ECF6",
          "polar": {
           "angularaxis": {
            "gridcolor": "white",
            "linecolor": "white",
            "ticks": ""
           },
           "bgcolor": "#E5ECF6",
           "radialaxis": {
            "gridcolor": "white",
            "linecolor": "white",
            "ticks": ""
           }
          },
          "scene": {
           "xaxis": {
            "backgroundcolor": "#E5ECF6",
            "gridcolor": "white",
            "gridwidth": 2,
            "linecolor": "white",
            "showbackground": true,
            "ticks": "",
            "zerolinecolor": "white"
           },
           "yaxis": {
            "backgroundcolor": "#E5ECF6",
            "gridcolor": "white",
            "gridwidth": 2,
            "linecolor": "white",
            "showbackground": true,
            "ticks": "",
            "zerolinecolor": "white"
           },
           "zaxis": {
            "backgroundcolor": "#E5ECF6",
            "gridcolor": "white",
            "gridwidth": 2,
            "linecolor": "white",
            "showbackground": true,
            "ticks": "",
            "zerolinecolor": "white"
           }
          },
          "shapedefaults": {
           "line": {
            "color": "#2a3f5f"
           }
          },
          "ternary": {
           "aaxis": {
            "gridcolor": "white",
            "linecolor": "white",
            "ticks": ""
           },
           "baxis": {
            "gridcolor": "white",
            "linecolor": "white",
            "ticks": ""
           },
           "bgcolor": "#E5ECF6",
           "caxis": {
            "gridcolor": "white",
            "linecolor": "white",
            "ticks": ""
           }
          },
          "title": {
           "x": 0.05
          },
          "xaxis": {
           "automargin": true,
           "gridcolor": "white",
           "linecolor": "white",
           "ticks": "",
           "title": {
            "standoff": 15
           },
           "zerolinecolor": "white",
           "zerolinewidth": 2
          },
          "yaxis": {
           "automargin": true,
           "gridcolor": "white",
           "linecolor": "white",
           "ticks": "",
           "title": {
            "standoff": 15
           },
           "zerolinecolor": "white",
           "zerolinewidth": 2
          }
         }
        },
        "title": {
         "text": "Clase"
        }
       }
      }
     },
     "metadata": {},
     "output_type": "display_data"
    },
    {
     "data": {
      "application/vnd.plotly.v1+json": {
       "config": {
        "plotlyServerURL": "https://plot.ly"
       },
       "data": [
        {
         "name": "0",
         "type": "bar",
         "x": [
          0
         ],
         "y": [
          453
         ]
        },
        {
         "name": "1",
         "type": "bar",
         "x": [
          1
         ],
         "y": [
          261
         ]
        }
       ],
       "layout": {
        "template": {
         "data": {
          "bar": [
           {
            "error_x": {
             "color": "#2a3f5f"
            },
            "error_y": {
             "color": "#2a3f5f"
            },
            "marker": {
             "line": {
              "color": "#E5ECF6",
              "width": 0.5
             },
             "pattern": {
              "fillmode": "overlay",
              "size": 10,
              "solidity": 0.2
             }
            },
            "type": "bar"
           }
          ],
          "barpolar": [
           {
            "marker": {
             "line": {
              "color": "#E5ECF6",
              "width": 0.5
             },
             "pattern": {
              "fillmode": "overlay",
              "size": 10,
              "solidity": 0.2
             }
            },
            "type": "barpolar"
           }
          ],
          "carpet": [
           {
            "aaxis": {
             "endlinecolor": "#2a3f5f",
             "gridcolor": "white",
             "linecolor": "white",
             "minorgridcolor": "white",
             "startlinecolor": "#2a3f5f"
            },
            "baxis": {
             "endlinecolor": "#2a3f5f",
             "gridcolor": "white",
             "linecolor": "white",
             "minorgridcolor": "white",
             "startlinecolor": "#2a3f5f"
            },
            "type": "carpet"
           }
          ],
          "choropleth": [
           {
            "colorbar": {
             "outlinewidth": 0,
             "ticks": ""
            },
            "type": "choropleth"
           }
          ],
          "contour": [
           {
            "colorbar": {
             "outlinewidth": 0,
             "ticks": ""
            },
            "colorscale": [
             [
              0,
              "#0d0887"
             ],
             [
              0.1111111111111111,
              "#46039f"
             ],
             [
              0.2222222222222222,
              "#7201a8"
             ],
             [
              0.3333333333333333,
              "#9c179e"
             ],
             [
              0.4444444444444444,
              "#bd3786"
             ],
             [
              0.5555555555555556,
              "#d8576b"
             ],
             [
              0.6666666666666666,
              "#ed7953"
             ],
             [
              0.7777777777777778,
              "#fb9f3a"
             ],
             [
              0.8888888888888888,
              "#fdca26"
             ],
             [
              1,
              "#f0f921"
             ]
            ],
            "type": "contour"
           }
          ],
          "contourcarpet": [
           {
            "colorbar": {
             "outlinewidth": 0,
             "ticks": ""
            },
            "type": "contourcarpet"
           }
          ],
          "heatmap": [
           {
            "colorbar": {
             "outlinewidth": 0,
             "ticks": ""
            },
            "colorscale": [
             [
              0,
              "#0d0887"
             ],
             [
              0.1111111111111111,
              "#46039f"
             ],
             [
              0.2222222222222222,
              "#7201a8"
             ],
             [
              0.3333333333333333,
              "#9c179e"
             ],
             [
              0.4444444444444444,
              "#bd3786"
             ],
             [
              0.5555555555555556,
              "#d8576b"
             ],
             [
              0.6666666666666666,
              "#ed7953"
             ],
             [
              0.7777777777777778,
              "#fb9f3a"
             ],
             [
              0.8888888888888888,
              "#fdca26"
             ],
             [
              1,
              "#f0f921"
             ]
            ],
            "type": "heatmap"
           }
          ],
          "heatmapgl": [
           {
            "colorbar": {
             "outlinewidth": 0,
             "ticks": ""
            },
            "colorscale": [
             [
              0,
              "#0d0887"
             ],
             [
              0.1111111111111111,
              "#46039f"
             ],
             [
              0.2222222222222222,
              "#7201a8"
             ],
             [
              0.3333333333333333,
              "#9c179e"
             ],
             [
              0.4444444444444444,
              "#bd3786"
             ],
             [
              0.5555555555555556,
              "#d8576b"
             ],
             [
              0.6666666666666666,
              "#ed7953"
             ],
             [
              0.7777777777777778,
              "#fb9f3a"
             ],
             [
              0.8888888888888888,
              "#fdca26"
             ],
             [
              1,
              "#f0f921"
             ]
            ],
            "type": "heatmapgl"
           }
          ],
          "histogram": [
           {
            "marker": {
             "pattern": {
              "fillmode": "overlay",
              "size": 10,
              "solidity": 0.2
             }
            },
            "type": "histogram"
           }
          ],
          "histogram2d": [
           {
            "colorbar": {
             "outlinewidth": 0,
             "ticks": ""
            },
            "colorscale": [
             [
              0,
              "#0d0887"
             ],
             [
              0.1111111111111111,
              "#46039f"
             ],
             [
              0.2222222222222222,
              "#7201a8"
             ],
             [
              0.3333333333333333,
              "#9c179e"
             ],
             [
              0.4444444444444444,
              "#bd3786"
             ],
             [
              0.5555555555555556,
              "#d8576b"
             ],
             [
              0.6666666666666666,
              "#ed7953"
             ],
             [
              0.7777777777777778,
              "#fb9f3a"
             ],
             [
              0.8888888888888888,
              "#fdca26"
             ],
             [
              1,
              "#f0f921"
             ]
            ],
            "type": "histogram2d"
           }
          ],
          "histogram2dcontour": [
           {
            "colorbar": {
             "outlinewidth": 0,
             "ticks": ""
            },
            "colorscale": [
             [
              0,
              "#0d0887"
             ],
             [
              0.1111111111111111,
              "#46039f"
             ],
             [
              0.2222222222222222,
              "#7201a8"
             ],
             [
              0.3333333333333333,
              "#9c179e"
             ],
             [
              0.4444444444444444,
              "#bd3786"
             ],
             [
              0.5555555555555556,
              "#d8576b"
             ],
             [
              0.6666666666666666,
              "#ed7953"
             ],
             [
              0.7777777777777778,
              "#fb9f3a"
             ],
             [
              0.8888888888888888,
              "#fdca26"
             ],
             [
              1,
              "#f0f921"
             ]
            ],
            "type": "histogram2dcontour"
           }
          ],
          "mesh3d": [
           {
            "colorbar": {
             "outlinewidth": 0,
             "ticks": ""
            },
            "type": "mesh3d"
           }
          ],
          "parcoords": [
           {
            "line": {
             "colorbar": {
              "outlinewidth": 0,
              "ticks": ""
             }
            },
            "type": "parcoords"
           }
          ],
          "pie": [
           {
            "automargin": true,
            "type": "pie"
           }
          ],
          "scatter": [
           {
            "fillpattern": {
             "fillmode": "overlay",
             "size": 10,
             "solidity": 0.2
            },
            "type": "scatter"
           }
          ],
          "scatter3d": [
           {
            "line": {
             "colorbar": {
              "outlinewidth": 0,
              "ticks": ""
             }
            },
            "marker": {
             "colorbar": {
              "outlinewidth": 0,
              "ticks": ""
             }
            },
            "type": "scatter3d"
           }
          ],
          "scattercarpet": [
           {
            "marker": {
             "colorbar": {
              "outlinewidth": 0,
              "ticks": ""
             }
            },
            "type": "scattercarpet"
           }
          ],
          "scattergeo": [
           {
            "marker": {
             "colorbar": {
              "outlinewidth": 0,
              "ticks": ""
             }
            },
            "type": "scattergeo"
           }
          ],
          "scattergl": [
           {
            "marker": {
             "colorbar": {
              "outlinewidth": 0,
              "ticks": ""
             }
            },
            "type": "scattergl"
           }
          ],
          "scattermapbox": [
           {
            "marker": {
             "colorbar": {
              "outlinewidth": 0,
              "ticks": ""
             }
            },
            "type": "scattermapbox"
           }
          ],
          "scatterpolar": [
           {
            "marker": {
             "colorbar": {
              "outlinewidth": 0,
              "ticks": ""
             }
            },
            "type": "scatterpolar"
           }
          ],
          "scatterpolargl": [
           {
            "marker": {
             "colorbar": {
              "outlinewidth": 0,
              "ticks": ""
             }
            },
            "type": "scatterpolargl"
           }
          ],
          "scatterternary": [
           {
            "marker": {
             "colorbar": {
              "outlinewidth": 0,
              "ticks": ""
             }
            },
            "type": "scatterternary"
           }
          ],
          "surface": [
           {
            "colorbar": {
             "outlinewidth": 0,
             "ticks": ""
            },
            "colorscale": [
             [
              0,
              "#0d0887"
             ],
             [
              0.1111111111111111,
              "#46039f"
             ],
             [
              0.2222222222222222,
              "#7201a8"
             ],
             [
              0.3333333333333333,
              "#9c179e"
             ],
             [
              0.4444444444444444,
              "#bd3786"
             ],
             [
              0.5555555555555556,
              "#d8576b"
             ],
             [
              0.6666666666666666,
              "#ed7953"
             ],
             [
              0.7777777777777778,
              "#fb9f3a"
             ],
             [
              0.8888888888888888,
              "#fdca26"
             ],
             [
              1,
              "#f0f921"
             ]
            ],
            "type": "surface"
           }
          ],
          "table": [
           {
            "cells": {
             "fill": {
              "color": "#EBF0F8"
             },
             "line": {
              "color": "white"
             }
            },
            "header": {
             "fill": {
              "color": "#C8D4E3"
             },
             "line": {
              "color": "white"
             }
            },
            "type": "table"
           }
          ]
         },
         "layout": {
          "annotationdefaults": {
           "arrowcolor": "#2a3f5f",
           "arrowhead": 0,
           "arrowwidth": 1
          },
          "autotypenumbers": "strict",
          "coloraxis": {
           "colorbar": {
            "outlinewidth": 0,
            "ticks": ""
           }
          },
          "colorscale": {
           "diverging": [
            [
             0,
             "#8e0152"
            ],
            [
             0.1,
             "#c51b7d"
            ],
            [
             0.2,
             "#de77ae"
            ],
            [
             0.3,
             "#f1b6da"
            ],
            [
             0.4,
             "#fde0ef"
            ],
            [
             0.5,
             "#f7f7f7"
            ],
            [
             0.6,
             "#e6f5d0"
            ],
            [
             0.7,
             "#b8e186"
            ],
            [
             0.8,
             "#7fbc41"
            ],
            [
             0.9,
             "#4d9221"
            ],
            [
             1,
             "#276419"
            ]
           ],
           "sequential": [
            [
             0,
             "#0d0887"
            ],
            [
             0.1111111111111111,
             "#46039f"
            ],
            [
             0.2222222222222222,
             "#7201a8"
            ],
            [
             0.3333333333333333,
             "#9c179e"
            ],
            [
             0.4444444444444444,
             "#bd3786"
            ],
            [
             0.5555555555555556,
             "#d8576b"
            ],
            [
             0.6666666666666666,
             "#ed7953"
            ],
            [
             0.7777777777777778,
             "#fb9f3a"
            ],
            [
             0.8888888888888888,
             "#fdca26"
            ],
            [
             1,
             "#f0f921"
            ]
           ],
           "sequentialminus": [
            [
             0,
             "#0d0887"
            ],
            [
             0.1111111111111111,
             "#46039f"
            ],
            [
             0.2222222222222222,
             "#7201a8"
            ],
            [
             0.3333333333333333,
             "#9c179e"
            ],
            [
             0.4444444444444444,
             "#bd3786"
            ],
            [
             0.5555555555555556,
             "#d8576b"
            ],
            [
             0.6666666666666666,
             "#ed7953"
            ],
            [
             0.7777777777777778,
             "#fb9f3a"
            ],
            [
             0.8888888888888888,
             "#fdca26"
            ],
            [
             1,
             "#f0f921"
            ]
           ]
          },
          "colorway": [
           "#636efa",
           "#EF553B",
           "#00cc96",
           "#ab63fa",
           "#FFA15A",
           "#19d3f3",
           "#FF6692",
           "#B6E880",
           "#FF97FF",
           "#FECB52"
          ],
          "font": {
           "color": "#2a3f5f"
          },
          "geo": {
           "bgcolor": "white",
           "lakecolor": "white",
           "landcolor": "#E5ECF6",
           "showlakes": true,
           "showland": true,
           "subunitcolor": "white"
          },
          "hoverlabel": {
           "align": "left"
          },
          "hovermode": "closest",
          "mapbox": {
           "style": "light"
          },
          "paper_bgcolor": "white",
          "plot_bgcolor": "#E5ECF6",
          "polar": {
           "angularaxis": {
            "gridcolor": "white",
            "linecolor": "white",
            "ticks": ""
           },
           "bgcolor": "#E5ECF6",
           "radialaxis": {
            "gridcolor": "white",
            "linecolor": "white",
            "ticks": ""
           }
          },
          "scene": {
           "xaxis": {
            "backgroundcolor": "#E5ECF6",
            "gridcolor": "white",
            "gridwidth": 2,
            "linecolor": "white",
            "showbackground": true,
            "ticks": "",
            "zerolinecolor": "white"
           },
           "yaxis": {
            "backgroundcolor": "#E5ECF6",
            "gridcolor": "white",
            "gridwidth": 2,
            "linecolor": "white",
            "showbackground": true,
            "ticks": "",
            "zerolinecolor": "white"
           },
           "zaxis": {
            "backgroundcolor": "#E5ECF6",
            "gridcolor": "white",
            "gridwidth": 2,
            "linecolor": "white",
            "showbackground": true,
            "ticks": "",
            "zerolinecolor": "white"
           }
          },
          "shapedefaults": {
           "line": {
            "color": "#2a3f5f"
           }
          },
          "ternary": {
           "aaxis": {
            "gridcolor": "white",
            "linecolor": "white",
            "ticks": ""
           },
           "baxis": {
            "gridcolor": "white",
            "linecolor": "white",
            "ticks": ""
           },
           "bgcolor": "#E5ECF6",
           "caxis": {
            "gridcolor": "white",
            "linecolor": "white",
            "ticks": ""
           }
          },
          "title": {
           "x": 0.05
          },
          "xaxis": {
           "automargin": true,
           "gridcolor": "white",
           "linecolor": "white",
           "ticks": "",
           "title": {
            "standoff": 15
           },
           "zerolinecolor": "white",
           "zerolinewidth": 2
          },
          "yaxis": {
           "automargin": true,
           "gridcolor": "white",
           "linecolor": "white",
           "ticks": "",
           "title": {
            "standoff": 15
           },
           "zerolinecolor": "white",
           "zerolinewidth": 2
          }
         }
        },
        "title": {
         "text": "Genero"
        }
       }
      }
     },
     "metadata": {},
     "output_type": "display_data"
    }
   ],
   "source": [
    "for data in qualitative_graphs_array:\n",
    "    fig = go.Figure(data=data[\"graph_data\"], layout=dict(title=data[\"predictor\"]))\n",
    "    fig.show()"
   ]
  },
  {
   "cell_type": "code",
   "execution_count": 8,
   "metadata": {},
   "outputs": [
    {
     "data": {
      "application/vnd.plotly.v1+json": {
       "config": {
        "plotlyServerURL": "https://plot.ly"
       },
       "data": [
        {
         "line": {
          "color": "royalblue",
          "dash": "dot",
          "width": 1
         },
         "name": "Line",
         "type": "scatter",
         "x": [
          0.42,
          0.67,
          0.75,
          0.83,
          0.92,
          1,
          2,
          3,
          4,
          5,
          6,
          7,
          8,
          9,
          10,
          11,
          12,
          13,
          14,
          14.5,
          15,
          16,
          17,
          18,
          19,
          20,
          20.5,
          21,
          22,
          23,
          23.5,
          24,
          24.5,
          25,
          26,
          27,
          28,
          28.5,
          29,
          30,
          30.5,
          31,
          32,
          32.5,
          33,
          34,
          34.5,
          35,
          36,
          36.5,
          37,
          38,
          39,
          40,
          40.5,
          41,
          42,
          43,
          44,
          45,
          45.5,
          46,
          47,
          48,
          49,
          50,
          51,
          52,
          53,
          54,
          55,
          55.5,
          56,
          57,
          58,
          59,
          60,
          61,
          62,
          63,
          64,
          65,
          66,
          70,
          70.5,
          71,
          74,
          80
         ],
         "y": [
          1,
          1,
          30,
          1,
          1,
          27,
          26,
          25,
          25,
          25,
          24,
          23,
          22,
          20,
          18,
          18,
          18,
          18,
          17,
          2,
          17,
          15,
          15,
          15,
          15,
          14,
          1,
          13,
          13,
          13,
          1,
          12,
          1,
          11,
          10,
          10,
          10,
          9,
          9,
          8,
          1,
          9,
          8,
          6,
          6,
          7,
          1,
          7,
          1,
          5,
          6,
          6,
          6,
          6,
          5,
          1,
          5,
          1,
          4,
          4,
          3,
          4,
          4,
          1,
          4,
          4,
          3,
          3,
          1,
          3,
          3,
          2,
          2,
          1,
          2,
          2,
          2,
          2,
          2,
          2,
          2,
          2,
          2,
          2,
          2,
          2,
          2,
          1
         ]
        },
        {
         "name": "Bar",
         "type": "bar",
         "width": 0.5,
         "x": [
          0.42,
          0.67,
          0.75,
          0.83,
          0.92,
          1,
          2,
          3,
          4,
          5,
          6,
          7,
          8,
          9,
          10,
          11,
          12,
          13,
          14,
          14.5,
          15,
          16,
          17,
          18,
          19,
          20,
          20.5,
          21,
          22,
          23,
          23.5,
          24,
          24.5,
          25,
          26,
          27,
          28,
          28.5,
          29,
          30,
          30.5,
          31,
          32,
          32.5,
          33,
          34,
          34.5,
          35,
          36,
          36.5,
          37,
          38,
          39,
          40,
          40.5,
          41,
          42,
          43,
          44,
          45,
          45.5,
          46,
          47,
          48,
          49,
          50,
          51,
          52,
          53,
          54,
          55,
          55.5,
          56,
          57,
          58,
          59,
          60,
          61,
          62,
          63,
          64,
          65,
          66,
          70,
          70.5,
          71,
          74,
          80
         ],
         "y": [
          1,
          1,
          30,
          1,
          1,
          27,
          26,
          25,
          25,
          25,
          24,
          23,
          22,
          20,
          18,
          18,
          18,
          18,
          17,
          2,
          17,
          15,
          15,
          15,
          15,
          14,
          1,
          13,
          13,
          13,
          1,
          12,
          1,
          11,
          10,
          10,
          10,
          9,
          9,
          8,
          1,
          9,
          8,
          6,
          6,
          7,
          1,
          7,
          1,
          5,
          6,
          6,
          6,
          6,
          5,
          1,
          5,
          1,
          4,
          4,
          3,
          4,
          4,
          1,
          4,
          4,
          3,
          3,
          1,
          3,
          3,
          2,
          2,
          1,
          2,
          2,
          2,
          2,
          2,
          2,
          2,
          2,
          2,
          2,
          2,
          2,
          2,
          1
         ]
        }
       ],
       "layout": {
        "template": {
         "data": {
          "bar": [
           {
            "error_x": {
             "color": "#2a3f5f"
            },
            "error_y": {
             "color": "#2a3f5f"
            },
            "marker": {
             "line": {
              "color": "#E5ECF6",
              "width": 0.5
             },
             "pattern": {
              "fillmode": "overlay",
              "size": 10,
              "solidity": 0.2
             }
            },
            "type": "bar"
           }
          ],
          "barpolar": [
           {
            "marker": {
             "line": {
              "color": "#E5ECF6",
              "width": 0.5
             },
             "pattern": {
              "fillmode": "overlay",
              "size": 10,
              "solidity": 0.2
             }
            },
            "type": "barpolar"
           }
          ],
          "carpet": [
           {
            "aaxis": {
             "endlinecolor": "#2a3f5f",
             "gridcolor": "white",
             "linecolor": "white",
             "minorgridcolor": "white",
             "startlinecolor": "#2a3f5f"
            },
            "baxis": {
             "endlinecolor": "#2a3f5f",
             "gridcolor": "white",
             "linecolor": "white",
             "minorgridcolor": "white",
             "startlinecolor": "#2a3f5f"
            },
            "type": "carpet"
           }
          ],
          "choropleth": [
           {
            "colorbar": {
             "outlinewidth": 0,
             "ticks": ""
            },
            "type": "choropleth"
           }
          ],
          "contour": [
           {
            "colorbar": {
             "outlinewidth": 0,
             "ticks": ""
            },
            "colorscale": [
             [
              0,
              "#0d0887"
             ],
             [
              0.1111111111111111,
              "#46039f"
             ],
             [
              0.2222222222222222,
              "#7201a8"
             ],
             [
              0.3333333333333333,
              "#9c179e"
             ],
             [
              0.4444444444444444,
              "#bd3786"
             ],
             [
              0.5555555555555556,
              "#d8576b"
             ],
             [
              0.6666666666666666,
              "#ed7953"
             ],
             [
              0.7777777777777778,
              "#fb9f3a"
             ],
             [
              0.8888888888888888,
              "#fdca26"
             ],
             [
              1,
              "#f0f921"
             ]
            ],
            "type": "contour"
           }
          ],
          "contourcarpet": [
           {
            "colorbar": {
             "outlinewidth": 0,
             "ticks": ""
            },
            "type": "contourcarpet"
           }
          ],
          "heatmap": [
           {
            "colorbar": {
             "outlinewidth": 0,
             "ticks": ""
            },
            "colorscale": [
             [
              0,
              "#0d0887"
             ],
             [
              0.1111111111111111,
              "#46039f"
             ],
             [
              0.2222222222222222,
              "#7201a8"
             ],
             [
              0.3333333333333333,
              "#9c179e"
             ],
             [
              0.4444444444444444,
              "#bd3786"
             ],
             [
              0.5555555555555556,
              "#d8576b"
             ],
             [
              0.6666666666666666,
              "#ed7953"
             ],
             [
              0.7777777777777778,
              "#fb9f3a"
             ],
             [
              0.8888888888888888,
              "#fdca26"
             ],
             [
              1,
              "#f0f921"
             ]
            ],
            "type": "heatmap"
           }
          ],
          "heatmapgl": [
           {
            "colorbar": {
             "outlinewidth": 0,
             "ticks": ""
            },
            "colorscale": [
             [
              0,
              "#0d0887"
             ],
             [
              0.1111111111111111,
              "#46039f"
             ],
             [
              0.2222222222222222,
              "#7201a8"
             ],
             [
              0.3333333333333333,
              "#9c179e"
             ],
             [
              0.4444444444444444,
              "#bd3786"
             ],
             [
              0.5555555555555556,
              "#d8576b"
             ],
             [
              0.6666666666666666,
              "#ed7953"
             ],
             [
              0.7777777777777778,
              "#fb9f3a"
             ],
             [
              0.8888888888888888,
              "#fdca26"
             ],
             [
              1,
              "#f0f921"
             ]
            ],
            "type": "heatmapgl"
           }
          ],
          "histogram": [
           {
            "marker": {
             "pattern": {
              "fillmode": "overlay",
              "size": 10,
              "solidity": 0.2
             }
            },
            "type": "histogram"
           }
          ],
          "histogram2d": [
           {
            "colorbar": {
             "outlinewidth": 0,
             "ticks": ""
            },
            "colorscale": [
             [
              0,
              "#0d0887"
             ],
             [
              0.1111111111111111,
              "#46039f"
             ],
             [
              0.2222222222222222,
              "#7201a8"
             ],
             [
              0.3333333333333333,
              "#9c179e"
             ],
             [
              0.4444444444444444,
              "#bd3786"
             ],
             [
              0.5555555555555556,
              "#d8576b"
             ],
             [
              0.6666666666666666,
              "#ed7953"
             ],
             [
              0.7777777777777778,
              "#fb9f3a"
             ],
             [
              0.8888888888888888,
              "#fdca26"
             ],
             [
              1,
              "#f0f921"
             ]
            ],
            "type": "histogram2d"
           }
          ],
          "histogram2dcontour": [
           {
            "colorbar": {
             "outlinewidth": 0,
             "ticks": ""
            },
            "colorscale": [
             [
              0,
              "#0d0887"
             ],
             [
              0.1111111111111111,
              "#46039f"
             ],
             [
              0.2222222222222222,
              "#7201a8"
             ],
             [
              0.3333333333333333,
              "#9c179e"
             ],
             [
              0.4444444444444444,
              "#bd3786"
             ],
             [
              0.5555555555555556,
              "#d8576b"
             ],
             [
              0.6666666666666666,
              "#ed7953"
             ],
             [
              0.7777777777777778,
              "#fb9f3a"
             ],
             [
              0.8888888888888888,
              "#fdca26"
             ],
             [
              1,
              "#f0f921"
             ]
            ],
            "type": "histogram2dcontour"
           }
          ],
          "mesh3d": [
           {
            "colorbar": {
             "outlinewidth": 0,
             "ticks": ""
            },
            "type": "mesh3d"
           }
          ],
          "parcoords": [
           {
            "line": {
             "colorbar": {
              "outlinewidth": 0,
              "ticks": ""
             }
            },
            "type": "parcoords"
           }
          ],
          "pie": [
           {
            "automargin": true,
            "type": "pie"
           }
          ],
          "scatter": [
           {
            "fillpattern": {
             "fillmode": "overlay",
             "size": 10,
             "solidity": 0.2
            },
            "type": "scatter"
           }
          ],
          "scatter3d": [
           {
            "line": {
             "colorbar": {
              "outlinewidth": 0,
              "ticks": ""
             }
            },
            "marker": {
             "colorbar": {
              "outlinewidth": 0,
              "ticks": ""
             }
            },
            "type": "scatter3d"
           }
          ],
          "scattercarpet": [
           {
            "marker": {
             "colorbar": {
              "outlinewidth": 0,
              "ticks": ""
             }
            },
            "type": "scattercarpet"
           }
          ],
          "scattergeo": [
           {
            "marker": {
             "colorbar": {
              "outlinewidth": 0,
              "ticks": ""
             }
            },
            "type": "scattergeo"
           }
          ],
          "scattergl": [
           {
            "marker": {
             "colorbar": {
              "outlinewidth": 0,
              "ticks": ""
             }
            },
            "type": "scattergl"
           }
          ],
          "scattermapbox": [
           {
            "marker": {
             "colorbar": {
              "outlinewidth": 0,
              "ticks": ""
             }
            },
            "type": "scattermapbox"
           }
          ],
          "scatterpolar": [
           {
            "marker": {
             "colorbar": {
              "outlinewidth": 0,
              "ticks": ""
             }
            },
            "type": "scatterpolar"
           }
          ],
          "scatterpolargl": [
           {
            "marker": {
             "colorbar": {
              "outlinewidth": 0,
              "ticks": ""
             }
            },
            "type": "scatterpolargl"
           }
          ],
          "scatterternary": [
           {
            "marker": {
             "colorbar": {
              "outlinewidth": 0,
              "ticks": ""
             }
            },
            "type": "scatterternary"
           }
          ],
          "surface": [
           {
            "colorbar": {
             "outlinewidth": 0,
             "ticks": ""
            },
            "colorscale": [
             [
              0,
              "#0d0887"
             ],
             [
              0.1111111111111111,
              "#46039f"
             ],
             [
              0.2222222222222222,
              "#7201a8"
             ],
             [
              0.3333333333333333,
              "#9c179e"
             ],
             [
              0.4444444444444444,
              "#bd3786"
             ],
             [
              0.5555555555555556,
              "#d8576b"
             ],
             [
              0.6666666666666666,
              "#ed7953"
             ],
             [
              0.7777777777777778,
              "#fb9f3a"
             ],
             [
              0.8888888888888888,
              "#fdca26"
             ],
             [
              1,
              "#f0f921"
             ]
            ],
            "type": "surface"
           }
          ],
          "table": [
           {
            "cells": {
             "fill": {
              "color": "#EBF0F8"
             },
             "line": {
              "color": "white"
             }
            },
            "header": {
             "fill": {
              "color": "#C8D4E3"
             },
             "line": {
              "color": "white"
             }
            },
            "type": "table"
           }
          ]
         },
         "layout": {
          "annotationdefaults": {
           "arrowcolor": "#2a3f5f",
           "arrowhead": 0,
           "arrowwidth": 1
          },
          "autotypenumbers": "strict",
          "coloraxis": {
           "colorbar": {
            "outlinewidth": 0,
            "ticks": ""
           }
          },
          "colorscale": {
           "diverging": [
            [
             0,
             "#8e0152"
            ],
            [
             0.1,
             "#c51b7d"
            ],
            [
             0.2,
             "#de77ae"
            ],
            [
             0.3,
             "#f1b6da"
            ],
            [
             0.4,
             "#fde0ef"
            ],
            [
             0.5,
             "#f7f7f7"
            ],
            [
             0.6,
             "#e6f5d0"
            ],
            [
             0.7,
             "#b8e186"
            ],
            [
             0.8,
             "#7fbc41"
            ],
            [
             0.9,
             "#4d9221"
            ],
            [
             1,
             "#276419"
            ]
           ],
           "sequential": [
            [
             0,
             "#0d0887"
            ],
            [
             0.1111111111111111,
             "#46039f"
            ],
            [
             0.2222222222222222,
             "#7201a8"
            ],
            [
             0.3333333333333333,
             "#9c179e"
            ],
            [
             0.4444444444444444,
             "#bd3786"
            ],
            [
             0.5555555555555556,
             "#d8576b"
            ],
            [
             0.6666666666666666,
             "#ed7953"
            ],
            [
             0.7777777777777778,
             "#fb9f3a"
            ],
            [
             0.8888888888888888,
             "#fdca26"
            ],
            [
             1,
             "#f0f921"
            ]
           ],
           "sequentialminus": [
            [
             0,
             "#0d0887"
            ],
            [
             0.1111111111111111,
             "#46039f"
            ],
            [
             0.2222222222222222,
             "#7201a8"
            ],
            [
             0.3333333333333333,
             "#9c179e"
            ],
            [
             0.4444444444444444,
             "#bd3786"
            ],
            [
             0.5555555555555556,
             "#d8576b"
            ],
            [
             0.6666666666666666,
             "#ed7953"
            ],
            [
             0.7777777777777778,
             "#fb9f3a"
            ],
            [
             0.8888888888888888,
             "#fdca26"
            ],
            [
             1,
             "#f0f921"
            ]
           ]
          },
          "colorway": [
           "#636efa",
           "#EF553B",
           "#00cc96",
           "#ab63fa",
           "#FFA15A",
           "#19d3f3",
           "#FF6692",
           "#B6E880",
           "#FF97FF",
           "#FECB52"
          ],
          "font": {
           "color": "#2a3f5f"
          },
          "geo": {
           "bgcolor": "white",
           "lakecolor": "white",
           "landcolor": "#E5ECF6",
           "showlakes": true,
           "showland": true,
           "subunitcolor": "white"
          },
          "hoverlabel": {
           "align": "left"
          },
          "hovermode": "closest",
          "mapbox": {
           "style": "light"
          },
          "paper_bgcolor": "white",
          "plot_bgcolor": "#E5ECF6",
          "polar": {
           "angularaxis": {
            "gridcolor": "white",
            "linecolor": "white",
            "ticks": ""
           },
           "bgcolor": "#E5ECF6",
           "radialaxis": {
            "gridcolor": "white",
            "linecolor": "white",
            "ticks": ""
           }
          },
          "scene": {
           "xaxis": {
            "backgroundcolor": "#E5ECF6",
            "gridcolor": "white",
            "gridwidth": 2,
            "linecolor": "white",
            "showbackground": true,
            "ticks": "",
            "zerolinecolor": "white"
           },
           "yaxis": {
            "backgroundcolor": "#E5ECF6",
            "gridcolor": "white",
            "gridwidth": 2,
            "linecolor": "white",
            "showbackground": true,
            "ticks": "",
            "zerolinecolor": "white"
           },
           "zaxis": {
            "backgroundcolor": "#E5ECF6",
            "gridcolor": "white",
            "gridwidth": 2,
            "linecolor": "white",
            "showbackground": true,
            "ticks": "",
            "zerolinecolor": "white"
           }
          },
          "shapedefaults": {
           "line": {
            "color": "#2a3f5f"
           }
          },
          "ternary": {
           "aaxis": {
            "gridcolor": "white",
            "linecolor": "white",
            "ticks": ""
           },
           "baxis": {
            "gridcolor": "white",
            "linecolor": "white",
            "ticks": ""
           },
           "bgcolor": "#E5ECF6",
           "caxis": {
            "gridcolor": "white",
            "linecolor": "white",
            "ticks": ""
           }
          },
          "title": {
           "x": 0.05
          },
          "xaxis": {
           "automargin": true,
           "gridcolor": "white",
           "linecolor": "white",
           "ticks": "",
           "title": {
            "standoff": 15
           },
           "zerolinecolor": "white",
           "zerolinewidth": 2
          },
          "yaxis": {
           "automargin": true,
           "gridcolor": "white",
           "linecolor": "white",
           "ticks": "",
           "title": {
            "standoff": 15
           },
           "zerolinecolor": "white",
           "zerolinewidth": 2
          }
         }
        },
        "title": {
         "text": "Edad"
        }
       }
      }
     },
     "metadata": {},
     "output_type": "display_data"
    },
    {
     "data": {
      "application/vnd.plotly.v1+json": {
       "config": {
        "plotlyServerURL": "https://plot.ly"
       },
       "data": [
        {
         "line": {
          "color": "royalblue",
          "dash": "dot",
          "width": 1
         },
         "name": "Line",
         "type": "scatter",
         "x": [
          0,
          1,
          2,
          3,
          4,
          5
         ],
         "y": [
          471,
          183,
          25,
          18,
          12,
          5
         ]
        },
        {
         "name": "Bar",
         "type": "bar",
         "width": 0.5,
         "x": [
          0,
          1,
          2,
          3,
          4,
          5
         ],
         "y": [
          471,
          183,
          25,
          18,
          12,
          5
         ]
        }
       ],
       "layout": {
        "template": {
         "data": {
          "bar": [
           {
            "error_x": {
             "color": "#2a3f5f"
            },
            "error_y": {
             "color": "#2a3f5f"
            },
            "marker": {
             "line": {
              "color": "#E5ECF6",
              "width": 0.5
             },
             "pattern": {
              "fillmode": "overlay",
              "size": 10,
              "solidity": 0.2
             }
            },
            "type": "bar"
           }
          ],
          "barpolar": [
           {
            "marker": {
             "line": {
              "color": "#E5ECF6",
              "width": 0.5
             },
             "pattern": {
              "fillmode": "overlay",
              "size": 10,
              "solidity": 0.2
             }
            },
            "type": "barpolar"
           }
          ],
          "carpet": [
           {
            "aaxis": {
             "endlinecolor": "#2a3f5f",
             "gridcolor": "white",
             "linecolor": "white",
             "minorgridcolor": "white",
             "startlinecolor": "#2a3f5f"
            },
            "baxis": {
             "endlinecolor": "#2a3f5f",
             "gridcolor": "white",
             "linecolor": "white",
             "minorgridcolor": "white",
             "startlinecolor": "#2a3f5f"
            },
            "type": "carpet"
           }
          ],
          "choropleth": [
           {
            "colorbar": {
             "outlinewidth": 0,
             "ticks": ""
            },
            "type": "choropleth"
           }
          ],
          "contour": [
           {
            "colorbar": {
             "outlinewidth": 0,
             "ticks": ""
            },
            "colorscale": [
             [
              0,
              "#0d0887"
             ],
             [
              0.1111111111111111,
              "#46039f"
             ],
             [
              0.2222222222222222,
              "#7201a8"
             ],
             [
              0.3333333333333333,
              "#9c179e"
             ],
             [
              0.4444444444444444,
              "#bd3786"
             ],
             [
              0.5555555555555556,
              "#d8576b"
             ],
             [
              0.6666666666666666,
              "#ed7953"
             ],
             [
              0.7777777777777778,
              "#fb9f3a"
             ],
             [
              0.8888888888888888,
              "#fdca26"
             ],
             [
              1,
              "#f0f921"
             ]
            ],
            "type": "contour"
           }
          ],
          "contourcarpet": [
           {
            "colorbar": {
             "outlinewidth": 0,
             "ticks": ""
            },
            "type": "contourcarpet"
           }
          ],
          "heatmap": [
           {
            "colorbar": {
             "outlinewidth": 0,
             "ticks": ""
            },
            "colorscale": [
             [
              0,
              "#0d0887"
             ],
             [
              0.1111111111111111,
              "#46039f"
             ],
             [
              0.2222222222222222,
              "#7201a8"
             ],
             [
              0.3333333333333333,
              "#9c179e"
             ],
             [
              0.4444444444444444,
              "#bd3786"
             ],
             [
              0.5555555555555556,
              "#d8576b"
             ],
             [
              0.6666666666666666,
              "#ed7953"
             ],
             [
              0.7777777777777778,
              "#fb9f3a"
             ],
             [
              0.8888888888888888,
              "#fdca26"
             ],
             [
              1,
              "#f0f921"
             ]
            ],
            "type": "heatmap"
           }
          ],
          "heatmapgl": [
           {
            "colorbar": {
             "outlinewidth": 0,
             "ticks": ""
            },
            "colorscale": [
             [
              0,
              "#0d0887"
             ],
             [
              0.1111111111111111,
              "#46039f"
             ],
             [
              0.2222222222222222,
              "#7201a8"
             ],
             [
              0.3333333333333333,
              "#9c179e"
             ],
             [
              0.4444444444444444,
              "#bd3786"
             ],
             [
              0.5555555555555556,
              "#d8576b"
             ],
             [
              0.6666666666666666,
              "#ed7953"
             ],
             [
              0.7777777777777778,
              "#fb9f3a"
             ],
             [
              0.8888888888888888,
              "#fdca26"
             ],
             [
              1,
              "#f0f921"
             ]
            ],
            "type": "heatmapgl"
           }
          ],
          "histogram": [
           {
            "marker": {
             "pattern": {
              "fillmode": "overlay",
              "size": 10,
              "solidity": 0.2
             }
            },
            "type": "histogram"
           }
          ],
          "histogram2d": [
           {
            "colorbar": {
             "outlinewidth": 0,
             "ticks": ""
            },
            "colorscale": [
             [
              0,
              "#0d0887"
             ],
             [
              0.1111111111111111,
              "#46039f"
             ],
             [
              0.2222222222222222,
              "#7201a8"
             ],
             [
              0.3333333333333333,
              "#9c179e"
             ],
             [
              0.4444444444444444,
              "#bd3786"
             ],
             [
              0.5555555555555556,
              "#d8576b"
             ],
             [
              0.6666666666666666,
              "#ed7953"
             ],
             [
              0.7777777777777778,
              "#fb9f3a"
             ],
             [
              0.8888888888888888,
              "#fdca26"
             ],
             [
              1,
              "#f0f921"
             ]
            ],
            "type": "histogram2d"
           }
          ],
          "histogram2dcontour": [
           {
            "colorbar": {
             "outlinewidth": 0,
             "ticks": ""
            },
            "colorscale": [
             [
              0,
              "#0d0887"
             ],
             [
              0.1111111111111111,
              "#46039f"
             ],
             [
              0.2222222222222222,
              "#7201a8"
             ],
             [
              0.3333333333333333,
              "#9c179e"
             ],
             [
              0.4444444444444444,
              "#bd3786"
             ],
             [
              0.5555555555555556,
              "#d8576b"
             ],
             [
              0.6666666666666666,
              "#ed7953"
             ],
             [
              0.7777777777777778,
              "#fb9f3a"
             ],
             [
              0.8888888888888888,
              "#fdca26"
             ],
             [
              1,
              "#f0f921"
             ]
            ],
            "type": "histogram2dcontour"
           }
          ],
          "mesh3d": [
           {
            "colorbar": {
             "outlinewidth": 0,
             "ticks": ""
            },
            "type": "mesh3d"
           }
          ],
          "parcoords": [
           {
            "line": {
             "colorbar": {
              "outlinewidth": 0,
              "ticks": ""
             }
            },
            "type": "parcoords"
           }
          ],
          "pie": [
           {
            "automargin": true,
            "type": "pie"
           }
          ],
          "scatter": [
           {
            "fillpattern": {
             "fillmode": "overlay",
             "size": 10,
             "solidity": 0.2
            },
            "type": "scatter"
           }
          ],
          "scatter3d": [
           {
            "line": {
             "colorbar": {
              "outlinewidth": 0,
              "ticks": ""
             }
            },
            "marker": {
             "colorbar": {
              "outlinewidth": 0,
              "ticks": ""
             }
            },
            "type": "scatter3d"
           }
          ],
          "scattercarpet": [
           {
            "marker": {
             "colorbar": {
              "outlinewidth": 0,
              "ticks": ""
             }
            },
            "type": "scattercarpet"
           }
          ],
          "scattergeo": [
           {
            "marker": {
             "colorbar": {
              "outlinewidth": 0,
              "ticks": ""
             }
            },
            "type": "scattergeo"
           }
          ],
          "scattergl": [
           {
            "marker": {
             "colorbar": {
              "outlinewidth": 0,
              "ticks": ""
             }
            },
            "type": "scattergl"
           }
          ],
          "scattermapbox": [
           {
            "marker": {
             "colorbar": {
              "outlinewidth": 0,
              "ticks": ""
             }
            },
            "type": "scattermapbox"
           }
          ],
          "scatterpolar": [
           {
            "marker": {
             "colorbar": {
              "outlinewidth": 0,
              "ticks": ""
             }
            },
            "type": "scatterpolar"
           }
          ],
          "scatterpolargl": [
           {
            "marker": {
             "colorbar": {
              "outlinewidth": 0,
              "ticks": ""
             }
            },
            "type": "scatterpolargl"
           }
          ],
          "scatterternary": [
           {
            "marker": {
             "colorbar": {
              "outlinewidth": 0,
              "ticks": ""
             }
            },
            "type": "scatterternary"
           }
          ],
          "surface": [
           {
            "colorbar": {
             "outlinewidth": 0,
             "ticks": ""
            },
            "colorscale": [
             [
              0,
              "#0d0887"
             ],
             [
              0.1111111111111111,
              "#46039f"
             ],
             [
              0.2222222222222222,
              "#7201a8"
             ],
             [
              0.3333333333333333,
              "#9c179e"
             ],
             [
              0.4444444444444444,
              "#bd3786"
             ],
             [
              0.5555555555555556,
              "#d8576b"
             ],
             [
              0.6666666666666666,
              "#ed7953"
             ],
             [
              0.7777777777777778,
              "#fb9f3a"
             ],
             [
              0.8888888888888888,
              "#fdca26"
             ],
             [
              1,
              "#f0f921"
             ]
            ],
            "type": "surface"
           }
          ],
          "table": [
           {
            "cells": {
             "fill": {
              "color": "#EBF0F8"
             },
             "line": {
              "color": "white"
             }
            },
            "header": {
             "fill": {
              "color": "#C8D4E3"
             },
             "line": {
              "color": "white"
             }
            },
            "type": "table"
           }
          ]
         },
         "layout": {
          "annotationdefaults": {
           "arrowcolor": "#2a3f5f",
           "arrowhead": 0,
           "arrowwidth": 1
          },
          "autotypenumbers": "strict",
          "coloraxis": {
           "colorbar": {
            "outlinewidth": 0,
            "ticks": ""
           }
          },
          "colorscale": {
           "diverging": [
            [
             0,
             "#8e0152"
            ],
            [
             0.1,
             "#c51b7d"
            ],
            [
             0.2,
             "#de77ae"
            ],
            [
             0.3,
             "#f1b6da"
            ],
            [
             0.4,
             "#fde0ef"
            ],
            [
             0.5,
             "#f7f7f7"
            ],
            [
             0.6,
             "#e6f5d0"
            ],
            [
             0.7,
             "#b8e186"
            ],
            [
             0.8,
             "#7fbc41"
            ],
            [
             0.9,
             "#4d9221"
            ],
            [
             1,
             "#276419"
            ]
           ],
           "sequential": [
            [
             0,
             "#0d0887"
            ],
            [
             0.1111111111111111,
             "#46039f"
            ],
            [
             0.2222222222222222,
             "#7201a8"
            ],
            [
             0.3333333333333333,
             "#9c179e"
            ],
            [
             0.4444444444444444,
             "#bd3786"
            ],
            [
             0.5555555555555556,
             "#d8576b"
            ],
            [
             0.6666666666666666,
             "#ed7953"
            ],
            [
             0.7777777777777778,
             "#fb9f3a"
            ],
            [
             0.8888888888888888,
             "#fdca26"
            ],
            [
             1,
             "#f0f921"
            ]
           ],
           "sequentialminus": [
            [
             0,
             "#0d0887"
            ],
            [
             0.1111111111111111,
             "#46039f"
            ],
            [
             0.2222222222222222,
             "#7201a8"
            ],
            [
             0.3333333333333333,
             "#9c179e"
            ],
            [
             0.4444444444444444,
             "#bd3786"
            ],
            [
             0.5555555555555556,
             "#d8576b"
            ],
            [
             0.6666666666666666,
             "#ed7953"
            ],
            [
             0.7777777777777778,
             "#fb9f3a"
            ],
            [
             0.8888888888888888,
             "#fdca26"
            ],
            [
             1,
             "#f0f921"
            ]
           ]
          },
          "colorway": [
           "#636efa",
           "#EF553B",
           "#00cc96",
           "#ab63fa",
           "#FFA15A",
           "#19d3f3",
           "#FF6692",
           "#B6E880",
           "#FF97FF",
           "#FECB52"
          ],
          "font": {
           "color": "#2a3f5f"
          },
          "geo": {
           "bgcolor": "white",
           "lakecolor": "white",
           "landcolor": "#E5ECF6",
           "showlakes": true,
           "showland": true,
           "subunitcolor": "white"
          },
          "hoverlabel": {
           "align": "left"
          },
          "hovermode": "closest",
          "mapbox": {
           "style": "light"
          },
          "paper_bgcolor": "white",
          "plot_bgcolor": "#E5ECF6",
          "polar": {
           "angularaxis": {
            "gridcolor": "white",
            "linecolor": "white",
            "ticks": ""
           },
           "bgcolor": "#E5ECF6",
           "radialaxis": {
            "gridcolor": "white",
            "linecolor": "white",
            "ticks": ""
           }
          },
          "scene": {
           "xaxis": {
            "backgroundcolor": "#E5ECF6",
            "gridcolor": "white",
            "gridwidth": 2,
            "linecolor": "white",
            "showbackground": true,
            "ticks": "",
            "zerolinecolor": "white"
           },
           "yaxis": {
            "backgroundcolor": "#E5ECF6",
            "gridcolor": "white",
            "gridwidth": 2,
            "linecolor": "white",
            "showbackground": true,
            "ticks": "",
            "zerolinecolor": "white"
           },
           "zaxis": {
            "backgroundcolor": "#E5ECF6",
            "gridcolor": "white",
            "gridwidth": 2,
            "linecolor": "white",
            "showbackground": true,
            "ticks": "",
            "zerolinecolor": "white"
           }
          },
          "shapedefaults": {
           "line": {
            "color": "#2a3f5f"
           }
          },
          "ternary": {
           "aaxis": {
            "gridcolor": "white",
            "linecolor": "white",
            "ticks": ""
           },
           "baxis": {
            "gridcolor": "white",
            "linecolor": "white",
            "ticks": ""
           },
           "bgcolor": "#E5ECF6",
           "caxis": {
            "gridcolor": "white",
            "linecolor": "white",
            "ticks": ""
           }
          },
          "title": {
           "x": 0.05
          },
          "xaxis": {
           "automargin": true,
           "gridcolor": "white",
           "linecolor": "white",
           "ticks": "",
           "title": {
            "standoff": 15
           },
           "zerolinecolor": "white",
           "zerolinewidth": 2
          },
          "yaxis": {
           "automargin": true,
           "gridcolor": "white",
           "linecolor": "white",
           "ticks": "",
           "title": {
            "standoff": 15
           },
           "zerolinecolor": "white",
           "zerolinewidth": 2
          }
         }
        },
        "title": {
         "text": "HermEsp"
        }
       }
      }
     },
     "metadata": {},
     "output_type": "display_data"
    },
    {
     "data": {
      "application/vnd.plotly.v1+json": {
       "config": {
        "plotlyServerURL": "https://plot.ly"
       },
       "data": [
        {
         "line": {
          "color": "royalblue",
          "dash": "dot",
          "width": 1
         },
         "name": "Line",
         "type": "scatter",
         "x": [
          0,
          1,
          2,
          3,
          4,
          5,
          6
         ],
         "y": [
          521,
          110,
          68,
          5,
          5,
          4,
          1
         ]
        },
        {
         "name": "Bar",
         "type": "bar",
         "width": 0.5,
         "x": [
          0,
          1,
          2,
          3,
          4,
          5,
          6
         ],
         "y": [
          521,
          110,
          68,
          5,
          5,
          4,
          1
         ]
        }
       ],
       "layout": {
        "template": {
         "data": {
          "bar": [
           {
            "error_x": {
             "color": "#2a3f5f"
            },
            "error_y": {
             "color": "#2a3f5f"
            },
            "marker": {
             "line": {
              "color": "#E5ECF6",
              "width": 0.5
             },
             "pattern": {
              "fillmode": "overlay",
              "size": 10,
              "solidity": 0.2
             }
            },
            "type": "bar"
           }
          ],
          "barpolar": [
           {
            "marker": {
             "line": {
              "color": "#E5ECF6",
              "width": 0.5
             },
             "pattern": {
              "fillmode": "overlay",
              "size": 10,
              "solidity": 0.2
             }
            },
            "type": "barpolar"
           }
          ],
          "carpet": [
           {
            "aaxis": {
             "endlinecolor": "#2a3f5f",
             "gridcolor": "white",
             "linecolor": "white",
             "minorgridcolor": "white",
             "startlinecolor": "#2a3f5f"
            },
            "baxis": {
             "endlinecolor": "#2a3f5f",
             "gridcolor": "white",
             "linecolor": "white",
             "minorgridcolor": "white",
             "startlinecolor": "#2a3f5f"
            },
            "type": "carpet"
           }
          ],
          "choropleth": [
           {
            "colorbar": {
             "outlinewidth": 0,
             "ticks": ""
            },
            "type": "choropleth"
           }
          ],
          "contour": [
           {
            "colorbar": {
             "outlinewidth": 0,
             "ticks": ""
            },
            "colorscale": [
             [
              0,
              "#0d0887"
             ],
             [
              0.1111111111111111,
              "#46039f"
             ],
             [
              0.2222222222222222,
              "#7201a8"
             ],
             [
              0.3333333333333333,
              "#9c179e"
             ],
             [
              0.4444444444444444,
              "#bd3786"
             ],
             [
              0.5555555555555556,
              "#d8576b"
             ],
             [
              0.6666666666666666,
              "#ed7953"
             ],
             [
              0.7777777777777778,
              "#fb9f3a"
             ],
             [
              0.8888888888888888,
              "#fdca26"
             ],
             [
              1,
              "#f0f921"
             ]
            ],
            "type": "contour"
           }
          ],
          "contourcarpet": [
           {
            "colorbar": {
             "outlinewidth": 0,
             "ticks": ""
            },
            "type": "contourcarpet"
           }
          ],
          "heatmap": [
           {
            "colorbar": {
             "outlinewidth": 0,
             "ticks": ""
            },
            "colorscale": [
             [
              0,
              "#0d0887"
             ],
             [
              0.1111111111111111,
              "#46039f"
             ],
             [
              0.2222222222222222,
              "#7201a8"
             ],
             [
              0.3333333333333333,
              "#9c179e"
             ],
             [
              0.4444444444444444,
              "#bd3786"
             ],
             [
              0.5555555555555556,
              "#d8576b"
             ],
             [
              0.6666666666666666,
              "#ed7953"
             ],
             [
              0.7777777777777778,
              "#fb9f3a"
             ],
             [
              0.8888888888888888,
              "#fdca26"
             ],
             [
              1,
              "#f0f921"
             ]
            ],
            "type": "heatmap"
           }
          ],
          "heatmapgl": [
           {
            "colorbar": {
             "outlinewidth": 0,
             "ticks": ""
            },
            "colorscale": [
             [
              0,
              "#0d0887"
             ],
             [
              0.1111111111111111,
              "#46039f"
             ],
             [
              0.2222222222222222,
              "#7201a8"
             ],
             [
              0.3333333333333333,
              "#9c179e"
             ],
             [
              0.4444444444444444,
              "#bd3786"
             ],
             [
              0.5555555555555556,
              "#d8576b"
             ],
             [
              0.6666666666666666,
              "#ed7953"
             ],
             [
              0.7777777777777778,
              "#fb9f3a"
             ],
             [
              0.8888888888888888,
              "#fdca26"
             ],
             [
              1,
              "#f0f921"
             ]
            ],
            "type": "heatmapgl"
           }
          ],
          "histogram": [
           {
            "marker": {
             "pattern": {
              "fillmode": "overlay",
              "size": 10,
              "solidity": 0.2
             }
            },
            "type": "histogram"
           }
          ],
          "histogram2d": [
           {
            "colorbar": {
             "outlinewidth": 0,
             "ticks": ""
            },
            "colorscale": [
             [
              0,
              "#0d0887"
             ],
             [
              0.1111111111111111,
              "#46039f"
             ],
             [
              0.2222222222222222,
              "#7201a8"
             ],
             [
              0.3333333333333333,
              "#9c179e"
             ],
             [
              0.4444444444444444,
              "#bd3786"
             ],
             [
              0.5555555555555556,
              "#d8576b"
             ],
             [
              0.6666666666666666,
              "#ed7953"
             ],
             [
              0.7777777777777778,
              "#fb9f3a"
             ],
             [
              0.8888888888888888,
              "#fdca26"
             ],
             [
              1,
              "#f0f921"
             ]
            ],
            "type": "histogram2d"
           }
          ],
          "histogram2dcontour": [
           {
            "colorbar": {
             "outlinewidth": 0,
             "ticks": ""
            },
            "colorscale": [
             [
              0,
              "#0d0887"
             ],
             [
              0.1111111111111111,
              "#46039f"
             ],
             [
              0.2222222222222222,
              "#7201a8"
             ],
             [
              0.3333333333333333,
              "#9c179e"
             ],
             [
              0.4444444444444444,
              "#bd3786"
             ],
             [
              0.5555555555555556,
              "#d8576b"
             ],
             [
              0.6666666666666666,
              "#ed7953"
             ],
             [
              0.7777777777777778,
              "#fb9f3a"
             ],
             [
              0.8888888888888888,
              "#fdca26"
             ],
             [
              1,
              "#f0f921"
             ]
            ],
            "type": "histogram2dcontour"
           }
          ],
          "mesh3d": [
           {
            "colorbar": {
             "outlinewidth": 0,
             "ticks": ""
            },
            "type": "mesh3d"
           }
          ],
          "parcoords": [
           {
            "line": {
             "colorbar": {
              "outlinewidth": 0,
              "ticks": ""
             }
            },
            "type": "parcoords"
           }
          ],
          "pie": [
           {
            "automargin": true,
            "type": "pie"
           }
          ],
          "scatter": [
           {
            "fillpattern": {
             "fillmode": "overlay",
             "size": 10,
             "solidity": 0.2
            },
            "type": "scatter"
           }
          ],
          "scatter3d": [
           {
            "line": {
             "colorbar": {
              "outlinewidth": 0,
              "ticks": ""
             }
            },
            "marker": {
             "colorbar": {
              "outlinewidth": 0,
              "ticks": ""
             }
            },
            "type": "scatter3d"
           }
          ],
          "scattercarpet": [
           {
            "marker": {
             "colorbar": {
              "outlinewidth": 0,
              "ticks": ""
             }
            },
            "type": "scattercarpet"
           }
          ],
          "scattergeo": [
           {
            "marker": {
             "colorbar": {
              "outlinewidth": 0,
              "ticks": ""
             }
            },
            "type": "scattergeo"
           }
          ],
          "scattergl": [
           {
            "marker": {
             "colorbar": {
              "outlinewidth": 0,
              "ticks": ""
             }
            },
            "type": "scattergl"
           }
          ],
          "scattermapbox": [
           {
            "marker": {
             "colorbar": {
              "outlinewidth": 0,
              "ticks": ""
             }
            },
            "type": "scattermapbox"
           }
          ],
          "scatterpolar": [
           {
            "marker": {
             "colorbar": {
              "outlinewidth": 0,
              "ticks": ""
             }
            },
            "type": "scatterpolar"
           }
          ],
          "scatterpolargl": [
           {
            "marker": {
             "colorbar": {
              "outlinewidth": 0,
              "ticks": ""
             }
            },
            "type": "scatterpolargl"
           }
          ],
          "scatterternary": [
           {
            "marker": {
             "colorbar": {
              "outlinewidth": 0,
              "ticks": ""
             }
            },
            "type": "scatterternary"
           }
          ],
          "surface": [
           {
            "colorbar": {
             "outlinewidth": 0,
             "ticks": ""
            },
            "colorscale": [
             [
              0,
              "#0d0887"
             ],
             [
              0.1111111111111111,
              "#46039f"
             ],
             [
              0.2222222222222222,
              "#7201a8"
             ],
             [
              0.3333333333333333,
              "#9c179e"
             ],
             [
              0.4444444444444444,
              "#bd3786"
             ],
             [
              0.5555555555555556,
              "#d8576b"
             ],
             [
              0.6666666666666666,
              "#ed7953"
             ],
             [
              0.7777777777777778,
              "#fb9f3a"
             ],
             [
              0.8888888888888888,
              "#fdca26"
             ],
             [
              1,
              "#f0f921"
             ]
            ],
            "type": "surface"
           }
          ],
          "table": [
           {
            "cells": {
             "fill": {
              "color": "#EBF0F8"
             },
             "line": {
              "color": "white"
             }
            },
            "header": {
             "fill": {
              "color": "#C8D4E3"
             },
             "line": {
              "color": "white"
             }
            },
            "type": "table"
           }
          ]
         },
         "layout": {
          "annotationdefaults": {
           "arrowcolor": "#2a3f5f",
           "arrowhead": 0,
           "arrowwidth": 1
          },
          "autotypenumbers": "strict",
          "coloraxis": {
           "colorbar": {
            "outlinewidth": 0,
            "ticks": ""
           }
          },
          "colorscale": {
           "diverging": [
            [
             0,
             "#8e0152"
            ],
            [
             0.1,
             "#c51b7d"
            ],
            [
             0.2,
             "#de77ae"
            ],
            [
             0.3,
             "#f1b6da"
            ],
            [
             0.4,
             "#fde0ef"
            ],
            [
             0.5,
             "#f7f7f7"
            ],
            [
             0.6,
             "#e6f5d0"
            ],
            [
             0.7,
             "#b8e186"
            ],
            [
             0.8,
             "#7fbc41"
            ],
            [
             0.9,
             "#4d9221"
            ],
            [
             1,
             "#276419"
            ]
           ],
           "sequential": [
            [
             0,
             "#0d0887"
            ],
            [
             0.1111111111111111,
             "#46039f"
            ],
            [
             0.2222222222222222,
             "#7201a8"
            ],
            [
             0.3333333333333333,
             "#9c179e"
            ],
            [
             0.4444444444444444,
             "#bd3786"
            ],
            [
             0.5555555555555556,
             "#d8576b"
            ],
            [
             0.6666666666666666,
             "#ed7953"
            ],
            [
             0.7777777777777778,
             "#fb9f3a"
            ],
            [
             0.8888888888888888,
             "#fdca26"
            ],
            [
             1,
             "#f0f921"
            ]
           ],
           "sequentialminus": [
            [
             0,
             "#0d0887"
            ],
            [
             0.1111111111111111,
             "#46039f"
            ],
            [
             0.2222222222222222,
             "#7201a8"
            ],
            [
             0.3333333333333333,
             "#9c179e"
            ],
            [
             0.4444444444444444,
             "#bd3786"
            ],
            [
             0.5555555555555556,
             "#d8576b"
            ],
            [
             0.6666666666666666,
             "#ed7953"
            ],
            [
             0.7777777777777778,
             "#fb9f3a"
            ],
            [
             0.8888888888888888,
             "#fdca26"
            ],
            [
             1,
             "#f0f921"
            ]
           ]
          },
          "colorway": [
           "#636efa",
           "#EF553B",
           "#00cc96",
           "#ab63fa",
           "#FFA15A",
           "#19d3f3",
           "#FF6692",
           "#B6E880",
           "#FF97FF",
           "#FECB52"
          ],
          "font": {
           "color": "#2a3f5f"
          },
          "geo": {
           "bgcolor": "white",
           "lakecolor": "white",
           "landcolor": "#E5ECF6",
           "showlakes": true,
           "showland": true,
           "subunitcolor": "white"
          },
          "hoverlabel": {
           "align": "left"
          },
          "hovermode": "closest",
          "mapbox": {
           "style": "light"
          },
          "paper_bgcolor": "white",
          "plot_bgcolor": "#E5ECF6",
          "polar": {
           "angularaxis": {
            "gridcolor": "white",
            "linecolor": "white",
            "ticks": ""
           },
           "bgcolor": "#E5ECF6",
           "radialaxis": {
            "gridcolor": "white",
            "linecolor": "white",
            "ticks": ""
           }
          },
          "scene": {
           "xaxis": {
            "backgroundcolor": "#E5ECF6",
            "gridcolor": "white",
            "gridwidth": 2,
            "linecolor": "white",
            "showbackground": true,
            "ticks": "",
            "zerolinecolor": "white"
           },
           "yaxis": {
            "backgroundcolor": "#E5ECF6",
            "gridcolor": "white",
            "gridwidth": 2,
            "linecolor": "white",
            "showbackground": true,
            "ticks": "",
            "zerolinecolor": "white"
           },
           "zaxis": {
            "backgroundcolor": "#E5ECF6",
            "gridcolor": "white",
            "gridwidth": 2,
            "linecolor": "white",
            "showbackground": true,
            "ticks": "",
            "zerolinecolor": "white"
           }
          },
          "shapedefaults": {
           "line": {
            "color": "#2a3f5f"
           }
          },
          "ternary": {
           "aaxis": {
            "gridcolor": "white",
            "linecolor": "white",
            "ticks": ""
           },
           "baxis": {
            "gridcolor": "white",
            "linecolor": "white",
            "ticks": ""
           },
           "bgcolor": "#E5ECF6",
           "caxis": {
            "gridcolor": "white",
            "linecolor": "white",
            "ticks": ""
           }
          },
          "title": {
           "x": 0.05
          },
          "xaxis": {
           "automargin": true,
           "gridcolor": "white",
           "linecolor": "white",
           "ticks": "",
           "title": {
            "standoff": 15
           },
           "zerolinecolor": "white",
           "zerolinewidth": 2
          },
          "yaxis": {
           "automargin": true,
           "gridcolor": "white",
           "linecolor": "white",
           "ticks": "",
           "title": {
            "standoff": 15
           },
           "zerolinecolor": "white",
           "zerolinewidth": 2
          }
         }
        },
        "title": {
         "text": "PadHij"
        }
       }
      }
     },
     "metadata": {},
     "output_type": "display_data"
    }
   ],
   "source": [
    "for data in numeric_graphs_array:\n",
    "    fig = go.Figure(data=data[\"graph_data\"], layout=dict(title=data[\"predictor\"]))\n",
    "    fig.show()"
   ]
  },
  {
   "cell_type": "code",
   "execution_count": 38,
   "metadata": {},
   "outputs": [
    {
     "name": "stdout",
     "output_type": "stream",
     "text": [
      "[1. 2. 3.]\n"
     ]
    },
    {
     "data": {
      "application/vnd.plotly.v1+json": {
       "config": {
        "plotlyServerURL": "https://plot.ly"
       },
       "data": [
        {
         "mode": "markers",
         "name": "Edad",
         "type": "scatter",
         "x": [
          3,
          1,
          3,
          1,
          3,
          1,
          3,
          3,
          2,
          3,
          1,
          3,
          3,
          3,
          2,
          3,
          3,
          2,
          2,
          3,
          1,
          3,
          3,
          1,
          1,
          2,
          1,
          1,
          3,
          3,
          3,
          3,
          2,
          2,
          3,
          3,
          3,
          3,
          1,
          2,
          1,
          2,
          3,
          2,
          3,
          3,
          1,
          1,
          3,
          2,
          3,
          3,
          3,
          2,
          3,
          2,
          3,
          3,
          3,
          2,
          3,
          3,
          3,
          1,
          2,
          3,
          3,
          1,
          3,
          3,
          3,
          1,
          3,
          3,
          1,
          1,
          2,
          2,
          3,
          1,
          3,
          3,
          3,
          3,
          3,
          1,
          3,
          3,
          3,
          3,
          3,
          3,
          2,
          1,
          3,
          2,
          2,
          2,
          1,
          3,
          3,
          3,
          3,
          3,
          3,
          2,
          2,
          2,
          1,
          1,
          3,
          1,
          3,
          3,
          3,
          2,
          2,
          3,
          3,
          2,
          2,
          2,
          1,
          3,
          3,
          1,
          3,
          3,
          3,
          2,
          3,
          3,
          3,
          3,
          3,
          3,
          1,
          3,
          3,
          3,
          1,
          3,
          1,
          2,
          3,
          3,
          2,
          3,
          1,
          3,
          3,
          2,
          2,
          3,
          2,
          1,
          1,
          3,
          2,
          3,
          3,
          3,
          3,
          3,
          3,
          3,
          3,
          1,
          3,
          2,
          3,
          2,
          1,
          3,
          2,
          1,
          2,
          3,
          2,
          3,
          1,
          3,
          2,
          3,
          2,
          1,
          3,
          2,
          3,
          2,
          2,
          2,
          2,
          2,
          2,
          3,
          3,
          1,
          3,
          2,
          1,
          2,
          3,
          1,
          3,
          3,
          3,
          1,
          1,
          2,
          3,
          1,
          1,
          2,
          3,
          3,
          1,
          1,
          3,
          2,
          1,
          1,
          3,
          3,
          3,
          3,
          3,
          3,
          3,
          3,
          3,
          3,
          2,
          3,
          1,
          1,
          2,
          3,
          3,
          3,
          1,
          1,
          3,
          1,
          1,
          2,
          1,
          1,
          1,
          2,
          3,
          2,
          3,
          2,
          2,
          1,
          1,
          3,
          3,
          2,
          2,
          1,
          3,
          2,
          3,
          1,
          1,
          1,
          3,
          1,
          1,
          3,
          1,
          2,
          1,
          2,
          2,
          2,
          2,
          2,
          3,
          3,
          3,
          3,
          3,
          3,
          1,
          2,
          3,
          2,
          3,
          3,
          3,
          1,
          1,
          1,
          3,
          3,
          1,
          3,
          3,
          1,
          3,
          3,
          1,
          3,
          3,
          1,
          2,
          3,
          2,
          2,
          1,
          3,
          3,
          1,
          3,
          3,
          3,
          2,
          2,
          2,
          3,
          3,
          3,
          3,
          3,
          2,
          3,
          2,
          3,
          1,
          3,
          2,
          2,
          2,
          3,
          3,
          3,
          3,
          3,
          2,
          2,
          3,
          1,
          2,
          3,
          1,
          1,
          3,
          2,
          1,
          2,
          2,
          3,
          3,
          2,
          1,
          2,
          1,
          3,
          1,
          2,
          1,
          1,
          3,
          1,
          2,
          1,
          3,
          1,
          2,
          3,
          1,
          3,
          3,
          2,
          2,
          3,
          2,
          3,
          3,
          3,
          3,
          3,
          3,
          1,
          1,
          1,
          3,
          3,
          3,
          1,
          1,
          3,
          1,
          1,
          3,
          3,
          3,
          3,
          1,
          1,
          2,
          3,
          3,
          3,
          1,
          1,
          3,
          1,
          2,
          2,
          3,
          1,
          3,
          1,
          3,
          2,
          3,
          2,
          2,
          3,
          3,
          2,
          1,
          1,
          1,
          1,
          3,
          3,
          2,
          1,
          1,
          2,
          3,
          2,
          1,
          2,
          3,
          3,
          1,
          1,
          1,
          3,
          3,
          2,
          3,
          3,
          3,
          3,
          2,
          1,
          1,
          3,
          3,
          2,
          1,
          3,
          2,
          1,
          2,
          1,
          1,
          2,
          1,
          3,
          3,
          1,
          3,
          2,
          3,
          3,
          1,
          2,
          3,
          1,
          3,
          3,
          1,
          2,
          1,
          3,
          3,
          2,
          3,
          3,
          2,
          2,
          3,
          1,
          3,
          3,
          3,
          1,
          2,
          1,
          3,
          1,
          3,
          1,
          3,
          2,
          3,
          2,
          3,
          3,
          1,
          3,
          3,
          1,
          3,
          1,
          3,
          2,
          3,
          3,
          2,
          3,
          2,
          1,
          1,
          3,
          1,
          3,
          3,
          2,
          2,
          3,
          2,
          1,
          2,
          2,
          3,
          3,
          3,
          3,
          1,
          1,
          3,
          3,
          2,
          2,
          3,
          3,
          3,
          1,
          1,
          3,
          3,
          1,
          2,
          3,
          1,
          3,
          1,
          1,
          3,
          3,
          3,
          2,
          2,
          1,
          1,
          1,
          1,
          3,
          2,
          3,
          1,
          2,
          3,
          2,
          3,
          2,
          2,
          1,
          3,
          2,
          2,
          3,
          1,
          3,
          2,
          2,
          3,
          3,
          1,
          1,
          1,
          3,
          3,
          1,
          3,
          2,
          1,
          3,
          2,
          3,
          3,
          3,
          2,
          2,
          3,
          2,
          3,
          1,
          3,
          3,
          1,
          3,
          1,
          3,
          3,
          3,
          3,
          2,
          2,
          3,
          3,
          1,
          3,
          1,
          1,
          3,
          3,
          3,
          3,
          3,
          1,
          2,
          3,
          2,
          1,
          3,
          3,
          3,
          2,
          2,
          1,
          3,
          3,
          3,
          1,
          3,
          2,
          1,
          3,
          3,
          2,
          3,
          3,
          3,
          2,
          3,
          3,
          1,
          3,
          1,
          3,
          3,
          2,
          1,
          3,
          2,
          3,
          3,
          1,
          3,
          3,
          3,
          2,
          1,
          3,
          3,
          3,
          3,
          2,
          3,
          3,
          3,
          1,
          2,
          3,
          1,
          1,
          3,
          3,
          2,
          1,
          2,
          2,
          2,
          1,
          3,
          3,
          1,
          1,
          3,
          2,
          3,
          3,
          3,
          1,
          2,
          3,
          3,
          2,
          3,
          3,
          2,
          1,
          1,
          3
         ],
         "y": [
          22,
          38,
          26,
          35,
          35,
          54,
          2,
          27,
          14,
          4,
          58,
          20,
          39,
          14,
          55,
          2,
          31,
          35,
          34,
          15,
          28,
          8,
          38,
          19,
          40,
          66,
          28,
          42,
          21,
          18,
          14,
          40,
          27,
          3,
          19,
          18,
          7,
          21,
          49,
          29,
          65,
          21,
          28.5,
          5,
          11,
          22,
          38,
          45,
          4,
          29,
          19,
          17,
          26,
          32,
          16,
          21,
          26,
          32,
          25,
          0.83,
          30,
          22,
          29,
          28,
          17,
          33,
          16,
          23,
          24,
          29,
          20,
          46,
          26,
          59,
          71,
          23,
          34,
          34,
          28,
          21,
          33,
          37,
          28,
          21,
          38,
          47,
          14.5,
          22,
          20,
          17,
          21,
          70.5,
          29,
          24,
          2,
          21,
          32.5,
          32.5,
          54,
          12,
          24,
          45,
          33,
          20,
          47,
          29,
          25,
          23,
          19,
          37,
          16,
          24,
          22,
          24,
          19,
          18,
          19,
          27,
          9,
          36.5,
          42,
          51,
          22,
          55.5,
          40.5,
          51,
          16,
          30,
          44,
          40,
          26,
          17,
          1,
          9,
          45,
          28,
          61,
          4,
          1,
          21,
          56,
          18,
          50,
          30,
          36,
          9,
          1,
          4,
          45,
          40,
          36,
          32,
          19,
          19,
          3,
          44,
          58,
          42,
          24,
          28,
          34,
          45.5,
          18,
          2,
          32,
          26,
          16,
          40,
          24,
          35,
          22,
          30,
          31,
          27,
          42,
          32,
          30,
          16,
          27,
          51,
          38,
          22,
          19,
          20.5,
          18,
          35,
          29,
          59,
          5,
          24,
          44,
          8,
          19,
          33,
          29,
          22,
          30,
          44,
          25,
          24,
          37,
          54,
          29,
          62,
          30,
          41,
          29,
          30,
          35,
          50,
          3,
          52,
          40,
          36,
          16,
          25,
          58,
          35,
          25,
          41,
          37,
          63,
          45,
          7,
          35,
          65,
          28,
          16,
          19,
          33,
          30,
          22,
          42,
          22,
          26,
          19,
          36,
          24,
          24,
          23.5,
          2,
          50,
          19,
          0.92,
          17,
          30,
          30,
          24,
          18,
          26,
          28,
          43,
          26,
          24,
          54,
          31,
          40,
          22,
          27,
          30,
          22,
          36,
          61,
          36,
          31,
          16,
          45.5,
          38,
          16,
          29,
          41,
          45,
          45,
          2,
          24,
          28,
          25,
          36,
          24,
          40,
          3,
          42,
          23,
          15,
          25,
          28,
          22,
          38,
          40,
          29,
          45,
          35,
          30,
          60,
          24,
          25,
          18,
          19,
          22,
          3,
          22,
          27,
          20,
          19,
          42,
          1,
          32,
          35,
          18,
          1,
          36,
          17,
          36,
          21,
          28,
          23,
          24,
          22,
          31,
          46,
          23,
          28,
          39,
          26,
          21,
          28,
          20,
          34,
          51,
          3,
          21,
          33,
          44,
          34,
          18,
          30,
          10,
          21,
          29,
          28,
          18,
          28,
          19,
          32,
          28,
          42,
          17,
          50,
          14,
          21,
          24,
          64,
          31,
          45,
          20,
          25,
          28,
          4,
          13,
          34,
          5,
          52,
          36,
          30,
          49,
          29,
          65,
          50,
          48,
          34,
          47,
          48,
          38,
          56,
          0.75,
          38,
          33,
          23,
          22,
          34,
          29,
          22,
          2,
          9,
          50,
          63,
          25,
          35,
          58,
          30,
          9,
          21,
          55,
          71,
          21,
          54,
          25,
          24,
          17,
          21,
          37,
          16,
          18,
          33,
          28,
          26,
          29,
          36,
          54,
          24,
          47,
          34,
          36,
          32,
          30,
          22,
          44,
          40.5,
          50,
          39,
          23,
          2,
          17,
          30,
          7,
          45,
          30,
          22,
          36,
          9,
          11,
          32,
          50,
          64,
          19,
          33,
          8,
          17,
          27,
          22,
          22,
          62,
          48,
          39,
          36,
          40,
          28,
          24,
          19,
          29,
          32,
          62,
          53,
          36,
          16,
          19,
          34,
          39,
          32,
          25,
          39,
          54,
          36,
          18,
          47,
          60,
          22,
          35,
          52,
          47,
          37,
          36,
          49,
          49,
          24,
          44,
          35,
          36,
          30,
          27,
          22,
          40,
          39,
          35,
          24,
          34,
          26,
          4,
          26,
          27,
          42,
          20,
          21,
          21,
          61,
          57,
          21,
          26,
          80,
          51,
          32,
          9,
          28,
          32,
          31,
          41,
          20,
          24,
          2,
          0.75,
          48,
          19,
          56,
          23,
          18,
          21,
          18,
          24,
          32,
          23,
          58,
          50,
          40,
          47,
          36,
          20,
          32,
          25,
          43,
          40,
          31,
          70,
          31,
          18,
          24.5,
          18,
          43,
          36,
          27,
          20,
          14,
          60,
          25,
          14,
          19,
          18,
          15,
          31,
          4,
          25,
          60,
          52,
          44,
          49,
          42,
          18,
          35,
          18,
          25,
          26,
          39,
          45,
          42,
          22,
          24,
          48,
          29,
          52,
          19,
          38,
          27,
          33,
          6,
          17,
          34,
          50,
          27,
          20,
          30,
          25,
          25,
          29,
          11,
          23,
          23,
          28.5,
          48,
          35,
          36,
          21,
          24,
          31,
          70,
          16,
          30,
          19,
          31,
          4,
          6,
          33,
          23,
          48,
          0.67,
          28,
          18,
          34,
          33,
          41,
          20,
          36,
          16,
          51,
          30.5,
          32,
          24,
          48,
          57,
          54,
          18,
          5,
          43,
          13,
          17,
          29,
          25,
          25,
          18,
          8,
          1,
          46,
          16,
          25,
          39,
          49,
          31,
          30,
          30,
          34,
          31,
          11,
          0.42,
          27,
          31,
          39,
          18,
          39,
          33,
          26,
          39,
          35,
          6,
          30.5,
          23,
          31,
          43,
          10,
          52,
          27,
          38,
          27,
          2,
          1,
          62,
          15,
          0.83,
          23,
          18,
          39,
          21,
          32,
          20,
          16,
          30,
          34.5,
          17,
          42,
          35,
          28,
          4,
          74,
          9,
          16,
          44,
          18,
          45,
          51,
          24,
          41,
          21,
          48,
          24,
          42,
          27,
          31,
          4,
          26,
          47,
          33,
          47,
          28,
          15,
          20,
          19,
          56,
          25,
          33,
          22,
          28,
          25,
          39,
          27,
          19,
          26,
          32
         ]
        },
        {
         "name": "Clase",
         "type": "scatter",
         "x": [
          1,
          2,
          3
         ],
         "y": [
          22,
          38,
          26,
          35,
          35,
          54,
          2,
          27,
          14,
          4,
          58,
          20,
          39,
          14,
          55,
          2,
          31,
          35,
          34,
          15,
          28,
          8,
          38,
          19,
          40,
          66,
          28,
          42,
          21,
          18,
          14,
          40,
          27,
          3,
          19,
          18,
          7,
          21,
          49,
          29,
          65,
          21,
          28.5,
          5,
          11,
          22,
          38,
          45,
          4,
          29,
          19,
          17,
          26,
          32,
          16,
          21,
          26,
          32,
          25,
          0.83,
          30,
          22,
          29,
          28,
          17,
          33,
          16,
          23,
          24,
          29,
          20,
          46,
          26,
          59,
          71,
          23,
          34,
          34,
          28,
          21,
          33,
          37,
          28,
          21,
          38,
          47,
          14.5,
          22,
          20,
          17,
          21,
          70.5,
          29,
          24,
          2,
          21,
          32.5,
          32.5,
          54,
          12,
          24,
          45,
          33,
          20,
          47,
          29,
          25,
          23,
          19,
          37,
          16,
          24,
          22,
          24,
          19,
          18,
          19,
          27,
          9,
          36.5,
          42,
          51,
          22,
          55.5,
          40.5,
          51,
          16,
          30,
          44,
          40,
          26,
          17,
          1,
          9,
          45,
          28,
          61,
          4,
          1,
          21,
          56,
          18,
          50,
          30,
          36,
          9,
          1,
          4,
          45,
          40,
          36,
          32,
          19,
          19,
          3,
          44,
          58,
          42,
          24,
          28,
          34,
          45.5,
          18,
          2,
          32,
          26,
          16,
          40,
          24,
          35,
          22,
          30,
          31,
          27,
          42,
          32,
          30,
          16,
          27,
          51,
          38,
          22,
          19,
          20.5,
          18,
          35,
          29,
          59,
          5,
          24,
          44,
          8,
          19,
          33,
          29,
          22,
          30,
          44,
          25,
          24,
          37,
          54,
          29,
          62,
          30,
          41,
          29,
          30,
          35,
          50,
          3,
          52,
          40,
          36,
          16,
          25,
          58,
          35,
          25,
          41,
          37,
          63,
          45,
          7,
          35,
          65,
          28,
          16,
          19,
          33,
          30,
          22,
          42,
          22,
          26,
          19,
          36,
          24,
          24,
          23.5,
          2,
          50,
          19,
          0.92,
          17,
          30,
          30,
          24,
          18,
          26,
          28,
          43,
          26,
          24,
          54,
          31,
          40,
          22,
          27,
          30,
          22,
          36,
          61,
          36,
          31,
          16,
          45.5,
          38,
          16,
          29,
          41,
          45,
          45,
          2,
          24,
          28,
          25,
          36,
          24,
          40,
          3,
          42,
          23,
          15,
          25,
          28,
          22,
          38,
          40,
          29,
          45,
          35,
          30,
          60,
          24,
          25,
          18,
          19,
          22,
          3,
          22,
          27,
          20,
          19,
          42,
          1,
          32,
          35,
          18,
          1,
          36,
          17,
          36,
          21,
          28,
          23,
          24,
          22,
          31,
          46,
          23,
          28,
          39,
          26,
          21,
          28,
          20,
          34,
          51,
          3,
          21,
          33,
          44,
          34,
          18,
          30,
          10,
          21,
          29,
          28,
          18,
          28,
          19,
          32,
          28,
          42,
          17,
          50,
          14,
          21,
          24,
          64,
          31,
          45,
          20,
          25,
          28,
          4,
          13,
          34,
          5,
          52,
          36,
          30,
          49,
          29,
          65,
          50,
          48,
          34,
          47,
          48,
          38,
          56,
          0.75,
          38,
          33,
          23,
          22,
          34,
          29,
          22,
          2,
          9,
          50,
          63,
          25,
          35,
          58,
          30,
          9,
          21,
          55,
          71,
          21,
          54,
          25,
          24,
          17,
          21,
          37,
          16,
          18,
          33,
          28,
          26,
          29,
          36,
          54,
          24,
          47,
          34,
          36,
          32,
          30,
          22,
          44,
          40.5,
          50,
          39,
          23,
          2,
          17,
          30,
          7,
          45,
          30,
          22,
          36,
          9,
          11,
          32,
          50,
          64,
          19,
          33,
          8,
          17,
          27,
          22,
          22,
          62,
          48,
          39,
          36,
          40,
          28,
          24,
          19,
          29,
          32,
          62,
          53,
          36,
          16,
          19,
          34,
          39,
          32,
          25,
          39,
          54,
          36,
          18,
          47,
          60,
          22,
          35,
          52,
          47,
          37,
          36,
          49,
          49,
          24,
          44,
          35,
          36,
          30,
          27,
          22,
          40,
          39,
          35,
          24,
          34,
          26,
          4,
          26,
          27,
          42,
          20,
          21,
          21,
          61,
          57,
          21,
          26,
          80,
          51,
          32,
          9,
          28,
          32,
          31,
          41,
          20,
          24,
          2,
          0.75,
          48,
          19,
          56,
          23,
          18,
          21,
          18,
          24,
          32,
          23,
          58,
          50,
          40,
          47,
          36,
          20,
          32,
          25,
          43,
          40,
          31,
          70,
          31,
          18,
          24.5,
          18,
          43,
          36,
          27,
          20,
          14,
          60,
          25,
          14,
          19,
          18,
          15,
          31,
          4,
          25,
          60,
          52,
          44,
          49,
          42,
          18,
          35,
          18,
          25,
          26,
          39,
          45,
          42,
          22,
          24,
          48,
          29,
          52,
          19,
          38,
          27,
          33,
          6,
          17,
          34,
          50,
          27,
          20,
          30,
          25,
          25,
          29,
          11,
          23,
          23,
          28.5,
          48,
          35,
          36,
          21,
          24,
          31,
          70,
          16,
          30,
          19,
          31,
          4,
          6,
          33,
          23,
          48,
          0.67,
          28,
          18,
          34,
          33,
          41,
          20,
          36,
          16,
          51,
          30.5,
          32,
          24,
          48,
          57,
          54,
          18,
          5,
          43,
          13,
          17,
          29,
          25,
          25,
          18,
          8,
          1,
          46,
          16,
          25,
          39,
          49,
          31,
          30,
          30,
          34,
          31,
          11,
          0.42,
          27,
          31,
          39,
          18,
          39,
          33,
          26,
          39,
          35,
          6,
          30.5,
          23,
          31,
          43,
          10,
          52,
          27,
          38,
          27,
          2,
          1,
          62,
          15,
          0.83,
          23,
          18,
          39,
          21,
          32,
          20,
          16,
          30,
          34.5,
          17,
          42,
          35,
          28,
          4,
          74,
          9,
          16,
          44,
          18,
          45,
          51,
          24,
          41,
          21,
          48,
          24,
          42,
          27,
          31,
          4,
          26,
          47,
          33,
          47,
          28,
          15,
          20,
          19,
          56,
          25,
          33,
          22,
          28,
          25,
          39,
          27,
          19,
          26,
          32
         ]
        }
       ],
       "layout": {
        "template": {
         "data": {
          "bar": [
           {
            "error_x": {
             "color": "#2a3f5f"
            },
            "error_y": {
             "color": "#2a3f5f"
            },
            "marker": {
             "line": {
              "color": "#E5ECF6",
              "width": 0.5
             },
             "pattern": {
              "fillmode": "overlay",
              "size": 10,
              "solidity": 0.2
             }
            },
            "type": "bar"
           }
          ],
          "barpolar": [
           {
            "marker": {
             "line": {
              "color": "#E5ECF6",
              "width": 0.5
             },
             "pattern": {
              "fillmode": "overlay",
              "size": 10,
              "solidity": 0.2
             }
            },
            "type": "barpolar"
           }
          ],
          "carpet": [
           {
            "aaxis": {
             "endlinecolor": "#2a3f5f",
             "gridcolor": "white",
             "linecolor": "white",
             "minorgridcolor": "white",
             "startlinecolor": "#2a3f5f"
            },
            "baxis": {
             "endlinecolor": "#2a3f5f",
             "gridcolor": "white",
             "linecolor": "white",
             "minorgridcolor": "white",
             "startlinecolor": "#2a3f5f"
            },
            "type": "carpet"
           }
          ],
          "choropleth": [
           {
            "colorbar": {
             "outlinewidth": 0,
             "ticks": ""
            },
            "type": "choropleth"
           }
          ],
          "contour": [
           {
            "colorbar": {
             "outlinewidth": 0,
             "ticks": ""
            },
            "colorscale": [
             [
              0,
              "#0d0887"
             ],
             [
              0.1111111111111111,
              "#46039f"
             ],
             [
              0.2222222222222222,
              "#7201a8"
             ],
             [
              0.3333333333333333,
              "#9c179e"
             ],
             [
              0.4444444444444444,
              "#bd3786"
             ],
             [
              0.5555555555555556,
              "#d8576b"
             ],
             [
              0.6666666666666666,
              "#ed7953"
             ],
             [
              0.7777777777777778,
              "#fb9f3a"
             ],
             [
              0.8888888888888888,
              "#fdca26"
             ],
             [
              1,
              "#f0f921"
             ]
            ],
            "type": "contour"
           }
          ],
          "contourcarpet": [
           {
            "colorbar": {
             "outlinewidth": 0,
             "ticks": ""
            },
            "type": "contourcarpet"
           }
          ],
          "heatmap": [
           {
            "colorbar": {
             "outlinewidth": 0,
             "ticks": ""
            },
            "colorscale": [
             [
              0,
              "#0d0887"
             ],
             [
              0.1111111111111111,
              "#46039f"
             ],
             [
              0.2222222222222222,
              "#7201a8"
             ],
             [
              0.3333333333333333,
              "#9c179e"
             ],
             [
              0.4444444444444444,
              "#bd3786"
             ],
             [
              0.5555555555555556,
              "#d8576b"
             ],
             [
              0.6666666666666666,
              "#ed7953"
             ],
             [
              0.7777777777777778,
              "#fb9f3a"
             ],
             [
              0.8888888888888888,
              "#fdca26"
             ],
             [
              1,
              "#f0f921"
             ]
            ],
            "type": "heatmap"
           }
          ],
          "heatmapgl": [
           {
            "colorbar": {
             "outlinewidth": 0,
             "ticks": ""
            },
            "colorscale": [
             [
              0,
              "#0d0887"
             ],
             [
              0.1111111111111111,
              "#46039f"
             ],
             [
              0.2222222222222222,
              "#7201a8"
             ],
             [
              0.3333333333333333,
              "#9c179e"
             ],
             [
              0.4444444444444444,
              "#bd3786"
             ],
             [
              0.5555555555555556,
              "#d8576b"
             ],
             [
              0.6666666666666666,
              "#ed7953"
             ],
             [
              0.7777777777777778,
              "#fb9f3a"
             ],
             [
              0.8888888888888888,
              "#fdca26"
             ],
             [
              1,
              "#f0f921"
             ]
            ],
            "type": "heatmapgl"
           }
          ],
          "histogram": [
           {
            "marker": {
             "pattern": {
              "fillmode": "overlay",
              "size": 10,
              "solidity": 0.2
             }
            },
            "type": "histogram"
           }
          ],
          "histogram2d": [
           {
            "colorbar": {
             "outlinewidth": 0,
             "ticks": ""
            },
            "colorscale": [
             [
              0,
              "#0d0887"
             ],
             [
              0.1111111111111111,
              "#46039f"
             ],
             [
              0.2222222222222222,
              "#7201a8"
             ],
             [
              0.3333333333333333,
              "#9c179e"
             ],
             [
              0.4444444444444444,
              "#bd3786"
             ],
             [
              0.5555555555555556,
              "#d8576b"
             ],
             [
              0.6666666666666666,
              "#ed7953"
             ],
             [
              0.7777777777777778,
              "#fb9f3a"
             ],
             [
              0.8888888888888888,
              "#fdca26"
             ],
             [
              1,
              "#f0f921"
             ]
            ],
            "type": "histogram2d"
           }
          ],
          "histogram2dcontour": [
           {
            "colorbar": {
             "outlinewidth": 0,
             "ticks": ""
            },
            "colorscale": [
             [
              0,
              "#0d0887"
             ],
             [
              0.1111111111111111,
              "#46039f"
             ],
             [
              0.2222222222222222,
              "#7201a8"
             ],
             [
              0.3333333333333333,
              "#9c179e"
             ],
             [
              0.4444444444444444,
              "#bd3786"
             ],
             [
              0.5555555555555556,
              "#d8576b"
             ],
             [
              0.6666666666666666,
              "#ed7953"
             ],
             [
              0.7777777777777778,
              "#fb9f3a"
             ],
             [
              0.8888888888888888,
              "#fdca26"
             ],
             [
              1,
              "#f0f921"
             ]
            ],
            "type": "histogram2dcontour"
           }
          ],
          "mesh3d": [
           {
            "colorbar": {
             "outlinewidth": 0,
             "ticks": ""
            },
            "type": "mesh3d"
           }
          ],
          "parcoords": [
           {
            "line": {
             "colorbar": {
              "outlinewidth": 0,
              "ticks": ""
             }
            },
            "type": "parcoords"
           }
          ],
          "pie": [
           {
            "automargin": true,
            "type": "pie"
           }
          ],
          "scatter": [
           {
            "fillpattern": {
             "fillmode": "overlay",
             "size": 10,
             "solidity": 0.2
            },
            "type": "scatter"
           }
          ],
          "scatter3d": [
           {
            "line": {
             "colorbar": {
              "outlinewidth": 0,
              "ticks": ""
             }
            },
            "marker": {
             "colorbar": {
              "outlinewidth": 0,
              "ticks": ""
             }
            },
            "type": "scatter3d"
           }
          ],
          "scattercarpet": [
           {
            "marker": {
             "colorbar": {
              "outlinewidth": 0,
              "ticks": ""
             }
            },
            "type": "scattercarpet"
           }
          ],
          "scattergeo": [
           {
            "marker": {
             "colorbar": {
              "outlinewidth": 0,
              "ticks": ""
             }
            },
            "type": "scattergeo"
           }
          ],
          "scattergl": [
           {
            "marker": {
             "colorbar": {
              "outlinewidth": 0,
              "ticks": ""
             }
            },
            "type": "scattergl"
           }
          ],
          "scattermapbox": [
           {
            "marker": {
             "colorbar": {
              "outlinewidth": 0,
              "ticks": ""
             }
            },
            "type": "scattermapbox"
           }
          ],
          "scatterpolar": [
           {
            "marker": {
             "colorbar": {
              "outlinewidth": 0,
              "ticks": ""
             }
            },
            "type": "scatterpolar"
           }
          ],
          "scatterpolargl": [
           {
            "marker": {
             "colorbar": {
              "outlinewidth": 0,
              "ticks": ""
             }
            },
            "type": "scatterpolargl"
           }
          ],
          "scatterternary": [
           {
            "marker": {
             "colorbar": {
              "outlinewidth": 0,
              "ticks": ""
             }
            },
            "type": "scatterternary"
           }
          ],
          "surface": [
           {
            "colorbar": {
             "outlinewidth": 0,
             "ticks": ""
            },
            "colorscale": [
             [
              0,
              "#0d0887"
             ],
             [
              0.1111111111111111,
              "#46039f"
             ],
             [
              0.2222222222222222,
              "#7201a8"
             ],
             [
              0.3333333333333333,
              "#9c179e"
             ],
             [
              0.4444444444444444,
              "#bd3786"
             ],
             [
              0.5555555555555556,
              "#d8576b"
             ],
             [
              0.6666666666666666,
              "#ed7953"
             ],
             [
              0.7777777777777778,
              "#fb9f3a"
             ],
             [
              0.8888888888888888,
              "#fdca26"
             ],
             [
              1,
              "#f0f921"
             ]
            ],
            "type": "surface"
           }
          ],
          "table": [
           {
            "cells": {
             "fill": {
              "color": "#EBF0F8"
             },
             "line": {
              "color": "white"
             }
            },
            "header": {
             "fill": {
              "color": "#C8D4E3"
             },
             "line": {
              "color": "white"
             }
            },
            "type": "table"
           }
          ]
         },
         "layout": {
          "annotationdefaults": {
           "arrowcolor": "#2a3f5f",
           "arrowhead": 0,
           "arrowwidth": 1
          },
          "autotypenumbers": "strict",
          "coloraxis": {
           "colorbar": {
            "outlinewidth": 0,
            "ticks": ""
           }
          },
          "colorscale": {
           "diverging": [
            [
             0,
             "#8e0152"
            ],
            [
             0.1,
             "#c51b7d"
            ],
            [
             0.2,
             "#de77ae"
            ],
            [
             0.3,
             "#f1b6da"
            ],
            [
             0.4,
             "#fde0ef"
            ],
            [
             0.5,
             "#f7f7f7"
            ],
            [
             0.6,
             "#e6f5d0"
            ],
            [
             0.7,
             "#b8e186"
            ],
            [
             0.8,
             "#7fbc41"
            ],
            [
             0.9,
             "#4d9221"
            ],
            [
             1,
             "#276419"
            ]
           ],
           "sequential": [
            [
             0,
             "#0d0887"
            ],
            [
             0.1111111111111111,
             "#46039f"
            ],
            [
             0.2222222222222222,
             "#7201a8"
            ],
            [
             0.3333333333333333,
             "#9c179e"
            ],
            [
             0.4444444444444444,
             "#bd3786"
            ],
            [
             0.5555555555555556,
             "#d8576b"
            ],
            [
             0.6666666666666666,
             "#ed7953"
            ],
            [
             0.7777777777777778,
             "#fb9f3a"
            ],
            [
             0.8888888888888888,
             "#fdca26"
            ],
            [
             1,
             "#f0f921"
            ]
           ],
           "sequentialminus": [
            [
             0,
             "#0d0887"
            ],
            [
             0.1111111111111111,
             "#46039f"
            ],
            [
             0.2222222222222222,
             "#7201a8"
            ],
            [
             0.3333333333333333,
             "#9c179e"
            ],
            [
             0.4444444444444444,
             "#bd3786"
            ],
            [
             0.5555555555555556,
             "#d8576b"
            ],
            [
             0.6666666666666666,
             "#ed7953"
            ],
            [
             0.7777777777777778,
             "#fb9f3a"
            ],
            [
             0.8888888888888888,
             "#fdca26"
            ],
            [
             1,
             "#f0f921"
            ]
           ]
          },
          "colorway": [
           "#636efa",
           "#EF553B",
           "#00cc96",
           "#ab63fa",
           "#FFA15A",
           "#19d3f3",
           "#FF6692",
           "#B6E880",
           "#FF97FF",
           "#FECB52"
          ],
          "font": {
           "color": "#2a3f5f"
          },
          "geo": {
           "bgcolor": "white",
           "lakecolor": "white",
           "landcolor": "#E5ECF6",
           "showlakes": true,
           "showland": true,
           "subunitcolor": "white"
          },
          "hoverlabel": {
           "align": "left"
          },
          "hovermode": "closest",
          "mapbox": {
           "style": "light"
          },
          "paper_bgcolor": "white",
          "plot_bgcolor": "#E5ECF6",
          "polar": {
           "angularaxis": {
            "gridcolor": "white",
            "linecolor": "white",
            "ticks": ""
           },
           "bgcolor": "#E5ECF6",
           "radialaxis": {
            "gridcolor": "white",
            "linecolor": "white",
            "ticks": ""
           }
          },
          "scene": {
           "xaxis": {
            "backgroundcolor": "#E5ECF6",
            "gridcolor": "white",
            "gridwidth": 2,
            "linecolor": "white",
            "showbackground": true,
            "ticks": "",
            "zerolinecolor": "white"
           },
           "yaxis": {
            "backgroundcolor": "#E5ECF6",
            "gridcolor": "white",
            "gridwidth": 2,
            "linecolor": "white",
            "showbackground": true,
            "ticks": "",
            "zerolinecolor": "white"
           },
           "zaxis": {
            "backgroundcolor": "#E5ECF6",
            "gridcolor": "white",
            "gridwidth": 2,
            "linecolor": "white",
            "showbackground": true,
            "ticks": "",
            "zerolinecolor": "white"
           }
          },
          "shapedefaults": {
           "line": {
            "color": "#2a3f5f"
           }
          },
          "ternary": {
           "aaxis": {
            "gridcolor": "white",
            "linecolor": "white",
            "ticks": ""
           },
           "baxis": {
            "gridcolor": "white",
            "linecolor": "white",
            "ticks": ""
           },
           "bgcolor": "#E5ECF6",
           "caxis": {
            "gridcolor": "white",
            "linecolor": "white",
            "ticks": ""
           }
          },
          "title": {
           "x": 0.05
          },
          "xaxis": {
           "automargin": true,
           "gridcolor": "white",
           "linecolor": "white",
           "ticks": "",
           "title": {
            "standoff": 15
           },
           "zerolinecolor": "white",
           "zerolinewidth": 2
          },
          "yaxis": {
           "automargin": true,
           "gridcolor": "white",
           "linecolor": "white",
           "ticks": "",
           "title": {
            "standoff": 15
           },
           "zerolinecolor": "white",
           "zerolinewidth": 2
          }
         }
        }
       }
      }
     },
     "metadata": {},
     "output_type": "display_data"
    }
   ],
   "source": [
    "\n",
    "x_range = np.linspace(df[\"Clase\"].min(), df[\"Clase\"].max(), len(list(set(df[\"Clase\"]))))\n",
    "y_range = df[\"Edad\"]\n",
    "\n",
    "print(x_range)\n",
    "\n",
    "fig = go.Figure([\n",
    "    go.Scatter(x=df[\"Clase\"].squeeze(), y=y_range, name='Edad', mode='markers'),\n",
    "    go.Scatter(x=x_range, y=y_range, name='Clase')\n",
    "])\n",
    "fig.show()"
   ]
  },
  {
   "cell_type": "markdown",
   "metadata": {},
   "source": [
    "CORRELACIÓN DE VARIABLES"
   ]
  },
  {
   "cell_type": "code",
   "execution_count": 47,
   "metadata": {},
   "outputs": [],
   "source": [
    "corr_matrix = df.drop(columns=\"Sobreviviente\").corr(method='pearson')"
   ]
  },
  {
   "cell_type": "code",
   "execution_count": 48,
   "metadata": {},
   "outputs": [
    {
     "data": {
      "application/vnd.plotly.v1+json": {
       "config": {
        "plotlyServerURL": "https://plot.ly"
       },
       "data": [
        {
         "text": [
          [
           1,
           -0.16,
           -0.37,
           0.07,
           0.03
          ],
          [
           -0.16,
           1,
           -0.09,
           0.1,
           0.25
          ],
          [
           -0.37,
           -0.09,
           1,
           -0.31,
           -0.19
          ],
          [
           0.07,
           0.1,
           -0.31,
           1,
           0.38
          ],
          [
           0.03,
           0.25,
           -0.19,
           0.38,
           1
          ]
         ],
         "texttemplate": "%{text}",
         "type": "heatmap",
         "x": [
          "Clase",
          "Genero",
          "Edad",
          "HermEsp",
          "PadHij"
         ],
         "y": [
          "Clase",
          "Genero",
          "Edad",
          "HermEsp",
          "PadHij"
         ],
         "z": [
          [
           1,
           -0.15546030092742963,
           -0.36922601531551735,
           0.06724737460410465,
           0.025683069815040666
          ],
          [
           -0.15546030092742963,
           1,
           -0.09325357685567738,
           0.10394967775253419,
           0.2469720374759628
          ],
          [
           -0.36922601531551735,
           -0.09325357685567738,
           1,
           -0.30824675892365666,
           -0.1891192626320352
          ],
          [
           0.06724737460410465,
           0.10394967775253419,
           -0.30824675892365666,
           1,
           0.3838198640428336
          ],
          [
           0.025683069815040666,
           0.2469720374759628,
           -0.1891192626320352,
           0.3838198640428336,
           1
          ]
         ]
        }
       ],
       "layout": {
        "template": {
         "data": {
          "bar": [
           {
            "error_x": {
             "color": "#2a3f5f"
            },
            "error_y": {
             "color": "#2a3f5f"
            },
            "marker": {
             "line": {
              "color": "#E5ECF6",
              "width": 0.5
             },
             "pattern": {
              "fillmode": "overlay",
              "size": 10,
              "solidity": 0.2
             }
            },
            "type": "bar"
           }
          ],
          "barpolar": [
           {
            "marker": {
             "line": {
              "color": "#E5ECF6",
              "width": 0.5
             },
             "pattern": {
              "fillmode": "overlay",
              "size": 10,
              "solidity": 0.2
             }
            },
            "type": "barpolar"
           }
          ],
          "carpet": [
           {
            "aaxis": {
             "endlinecolor": "#2a3f5f",
             "gridcolor": "white",
             "linecolor": "white",
             "minorgridcolor": "white",
             "startlinecolor": "#2a3f5f"
            },
            "baxis": {
             "endlinecolor": "#2a3f5f",
             "gridcolor": "white",
             "linecolor": "white",
             "minorgridcolor": "white",
             "startlinecolor": "#2a3f5f"
            },
            "type": "carpet"
           }
          ],
          "choropleth": [
           {
            "colorbar": {
             "outlinewidth": 0,
             "ticks": ""
            },
            "type": "choropleth"
           }
          ],
          "contour": [
           {
            "colorbar": {
             "outlinewidth": 0,
             "ticks": ""
            },
            "colorscale": [
             [
              0,
              "#0d0887"
             ],
             [
              0.1111111111111111,
              "#46039f"
             ],
             [
              0.2222222222222222,
              "#7201a8"
             ],
             [
              0.3333333333333333,
              "#9c179e"
             ],
             [
              0.4444444444444444,
              "#bd3786"
             ],
             [
              0.5555555555555556,
              "#d8576b"
             ],
             [
              0.6666666666666666,
              "#ed7953"
             ],
             [
              0.7777777777777778,
              "#fb9f3a"
             ],
             [
              0.8888888888888888,
              "#fdca26"
             ],
             [
              1,
              "#f0f921"
             ]
            ],
            "type": "contour"
           }
          ],
          "contourcarpet": [
           {
            "colorbar": {
             "outlinewidth": 0,
             "ticks": ""
            },
            "type": "contourcarpet"
           }
          ],
          "heatmap": [
           {
            "colorbar": {
             "outlinewidth": 0,
             "ticks": ""
            },
            "colorscale": [
             [
              0,
              "#0d0887"
             ],
             [
              0.1111111111111111,
              "#46039f"
             ],
             [
              0.2222222222222222,
              "#7201a8"
             ],
             [
              0.3333333333333333,
              "#9c179e"
             ],
             [
              0.4444444444444444,
              "#bd3786"
             ],
             [
              0.5555555555555556,
              "#d8576b"
             ],
             [
              0.6666666666666666,
              "#ed7953"
             ],
             [
              0.7777777777777778,
              "#fb9f3a"
             ],
             [
              0.8888888888888888,
              "#fdca26"
             ],
             [
              1,
              "#f0f921"
             ]
            ],
            "type": "heatmap"
           }
          ],
          "heatmapgl": [
           {
            "colorbar": {
             "outlinewidth": 0,
             "ticks": ""
            },
            "colorscale": [
             [
              0,
              "#0d0887"
             ],
             [
              0.1111111111111111,
              "#46039f"
             ],
             [
              0.2222222222222222,
              "#7201a8"
             ],
             [
              0.3333333333333333,
              "#9c179e"
             ],
             [
              0.4444444444444444,
              "#bd3786"
             ],
             [
              0.5555555555555556,
              "#d8576b"
             ],
             [
              0.6666666666666666,
              "#ed7953"
             ],
             [
              0.7777777777777778,
              "#fb9f3a"
             ],
             [
              0.8888888888888888,
              "#fdca26"
             ],
             [
              1,
              "#f0f921"
             ]
            ],
            "type": "heatmapgl"
           }
          ],
          "histogram": [
           {
            "marker": {
             "pattern": {
              "fillmode": "overlay",
              "size": 10,
              "solidity": 0.2
             }
            },
            "type": "histogram"
           }
          ],
          "histogram2d": [
           {
            "colorbar": {
             "outlinewidth": 0,
             "ticks": ""
            },
            "colorscale": [
             [
              0,
              "#0d0887"
             ],
             [
              0.1111111111111111,
              "#46039f"
             ],
             [
              0.2222222222222222,
              "#7201a8"
             ],
             [
              0.3333333333333333,
              "#9c179e"
             ],
             [
              0.4444444444444444,
              "#bd3786"
             ],
             [
              0.5555555555555556,
              "#d8576b"
             ],
             [
              0.6666666666666666,
              "#ed7953"
             ],
             [
              0.7777777777777778,
              "#fb9f3a"
             ],
             [
              0.8888888888888888,
              "#fdca26"
             ],
             [
              1,
              "#f0f921"
             ]
            ],
            "type": "histogram2d"
           }
          ],
          "histogram2dcontour": [
           {
            "colorbar": {
             "outlinewidth": 0,
             "ticks": ""
            },
            "colorscale": [
             [
              0,
              "#0d0887"
             ],
             [
              0.1111111111111111,
              "#46039f"
             ],
             [
              0.2222222222222222,
              "#7201a8"
             ],
             [
              0.3333333333333333,
              "#9c179e"
             ],
             [
              0.4444444444444444,
              "#bd3786"
             ],
             [
              0.5555555555555556,
              "#d8576b"
             ],
             [
              0.6666666666666666,
              "#ed7953"
             ],
             [
              0.7777777777777778,
              "#fb9f3a"
             ],
             [
              0.8888888888888888,
              "#fdca26"
             ],
             [
              1,
              "#f0f921"
             ]
            ],
            "type": "histogram2dcontour"
           }
          ],
          "mesh3d": [
           {
            "colorbar": {
             "outlinewidth": 0,
             "ticks": ""
            },
            "type": "mesh3d"
           }
          ],
          "parcoords": [
           {
            "line": {
             "colorbar": {
              "outlinewidth": 0,
              "ticks": ""
             }
            },
            "type": "parcoords"
           }
          ],
          "pie": [
           {
            "automargin": true,
            "type": "pie"
           }
          ],
          "scatter": [
           {
            "fillpattern": {
             "fillmode": "overlay",
             "size": 10,
             "solidity": 0.2
            },
            "type": "scatter"
           }
          ],
          "scatter3d": [
           {
            "line": {
             "colorbar": {
              "outlinewidth": 0,
              "ticks": ""
             }
            },
            "marker": {
             "colorbar": {
              "outlinewidth": 0,
              "ticks": ""
             }
            },
            "type": "scatter3d"
           }
          ],
          "scattercarpet": [
           {
            "marker": {
             "colorbar": {
              "outlinewidth": 0,
              "ticks": ""
             }
            },
            "type": "scattercarpet"
           }
          ],
          "scattergeo": [
           {
            "marker": {
             "colorbar": {
              "outlinewidth": 0,
              "ticks": ""
             }
            },
            "type": "scattergeo"
           }
          ],
          "scattergl": [
           {
            "marker": {
             "colorbar": {
              "outlinewidth": 0,
              "ticks": ""
             }
            },
            "type": "scattergl"
           }
          ],
          "scattermapbox": [
           {
            "marker": {
             "colorbar": {
              "outlinewidth": 0,
              "ticks": ""
             }
            },
            "type": "scattermapbox"
           }
          ],
          "scatterpolar": [
           {
            "marker": {
             "colorbar": {
              "outlinewidth": 0,
              "ticks": ""
             }
            },
            "type": "scatterpolar"
           }
          ],
          "scatterpolargl": [
           {
            "marker": {
             "colorbar": {
              "outlinewidth": 0,
              "ticks": ""
             }
            },
            "type": "scatterpolargl"
           }
          ],
          "scatterternary": [
           {
            "marker": {
             "colorbar": {
              "outlinewidth": 0,
              "ticks": ""
             }
            },
            "type": "scatterternary"
           }
          ],
          "surface": [
           {
            "colorbar": {
             "outlinewidth": 0,
             "ticks": ""
            },
            "colorscale": [
             [
              0,
              "#0d0887"
             ],
             [
              0.1111111111111111,
              "#46039f"
             ],
             [
              0.2222222222222222,
              "#7201a8"
             ],
             [
              0.3333333333333333,
              "#9c179e"
             ],
             [
              0.4444444444444444,
              "#bd3786"
             ],
             [
              0.5555555555555556,
              "#d8576b"
             ],
             [
              0.6666666666666666,
              "#ed7953"
             ],
             [
              0.7777777777777778,
              "#fb9f3a"
             ],
             [
              0.8888888888888888,
              "#fdca26"
             ],
             [
              1,
              "#f0f921"
             ]
            ],
            "type": "surface"
           }
          ],
          "table": [
           {
            "cells": {
             "fill": {
              "color": "#EBF0F8"
             },
             "line": {
              "color": "white"
             }
            },
            "header": {
             "fill": {
              "color": "#C8D4E3"
             },
             "line": {
              "color": "white"
             }
            },
            "type": "table"
           }
          ]
         },
         "layout": {
          "annotationdefaults": {
           "arrowcolor": "#2a3f5f",
           "arrowhead": 0,
           "arrowwidth": 1
          },
          "autotypenumbers": "strict",
          "coloraxis": {
           "colorbar": {
            "outlinewidth": 0,
            "ticks": ""
           }
          },
          "colorscale": {
           "diverging": [
            [
             0,
             "#8e0152"
            ],
            [
             0.1,
             "#c51b7d"
            ],
            [
             0.2,
             "#de77ae"
            ],
            [
             0.3,
             "#f1b6da"
            ],
            [
             0.4,
             "#fde0ef"
            ],
            [
             0.5,
             "#f7f7f7"
            ],
            [
             0.6,
             "#e6f5d0"
            ],
            [
             0.7,
             "#b8e186"
            ],
            [
             0.8,
             "#7fbc41"
            ],
            [
             0.9,
             "#4d9221"
            ],
            [
             1,
             "#276419"
            ]
           ],
           "sequential": [
            [
             0,
             "#0d0887"
            ],
            [
             0.1111111111111111,
             "#46039f"
            ],
            [
             0.2222222222222222,
             "#7201a8"
            ],
            [
             0.3333333333333333,
             "#9c179e"
            ],
            [
             0.4444444444444444,
             "#bd3786"
            ],
            [
             0.5555555555555556,
             "#d8576b"
            ],
            [
             0.6666666666666666,
             "#ed7953"
            ],
            [
             0.7777777777777778,
             "#fb9f3a"
            ],
            [
             0.8888888888888888,
             "#fdca26"
            ],
            [
             1,
             "#f0f921"
            ]
           ],
           "sequentialminus": [
            [
             0,
             "#0d0887"
            ],
            [
             0.1111111111111111,
             "#46039f"
            ],
            [
             0.2222222222222222,
             "#7201a8"
            ],
            [
             0.3333333333333333,
             "#9c179e"
            ],
            [
             0.4444444444444444,
             "#bd3786"
            ],
            [
             0.5555555555555556,
             "#d8576b"
            ],
            [
             0.6666666666666666,
             "#ed7953"
            ],
            [
             0.7777777777777778,
             "#fb9f3a"
            ],
            [
             0.8888888888888888,
             "#fdca26"
            ],
            [
             1,
             "#f0f921"
            ]
           ]
          },
          "colorway": [
           "#636efa",
           "#EF553B",
           "#00cc96",
           "#ab63fa",
           "#FFA15A",
           "#19d3f3",
           "#FF6692",
           "#B6E880",
           "#FF97FF",
           "#FECB52"
          ],
          "font": {
           "color": "#2a3f5f"
          },
          "geo": {
           "bgcolor": "white",
           "lakecolor": "white",
           "landcolor": "#E5ECF6",
           "showlakes": true,
           "showland": true,
           "subunitcolor": "white"
          },
          "hoverlabel": {
           "align": "left"
          },
          "hovermode": "closest",
          "mapbox": {
           "style": "light"
          },
          "paper_bgcolor": "white",
          "plot_bgcolor": "#E5ECF6",
          "polar": {
           "angularaxis": {
            "gridcolor": "white",
            "linecolor": "white",
            "ticks": ""
           },
           "bgcolor": "#E5ECF6",
           "radialaxis": {
            "gridcolor": "white",
            "linecolor": "white",
            "ticks": ""
           }
          },
          "scene": {
           "xaxis": {
            "backgroundcolor": "#E5ECF6",
            "gridcolor": "white",
            "gridwidth": 2,
            "linecolor": "white",
            "showbackground": true,
            "ticks": "",
            "zerolinecolor": "white"
           },
           "yaxis": {
            "backgroundcolor": "#E5ECF6",
            "gridcolor": "white",
            "gridwidth": 2,
            "linecolor": "white",
            "showbackground": true,
            "ticks": "",
            "zerolinecolor": "white"
           },
           "zaxis": {
            "backgroundcolor": "#E5ECF6",
            "gridcolor": "white",
            "gridwidth": 2,
            "linecolor": "white",
            "showbackground": true,
            "ticks": "",
            "zerolinecolor": "white"
           }
          },
          "shapedefaults": {
           "line": {
            "color": "#2a3f5f"
           }
          },
          "ternary": {
           "aaxis": {
            "gridcolor": "white",
            "linecolor": "white",
            "ticks": ""
           },
           "baxis": {
            "gridcolor": "white",
            "linecolor": "white",
            "ticks": ""
           },
           "bgcolor": "#E5ECF6",
           "caxis": {
            "gridcolor": "white",
            "linecolor": "white",
            "ticks": ""
           }
          },
          "title": {
           "x": 0.05
          },
          "xaxis": {
           "automargin": true,
           "gridcolor": "white",
           "linecolor": "white",
           "ticks": "",
           "title": {
            "standoff": 15
           },
           "zerolinecolor": "white",
           "zerolinewidth": 2
          },
          "yaxis": {
           "automargin": true,
           "gridcolor": "white",
           "linecolor": "white",
           "ticks": "",
           "title": {
            "standoff": 15
           },
           "zerolinecolor": "white",
           "zerolinewidth": 2
          }
         }
        },
        "title": {
         "text": "Variables Correlation"
        }
       }
      }
     },
     "metadata": {},
     "output_type": "display_data"
    }
   ],
   "source": [
    "fig = go.Figure(\n",
    "    data=go.Heatmap(\n",
    "        z=corr_matrix,\n",
    "        x=corr_matrix.columns,\n",
    "        y=corr_matrix.columns,\n",
    "        text=round(corr_matrix, 2),\n",
    "        texttemplate=\"%{text}\",\n",
    "    ),\n",
    "    layout=dict(title=\"Variables Correlation\")\n",
    ")\n",
    "fig.show()"
   ]
  },
  {
   "cell_type": "code",
   "execution_count": 30,
   "metadata": {},
   "outputs": [
    {
     "ename": "ValueError",
     "evalue": "invalid literal for int() with base 10: '12d'",
     "output_type": "error",
     "traceback": [
      "\u001b[1;31m---------------------------------------------------------------------------\u001b[0m",
      "\u001b[1;31mValueError\u001b[0m                                Traceback (most recent call last)",
      "Cell \u001b[1;32mIn[30], line 4\u001b[0m\n\u001b[0;32m      1\u001b[0m \u001b[38;5;28;01mfrom\u001b[39;00m \u001b[38;5;21;01municodedata\u001b[39;00m \u001b[38;5;28;01mimport\u001b[39;00m numeric\n\u001b[1;32m----> 4\u001b[0m \u001b[38;5;28;43mint\u001b[39;49m\u001b[43m(\u001b[49m\u001b[38;5;124;43mu\u001b[39;49m\u001b[38;5;124;43m\"\u001b[39;49m\u001b[38;5;124;43m12d\u001b[39;49m\u001b[38;5;124;43m\"\u001b[39;49m\u001b[43m)\u001b[49m\n",
      "\u001b[1;31mValueError\u001b[0m: invalid literal for int() with base 10: '12d'"
     ]
    }
   ],
   "source": []
  },
  {
   "cell_type": "code",
   "execution_count": null,
   "metadata": {},
   "outputs": [],
   "source": []
  }
 ],
 "metadata": {
  "kernelspec": {
   "display_name": "virtual_env",
   "language": "python",
   "name": "python3"
  },
  "language_info": {
   "codemirror_mode": {
    "name": "ipython",
    "version": 3
   },
   "file_extension": ".py",
   "mimetype": "text/x-python",
   "name": "python",
   "nbconvert_exporter": "python",
   "pygments_lexer": "ipython3",
   "version": "3.12.2"
  }
 },
 "nbformat": 4,
 "nbformat_minor": 2
}
