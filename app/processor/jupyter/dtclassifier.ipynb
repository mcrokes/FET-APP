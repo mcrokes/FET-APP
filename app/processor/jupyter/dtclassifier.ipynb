{
 "cells": [
  {
   "cell_type": "code",
   "execution_count": 2,
   "metadata": {},
   "outputs": [
    {
     "name": "stderr",
     "output_type": "stream",
     "text": [
      "22:33:35: Main    : before creating thread\n",
      "22:33:35: Main    : before running thread\n",
      "22:33:35: Thread PEPE: starting\n",
      "22:33:35: Main    : wait for the thread to finish\n",
      "22:33:35: Main    : all done\n"
     ]
    },
    {
     "name": "stderr",
     "output_type": "stream",
     "text": [
      "22:33:37: Thread PEPE: finishing\n"
     ]
    }
   ],
   "source": [
    "import logging\n",
    "import threading\n",
    "import time\n",
    "\n",
    "def thread_function(name):\n",
    "    logging.info(\"Thread %s: starting\", name)\n",
    "    time.sleep(2)\n",
    "    logging.info(\"Thread %s: finishing\", name)\n",
    "\n",
    "if __name__ == \"__main__\":\n",
    "    format = \"%(asctime)s: %(message)s\"\n",
    "    logging.basicConfig(format=format, level=logging.INFO,\n",
    "                        datefmt=\"%H:%M:%S\")\n",
    "\n",
    "    logging.info(\"Main    : before creating thread\")\n",
    "    x = threading.Thread(target=thread_function, args=('PEPE',))\n",
    "    logging.info(\"Main    : before running thread\")\n",
    "    x.start()\n",
    "    logging.info(\"Main    : wait for the thread to finish\")\n",
    "    # x.join()\n",
    "    logging.info(\"Main    : all done\")"
   ]
  },
  {
   "cell_type": "code",
   "execution_count": 13,
   "metadata": {
    "ExecuteTime": {
     "end_time": "2023-10-11T22:41:51.085126Z",
     "start_time": "2023-10-11T22:41:41.620286Z"
    },
    "collapsed": true
   },
   "outputs": [],
   "source": [
    "import pandas as pd\n",
    "import numpy as np"
   ]
  },
  {
   "cell_type": "code",
   "execution_count": 14,
   "metadata": {
    "ExecuteTime": {
     "end_time": "2023-10-11T22:41:51.256619Z",
     "start_time": "2023-10-11T22:41:51.085126Z"
    },
    "collapsed": false
   },
   "outputs": [],
   "source": [
    "df = pd.read_csv(\"D:/CARRERA/TESIS/forest_explainer_tesis/datasets/Titanic/DataSet_Titanic.csv\")"
   ]
  },
  {
   "cell_type": "code",
   "execution_count": 5,
   "metadata": {},
   "outputs": [
    {
     "data": {
      "text/html": [
       "<div>\n",
       "<style scoped>\n",
       "    .dataframe tbody tr th:only-of-type {\n",
       "        vertical-align: middle;\n",
       "    }\n",
       "\n",
       "    .dataframe tbody tr th {\n",
       "        vertical-align: top;\n",
       "    }\n",
       "\n",
       "    .dataframe thead th {\n",
       "        text-align: right;\n",
       "    }\n",
       "</style>\n",
       "<table border=\"1\" class=\"dataframe\">\n",
       "  <thead>\n",
       "    <tr style=\"text-align: right;\">\n",
       "      <th></th>\n",
       "      <th>Sobreviviente</th>\n",
       "      <th>Clase</th>\n",
       "      <th>Genero</th>\n",
       "      <th>Edad</th>\n",
       "      <th>HermEsp</th>\n",
       "      <th>PadHij</th>\n",
       "    </tr>\n",
       "  </thead>\n",
       "  <tbody>\n",
       "    <tr>\n",
       "      <th>0</th>\n",
       "      <td>0</td>\n",
       "      <td>3</td>\n",
       "      <td>0</td>\n",
       "      <td>22.0</td>\n",
       "      <td>1</td>\n",
       "      <td>0</td>\n",
       "    </tr>\n",
       "    <tr>\n",
       "      <th>1</th>\n",
       "      <td>1</td>\n",
       "      <td>1</td>\n",
       "      <td>1</td>\n",
       "      <td>38.0</td>\n",
       "      <td>1</td>\n",
       "      <td>0</td>\n",
       "    </tr>\n",
       "    <tr>\n",
       "      <th>2</th>\n",
       "      <td>1</td>\n",
       "      <td>3</td>\n",
       "      <td>1</td>\n",
       "      <td>26.0</td>\n",
       "      <td>0</td>\n",
       "      <td>0</td>\n",
       "    </tr>\n",
       "    <tr>\n",
       "      <th>3</th>\n",
       "      <td>1</td>\n",
       "      <td>1</td>\n",
       "      <td>1</td>\n",
       "      <td>35.0</td>\n",
       "      <td>1</td>\n",
       "      <td>0</td>\n",
       "    </tr>\n",
       "    <tr>\n",
       "      <th>4</th>\n",
       "      <td>0</td>\n",
       "      <td>3</td>\n",
       "      <td>0</td>\n",
       "      <td>35.0</td>\n",
       "      <td>0</td>\n",
       "      <td>0</td>\n",
       "    </tr>\n",
       "    <tr>\n",
       "      <th>...</th>\n",
       "      <td>...</td>\n",
       "      <td>...</td>\n",
       "      <td>...</td>\n",
       "      <td>...</td>\n",
       "      <td>...</td>\n",
       "      <td>...</td>\n",
       "    </tr>\n",
       "    <tr>\n",
       "      <th>709</th>\n",
       "      <td>0</td>\n",
       "      <td>3</td>\n",
       "      <td>1</td>\n",
       "      <td>39.0</td>\n",
       "      <td>0</td>\n",
       "      <td>5</td>\n",
       "    </tr>\n",
       "    <tr>\n",
       "      <th>710</th>\n",
       "      <td>0</td>\n",
       "      <td>2</td>\n",
       "      <td>0</td>\n",
       "      <td>27.0</td>\n",
       "      <td>0</td>\n",
       "      <td>0</td>\n",
       "    </tr>\n",
       "    <tr>\n",
       "      <th>711</th>\n",
       "      <td>1</td>\n",
       "      <td>1</td>\n",
       "      <td>1</td>\n",
       "      <td>19.0</td>\n",
       "      <td>0</td>\n",
       "      <td>0</td>\n",
       "    </tr>\n",
       "    <tr>\n",
       "      <th>712</th>\n",
       "      <td>1</td>\n",
       "      <td>1</td>\n",
       "      <td>0</td>\n",
       "      <td>26.0</td>\n",
       "      <td>0</td>\n",
       "      <td>0</td>\n",
       "    </tr>\n",
       "    <tr>\n",
       "      <th>713</th>\n",
       "      <td>0</td>\n",
       "      <td>3</td>\n",
       "      <td>0</td>\n",
       "      <td>32.0</td>\n",
       "      <td>0</td>\n",
       "      <td>0</td>\n",
       "    </tr>\n",
       "  </tbody>\n",
       "</table>\n",
       "<p>714 rows × 6 columns</p>\n",
       "</div>"
      ],
      "text/plain": [
       "     Sobreviviente  Clase  Genero  Edad  HermEsp  PadHij\n",
       "0                0      3       0  22.0        1       0\n",
       "1                1      1       1  38.0        1       0\n",
       "2                1      3       1  26.0        0       0\n",
       "3                1      1       1  35.0        1       0\n",
       "4                0      3       0  35.0        0       0\n",
       "..             ...    ...     ...   ...      ...     ...\n",
       "709              0      3       1  39.0        0       5\n",
       "710              0      2       0  27.0        0       0\n",
       "711              1      1       1  19.0        0       0\n",
       "712              1      1       0  26.0        0       0\n",
       "713              0      3       0  32.0        0       0\n",
       "\n",
       "[714 rows x 6 columns]"
      ]
     },
     "execution_count": 5,
     "metadata": {},
     "output_type": "execute_result"
    }
   ],
   "source": [
    "df"
   ]
  },
  {
   "cell_type": "code",
   "execution_count": 30,
   "metadata": {},
   "outputs": [
    {
     "data": {
      "text/plain": [
       "'0'"
      ]
     },
     "execution_count": 30,
     "metadata": {},
     "output_type": "execute_result"
    }
   ],
   "source": [
    "p = 'clase-0'\n",
    "\n",
    "p.replace('clase-', '')"
   ]
  },
  {
   "cell_type": "code",
   "execution_count": 5,
   "metadata": {},
   "outputs": [
    {
     "name": "stdout",
     "output_type": "stream",
     "text": [
      "[{'name': 'Clase', 'variables': [1, 2, 3]}, {'name': 'Genero', 'variables': [0, 1]}]\n"
     ]
    }
   ],
   "source": [
    "qualitative_variables_form = []\n",
    "for column in df.drop(columns='Sobreviviente'):\n",
    "    if len(set(df[column])) < 5:\n",
    "        qualitative_variables_form.append({\n",
    "            'name': column,\n",
    "            'variables': list(set(df[column]))\n",
    "        })\n",
    "print(qualitative_variables_form)"
   ]
  },
  {
   "cell_type": "code",
   "execution_count": 15,
   "metadata": {
    "ExecuteTime": {
     "end_time": "2023-10-11T22:41:51.350262Z",
     "start_time": "2023-10-11T22:41:51.272127Z"
    },
    "collapsed": false
   },
   "outputs": [],
   "source": [
    "from sklearn.model_selection import train_test_split\n",
    "\n",
    "data = df.drop(columns=\"Sobreviviente\")\n",
    "x_train, x_test, y_train, y_test = train_test_split(data,\n",
    "                                                    df[\"Sobreviviente\"], test_size=0.2,\n",
    "                                                    random_state=123)\n"
   ]
  },
  {
   "cell_type": "code",
   "execution_count": 7,
   "metadata": {},
   "outputs": [
    {
     "data": {
      "text/html": [
       "<style>#sk-container-id-1 {\n",
       "  /* Definition of color scheme common for light and dark mode */\n",
       "  --sklearn-color-text: black;\n",
       "  --sklearn-color-line: gray;\n",
       "  /* Definition of color scheme for unfitted estimators */\n",
       "  --sklearn-color-unfitted-level-0: #fff5e6;\n",
       "  --sklearn-color-unfitted-level-1: #f6e4d2;\n",
       "  --sklearn-color-unfitted-level-2: #ffe0b3;\n",
       "  --sklearn-color-unfitted-level-3: chocolate;\n",
       "  /* Definition of color scheme for fitted estimators */\n",
       "  --sklearn-color-fitted-level-0: #f0f8ff;\n",
       "  --sklearn-color-fitted-level-1: #d4ebff;\n",
       "  --sklearn-color-fitted-level-2: #b3dbfd;\n",
       "  --sklearn-color-fitted-level-3: cornflowerblue;\n",
       "\n",
       "  /* Specific color for light theme */\n",
       "  --sklearn-color-text-on-default-background: var(--sg-text-color, var(--theme-code-foreground, var(--jp-content-font-color1, black)));\n",
       "  --sklearn-color-background: var(--sg-background-color, var(--theme-background, var(--jp-layout-color0, white)));\n",
       "  --sklearn-color-border-box: var(--sg-text-color, var(--theme-code-foreground, var(--jp-content-font-color1, black)));\n",
       "  --sklearn-color-icon: #696969;\n",
       "\n",
       "  @media (prefers-color-scheme: dark) {\n",
       "    /* Redefinition of color scheme for dark theme */\n",
       "    --sklearn-color-text-on-default-background: var(--sg-text-color, var(--theme-code-foreground, var(--jp-content-font-color1, white)));\n",
       "    --sklearn-color-background: var(--sg-background-color, var(--theme-background, var(--jp-layout-color0, #111)));\n",
       "    --sklearn-color-border-box: var(--sg-text-color, var(--theme-code-foreground, var(--jp-content-font-color1, white)));\n",
       "    --sklearn-color-icon: #878787;\n",
       "  }\n",
       "}\n",
       "\n",
       "#sk-container-id-1 {\n",
       "  color: var(--sklearn-color-text);\n",
       "}\n",
       "\n",
       "#sk-container-id-1 pre {\n",
       "  padding: 0;\n",
       "}\n",
       "\n",
       "#sk-container-id-1 input.sk-hidden--visually {\n",
       "  border: 0;\n",
       "  clip: rect(1px 1px 1px 1px);\n",
       "  clip: rect(1px, 1px, 1px, 1px);\n",
       "  height: 1px;\n",
       "  margin: -1px;\n",
       "  overflow: hidden;\n",
       "  padding: 0;\n",
       "  position: absolute;\n",
       "  width: 1px;\n",
       "}\n",
       "\n",
       "#sk-container-id-1 div.sk-dashed-wrapped {\n",
       "  border: 1px dashed var(--sklearn-color-line);\n",
       "  margin: 0 0.4em 0.5em 0.4em;\n",
       "  box-sizing: border-box;\n",
       "  padding-bottom: 0.4em;\n",
       "  background-color: var(--sklearn-color-background);\n",
       "}\n",
       "\n",
       "#sk-container-id-1 div.sk-container {\n",
       "  /* jupyter's `normalize.less` sets `[hidden] { display: none; }`\n",
       "     but bootstrap.min.css set `[hidden] { display: none !important; }`\n",
       "     so we also need the `!important` here to be able to override the\n",
       "     default hidden behavior on the sphinx rendered scikit-learn.org.\n",
       "     See: https://github.com/scikit-learn/scikit-learn/issues/21755 */\n",
       "  display: inline-block !important;\n",
       "  position: relative;\n",
       "}\n",
       "\n",
       "#sk-container-id-1 div.sk-text-repr-fallback {\n",
       "  display: none;\n",
       "}\n",
       "\n",
       "div.sk-parallel-item,\n",
       "div.sk-serial,\n",
       "div.sk-item {\n",
       "  /* draw centered vertical line to link estimators */\n",
       "  background-image: linear-gradient(var(--sklearn-color-text-on-default-background), var(--sklearn-color-text-on-default-background));\n",
       "  background-size: 2px 100%;\n",
       "  background-repeat: no-repeat;\n",
       "  background-position: center center;\n",
       "}\n",
       "\n",
       "/* Parallel-specific style estimator block */\n",
       "\n",
       "#sk-container-id-1 div.sk-parallel-item::after {\n",
       "  content: \"\";\n",
       "  width: 100%;\n",
       "  border-bottom: 2px solid var(--sklearn-color-text-on-default-background);\n",
       "  flex-grow: 1;\n",
       "}\n",
       "\n",
       "#sk-container-id-1 div.sk-parallel {\n",
       "  display: flex;\n",
       "  align-items: stretch;\n",
       "  justify-content: center;\n",
       "  background-color: var(--sklearn-color-background);\n",
       "  position: relative;\n",
       "}\n",
       "\n",
       "#sk-container-id-1 div.sk-parallel-item {\n",
       "  display: flex;\n",
       "  flex-direction: column;\n",
       "}\n",
       "\n",
       "#sk-container-id-1 div.sk-parallel-item:first-child::after {\n",
       "  align-self: flex-end;\n",
       "  width: 50%;\n",
       "}\n",
       "\n",
       "#sk-container-id-1 div.sk-parallel-item:last-child::after {\n",
       "  align-self: flex-start;\n",
       "  width: 50%;\n",
       "}\n",
       "\n",
       "#sk-container-id-1 div.sk-parallel-item:only-child::after {\n",
       "  width: 0;\n",
       "}\n",
       "\n",
       "/* Serial-specific style estimator block */\n",
       "\n",
       "#sk-container-id-1 div.sk-serial {\n",
       "  display: flex;\n",
       "  flex-direction: column;\n",
       "  align-items: center;\n",
       "  background-color: var(--sklearn-color-background);\n",
       "  padding-right: 1em;\n",
       "  padding-left: 1em;\n",
       "}\n",
       "\n",
       "\n",
       "/* Toggleable style: style used for estimator/Pipeline/ColumnTransformer box that is\n",
       "clickable and can be expanded/collapsed.\n",
       "- Pipeline and ColumnTransformer use this feature and define the default style\n",
       "- Estimators will overwrite some part of the style using the `sk-estimator` class\n",
       "*/\n",
       "\n",
       "/* Pipeline and ColumnTransformer style (default) */\n",
       "\n",
       "#sk-container-id-1 div.sk-toggleable {\n",
       "  /* Default theme specific background. It is overwritten whether we have a\n",
       "  specific estimator or a Pipeline/ColumnTransformer */\n",
       "  background-color: var(--sklearn-color-background);\n",
       "}\n",
       "\n",
       "/* Toggleable label */\n",
       "#sk-container-id-1 label.sk-toggleable__label {\n",
       "  cursor: pointer;\n",
       "  display: block;\n",
       "  width: 100%;\n",
       "  margin-bottom: 0;\n",
       "  padding: 0.5em;\n",
       "  box-sizing: border-box;\n",
       "  text-align: center;\n",
       "}\n",
       "\n",
       "#sk-container-id-1 label.sk-toggleable__label-arrow:before {\n",
       "  /* Arrow on the left of the label */\n",
       "  content: \"▸\";\n",
       "  float: left;\n",
       "  margin-right: 0.25em;\n",
       "  color: var(--sklearn-color-icon);\n",
       "}\n",
       "\n",
       "#sk-container-id-1 label.sk-toggleable__label-arrow:hover:before {\n",
       "  color: var(--sklearn-color-text);\n",
       "}\n",
       "\n",
       "/* Toggleable content - dropdown */\n",
       "\n",
       "#sk-container-id-1 div.sk-toggleable__content {\n",
       "  max-height: 0;\n",
       "  max-width: 0;\n",
       "  overflow: hidden;\n",
       "  text-align: left;\n",
       "  /* unfitted */\n",
       "  background-color: var(--sklearn-color-unfitted-level-0);\n",
       "}\n",
       "\n",
       "#sk-container-id-1 div.sk-toggleable__content.fitted {\n",
       "  /* fitted */\n",
       "  background-color: var(--sklearn-color-fitted-level-0);\n",
       "}\n",
       "\n",
       "#sk-container-id-1 div.sk-toggleable__content pre {\n",
       "  margin: 0.2em;\n",
       "  border-radius: 0.25em;\n",
       "  color: var(--sklearn-color-text);\n",
       "  /* unfitted */\n",
       "  background-color: var(--sklearn-color-unfitted-level-0);\n",
       "}\n",
       "\n",
       "#sk-container-id-1 div.sk-toggleable__content.fitted pre {\n",
       "  /* unfitted */\n",
       "  background-color: var(--sklearn-color-fitted-level-0);\n",
       "}\n",
       "\n",
       "#sk-container-id-1 input.sk-toggleable__control:checked~div.sk-toggleable__content {\n",
       "  /* Expand drop-down */\n",
       "  max-height: 200px;\n",
       "  max-width: 100%;\n",
       "  overflow: auto;\n",
       "}\n",
       "\n",
       "#sk-container-id-1 input.sk-toggleable__control:checked~label.sk-toggleable__label-arrow:before {\n",
       "  content: \"▾\";\n",
       "}\n",
       "\n",
       "/* Pipeline/ColumnTransformer-specific style */\n",
       "\n",
       "#sk-container-id-1 div.sk-label input.sk-toggleable__control:checked~label.sk-toggleable__label {\n",
       "  color: var(--sklearn-color-text);\n",
       "  background-color: var(--sklearn-color-unfitted-level-2);\n",
       "}\n",
       "\n",
       "#sk-container-id-1 div.sk-label.fitted input.sk-toggleable__control:checked~label.sk-toggleable__label {\n",
       "  background-color: var(--sklearn-color-fitted-level-2);\n",
       "}\n",
       "\n",
       "/* Estimator-specific style */\n",
       "\n",
       "/* Colorize estimator box */\n",
       "#sk-container-id-1 div.sk-estimator input.sk-toggleable__control:checked~label.sk-toggleable__label {\n",
       "  /* unfitted */\n",
       "  background-color: var(--sklearn-color-unfitted-level-2);\n",
       "}\n",
       "\n",
       "#sk-container-id-1 div.sk-estimator.fitted input.sk-toggleable__control:checked~label.sk-toggleable__label {\n",
       "  /* fitted */\n",
       "  background-color: var(--sklearn-color-fitted-level-2);\n",
       "}\n",
       "\n",
       "#sk-container-id-1 div.sk-label label.sk-toggleable__label,\n",
       "#sk-container-id-1 div.sk-label label {\n",
       "  /* The background is the default theme color */\n",
       "  color: var(--sklearn-color-text-on-default-background);\n",
       "}\n",
       "\n",
       "/* On hover, darken the color of the background */\n",
       "#sk-container-id-1 div.sk-label:hover label.sk-toggleable__label {\n",
       "  color: var(--sklearn-color-text);\n",
       "  background-color: var(--sklearn-color-unfitted-level-2);\n",
       "}\n",
       "\n",
       "/* Label box, darken color on hover, fitted */\n",
       "#sk-container-id-1 div.sk-label.fitted:hover label.sk-toggleable__label.fitted {\n",
       "  color: var(--sklearn-color-text);\n",
       "  background-color: var(--sklearn-color-fitted-level-2);\n",
       "}\n",
       "\n",
       "/* Estimator label */\n",
       "\n",
       "#sk-container-id-1 div.sk-label label {\n",
       "  font-family: monospace;\n",
       "  font-weight: bold;\n",
       "  display: inline-block;\n",
       "  line-height: 1.2em;\n",
       "}\n",
       "\n",
       "#sk-container-id-1 div.sk-label-container {\n",
       "  text-align: center;\n",
       "}\n",
       "\n",
       "/* Estimator-specific */\n",
       "#sk-container-id-1 div.sk-estimator {\n",
       "  font-family: monospace;\n",
       "  border: 1px dotted var(--sklearn-color-border-box);\n",
       "  border-radius: 0.25em;\n",
       "  box-sizing: border-box;\n",
       "  margin-bottom: 0.5em;\n",
       "  /* unfitted */\n",
       "  background-color: var(--sklearn-color-unfitted-level-0);\n",
       "}\n",
       "\n",
       "#sk-container-id-1 div.sk-estimator.fitted {\n",
       "  /* fitted */\n",
       "  background-color: var(--sklearn-color-fitted-level-0);\n",
       "}\n",
       "\n",
       "/* on hover */\n",
       "#sk-container-id-1 div.sk-estimator:hover {\n",
       "  /* unfitted */\n",
       "  background-color: var(--sklearn-color-unfitted-level-2);\n",
       "}\n",
       "\n",
       "#sk-container-id-1 div.sk-estimator.fitted:hover {\n",
       "  /* fitted */\n",
       "  background-color: var(--sklearn-color-fitted-level-2);\n",
       "}\n",
       "\n",
       "/* Specification for estimator info (e.g. \"i\" and \"?\") */\n",
       "\n",
       "/* Common style for \"i\" and \"?\" */\n",
       "\n",
       ".sk-estimator-doc-link,\n",
       "a:link.sk-estimator-doc-link,\n",
       "a:visited.sk-estimator-doc-link {\n",
       "  float: right;\n",
       "  font-size: smaller;\n",
       "  line-height: 1em;\n",
       "  font-family: monospace;\n",
       "  background-color: var(--sklearn-color-background);\n",
       "  border-radius: 1em;\n",
       "  height: 1em;\n",
       "  width: 1em;\n",
       "  text-decoration: none !important;\n",
       "  margin-left: 1ex;\n",
       "  /* unfitted */\n",
       "  border: var(--sklearn-color-unfitted-level-1) 1pt solid;\n",
       "  color: var(--sklearn-color-unfitted-level-1);\n",
       "}\n",
       "\n",
       ".sk-estimator-doc-link.fitted,\n",
       "a:link.sk-estimator-doc-link.fitted,\n",
       "a:visited.sk-estimator-doc-link.fitted {\n",
       "  /* fitted */\n",
       "  border: var(--sklearn-color-fitted-level-1) 1pt solid;\n",
       "  color: var(--sklearn-color-fitted-level-1);\n",
       "}\n",
       "\n",
       "/* On hover */\n",
       "div.sk-estimator:hover .sk-estimator-doc-link:hover,\n",
       ".sk-estimator-doc-link:hover,\n",
       "div.sk-label-container:hover .sk-estimator-doc-link:hover,\n",
       ".sk-estimator-doc-link:hover {\n",
       "  /* unfitted */\n",
       "  background-color: var(--sklearn-color-unfitted-level-3);\n",
       "  color: var(--sklearn-color-background);\n",
       "  text-decoration: none;\n",
       "}\n",
       "\n",
       "div.sk-estimator.fitted:hover .sk-estimator-doc-link.fitted:hover,\n",
       ".sk-estimator-doc-link.fitted:hover,\n",
       "div.sk-label-container:hover .sk-estimator-doc-link.fitted:hover,\n",
       ".sk-estimator-doc-link.fitted:hover {\n",
       "  /* fitted */\n",
       "  background-color: var(--sklearn-color-fitted-level-3);\n",
       "  color: var(--sklearn-color-background);\n",
       "  text-decoration: none;\n",
       "}\n",
       "\n",
       "/* Span, style for the box shown on hovering the info icon */\n",
       ".sk-estimator-doc-link span {\n",
       "  display: none;\n",
       "  z-index: 9999;\n",
       "  position: relative;\n",
       "  font-weight: normal;\n",
       "  right: .2ex;\n",
       "  padding: .5ex;\n",
       "  margin: .5ex;\n",
       "  width: min-content;\n",
       "  min-width: 20ex;\n",
       "  max-width: 50ex;\n",
       "  color: var(--sklearn-color-text);\n",
       "  box-shadow: 2pt 2pt 4pt #999;\n",
       "  /* unfitted */\n",
       "  background: var(--sklearn-color-unfitted-level-0);\n",
       "  border: .5pt solid var(--sklearn-color-unfitted-level-3);\n",
       "}\n",
       "\n",
       ".sk-estimator-doc-link.fitted span {\n",
       "  /* fitted */\n",
       "  background: var(--sklearn-color-fitted-level-0);\n",
       "  border: var(--sklearn-color-fitted-level-3);\n",
       "}\n",
       "\n",
       ".sk-estimator-doc-link:hover span {\n",
       "  display: block;\n",
       "}\n",
       "\n",
       "/* \"?\"-specific style due to the `<a>` HTML tag */\n",
       "\n",
       "#sk-container-id-1 a.estimator_doc_link {\n",
       "  float: right;\n",
       "  font-size: 1rem;\n",
       "  line-height: 1em;\n",
       "  font-family: monospace;\n",
       "  background-color: var(--sklearn-color-background);\n",
       "  border-radius: 1rem;\n",
       "  height: 1rem;\n",
       "  width: 1rem;\n",
       "  text-decoration: none;\n",
       "  /* unfitted */\n",
       "  color: var(--sklearn-color-unfitted-level-1);\n",
       "  border: var(--sklearn-color-unfitted-level-1) 1pt solid;\n",
       "}\n",
       "\n",
       "#sk-container-id-1 a.estimator_doc_link.fitted {\n",
       "  /* fitted */\n",
       "  border: var(--sklearn-color-fitted-level-1) 1pt solid;\n",
       "  color: var(--sklearn-color-fitted-level-1);\n",
       "}\n",
       "\n",
       "/* On hover */\n",
       "#sk-container-id-1 a.estimator_doc_link:hover {\n",
       "  /* unfitted */\n",
       "  background-color: var(--sklearn-color-unfitted-level-3);\n",
       "  color: var(--sklearn-color-background);\n",
       "  text-decoration: none;\n",
       "}\n",
       "\n",
       "#sk-container-id-1 a.estimator_doc_link.fitted:hover {\n",
       "  /* fitted */\n",
       "  background-color: var(--sklearn-color-fitted-level-3);\n",
       "}\n",
       "</style><div id=\"sk-container-id-1\" class=\"sk-top-container\"><div class=\"sk-text-repr-fallback\"><pre>RandomForestClassifier(max_depth=2, random_state=0)</pre><b>In a Jupyter environment, please rerun this cell to show the HTML representation or trust the notebook. <br />On GitHub, the HTML representation is unable to render, please try loading this page with nbviewer.org.</b></div><div class=\"sk-container\" hidden><div class=\"sk-item\"><div class=\"sk-estimator fitted sk-toggleable\"><input class=\"sk-toggleable__control sk-hidden--visually\" id=\"sk-estimator-id-1\" type=\"checkbox\" checked><label for=\"sk-estimator-id-1\" class=\"sk-toggleable__label fitted sk-toggleable__label-arrow fitted\">&nbsp;&nbsp;RandomForestClassifier<a class=\"sk-estimator-doc-link fitted\" rel=\"noreferrer\" target=\"_blank\" href=\"https://scikit-learn.org/1.4/modules/generated/sklearn.ensemble.RandomForestClassifier.html\">?<span>Documentation for RandomForestClassifier</span></a><span class=\"sk-estimator-doc-link fitted\">i<span>Fitted</span></span></label><div class=\"sk-toggleable__content fitted\"><pre>RandomForestClassifier(max_depth=2, random_state=0)</pre></div> </div></div></div></div>"
      ],
      "text/plain": [
       "RandomForestClassifier(max_depth=2, random_state=0)"
      ]
     },
     "execution_count": 7,
     "metadata": {},
     "output_type": "execute_result"
    }
   ],
   "source": [
    "from sklearn.ensemble import RandomForestClassifier\n",
    "\n",
    "clf = RandomForestClassifier(max_depth=2, random_state=0)\n",
    "clf.fit(x_train, y_train)"
   ]
  },
  {
   "cell_type": "code",
   "execution_count": 11,
   "metadata": {},
   "outputs": [],
   "source": [
    "possible_targets = list(set(df.columns) - set(clf.feature_names_in_))"
   ]
  },
  {
   "cell_type": "code",
   "execution_count": 12,
   "metadata": {},
   "outputs": [
    {
     "data": {
      "text/plain": [
       "['Sobreviviente']"
      ]
     },
     "execution_count": 12,
     "metadata": {},
     "output_type": "execute_result"
    }
   ],
   "source": [
    "possible_targets"
   ]
  },
  {
   "cell_type": "code",
   "execution_count": 4,
   "metadata": {},
   "outputs": [
    {
     "ename": "NameError",
     "evalue": "name 'clf' is not defined",
     "output_type": "error",
     "traceback": [
      "\u001b[1;31m---------------------------------------------------------------------------\u001b[0m",
      "\u001b[1;31mNameError\u001b[0m                                 Traceback (most recent call last)",
      "Cell \u001b[1;32mIn[4], line 2\u001b[0m\n\u001b[0;32m      1\u001b[0m \u001b[38;5;28;01mimport\u001b[39;00m \u001b[38;5;21;01mjoblib\u001b[39;00m\n\u001b[1;32m----> 2\u001b[0m model \u001b[38;5;241m=\u001b[39m joblib\u001b[38;5;241m.\u001b[39mdump(\u001b[43mclf\u001b[49m,\u001b[38;5;124m\"\u001b[39m\u001b[38;5;124mD:/CARRERA/TESIS/forest_explainer_tesis/datasets/Titanic/titanic.joblib\u001b[39m\u001b[38;5;124m\"\u001b[39m)\n",
      "\u001b[1;31mNameError\u001b[0m: name 'clf' is not defined"
     ]
    }
   ],
   "source": [
    "import joblib\n",
    "model = joblib.dump(clf,\"D:/CARRERA/TESIS/forest_explainer_tesis/datasets/Titanic/titanic.joblib\")"
   ]
  },
  {
   "cell_type": "code",
   "execution_count": null,
   "metadata": {
    "ExecuteTime": {
     "end_time": "2023-10-11T22:41:51.428395Z",
     "start_time": "2023-10-11T22:41:51.334631Z"
    },
    "collapsed": false
   },
   "outputs": [],
   "source": [
    "print(data.columns)"
   ]
  },
  {
   "cell_type": "code",
   "execution_count": 40,
   "metadata": {
    "ExecuteTime": {
     "end_time": "2023-10-11T22:42:01.495340Z",
     "start_time": "2023-10-11T22:42:01.385429Z"
    },
    "collapsed": false
   },
   "outputs": [],
   "source": [
    "def get_rules(model, q_variables, q_variables_values, features, class_names, target):\n",
    "    tree_ = model\n",
    "    feature_name = [\n",
    "        features[i] if i != _tree.TREE_UNDEFINED else \"undefined!\"\n",
    "        for i in tree_.feature\n",
    "    ]\n",
    "\n",
    "    paths = []\n",
    "    path = []\n",
    "    cont = 1\n",
    "\n",
    "    def get_simplified_route(route):\n",
    "        simplified_route = list(route)\n",
    "        watched_classes_plus = []\n",
    "        watched_classes_less = []\n",
    "        done = False\n",
    "        iteration = 0\n",
    "        while (not done):\n",
    "            analyzed_rule = {}\n",
    "            analyzed_item = \"\"\n",
    "            analyzed_sign = \"\"\n",
    "            analyzed_value = []\n",
    "            analyzed_type = \"\"\n",
    "            for i in range(len(route)):\n",
    "                if (iteration + i) < len(route):\n",
    "                    actual = route[i + iteration]\n",
    "                    if actual[\"item\"] not in DT[\"q_variables\"] and (analyzed_type == \"number\" or not analyzed_type):\n",
    "                        if not analyzed_item:\n",
    "                            analyzed_rule = actual\n",
    "                            analyzed_type = \"number\"\n",
    "                            analyzed_item = actual[\"item\"]\n",
    "                            analyzed_value = actual[\"value\"]\n",
    "                            if analyzed_item not in watched_classes_plus and actual[\"sign\"] == \" > \":\n",
    "                                watched_classes_plus.append(analyzed_item)\n",
    "                                analyzed_sign = \" > \"\n",
    "                            elif analyzed_item not in watched_classes_less and actual[\"sign\"] == \" <= \":\n",
    "                                watched_classes_less.append(analyzed_item)\n",
    "                                analyzed_sign = \" <= \"\n",
    "                        elif actual[\"item\"] == analyzed_item and actual[\"sign\"] == analyzed_sign:\n",
    "                            try:\n",
    "                                if analyzed_sign == \" > \":\n",
    "                                    if actual[\"value\"] > analyzed_value:\n",
    "                                        simplified_route.remove(analyzed_rule)\n",
    "                                        analyzed_value = actual[\"value\"]\n",
    "                                        analyzed_rule = actual\n",
    "                                    elif actual[\"value\"] <= analyzed_value:\n",
    "                                        simplified_route.remove(actual)\n",
    "                                elif analyzed_sign == \" <= \":\n",
    "                                    if actual[\"value\"] <= analyzed_value:\n",
    "                                        simplified_route.remove(analyzed_rule)\n",
    "                                        analyzed_value = actual[\"value\"]\n",
    "                                        analyzed_rule = actual\n",
    "                                    elif actual[\"value\"] > analyzed_value:\n",
    "                                        simplified_route.remove(actual)\n",
    "                            except Exception as e:\n",
    "                                str(e)\n",
    "                                break\n",
    "                    elif analyzed_type == \"object\" or not analyzed_type:\n",
    "                        if not analyzed_item:\n",
    "                            analyzed_rule = actual\n",
    "                            analyzed_type = \"object\"\n",
    "                            analyzed_sign = \"es :\"\n",
    "                            analyzed_item = actual[\"item\"]\n",
    "                            analyzed_value = actual[\"value\"]\n",
    "                        elif actual[\"item\"] == analyzed_item:\n",
    "                            try:\n",
    "                                if all(val in analyzed_value for val in actual[\"value\"]):\n",
    "                                    simplified_route.remove(analyzed_rule)\n",
    "                                    analyzed_value = actual[\"value\"]\n",
    "                                elif all(analyzed_val in actual[\"value\"] for analyzed_val in analyzed_value):\n",
    "                                    simplified_route.remove(actual)\n",
    "                            except Exception as e:\n",
    "                                str(e)\n",
    "                                break\n",
    "                else:\n",
    "                    break\n",
    "            iteration += 1\n",
    "            if iteration >= len(route):\n",
    "                done = True\n",
    "        return simplified_route\n",
    "\n",
    "    def get_rule(name, threshold, bigger):\n",
    "        rule = [{\n",
    "            \"item\": name,\n",
    "            \"sign\": \"\",\n",
    "            \"value\": []\n",
    "        }]\n",
    "        if name in q_variables:\n",
    "            new_args = []\n",
    "            first = True\n",
    "            # condition = \"es : \"\n",
    "            rule[0][\"sign\"] = \"es: \"\n",
    "            for variables in q_variables_values:\n",
    "                if variables[\"column\"] == name:\n",
    "                    for values in variables[\"values\"]:\n",
    "                        if (not bigger and values[\"previous_value\"] <= threshold) or (\n",
    "                                bigger and values[\"previous_value\"] > threshold):\n",
    "                            new_args.append(values[\"new_value\"])\n",
    "            rule[0][\"value\"] = new_args\n",
    "        else:\n",
    "            if not bigger:\n",
    "                rule[0][\"sign\"] = \" <= \"\n",
    "            else:\n",
    "                rule[0][\"sign\"] = \" > \"\n",
    "            rule[0][\"value\"] = [f\"{np.round(threshold, 3)}\"]\n",
    "\n",
    "        return rule\n",
    "\n",
    "    def get_text_route(route):\n",
    "        text_route = []\n",
    "        for val in route:\n",
    "            if val[\"item\"] not in q_variables:\n",
    "                text_route += [(f\"({val['item']} {val['sign']} {val['value'][0]})\")]\n",
    "            else:\n",
    "                values = \"\"\n",
    "                first = True\n",
    "\n",
    "                for i in range(len(val['value'])):\n",
    "                    if first:\n",
    "                        values += f\"{val['value'][i]}\"\n",
    "                        first = False\n",
    "                    else:\n",
    "                        values += f\" o {val['value'][i]}\"\n",
    "                text_route += [(f\"{val['item']} {val['sign']} {values}\")]\n",
    "        return text_route\n",
    "\n",
    "    def recurse(node, route, routes):\n",
    "\n",
    "        if tree_.feature[node] != _tree.TREE_UNDEFINED:\n",
    "            name = feature_name[node]\n",
    "            threshold = tree_.threshold[node]\n",
    "            left_path_rules, right_path_rules = list(route), list(route)\n",
    "            left_path_rules += get_rule(name, threshold, bigger=False)\n",
    "            recurse(tree_.children_left[node], left_path_rules, routes)\n",
    "            right_path_rules += get_rule(name, threshold, bigger=True)\n",
    "            recurse(tree_.children_right[node], right_path_rules, routes)\n",
    "        else:\n",
    "            text_route_original = get_text_route(route)\n",
    "            text_route_original += [(tree_.value[node], tree_.n_node_samples[node])]\n",
    "            simplified_route = get_simplified_route(route)\n",
    "            text_route = get_text_route(simplified_route)\n",
    "            text_route += [(tree_.value[node], tree_.n_node_samples[node])]\n",
    "            routes += [text_route]\n",
    "\n",
    "    recurse(0, path, paths)\n",
    "\n",
    "    # sort by samples count\n",
    "    samples_count = [p[-1][1] for p in paths]\n",
    "    ii = list(np.argsort(samples_count))\n",
    "    paths = [paths[i] for i in reversed(ii)]\n",
    "\n",
    "    rules = []\n",
    "    for path in paths:\n",
    "        rule = \"Si \"\n",
    "\n",
    "        for p in path[:-1]:\n",
    "            if rule != \"Si \":\n",
    "                rule += \" y \"\n",
    "            rule += str(p)\n",
    "        rule += \" entonces \"\n",
    "        if class_names is None:\n",
    "            rule += \"respuesta: \" + str(np.round(path[-1][0][0][0], 3))\n",
    "        else:\n",
    "            classes = path[-1][0][0]\n",
    "            position = np.argmax(classes)\n",
    "            rule += f\"{target}: {class_names[position]} (con probabilidad: \" \\\n",
    "                    f\"{np.round(100.0 * classes[position] / np.sum(classes), 2)}%)\"\n",
    "        rule += f\" | basado en {path[-1][1]:,} muestras\"\n",
    "        rules += [f\"Regla {cont}: {rule}\"]\n",
    "        cont += 1\n",
    "\n",
    "    return rules"
   ]
  },
  {
   "cell_type": "code",
   "execution_count": null,
   "metadata": {
    "ExecuteTime": {
     "end_time": "2023-10-11T22:42:04.824789Z",
     "start_time": "2023-10-11T22:42:04.777914Z"
    },
    "collapsed": false
   },
   "outputs": [],
   "source": [
    "rules = get_rules(DT, DT[\"model\"].tree_, DT[\"features\"], DT[\"class_names\"], DT[\"target\"])\n",
    "for r in rules:\n",
    "    print(r)\n",
    "    print()"
   ]
  },
  {
   "cell_type": "code",
   "execution_count": null,
   "metadata": {
    "ExecuteTime": {
     "end_time": "2023-10-11T22:55:06.530561Z",
     "start_time": "2023-10-11T22:55:06.271928Z"
    },
    "collapsed": false
   },
   "outputs": [],
   "source": [
    "from dtreeviz import model\n",
    "\n",
    "\n",
    "def graph_tree(DT):\n",
    "    viz = model(\n",
    "        DT[\"model\"],\n",
    "        X_train=x_train,\n",
    "        y_train=y_train,\n",
    "        feature_names=list(DT[\"features\"]),\n",
    "        class_names=DT[\"class_names\"]\n",
    "    )\n",
    "    try:\n",
    "        svg = open(viz.view().save_svg(), \"rb\").read()\n",
    "        encoded = base64.b64encode(svg)\n",
    "        svg_encoded = \"data:image/svg+xml;base64,{}\".format(encoded.decode())\n",
    "        return svg_encoded, viz\n",
    "    except Exception as e:\n",
    "        print(e)\n",
    "        return \"\", viz"
   ]
  },
  {
   "cell_type": "code",
   "execution_count": null,
   "metadata": {
    "ExecuteTime": {
     "end_time": "2023-10-11T22:55:14.312028Z",
     "start_time": "2023-10-11T22:55:09.605764Z"
    },
    "collapsed": false
   },
   "outputs": [],
   "source": [
    "x, viz = graph_tree(DT)"
   ]
  },
  {
   "cell_type": "code",
   "execution_count": null,
   "metadata": {
    "ExecuteTime": {
     "end_time": "2023-10-11T22:55:17.107989Z",
     "start_time": "2023-10-11T22:55:14.296469Z"
    },
    "collapsed": false
   },
   "outputs": [],
   "source": [
    "viz.view().show()"
   ]
  },
  {
   "cell_type": "code",
   "execution_count": null,
   "metadata": {
    "ExecuteTime": {
     "end_time": "2023-10-11T23:03:37.538437Z",
     "start_time": "2023-10-11T23:03:37.194665Z"
    },
    "collapsed": false
   },
   "outputs": [],
   "source": [
    "print(list(DT[\"features\"]))"
   ]
  },
  {
   "cell_type": "code",
   "execution_count": 10,
   "metadata": {},
   "outputs": [],
   "source": [
    "from model.model import ClassificationTrainedModel"
   ]
  },
  {
   "cell_type": "code",
   "execution_count": 9,
   "metadata": {},
   "outputs": [],
   "source": [
    "import joblib\n",
    "from sklearn.ensemble import RandomForestClassifier\n",
    "\n",
    "random_forest_model: RandomForestClassifier = joblib.load(\n",
    "    \"D:/CARRERA/TESIS/forest_explainer_tesis/datasets/Titanic/titanic.joblib\")"
   ]
  },
  {
   "cell_type": "code",
   "execution_count": 8,
   "metadata": {
    "ExecuteTime": {
     "end_time": "2023-10-11T23:40:10.840040Z",
     "start_time": "2023-10-11T23:40:10.777428Z"
    },
    "collapsed": false
   },
   "outputs": [],
   "source": [
    "q_variables_values_list = [\n",
    "    {\n",
    "        \"column_name\": \"Genero\",\n",
    "        \"variables\": [\n",
    "            {\n",
    "                \"old_value\": 0,\n",
    "                \"new_value\": \"Masculino\"\n",
    "            },\n",
    "            {\n",
    "                \"old_value\": 1,\n",
    "                \"new_value\": \"Femenino\"\n",
    "            },\n",
    "        ]\n",
    "    },\n",
    "    {\n",
    "        \"column_name\": \"Clase\",\n",
    "        \"variables\": [\n",
    "            {\n",
    "                \"old_value\": 1,\n",
    "                \"new_value\": \"Primera Clase\"\n",
    "            },\n",
    "            {\n",
    "                \"old_value\": 2,\n",
    "                \"new_value\": \"Segunda Clase\"\n",
    "            },\n",
    "            {\n",
    "                \"old_value\": 3,\n",
    "                \"new_value\": \"Tercera Clase\"\n",
    "            },\n",
    "        ]\n",
    "    }\n",
    "]\n",
    "\n",
    "target_description = [\n",
    "    {\n",
    "        \"column_name\": \"Sobreviviente\",\n",
    "        \"variables\": [\n",
    "            {\n",
    "                \"old_value\": 0,\n",
    "                \"new_value\": \"Muere\"\n",
    "            },\n",
    "            {\n",
    "                \"old_value\": 1,\n",
    "                \"new_value\": \"Vive\"\n",
    "            },\n",
    "        ]\n",
    "    }\n",
    "]"
   ]
  },
  {
   "cell_type": "code",
   "execution_count": 11,
   "metadata": {
    "collapsed": false
   },
   "outputs": [
    {
     "name": "stdout",
     "output_type": "stream",
     "text": [
      "\n",
      "{'column_name': 'Genero', 'variables': [{'old_value': 0, 'new_value': 'Masculino'}, {'old_value': 1, 'new_value': 'Femenino'}]}\n",
      "{'column_name': 'Clase', 'variables': [{'old_value': 1, 'new_value': 'Primera Clase'}, {'old_value': 2, 'new_value': 'Segunda Clase'}, {'old_value': 3, 'new_value': 'Tercera Clase'}]}\n",
      "Creating data_table...\n"
     ]
    },
    {
     "ename": "KeyError",
     "evalue": "'column'",
     "output_type": "error",
     "traceback": [
      "\u001b[1;31m---------------------------------------------------------------------------\u001b[0m",
      "\u001b[1;31mKeyError\u001b[0m                                  Traceback (most recent call last)",
      "Cell \u001b[1;32mIn[11], line 1\u001b[0m\n\u001b[1;32m----> 1\u001b[0m explainer_classifier \u001b[38;5;241m=\u001b[39m \u001b[43mClassificationTrainedModel\u001b[49m\u001b[43m(\u001b[49m\u001b[43mname\u001b[49m\u001b[38;5;241;43m=\u001b[39;49m\u001b[38;5;124;43m\"\u001b[39;49m\u001b[38;5;124;43mTitanic\u001b[39;49m\u001b[38;5;124;43m\"\u001b[39;49m\u001b[43m,\u001b[49m\u001b[43m \u001b[49m\u001b[43mdf\u001b[49m\u001b[38;5;241;43m=\u001b[39;49m\u001b[43mdf\u001b[49m\u001b[43m,\u001b[49m\u001b[43m \u001b[49m\u001b[43mpredictors_description\u001b[49m\u001b[38;5;241;43m=\u001b[39;49m\u001b[38;5;124;43m\"\u001b[39;49m\u001b[38;5;124;43mfeatures_description\u001b[39;49m\u001b[38;5;124;43m\"\u001b[39;49m\u001b[43m,\u001b[49m\n\u001b[0;32m      2\u001b[0m \u001b[43m                                                  \u001b[49m\u001b[43mtarget\u001b[49m\u001b[38;5;241;43m=\u001b[39;49m\u001b[38;5;124;43m\"\u001b[39;49m\u001b[38;5;124;43mSobreviviente\u001b[39;49m\u001b[38;5;124;43m\"\u001b[39;49m\u001b[43m,\u001b[49m\u001b[43m \u001b[49m\u001b[43mtest_size\u001b[49m\u001b[38;5;241;43m=\u001b[39;49m\u001b[38;5;241;43m0.2\u001b[39;49m\u001b[43m,\u001b[49m\u001b[43m \u001b[49m\u001b[43mrandom_state\u001b[49m\u001b[38;5;241;43m=\u001b[39;49m\u001b[38;5;241;43m123\u001b[39;49m\u001b[43m,\u001b[49m\n\u001b[0;32m      3\u001b[0m \u001b[43m                                                  \u001b[49m\u001b[43mmodel\u001b[49m\u001b[38;5;241;43m=\u001b[39;49m\u001b[43mrandom_forest_model\u001b[49m\u001b[43m,\u001b[49m\u001b[43m \u001b[49m\u001b[43mmodel_description\u001b[49m\u001b[38;5;241;43m=\u001b[39;49m\u001b[38;5;124;43m\"\u001b[39;49m\u001b[38;5;124;43m\"\u001b[39;49m\u001b[43m,\u001b[49m\n\u001b[0;32m      4\u001b[0m \u001b[43m                                                  \u001b[49m\u001b[43mtarget_description\u001b[49m\u001b[38;5;241;43m=\u001b[39;49m\u001b[43mtarget_description\u001b[49m\u001b[43m[\u001b[49m\u001b[38;5;241;43m0\u001b[39;49m\u001b[43m]\u001b[49m\u001b[43m,\u001b[49m\n\u001b[0;32m      5\u001b[0m \u001b[43m                                                  \u001b[49m\u001b[43mq_variables_values_list\u001b[49m\u001b[38;5;241;43m=\u001b[39;49m\u001b[43mq_variables_values_list\u001b[49m\u001b[43m)\u001b[49m\n",
      "File \u001b[1;32md:\\CARRERA\\TESIS\\Flask_template_auth_with_Dash\\app\\proccessor\\model\\model.py:209\u001b[0m, in \u001b[0;36mClassificationTrainedModel.__init__\u001b[1;34m(self, name, df, predictors_description, target, test_size, random_state, model, model_description, q_variables_values_list, target_description)\u001b[0m\n\u001b[0;32m    206\u001b[0m \u001b[38;5;28mself\u001b[39m\u001b[38;5;241m.\u001b[39m__target_class_names \u001b[38;5;241m=\u001b[39m []\n\u001b[0;32m    207\u001b[0m \u001b[38;5;28mself\u001b[39m\u001b[38;5;241m.\u001b[39m__possible_target_values_classification_dict \u001b[38;5;241m=\u001b[39m \u001b[38;5;28mself\u001b[39m\u001b[38;5;241m.\u001b[39m__update_target_values_classification_dict(\n\u001b[0;32m    208\u001b[0m     target_description)\n\u001b[1;32m--> 209\u001b[0m \u001b[38;5;28mself\u001b[39m\u001b[38;5;241m.\u001b[39m__model_visualization \u001b[38;5;241m=\u001b[39m \u001b[38;5;28;43mself\u001b[39;49m\u001b[38;5;241;43m.\u001b[39;49m\u001b[43mcreate_model_visualization\u001b[49m\u001b[43m(\u001b[49m\u001b[43m)\u001b[49m\n",
      "File \u001b[1;32md:\\CARRERA\\TESIS\\Flask_template_auth_with_Dash\\app\\proccessor\\model\\model.py:286\u001b[0m, in \u001b[0;36mClassificationTrainedModel.create_model_visualization\u001b[1;34m(self)\u001b[0m\n\u001b[0;32m    284\u001b[0m \u001b[38;5;28;01mdef\u001b[39;00m \u001b[38;5;21mcreate_model_visualization\u001b[39m(\u001b[38;5;28mself\u001b[39m):\n\u001b[0;32m    285\u001b[0m     \u001b[38;5;28mprint\u001b[39m(\u001b[38;5;124m\"\u001b[39m\u001b[38;5;124mCreating data_table...\u001b[39m\u001b[38;5;124m\"\u001b[39m)\n\u001b[1;32m--> 286\u001b[0m     dtt, dt \u001b[38;5;241m=\u001b[39m \u001b[43mcreate_data_table\u001b[49m\u001b[43m(\u001b[49m\u001b[38;5;28;43mself\u001b[39;49m\u001b[43m)\u001b[49m\n\u001b[0;32m    287\u001b[0m     \u001b[38;5;28mprint\u001b[39m(\u001b[38;5;124m\"\u001b[39m\u001b[38;5;124mCreating importance...\u001b[39m\u001b[38;5;124m\"\u001b[39m)\n\u001b[0;32m    288\u001b[0m     gi \u001b[38;5;241m=\u001b[39m graph_card(\n\u001b[0;32m    289\u001b[0m         Importance\u001b[38;5;241m.\u001b[39mcreate_importance(\n\u001b[0;32m    290\u001b[0m             features\u001b[38;5;241m=\u001b[39m\u001b[38;5;28mself\u001b[39m\u001b[38;5;241m.\u001b[39mget_feature_names(),\n\u001b[0;32m    291\u001b[0m             importance\u001b[38;5;241m=\u001b[39m\u001b[38;5;28mself\u001b[39m\u001b[38;5;241m.\u001b[39mget_trained_model_pure()\u001b[38;5;241m.\u001b[39mfeature_importances_\n\u001b[0;32m    292\u001b[0m         )\n\u001b[0;32m    293\u001b[0m     )\n",
      "File \u001b[1;32md:\\CARRERA\\TESIS\\Flask_template_auth_with_Dash\\app\\proccessor\\model\\explainers\\datasets.py:7\u001b[0m, in \u001b[0;36mcreate_data_table\u001b[1;34m(model_c)\u001b[0m\n\u001b[0;32m      6\u001b[0m \u001b[38;5;28;01mdef\u001b[39;00m \u001b[38;5;21mcreate_data_table\u001b[39m(model_c):\n\u001b[1;32m----> 7\u001b[0m     df \u001b[38;5;241m=\u001b[39m \u001b[43mget_modified_dataframe\u001b[49m\u001b[43m(\u001b[49m\u001b[43mmodel_c\u001b[49m\u001b[43m)\u001b[49m\n\u001b[0;32m      8\u001b[0m     \u001b[38;5;28;01mreturn\u001b[39;00m (model_c\u001b[38;5;241m.\u001b[39mget_name(), html\u001b[38;5;241m.\u001b[39mDiv([\n\u001b[0;32m      9\u001b[0m         dash_table\u001b[38;5;241m.\u001b[39mDataTable(\n\u001b[0;32m     10\u001b[0m             data\u001b[38;5;241m=\u001b[39mdf\u001b[38;5;241m.\u001b[39mto_dict(\u001b[38;5;124m'\u001b[39m\u001b[38;5;124mrecords\u001b[39m\u001b[38;5;124m'\u001b[39m),\n\u001b[1;32m   (...)\u001b[0m\n\u001b[0;32m     22\u001b[0m \n\u001b[0;32m     23\u001b[0m     ]))\n",
      "File \u001b[1;32md:\\CARRERA\\TESIS\\Flask_template_auth_with_Dash\\app\\proccessor\\model\\dataset_interaction_methods.py:49\u001b[0m, in \u001b[0;36mget_modified_dataframe\u001b[1;34m(model_c)\u001b[0m\n\u001b[0;32m     47\u001b[0m df \u001b[38;5;241m=\u001b[39m model_c\u001b[38;5;241m.\u001b[39mget_dataframe()\n\u001b[0;32m     48\u001b[0m targets_modified \u001b[38;5;241m=\u001b[39m model_c\u001b[38;5;241m.\u001b[39mget_target_values_classification_dict()\n\u001b[1;32m---> 49\u001b[0m target \u001b[38;5;241m=\u001b[39m \u001b[43mtargets_modified\u001b[49m\u001b[43m[\u001b[49m\u001b[38;5;124;43m'\u001b[39;49m\u001b[38;5;124;43mcolumn\u001b[39;49m\u001b[38;5;124;43m'\u001b[39;49m\u001b[43m]\u001b[49m\n\u001b[0;32m     50\u001b[0m \u001b[38;5;28;01mfor\u001b[39;00m value \u001b[38;5;129;01min\u001b[39;00m targets_modified[\u001b[38;5;124m'\u001b[39m\u001b[38;5;124mvalues\u001b[39m\u001b[38;5;124m'\u001b[39m]:\n\u001b[0;32m     51\u001b[0m     \u001b[38;5;66;03m# noinspection PyTypeChecker\u001b[39;00m\n\u001b[0;32m     52\u001b[0m     df\u001b[38;5;241m.\u001b[39mreplace({\u001b[38;5;124mf\u001b[39m\u001b[38;5;124m'\u001b[39m\u001b[38;5;132;01m{\u001b[39;00mtarget\u001b[38;5;132;01m}\u001b[39;00m\u001b[38;5;124m'\u001b[39m: value[\u001b[38;5;124m'\u001b[39m\u001b[38;5;124mprevious_value\u001b[39m\u001b[38;5;124m'\u001b[39m]},\n\u001b[0;32m     53\u001b[0m                {\u001b[38;5;124mf\u001b[39m\u001b[38;5;124m'\u001b[39m\u001b[38;5;132;01m{\u001b[39;00mtarget\u001b[38;5;132;01m}\u001b[39;00m\u001b[38;5;124m'\u001b[39m: value[\u001b[38;5;124m'\u001b[39m\u001b[38;5;124mnew_value\u001b[39m\u001b[38;5;124m'\u001b[39m]},\n\u001b[0;32m     54\u001b[0m                inplace\u001b[38;5;241m=\u001b[39m\u001b[38;5;28;01mTrue\u001b[39;00m)\n",
      "\u001b[1;31mKeyError\u001b[0m: 'column'"
     ]
    }
   ],
   "source": [
    "explainer_classifier = ClassificationTrainedModel(name=\"Titanic\", df=df, predictors_description=\"features_description\",\n",
    "                                                  target=\"Sobreviviente\", test_size=0.2, random_state=123,\n",
    "                                                  model=random_forest_model, model_description=\"\",\n",
    "                                                  target_description=target_description[0],\n",
    "                                                  q_variables_values_list=q_variables_values_list)"
   ]
  },
  {
   "cell_type": "code",
   "execution_count": 57,
   "metadata": {
    "collapsed": false
   },
   "outputs": [],
   "source": [
    "from sklearn import tree\n",
    "from sklearn.tree import _tree\n",
    "import base64\n",
    "\n",
    "DT = {\n",
    "    # \"model\": tree.DecisionTreeClassifier(max_depth=2).fit(x_train, y_train),\n",
    "    \"model\": random_forest_model.estimators_[25],\n",
    "    \"features\": data.columns,\n",
    "    \"class_names\": [\"Muere\", \"Vive\"],\n",
    "    \"target\": \"Sobreviviente\",\n",
    "    \"q_variables\": [\"Genero\", \"Clase\"],\n",
    "    \"q_variables_values\": q_variables_values_list,\n",
    "}"
   ]
  },
  {
   "cell_type": "code",
   "execution_count": 58,
   "metadata": {
    "collapsed": false
   },
   "outputs": [
    {
     "name": "stdout",
     "output_type": "stream",
     "text": [
      "Regla 1: Si (PadHij  <=  0.5) y Genero es:  Masculino entonces Sobreviviente: Muere (con probabilidad: 83.16%) | basado en 188 muestras\n",
      "Regla 2: Si (PadHij  <=  0.5) y Genero es:  Femenino entonces Sobreviviente: Vive (con probabilidad: 72.88%) | basado en 78 muestras\n",
      "Regla 3: Si (PadHij  >  0.5) y Genero es:  Masculino entonces Sobreviviente: Muere (con probabilidad: 66.67%) | basado en 47 muestras\n",
      "Regla 4: Si (PadHij  >  0.5) y Genero es:  Femenino entonces Sobreviviente: Vive (con probabilidad: 81.94%) | basado en 46 muestras\n",
      "\n"
     ]
    }
   ],
   "source": [
    "# rules = get_rules(DT, DT[\"model\"].tree_, DT[\"features\"], DT[\"class_names\"], DT[\"target\"])\n",
    "rules = get_rules(model=DT[\"model\"].tree_, q_variables=DT[\"q_variables\"], q_variables_values=DT[\"q_variables_values\"], features=DT[\"features\"], class_names=DT[\"class_names\"], target=DT[\"target\"])\n",
    "for r in rules:\n",
    "    print(r)\n",
    "print()"
   ]
  },
  {
   "cell_type": "markdown",
   "metadata": {},
   "source": [
    "ROC_CURVE TESTING"
   ]
  },
  {
   "cell_type": "code",
   "execution_count": 7,
   "metadata": {},
   "outputs": [],
   "source": [
    "import plotly.graph_objects as go\n",
    "from sklearn.metrics import roc_curve, auc"
   ]
  },
  {
   "cell_type": "code",
   "execution_count": 8,
   "metadata": {},
   "outputs": [
    {
     "ename": "NameError",
     "evalue": "name 'random_forest_model' is not defined",
     "output_type": "error",
     "traceback": [
      "\u001b[1;31m---------------------------------------------------------------------------\u001b[0m",
      "\u001b[1;31mNameError\u001b[0m                                 Traceback (most recent call last)",
      "Cell \u001b[1;32mIn[8], line 10\u001b[0m\n\u001b[0;32m      1\u001b[0m options \u001b[38;5;241m=\u001b[39m [\n\u001b[0;32m      2\u001b[0m     {\n\u001b[0;32m      3\u001b[0m         \u001b[38;5;124m'\u001b[39m\u001b[38;5;124mlabel\u001b[39m\u001b[38;5;124m'\u001b[39m: \u001b[38;5;124m\"\u001b[39m\u001b[38;5;124mLabel 1\u001b[39m\u001b[38;5;124m\"\u001b[39m\n\u001b[1;32m   (...)\u001b[0m\n\u001b[0;32m      7\u001b[0m     },\n\u001b[0;32m      8\u001b[0m ]\n\u001b[1;32m---> 10\u001b[0m y_pred \u001b[38;5;241m=\u001b[39m \u001b[43mrandom_forest_model\u001b[49m\u001b[38;5;241m.\u001b[39mpredict_proba(x_test)\n",
      "\u001b[1;31mNameError\u001b[0m: name 'random_forest_model' is not defined"
     ]
    }
   ],
   "source": [
    "options = [\n",
    "    {\n",
    "        'label': \"Label 1\"\n",
    "    },\n",
    "    {\n",
    "        'label': \"Label 2\"\n",
    "    },\n",
    "]\n",
    "\n",
    "y_pred = random_forest_model.predict_proba(x_test)"
   ]
  },
  {
   "cell_type": "code",
   "execution_count": 11,
   "metadata": {},
   "outputs": [],
   "source": [
    "def create_curve(y_scores, y_true, options):\n",
    "        # One hot encode the labels in order to plot them\n",
    "        # y_onehot = pd.get_dummies(y_true)\n",
    "        # print(y_onehot)\n",
    "\n",
    "        data = []\n",
    "        trace1 = go.Scatter(x=[0, 1], y=[0, 1],\n",
    "                            mode='lines',\n",
    "                            line=dict(dash='dash'),\n",
    "                            showlegend=False\n",
    "\n",
    "                            )\n",
    "\n",
    "        data.append(trace1)\n",
    "        cont = 0\n",
    "        for i in range(y_scores.shape[1]):\n",
    "            y_score = y_scores[:, i]\n",
    "\n",
    "            fpr, tpr, _ = roc_curve(y_true, y_score, pos_label=i)\n",
    "            auc_score = auc(fpr, tpr)\n",
    "            \n",
    "            print(\"fpr: \")\n",
    "            print(fpr)\n",
    "            print(\"tpr: \")\n",
    "            print(tpr)\n",
    "\n",
    "            name = f\"{options[cont]['label']} (AUC={auc_score:.2f})\"\n",
    "            trace2 = go.Scatter(x=fpr, y=tpr,\n",
    "                                name=name,\n",
    "                                mode='lines')\n",
    "            data.append(trace2)\n",
    "            cont += 1\n",
    "\n",
    "        layout = go.Layout(\n",
    "            title='ROC-AUC curva',\n",
    "            yaxis=dict(title='Tasa de Positivos'),\n",
    "            xaxis=dict(title='Tasa de Falsos Positivos')\n",
    "        )\n",
    "\n",
    "        fig = go.Figure(data=data, layout=layout)\n",
    "\n",
    "        return fig"
   ]
  },
  {
   "cell_type": "code",
   "execution_count": 12,
   "metadata": {},
   "outputs": [
    {
     "name": "stdout",
     "output_type": "stream",
     "text": [
      "fpr: \n",
      "[0.         0.08928571 0.08928571 0.10714286 0.14285714 0.14285714\n",
      " 0.16071429 0.16071429 0.16071429 0.17857143 0.17857143 0.19642857\n",
      " 0.19642857 0.19642857 0.19642857 0.25       0.25       0.26785714\n",
      " 0.26785714 0.28571429 0.28571429 0.30357143 0.35714286 0.35714286\n",
      " 0.39285714 0.39285714 0.39285714 0.41071429 0.41071429 0.42857143\n",
      " 0.42857143 0.5        0.57142857 0.57142857 0.76785714 0.83928571\n",
      " 0.85714286 0.92857143 1.        ]\n",
      "tpr: \n",
      "[0.         0.10344828 0.12643678 0.16091954 0.35632184 0.36781609\n",
      " 0.40229885 0.42528736 0.44827586 0.52873563 0.55172414 0.5862069\n",
      " 0.65517241 0.67816092 0.68965517 0.71264368 0.73563218 0.73563218\n",
      " 0.79310345 0.79310345 0.81609195 0.82758621 0.82758621 0.87356322\n",
      " 0.88505747 0.89655172 0.91954023 0.91954023 0.95402299 0.95402299\n",
      " 0.98850575 0.98850575 0.98850575 1.         1.         1.\n",
      " 1.         1.         1.        ]\n",
      "fpr: \n",
      "[0.         0.         0.         0.         0.         0.\n",
      " 0.         0.01149425 0.01149425 0.01149425 0.04597701 0.04597701\n",
      " 0.08045977 0.08045977 0.10344828 0.11494253 0.12643678 0.17241379\n",
      " 0.17241379 0.18390805 0.20689655 0.20689655 0.26436782 0.26436782\n",
      " 0.28735632 0.31034483 0.32183908 0.34482759 0.4137931  0.44827586\n",
      " 0.47126437 0.55172414 0.57471264 0.59770115 0.63218391 0.64367816\n",
      " 0.83908046 0.87356322 0.89655172 1.        ]\n",
      "tpr: \n",
      "[0.         0.01785714 0.07142857 0.14285714 0.16071429 0.23214286\n",
      " 0.42857143 0.42857143 0.5        0.57142857 0.57142857 0.58928571\n",
      " 0.58928571 0.60714286 0.60714286 0.60714286 0.64285714 0.64285714\n",
      " 0.69642857 0.71428571 0.71428571 0.73214286 0.73214286 0.75\n",
      " 0.75       0.80357143 0.80357143 0.80357143 0.80357143 0.82142857\n",
      " 0.82142857 0.83928571 0.83928571 0.83928571 0.85714286 0.85714286\n",
      " 0.89285714 0.91071429 0.91071429 1.        ]\n"
     ]
    },
    {
     "data": {
      "application/vnd.plotly.v1+json": {
       "config": {
        "plotlyServerURL": "https://plot.ly"
       },
       "data": [
        {
         "line": {
          "dash": "dash"
         },
         "mode": "lines",
         "showlegend": false,
         "type": "scatter",
         "x": [
          0,
          1
         ],
         "y": [
          0,
          1
         ]
        },
        {
         "mode": "lines",
         "name": "Label 1 (AUC=0.80)",
         "type": "scatter",
         "x": [
          0,
          0.08928571428571429,
          0.08928571428571429,
          0.10714285714285714,
          0.14285714285714285,
          0.14285714285714285,
          0.16071428571428573,
          0.16071428571428573,
          0.16071428571428573,
          0.17857142857142858,
          0.17857142857142858,
          0.19642857142857142,
          0.19642857142857142,
          0.19642857142857142,
          0.19642857142857142,
          0.25,
          0.25,
          0.26785714285714285,
          0.26785714285714285,
          0.2857142857142857,
          0.2857142857142857,
          0.30357142857142855,
          0.35714285714285715,
          0.35714285714285715,
          0.39285714285714285,
          0.39285714285714285,
          0.39285714285714285,
          0.4107142857142857,
          0.4107142857142857,
          0.42857142857142855,
          0.42857142857142855,
          0.5,
          0.5714285714285714,
          0.5714285714285714,
          0.7678571428571429,
          0.8392857142857143,
          0.8571428571428571,
          0.9285714285714286,
          1
         ],
         "y": [
          0,
          0.10344827586206896,
          0.12643678160919541,
          0.16091954022988506,
          0.3563218390804598,
          0.367816091954023,
          0.40229885057471265,
          0.42528735632183906,
          0.4482758620689655,
          0.5287356321839081,
          0.5517241379310345,
          0.5862068965517241,
          0.6551724137931034,
          0.6781609195402298,
          0.6896551724137931,
          0.7126436781609196,
          0.735632183908046,
          0.735632183908046,
          0.7931034482758621,
          0.7931034482758621,
          0.8160919540229885,
          0.8275862068965517,
          0.8275862068965517,
          0.8735632183908046,
          0.8850574712643678,
          0.896551724137931,
          0.9195402298850575,
          0.9195402298850575,
          0.9540229885057471,
          0.9540229885057471,
          0.9885057471264368,
          0.9885057471264368,
          0.9885057471264368,
          1,
          1,
          1,
          1,
          1,
          1
         ]
        },
        {
         "mode": "lines",
         "name": "Label 2 (AUC=0.80)",
         "type": "scatter",
         "x": [
          0,
          0,
          0,
          0,
          0,
          0,
          0,
          0.011494252873563218,
          0.011494252873563218,
          0.011494252873563218,
          0.04597701149425287,
          0.04597701149425287,
          0.08045977011494253,
          0.08045977011494253,
          0.10344827586206896,
          0.11494252873563218,
          0.12643678160919541,
          0.1724137931034483,
          0.1724137931034483,
          0.1839080459770115,
          0.20689655172413793,
          0.20689655172413793,
          0.26436781609195403,
          0.26436781609195403,
          0.28735632183908044,
          0.3103448275862069,
          0.3218390804597701,
          0.3448275862068966,
          0.41379310344827586,
          0.4482758620689655,
          0.47126436781609193,
          0.5517241379310345,
          0.5747126436781609,
          0.5977011494252874,
          0.632183908045977,
          0.6436781609195402,
          0.8390804597701149,
          0.8735632183908046,
          0.896551724137931,
          1
         ],
         "y": [
          0,
          0.017857142857142856,
          0.07142857142857142,
          0.14285714285714285,
          0.16071428571428573,
          0.23214285714285715,
          0.42857142857142855,
          0.42857142857142855,
          0.5,
          0.5714285714285714,
          0.5714285714285714,
          0.5892857142857143,
          0.5892857142857143,
          0.6071428571428571,
          0.6071428571428571,
          0.6071428571428571,
          0.6428571428571429,
          0.6428571428571429,
          0.6964285714285714,
          0.7142857142857143,
          0.7142857142857143,
          0.7321428571428571,
          0.7321428571428571,
          0.75,
          0.75,
          0.8035714285714286,
          0.8035714285714286,
          0.8035714285714286,
          0.8035714285714286,
          0.8214285714285714,
          0.8214285714285714,
          0.8392857142857143,
          0.8392857142857143,
          0.8392857142857143,
          0.8571428571428571,
          0.8571428571428571,
          0.8928571428571429,
          0.9107142857142857,
          0.9107142857142857,
          1
         ]
        }
       ],
       "layout": {
        "template": {
         "data": {
          "bar": [
           {
            "error_x": {
             "color": "#2a3f5f"
            },
            "error_y": {
             "color": "#2a3f5f"
            },
            "marker": {
             "line": {
              "color": "#E5ECF6",
              "width": 0.5
             },
             "pattern": {
              "fillmode": "overlay",
              "size": 10,
              "solidity": 0.2
             }
            },
            "type": "bar"
           }
          ],
          "barpolar": [
           {
            "marker": {
             "line": {
              "color": "#E5ECF6",
              "width": 0.5
             },
             "pattern": {
              "fillmode": "overlay",
              "size": 10,
              "solidity": 0.2
             }
            },
            "type": "barpolar"
           }
          ],
          "carpet": [
           {
            "aaxis": {
             "endlinecolor": "#2a3f5f",
             "gridcolor": "white",
             "linecolor": "white",
             "minorgridcolor": "white",
             "startlinecolor": "#2a3f5f"
            },
            "baxis": {
             "endlinecolor": "#2a3f5f",
             "gridcolor": "white",
             "linecolor": "white",
             "minorgridcolor": "white",
             "startlinecolor": "#2a3f5f"
            },
            "type": "carpet"
           }
          ],
          "choropleth": [
           {
            "colorbar": {
             "outlinewidth": 0,
             "ticks": ""
            },
            "type": "choropleth"
           }
          ],
          "contour": [
           {
            "colorbar": {
             "outlinewidth": 0,
             "ticks": ""
            },
            "colorscale": [
             [
              0,
              "#0d0887"
             ],
             [
              0.1111111111111111,
              "#46039f"
             ],
             [
              0.2222222222222222,
              "#7201a8"
             ],
             [
              0.3333333333333333,
              "#9c179e"
             ],
             [
              0.4444444444444444,
              "#bd3786"
             ],
             [
              0.5555555555555556,
              "#d8576b"
             ],
             [
              0.6666666666666666,
              "#ed7953"
             ],
             [
              0.7777777777777778,
              "#fb9f3a"
             ],
             [
              0.8888888888888888,
              "#fdca26"
             ],
             [
              1,
              "#f0f921"
             ]
            ],
            "type": "contour"
           }
          ],
          "contourcarpet": [
           {
            "colorbar": {
             "outlinewidth": 0,
             "ticks": ""
            },
            "type": "contourcarpet"
           }
          ],
          "heatmap": [
           {
            "colorbar": {
             "outlinewidth": 0,
             "ticks": ""
            },
            "colorscale": [
             [
              0,
              "#0d0887"
             ],
             [
              0.1111111111111111,
              "#46039f"
             ],
             [
              0.2222222222222222,
              "#7201a8"
             ],
             [
              0.3333333333333333,
              "#9c179e"
             ],
             [
              0.4444444444444444,
              "#bd3786"
             ],
             [
              0.5555555555555556,
              "#d8576b"
             ],
             [
              0.6666666666666666,
              "#ed7953"
             ],
             [
              0.7777777777777778,
              "#fb9f3a"
             ],
             [
              0.8888888888888888,
              "#fdca26"
             ],
             [
              1,
              "#f0f921"
             ]
            ],
            "type": "heatmap"
           }
          ],
          "heatmapgl": [
           {
            "colorbar": {
             "outlinewidth": 0,
             "ticks": ""
            },
            "colorscale": [
             [
              0,
              "#0d0887"
             ],
             [
              0.1111111111111111,
              "#46039f"
             ],
             [
              0.2222222222222222,
              "#7201a8"
             ],
             [
              0.3333333333333333,
              "#9c179e"
             ],
             [
              0.4444444444444444,
              "#bd3786"
             ],
             [
              0.5555555555555556,
              "#d8576b"
             ],
             [
              0.6666666666666666,
              "#ed7953"
             ],
             [
              0.7777777777777778,
              "#fb9f3a"
             ],
             [
              0.8888888888888888,
              "#fdca26"
             ],
             [
              1,
              "#f0f921"
             ]
            ],
            "type": "heatmapgl"
           }
          ],
          "histogram": [
           {
            "marker": {
             "pattern": {
              "fillmode": "overlay",
              "size": 10,
              "solidity": 0.2
             }
            },
            "type": "histogram"
           }
          ],
          "histogram2d": [
           {
            "colorbar": {
             "outlinewidth": 0,
             "ticks": ""
            },
            "colorscale": [
             [
              0,
              "#0d0887"
             ],
             [
              0.1111111111111111,
              "#46039f"
             ],
             [
              0.2222222222222222,
              "#7201a8"
             ],
             [
              0.3333333333333333,
              "#9c179e"
             ],
             [
              0.4444444444444444,
              "#bd3786"
             ],
             [
              0.5555555555555556,
              "#d8576b"
             ],
             [
              0.6666666666666666,
              "#ed7953"
             ],
             [
              0.7777777777777778,
              "#fb9f3a"
             ],
             [
              0.8888888888888888,
              "#fdca26"
             ],
             [
              1,
              "#f0f921"
             ]
            ],
            "type": "histogram2d"
           }
          ],
          "histogram2dcontour": [
           {
            "colorbar": {
             "outlinewidth": 0,
             "ticks": ""
            },
            "colorscale": [
             [
              0,
              "#0d0887"
             ],
             [
              0.1111111111111111,
              "#46039f"
             ],
             [
              0.2222222222222222,
              "#7201a8"
             ],
             [
              0.3333333333333333,
              "#9c179e"
             ],
             [
              0.4444444444444444,
              "#bd3786"
             ],
             [
              0.5555555555555556,
              "#d8576b"
             ],
             [
              0.6666666666666666,
              "#ed7953"
             ],
             [
              0.7777777777777778,
              "#fb9f3a"
             ],
             [
              0.8888888888888888,
              "#fdca26"
             ],
             [
              1,
              "#f0f921"
             ]
            ],
            "type": "histogram2dcontour"
           }
          ],
          "mesh3d": [
           {
            "colorbar": {
             "outlinewidth": 0,
             "ticks": ""
            },
            "type": "mesh3d"
           }
          ],
          "parcoords": [
           {
            "line": {
             "colorbar": {
              "outlinewidth": 0,
              "ticks": ""
             }
            },
            "type": "parcoords"
           }
          ],
          "pie": [
           {
            "automargin": true,
            "type": "pie"
           }
          ],
          "scatter": [
           {
            "fillpattern": {
             "fillmode": "overlay",
             "size": 10,
             "solidity": 0.2
            },
            "type": "scatter"
           }
          ],
          "scatter3d": [
           {
            "line": {
             "colorbar": {
              "outlinewidth": 0,
              "ticks": ""
             }
            },
            "marker": {
             "colorbar": {
              "outlinewidth": 0,
              "ticks": ""
             }
            },
            "type": "scatter3d"
           }
          ],
          "scattercarpet": [
           {
            "marker": {
             "colorbar": {
              "outlinewidth": 0,
              "ticks": ""
             }
            },
            "type": "scattercarpet"
           }
          ],
          "scattergeo": [
           {
            "marker": {
             "colorbar": {
              "outlinewidth": 0,
              "ticks": ""
             }
            },
            "type": "scattergeo"
           }
          ],
          "scattergl": [
           {
            "marker": {
             "colorbar": {
              "outlinewidth": 0,
              "ticks": ""
             }
            },
            "type": "scattergl"
           }
          ],
          "scattermapbox": [
           {
            "marker": {
             "colorbar": {
              "outlinewidth": 0,
              "ticks": ""
             }
            },
            "type": "scattermapbox"
           }
          ],
          "scatterpolar": [
           {
            "marker": {
             "colorbar": {
              "outlinewidth": 0,
              "ticks": ""
             }
            },
            "type": "scatterpolar"
           }
          ],
          "scatterpolargl": [
           {
            "marker": {
             "colorbar": {
              "outlinewidth": 0,
              "ticks": ""
             }
            },
            "type": "scatterpolargl"
           }
          ],
          "scatterternary": [
           {
            "marker": {
             "colorbar": {
              "outlinewidth": 0,
              "ticks": ""
             }
            },
            "type": "scatterternary"
           }
          ],
          "surface": [
           {
            "colorbar": {
             "outlinewidth": 0,
             "ticks": ""
            },
            "colorscale": [
             [
              0,
              "#0d0887"
             ],
             [
              0.1111111111111111,
              "#46039f"
             ],
             [
              0.2222222222222222,
              "#7201a8"
             ],
             [
              0.3333333333333333,
              "#9c179e"
             ],
             [
              0.4444444444444444,
              "#bd3786"
             ],
             [
              0.5555555555555556,
              "#d8576b"
             ],
             [
              0.6666666666666666,
              "#ed7953"
             ],
             [
              0.7777777777777778,
              "#fb9f3a"
             ],
             [
              0.8888888888888888,
              "#fdca26"
             ],
             [
              1,
              "#f0f921"
             ]
            ],
            "type": "surface"
           }
          ],
          "table": [
           {
            "cells": {
             "fill": {
              "color": "#EBF0F8"
             },
             "line": {
              "color": "white"
             }
            },
            "header": {
             "fill": {
              "color": "#C8D4E3"
             },
             "line": {
              "color": "white"
             }
            },
            "type": "table"
           }
          ]
         },
         "layout": {
          "annotationdefaults": {
           "arrowcolor": "#2a3f5f",
           "arrowhead": 0,
           "arrowwidth": 1
          },
          "autotypenumbers": "strict",
          "coloraxis": {
           "colorbar": {
            "outlinewidth": 0,
            "ticks": ""
           }
          },
          "colorscale": {
           "diverging": [
            [
             0,
             "#8e0152"
            ],
            [
             0.1,
             "#c51b7d"
            ],
            [
             0.2,
             "#de77ae"
            ],
            [
             0.3,
             "#f1b6da"
            ],
            [
             0.4,
             "#fde0ef"
            ],
            [
             0.5,
             "#f7f7f7"
            ],
            [
             0.6,
             "#e6f5d0"
            ],
            [
             0.7,
             "#b8e186"
            ],
            [
             0.8,
             "#7fbc41"
            ],
            [
             0.9,
             "#4d9221"
            ],
            [
             1,
             "#276419"
            ]
           ],
           "sequential": [
            [
             0,
             "#0d0887"
            ],
            [
             0.1111111111111111,
             "#46039f"
            ],
            [
             0.2222222222222222,
             "#7201a8"
            ],
            [
             0.3333333333333333,
             "#9c179e"
            ],
            [
             0.4444444444444444,
             "#bd3786"
            ],
            [
             0.5555555555555556,
             "#d8576b"
            ],
            [
             0.6666666666666666,
             "#ed7953"
            ],
            [
             0.7777777777777778,
             "#fb9f3a"
            ],
            [
             0.8888888888888888,
             "#fdca26"
            ],
            [
             1,
             "#f0f921"
            ]
           ],
           "sequentialminus": [
            [
             0,
             "#0d0887"
            ],
            [
             0.1111111111111111,
             "#46039f"
            ],
            [
             0.2222222222222222,
             "#7201a8"
            ],
            [
             0.3333333333333333,
             "#9c179e"
            ],
            [
             0.4444444444444444,
             "#bd3786"
            ],
            [
             0.5555555555555556,
             "#d8576b"
            ],
            [
             0.6666666666666666,
             "#ed7953"
            ],
            [
             0.7777777777777778,
             "#fb9f3a"
            ],
            [
             0.8888888888888888,
             "#fdca26"
            ],
            [
             1,
             "#f0f921"
            ]
           ]
          },
          "colorway": [
           "#636efa",
           "#EF553B",
           "#00cc96",
           "#ab63fa",
           "#FFA15A",
           "#19d3f3",
           "#FF6692",
           "#B6E880",
           "#FF97FF",
           "#FECB52"
          ],
          "font": {
           "color": "#2a3f5f"
          },
          "geo": {
           "bgcolor": "white",
           "lakecolor": "white",
           "landcolor": "#E5ECF6",
           "showlakes": true,
           "showland": true,
           "subunitcolor": "white"
          },
          "hoverlabel": {
           "align": "left"
          },
          "hovermode": "closest",
          "mapbox": {
           "style": "light"
          },
          "paper_bgcolor": "white",
          "plot_bgcolor": "#E5ECF6",
          "polar": {
           "angularaxis": {
            "gridcolor": "white",
            "linecolor": "white",
            "ticks": ""
           },
           "bgcolor": "#E5ECF6",
           "radialaxis": {
            "gridcolor": "white",
            "linecolor": "white",
            "ticks": ""
           }
          },
          "scene": {
           "xaxis": {
            "backgroundcolor": "#E5ECF6",
            "gridcolor": "white",
            "gridwidth": 2,
            "linecolor": "white",
            "showbackground": true,
            "ticks": "",
            "zerolinecolor": "white"
           },
           "yaxis": {
            "backgroundcolor": "#E5ECF6",
            "gridcolor": "white",
            "gridwidth": 2,
            "linecolor": "white",
            "showbackground": true,
            "ticks": "",
            "zerolinecolor": "white"
           },
           "zaxis": {
            "backgroundcolor": "#E5ECF6",
            "gridcolor": "white",
            "gridwidth": 2,
            "linecolor": "white",
            "showbackground": true,
            "ticks": "",
            "zerolinecolor": "white"
           }
          },
          "shapedefaults": {
           "line": {
            "color": "#2a3f5f"
           }
          },
          "ternary": {
           "aaxis": {
            "gridcolor": "white",
            "linecolor": "white",
            "ticks": ""
           },
           "baxis": {
            "gridcolor": "white",
            "linecolor": "white",
            "ticks": ""
           },
           "bgcolor": "#E5ECF6",
           "caxis": {
            "gridcolor": "white",
            "linecolor": "white",
            "ticks": ""
           }
          },
          "title": {
           "x": 0.05
          },
          "xaxis": {
           "automargin": true,
           "gridcolor": "white",
           "linecolor": "white",
           "ticks": "",
           "title": {
            "standoff": 15
           },
           "zerolinecolor": "white",
           "zerolinewidth": 2
          },
          "yaxis": {
           "automargin": true,
           "gridcolor": "white",
           "linecolor": "white",
           "ticks": "",
           "title": {
            "standoff": 15
           },
           "zerolinecolor": "white",
           "zerolinewidth": 2
          }
         }
        },
        "title": {
         "text": "ROC-AUC curva"
        },
        "xaxis": {
         "title": {
          "text": "Tasa de Falsos Positivos"
         }
        },
        "yaxis": {
         "title": {
          "text": "Tasa de Positivos"
         }
        }
       }
      }
     },
     "metadata": {},
     "output_type": "display_data"
    }
   ],
   "source": [
    "create_curve(y_scores=y_pred, y_true=y_test, options=options)"
   ]
  },
  {
   "cell_type": "markdown",
   "metadata": {},
   "source": [
    "CONFUSION MATRIX"
   ]
  },
  {
   "cell_type": "code",
   "execution_count": null,
   "metadata": {},
   "outputs": [],
   "source": [
    "from sklearn import metrics\n",
    "import plotly.express as px"
   ]
  },
  {
   "cell_type": "code",
   "execution_count": null,
   "metadata": {},
   "outputs": [],
   "source": [
    "\n",
    "\n",
    "\n",
    "cm = metrics.confusion_matrix(y_true=y_test, y_pred=y_pred)\n",
    "\n",
    "fig = px.imshow(img=cm,\n",
    "                        title=\"MATRIZ DE CONFUSION\",\n",
    "                        labels=dict(x=\"PREDICCIONES\", y=\"VALORES REALES\", color=\"CANTIDAD\"),\n",
    "                        x=class_names,\n",
    "                        y=class_names,\n",
    "                        text_auto=True,\n",
    "                        color_continuous_scale=\"Blues\",\n",
    "                        )"
   ]
  },
  {
   "cell_type": "code",
   "execution_count": 4,
   "metadata": {},
   "outputs": [
    {
     "name": "stdout",
     "output_type": "stream",
     "text": [
      "   Tenor    None\n",
      "0     1M      IV\n",
      "1     1M      RV\n",
      "2     1M  Spread\n",
      "3     3M      IV\n",
      "4     3M      RV\n",
      "5     3M  Spread\n",
      "6     6M      IV\n",
      "7     6M      RV\n",
      "8     6M  Spread\n",
      "9     1Y      IV\n",
      "10    1Y      RV\n",
      "11    1Y  Spread\n"
     ]
    },
    {
     "data": {
      "text/html": [
       "\n",
       "        <iframe\n",
       "            width=\"100%\"\n",
       "            height=\"650\"\n",
       "            src=\"http://127.0.0.1:8050/\"\n",
       "            frameborder=\"0\"\n",
       "            allowfullscreen\n",
       "            \n",
       "        ></iframe>\n",
       "        "
      ],
      "text/plain": [
       "<IPython.lib.display.IFrame at 0x2a42cdb2a20>"
      ]
     },
     "metadata": {},
     "output_type": "display_data"
    }
   ],
   "source": [
    "import dash\n",
    "import numpy as np\n",
    "import pandas as pd\n",
    "\n",
    "from dash import dash_table\n",
    "\n",
    "# Create a pd.MultiIndex from the combination of t & m:\n",
    "t = [\"1M\", \"3M\", \"6M\", \"1Y\"]\n",
    "m = [\"IV\", \"RV\", \"Spread\"]\n",
    "\n",
    "arrays = np.array(sorted([[b, a] for a in m for b in t]))\n",
    "\n",
    "df = pd.DataFrame(\n",
    "    sorted(arrays, key=lambda x: (x[0][1], x[0][0])), columns=[\"Tenor\", None]\n",
    ")\n",
    "\n",
    "print(df)\n",
    "\n",
    "index = pd.MultiIndex.from_frame(df)\n",
    "\n",
    "# Create a mock df using random np floats, specifying the columns\n",
    "# with the previously created pd.MultiIndex and the \"index\" here\n",
    "# as the row labels\n",
    "df2 = pd.DataFrame(\n",
    "    np.around(np.random.randn(3, 12), decimals=2),\n",
    "    index=[\"EURUSD\", \"GBPUSD\", \"USDJPY\"],\n",
    "    columns=index,\n",
    ")\n",
    "\n",
    "# Dash app\n",
    "app = dash.Dash(__name__)\n",
    "\n",
    "\"\"\"For getting the columns fed correctly to dash_table,\n",
    "a two-row multi-header can be created by supplying \n",
    "the 'name' key of `DataTable.columns` with an array.\n",
    "\n",
    "The trick then is to create unique IDs, which requires \n",
    "manipulation of the data into a list of dictionaries \n",
    "where each cell value's key is the artificially created\n",
    "concatenated string (I just combined them; e.g., \"1M_IV\" \n",
    "is one of the unique keys, and so on).\n",
    "\n",
    "Note: the use of '**' is a useful Python3+ way to merge \n",
    "dicts during list/dict comprehensions. This is necessary\n",
    "for including the true index 'Ccy Pair' as key,value \n",
    "pairs in addition to a dict comprehension through the data.\n",
    "Thus I needed to also transpose the df...\"\"\"\n",
    " \n",
    "app.layout = dash_table.DataTable(\n",
    "    id=\"table\",\n",
    "    columns=[{\"name\": [\"Tenor\", \"Ccy Pair\"], \"id\": \"Ccy Pair\"}]\n",
    "    + [{\"name\": [x1, x2], \"id\": f\"{x1}_{x2}\"} for x1, x2 in df2.columns],\n",
    "    data=[\n",
    "        {\n",
    "            **{\"Ccy Pair\": df2.index[n]},\n",
    "            **{f\"{x1}_{x2}\": y for (x1, x2), y in data},\n",
    "        }\n",
    "        for (n, data) in [\n",
    "            *enumerate([list(x.items()) for x in df2.T.to_dict().values()])\n",
    "        ]\n",
    "    ],\n",
    "    merge_duplicate_headers=True,   # ← here's the main 🪄 😉 \n",
    "    # Optional interactivity parameters＊:\n",
    "    editable=True,\n",
    "    filter_action=\"native\",\n",
    "    sort_action=\"native\",\n",
    "    sort_mode=\"multi\",\n",
    "    column_selectable=\"single\",\n",
    "    row_selectable=\"multi\",\n",
    "    row_deletable=True,\n",
    "    selected_columns=[],\n",
    "    selected_rows=[],\n",
    "    page_action=\"native\",\n",
    "    page_current= 0,\n",
    "    page_size= 10,\n",
    ")\n",
    "\n",
    "if __name__ == \"__main__\":\n",
    "    app.run_server(debug=True, dev_tools_hot_reload=True)\n"
   ]
  },
  {
   "cell_type": "code",
   "execution_count": 6,
   "metadata": {},
   "outputs": [
    {
     "data": {
      "text/html": [
       "\n",
       "        <iframe\n",
       "            width=\"100%\"\n",
       "            height=\"650\"\n",
       "            src=\"http://127.0.0.1:8050/\"\n",
       "            frameborder=\"0\"\n",
       "            allowfullscreen\n",
       "            \n",
       "        ></iframe>\n",
       "        "
      ],
      "text/plain": [
       "<IPython.lib.display.IFrame at 0x1be67b2d7c0>"
      ]
     },
     "metadata": {},
     "output_type": "display_data"
    }
   ],
   "source": [
    "import dash_bootstrap_components as dbc\n",
    "import dash\n",
    "\n",
    "from dash import html\n",
    "\n",
    "table1_header = [html.Thead(html.Tr([html.Th(\"First Name\"), html.Th(\"Last Name\")]))]\n",
    "\n",
    "\n",
    "rrow1 = html.Tr([html.Td(\"Arthur\"), html.Td(\"Dent\")])\n",
    "\n",
    "rrow2 = html.Tr([html.Td(\"Ford\"), html.Td(\"Prefect\")])\n",
    "\n",
    "rrow3 = html.Tr([html.Td(\"Zaphod\"), html.Td(\"Beeblebrox\")])\n",
    "\n",
    "rrow4 = html.Tr([html.Td(\"Trillian\"), html.Td(\"Astra\")])\n",
    "\n",
    "\n",
    "table1_body = [html.Tbody([rrow1, rrow2, rrow3, rrow4])]\n",
    "\n",
    "\n",
    "t1_layout = dbc.Table(table1_body, bordered=True)\n",
    "\n",
    "table_header = [html.Thead(html.Tr([html.Th(\"First Name\"), html.Th(\"Last Name\")]))]\n",
    "\n",
    "row1 = html.Tr([html.Td(t1_layout), html.Td(\"Dent\")])\n",
    "\n",
    "row2 = html.Tr([html.Td(t1_layout), html.Td(\"Prefect\")])\n",
    "\n",
    "row3 = html.Tr([html.Td(t1_layout), html.Td(\"Beeblebrox\")])\n",
    "\n",
    "row4 = html.Tr([html.Td(t1_layout), html.Td(\"Astra\")])\n",
    "\n",
    "\n",
    "table_body = [html.Tbody([row1, row2, row3, row4])]\n",
    "\n",
    "\n",
    "app = dash.Dash(__name__)\n",
    "\n",
    "\n",
    "app.layout = dbc.Table(table_header + table_body, bordered=True)\n",
    "\n",
    "\n",
    "\n",
    "if __name__ == \"__main__\":\n",
    "\n",
    "    app.run_server(debug=True, dev_tools_hot_reload=True)"
   ]
  },
  {
   "cell_type": "code",
   "execution_count": 3,
   "metadata": {},
   "outputs": [
    {
     "data": {
      "text/html": [
       "\n",
       "        <iframe\n",
       "            width=\"100%\"\n",
       "            height=\"650\"\n",
       "            src=\"http://127.0.0.1:8050/\"\n",
       "            frameborder=\"0\"\n",
       "            allowfullscreen\n",
       "            \n",
       "        ></iframe>\n",
       "        "
      ],
      "text/plain": [
       "<IPython.lib.display.IFrame at 0x1be666dee40>"
      ]
     },
     "metadata": {},
     "output_type": "display_data"
    }
   ],
   "source": [
    "import dash\n",
    "from dash import dash_table\n",
    "import pandas as pd\n",
    "\n",
    "app = dash.Dash(__name__)\n",
    "\n",
    "rrow1 = html.Tr([html.Td(\"Arthur\"), html.Td(\"Dent\")])\n",
    "rrow2 = html.Tr([html.Td(\"Ford\"), html.Td(\"Prefect\")])\n",
    "rrow3 = html.Tr([html.Td(\"Zaphod\"), html.Td(\"Beeblebrox\")])\n",
    "rrow4 = html.Tr([html.Td(\"Trillian\"), html.Td(\"Astra\")])\n",
    "\n",
    "table1_body = [html.Tbody([rrow1, rrow2, rrow3, rrow4])]\n",
    "\n",
    "t1_layout = dbc.Table(table1_body, bordered=True)\n",
    "\n",
    "# Create a sample dataframe\n",
    "df = pd.DataFrame({\n",
    "    'Column 1': [t1_layout, 'Value 2', 'Value 3'],\n",
    "    'Column 2': [t1_layout, 'Value 5', 'Value 6'],\n",
    "    'Column 3': [t1_layout, 'Value 5', 'Value 6']\n",
    "})\n",
    "\n",
    "\n",
    "# Create a column with a nested table\n",
    "columns = [\n",
    "    {'id': 'Column 1', 'name': 'Column 1'},\n",
    "    {'id': 'Column 2', 'name': 'Column 2'},\n",
    "    {'id': 'Column 3', 'name': 'Column 3', 'presentation': 'markdown'},\n",
    "]\n",
    "\n",
    "\n",
    "app.layout = dash_table.DataTable(\n",
    "    id='datatable',\n",
    "    columns=columns,\n",
    "    data=df.to_dict('records'),\n",
    "    style_data={'border': '1px solid blue'},\n",
    "    style_header={'border': '1px solid pink'}\n",
    ")\n",
    "\n",
    "\n",
    "if __name__ == '__main__':\n",
    "    app.run_server(debug=True)"
   ]
  }
 ],
 "metadata": {
  "kernelspec": {
   "display_name": "Python 3",
   "language": "python",
   "name": "python3"
  },
  "language_info": {
   "codemirror_mode": {
    "name": "ipython",
    "version": 3
   },
   "file_extension": ".py",
   "mimetype": "text/x-python",
   "name": "python",
   "nbconvert_exporter": "python",
   "pygments_lexer": "ipython3",
   "version": "3.12.2"
  }
 },
 "nbformat": 4,
 "nbformat_minor": 0
}
